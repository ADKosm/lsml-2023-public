{
 "cells": [
  {
   "cell_type": "markdown",
   "metadata": {},
   "source": [
    "# Bash\n",
    "\n",
    "Когда речь заходит об обработке больших данных, на первый план выходят задачи по грамотной манипуляции данными, конвертированию и выгрузке, настройке специализированных инструментов и так далее. Чтобы уметь решать такие задачи с кайфом, нужно обрести уверенные навыки работы в терминале и командных оболочках.\n",
    "\n",
    "Bash - наиболее популярная командная оболочка в UNIX-like система. Когда вы пользуетесь терминалом на своем компьютере, то вы почти наверное используете именно Bash.\n",
    "\n",
    "В баш встроено огромное количество функциональности, которая не ограничивается лишь запуском программ."
   ]
  },
  {
   "cell_type": "markdown",
   "metadata": {},
   "source": [
    "# Потоки данных\n",
    "\n",
    "Сильная сторона языка Bash - это возможности по работе с перенаправлениями потоками данных между подпрограммами.\n",
    "\n",
    "Для Bash каждую программу можно представить в следующем виде - это черный ящик, которому\n",
    "\n",
    "На вход подается какой-то источник данных, а также аргументы запуска\n",
    "\n",
    "На выход выдает два источника данных - это вывод результата и вывод ошибок.\n",
    "\n",
    "<img src=\"https://raw.githubusercontent.com/ADKosm/lsml-2021-public/main/imgs/bash-flow-control-1.png\">\n",
    "\n",
    "Чаще всего к такому \"ящику\" подключаются три стандартный источника данных - это stdin, stdout и stderr.\n",
    "\n",
    "<img src=\"https://raw.githubusercontent.com/ADKosm/lsml-2021-public/main/imgs/bash-flow-control-2.png\">\n",
    "\n",
    "Все эти три источника, как и все в UNIX, являются виртуальными файлами и выполняют следующие функции\n",
    "\n",
    "* stdin представляет весь поток данных, который пользователь вводит с клавиатуры\n",
    "* stdout представляет весь поток данных, который программа печатает на экран\n",
    "* stderr представляет весь поток данных об ошибках в работе программы, который программа также печатает на экран\n",
    "\n",
    "Все эти источники находятся по следующим путям: `/dev/stdout`, `/dev/stdin`, `/dev/stderr`. Можно заглянуть в директорию `/dev/` и посмотреть, сколько еще виртуальных источников данных есть в компьютере."
   ]
  },
  {
   "cell_type": "code",
   "execution_count": null,
   "metadata": {},
   "outputs": [],
   "source": [
    "! mkdir -p tempsem2"
   ]
  },
  {
   "cell_type": "code",
   "execution_count": null,
   "metadata": {},
   "outputs": [],
   "source": [
    "%cd tempsem2"
   ]
  },
  {
   "cell_type": "code",
   "execution_count": null,
   "metadata": {},
   "outputs": [],
   "source": [
    "! ls /dev"
   ]
  },
  {
   "cell_type": "markdown",
   "metadata": {},
   "source": [
    "Волшебство UNIX заключается в том, что мы можем работать с этими источниками как с самыми обычными файлами. Например, давайте попробуем что-то написать в файл /dev/stdout"
   ]
  },
  {
   "cell_type": "code",
   "execution_count": null,
   "metadata": {},
   "outputs": [],
   "source": [
    "%%writefile hello-stdout.py\n",
    "with open('/dev/stdout', 'w') as f:\n",
    "    f.write(\"HELLO, STDOUT!\")  # Пишем в специальный файл, вместо print"
   ]
  },
  {
   "cell_type": "code",
   "execution_count": null,
   "metadata": {},
   "outputs": [],
   "source": [
    "! python3 hello-stdout.py"
   ]
  },
  {
   "cell_type": "markdown",
   "metadata": {},
   "source": [
    "Вместо стандартных потоков ввода\\вывода можно подставлять произвольные источники данных.\n",
    "\n",
    "**Оператор >** позволяет перенаправлять стандартный вывод в любой другой файл. Попробуем, например, написать что-то в новый файл используя команду echo."
   ]
  },
  {
   "cell_type": "code",
   "execution_count": null,
   "metadata": {},
   "outputs": [],
   "source": [
    "! echo \"dsjfhkdsfh\""
   ]
  },
  {
   "cell_type": "code",
   "execution_count": null,
   "metadata": {},
   "outputs": [],
   "source": [
    "! echo \"message from echo\" > file.txt"
   ]
  },
  {
   "cell_type": "code",
   "execution_count": null,
   "metadata": {},
   "outputs": [],
   "source": [
    "! cat file.txt"
   ]
  },
  {
   "cell_type": "code",
   "execution_count": null,
   "metadata": {},
   "outputs": [],
   "source": [
    "! cat file.txt file.txt # Читает файл два раза"
   ]
  },
  {
   "cell_type": "code",
   "execution_count": null,
   "metadata": {},
   "outputs": [],
   "source": [
    "! cat file.txt file.txt > doubled-file.txt"
   ]
  },
  {
   "cell_type": "code",
   "execution_count": null,
   "metadata": {},
   "outputs": [],
   "source": [
    "! cat doubled-file.txt"
   ]
  },
  {
   "cell_type": "markdown",
   "metadata": {},
   "source": [
    "Если файл уже существует, то этот оператор полностью перезатрет его содержимое"
   ]
  },
  {
   "cell_type": "code",
   "execution_count": null,
   "metadata": {},
   "outputs": [],
   "source": [
    "! echo \"new message\" > doubled-file.txt"
   ]
  },
  {
   "cell_type": "code",
   "execution_count": null,
   "metadata": {},
   "outputs": [],
   "source": [
    "! cat doubled-file.txt"
   ]
  },
  {
   "cell_type": "markdown",
   "metadata": {},
   "source": [
    "**Оператор >>** позволяет не перезаписывать целиком файл, а лишь добавить в конец новые данные"
   ]
  },
  {
   "cell_type": "code",
   "execution_count": 19,
   "metadata": {},
   "outputs": [],
   "source": [
    "! cat file.txt file.txt > doubled-file.txt"
   ]
  },
  {
   "cell_type": "code",
   "execution_count": 20,
   "metadata": {},
   "outputs": [
    {
     "name": "stdout",
     "output_type": "stream",
     "text": [
      "message from echo\r\n",
      "message from echo\r\n"
     ]
    }
   ],
   "source": [
    "! cat doubled-file.txt"
   ]
  },
  {
   "cell_type": "code",
   "execution_count": 21,
   "metadata": {},
   "outputs": [],
   "source": [
    "! echo \"new message\" >> doubled-file.txt"
   ]
  },
  {
   "cell_type": "code",
   "execution_count": 22,
   "metadata": {},
   "outputs": [
    {
     "name": "stdout",
     "output_type": "stream",
     "text": [
      "message from echo\r\n",
      "message from echo\r\n",
      "new message\r\n"
     ]
    }
   ],
   "source": [
    "! cat doubled-file.txt"
   ]
  },
  {
   "cell_type": "markdown",
   "metadata": {},
   "source": [
    "Помимо вывода программы, можно поменять и ее ввод.\n",
    "\n",
    "**Оператор <** позволяет поменить стандартный ввод программы на другой файл, делая вид для программы, будто бы пользователь ввел эти данные с клавиатуры.\n",
    "\n",
    "Напишем простенькую программу, которая читает пользовательский ввод с клавиатуры и потестируем этот оператор."
   ]
  },
  {
   "cell_type": "code",
   "execution_count": 23,
   "metadata": {},
   "outputs": [
    {
     "name": "stdout",
     "output_type": "stream",
     "text": [
      "Writing repeat.py\n"
     ]
    }
   ],
   "source": [
    "%%writefile repeat.py\n",
    "\n",
    "data = input()\n",
    "for i in range(3):\n",
    "    print(data)"
   ]
  },
  {
   "cell_type": "code",
   "execution_count": 24,
   "metadata": {},
   "outputs": [
    {
     "name": "stdout",
     "output_type": "stream",
     "text": [
      "message from echo\r\n"
     ]
    }
   ],
   "source": [
    "! cat file.txt"
   ]
  },
  {
   "cell_type": "code",
   "execution_count": 25,
   "metadata": {},
   "outputs": [
    {
     "name": "stdout",
     "output_type": "stream",
     "text": [
      "message from echo\r\n",
      "message from echo\r\n",
      "message from echo\r\n"
     ]
    }
   ],
   "source": [
    "! python3 repeat.py < file.txt"
   ]
  },
  {
   "cell_type": "code",
   "execution_count": 26,
   "metadata": {},
   "outputs": [
    {
     "name": "stdout",
     "output_type": "stream",
     "text": [
      "['message from echo\\n', 'message from echo\\n', 'new message\\n']\r\n"
     ]
    }
   ],
   "source": [
    "! python3 -c \"import sys; print(list(sys.stdin))\" < doubled-file.txt"
   ]
  },
  {
   "cell_type": "markdown",
   "metadata": {},
   "source": [
    "Если хочется направить на stdin несколько строк, но при этом не из файла, а прямо из скрипта, то можно воспользваться **оператором <<**. Для него нужно отдельно указать маркер начала и конца данных."
   ]
  },
  {
   "cell_type": "code",
   "execution_count": 30,
   "metadata": {},
   "outputs": [
    {
     "name": "stdout",
     "output_type": "stream",
     "text": [
      "8\r\n"
     ]
    }
   ],
   "source": [
    "! python3 -c \"print(2 ** 3)\""
   ]
  },
  {
   "cell_type": "code",
   "execution_count": 28,
   "metadata": {},
   "outputs": [
    {
     "name": "stdout",
     "output_type": "stream",
     "text": [
      "['big\\n', 'multiline\\n', 'message\\n', 'from\\n', 'script\\n']\n"
     ]
    }
   ],
   "source": [
    "%%bash\n",
    "\n",
    "python3 -c \"import sys; print(list(sys.stdin))\" <<BUBA\n",
    "big\n",
    "multiline\n",
    "message\n",
    "from\n",
    "script\n",
    "BUBA"
   ]
  },
  {
   "cell_type": "markdown",
   "metadata": {},
   "source": [
    "Если хочется направить ровно одну строку, то можно воспользоваться **оператором <<<**. Он подаст на stdin ту строку, которую мы передадим в качестве аргумента."
   ]
  },
  {
   "cell_type": "code",
   "execution_count": 29,
   "metadata": {},
   "outputs": [
    {
     "name": "stdout",
     "output_type": "stream",
     "text": [
      "['one line message from script\\n']\n"
     ]
    }
   ],
   "source": [
    "%%bash\n",
    "\n",
    "python3 -c \"import sys; print(list(sys.stdin))\" <<< \"one line message from script\""
   ]
  },
  {
   "cell_type": "markdown",
   "metadata": {},
   "source": [
    "Комбинирование этих возможностей может позволить решить некоторые задачи. Например генерировать какой-то файл на лету."
   ]
  },
  {
   "cell_type": "code",
   "execution_count": 46,
   "metadata": {},
   "outputs": [],
   "source": [
    "%%bash\n",
    "\n",
    "cat > message2.txt <<BIBA \n",
    "This file was created directly from script\n",
    "Using amazing features of Bash\n",
    "BIBA"
   ]
  },
  {
   "cell_type": "code",
   "execution_count": 47,
   "metadata": {},
   "outputs": [
    {
     "name": "stdout",
     "output_type": "stream",
     "text": [
      "This file was created directly from script\r\n",
      "Using amazing features of Bash\r\n"
     ]
    }
   ],
   "source": [
    "! cat message2.txt"
   ]
  },
  {
   "cell_type": "code",
   "execution_count": 32,
   "metadata": {},
   "outputs": [
    {
     "name": "stdout",
     "output_type": "stream",
     "text": [
      "This file was created directly from script\r\n",
      "Using amazing features of Bash\r\n"
     ]
    }
   ],
   "source": [
    "! cat message.txt"
   ]
  },
  {
   "cell_type": "markdown",
   "metadata": {},
   "source": [
    "Или например решать проблему с интерактивными программами, которые хотят какого-то действия от пользователя."
   ]
  },
  {
   "cell_type": "code",
   "execution_count": 33,
   "metadata": {},
   "outputs": [
    {
     "name": "stdout",
     "output_type": "stream",
     "text": [
      "Writing interactive.py\n"
     ]
    }
   ],
   "source": [
    "%%writefile interactive.py\n",
    "\n",
    "answer = input(\"Are you sure you want to do X? (y/n)\")\n",
    "if answer == 'y':\n",
    "    print(\"DOING X\")\n",
    "else:\n",
    "    print(\"Canceling\")"
   ]
  },
  {
   "cell_type": "code",
   "execution_count": 34,
   "metadata": {},
   "outputs": [
    {
     "name": "stdout",
     "output_type": "stream",
     "text": [
      "Are you sure you want to do X? (y/n)DOING X\r\n"
     ]
    }
   ],
   "source": [
    "! python3 interactive.py <<< \"y\""
   ]
  },
  {
   "cell_type": "code",
   "execution_count": 35,
   "metadata": {},
   "outputs": [
    {
     "name": "stdout",
     "output_type": "stream",
     "text": [
      "Are you sure you want to do X? (y/n)Canceling\r\n"
     ]
    }
   ],
   "source": [
    "! python3 interactive.py <<< \"n\""
   ]
  },
  {
   "cell_type": "markdown",
   "metadata": {},
   "source": [
    "Возможности перенаправлений не ограничиваются только статическими текстовыми файлами. \n",
    "\n",
    "**Оператор <()** позворяет представить вывод программы как специальный файл (чаще всего он выглядит как `/dev/fd/63`) . Основная особенность этого оператора от обычного **оператора >** в том, что не используется дополнительное место на диске. Читая из этого специального файла мы напрямую получаем доступ к выводу программы без необходимости сохранять его на диске в явном виде.\n",
    "\n",
    "Сам оператор при применении запускает переданную программу, создает специальный файл и возращает путь до этого файла.\n",
    "\n",
    "Этим можно воспользоваться, чтобы компоновать работу нескольких программ."
   ]
  },
  {
   "cell_type": "code",
   "execution_count": null,
   "metadata": {},
   "outputs": [],
   "source": [
    "! echo \"biba\" > file\n",
    "! cat file"
   ]
  },
  {
   "cell_type": "code",
   "execution_count": 57,
   "metadata": {},
   "outputs": [
    {
     "name": "stdout",
     "output_type": "stream",
     "text": [
      "/dev/fd/63\r\n"
     ]
    }
   ],
   "source": [
    "! echo <(echo PIPA)  # Напечатали путь до файла, в коротый подключен вывод программы echo PIPA"
   ]
  },
  {
   "cell_type": "code",
   "execution_count": 51,
   "metadata": {},
   "outputs": [
    {
     "name": "stdout",
     "output_type": "stream",
     "text": [
      "PIPA\r\n"
     ]
    }
   ],
   "source": [
    "! cat <(echo PIPA)"
   ]
  },
  {
   "cell_type": "code",
   "execution_count": 59,
   "metadata": {},
   "outputs": [
    {
     "name": "stdout",
     "output_type": "stream",
     "text": [
      "Writing read-file.py\n"
     ]
    }
   ],
   "source": [
    "%%writefile read-file.py\n",
    "\n",
    "import sys\n",
    "\n",
    "print(\"Path to file = {}\".format(sys.argv[1]))\n",
    "\n",
    "with open(sys.argv[1], 'r') as f:\n",
    "    content = f.read()\n",
    "    print(content)"
   ]
  },
  {
   "cell_type": "code",
   "execution_count": 60,
   "metadata": {},
   "outputs": [
    {
     "name": "stdout",
     "output_type": "stream",
     "text": [
      "message from echo\r\n"
     ]
    }
   ],
   "source": [
    "! cat file.txt"
   ]
  },
  {
   "cell_type": "code",
   "execution_count": 61,
   "metadata": {},
   "outputs": [
    {
     "name": "stdout",
     "output_type": "stream",
     "text": [
      "Path to file = file.txt\r\n",
      "message from echo\r\n",
      "\r\n"
     ]
    }
   ],
   "source": [
    "! python3 read-file.py file.txt"
   ]
  },
  {
   "cell_type": "code",
   "execution_count": 62,
   "metadata": {},
   "outputs": [
    {
     "name": "stdout",
     "output_type": "stream",
     "text": [
      "Path to file = /dev/fd/63\r\n",
      "PIPA\r\n",
      "\r\n"
     ]
    }
   ],
   "source": [
    "! python3 read-file.py <(echo PIPA)"
   ]
  },
  {
   "cell_type": "markdown",
   "metadata": {},
   "source": [
    "Комбинируя возможности операторов **<** и **<()** можно перенаправлять вывод одной команды в другой.\n",
    "\n",
    "Наглядный пример - команда `yes`. Она решает уже рассмотренную проблему работы с интерактивными программами, без конца печатая символ `y` на стандартный вывод. \n",
    "\n",
    "(Интересный факт - люди любят соревноваться в \"производительности\" программы `yes`. Согласно [треду на Реддите](https://www.reddit.com/r/unix/comments/6gxduc/how_is_gnu_yes_so_fast/), рекорд - вывод `y` со скоростью 123 Гигабита в секунду. Зачем нужная такая производительность в команде `yes`? Ну чтобы было смешно.)"
   ]
  },
  {
   "cell_type": "code",
   "execution_count": 63,
   "metadata": {},
   "outputs": [
    {
     "name": "stdout",
     "output_type": "stream",
     "text": [
      "Are you sure you want to do X? (y/n)DOING X\r\n"
     ]
    }
   ],
   "source": [
    "! python3 interactive.py < <(yes)"
   ]
  },
  {
   "cell_type": "markdown",
   "metadata": {},
   "source": [
    "Другой полезный пример - сравнение двух каталогов. Сущестует программа `diff`, которая получает два файла и выводит построчные различия в этий файлах. Можно скомбинировать ее с командой `ls`, чтобы научиться сравнивать директории."
   ]
  },
  {
   "cell_type": "code",
   "execution_count": 64,
   "metadata": {},
   "outputs": [],
   "source": [
    "! mkdir -p folder1\n",
    "! touch folder1/file1.txt folder1/file2.txt folder1/file3.txt\n",
    "\n",
    "! mkdir -p folder2\n",
    "! touch folder2/file2.txt folder2/file3.txt folder2/file4.txt"
   ]
  },
  {
   "cell_type": "code",
   "execution_count": 65,
   "metadata": {},
   "outputs": [
    {
     "name": "stdout",
     "output_type": "stream",
     "text": [
      "file1.txt  file2.txt  file3.txt\r\n"
     ]
    }
   ],
   "source": [
    "! ls folder1"
   ]
  },
  {
   "cell_type": "code",
   "execution_count": 66,
   "metadata": {},
   "outputs": [
    {
     "name": "stdout",
     "output_type": "stream",
     "text": [
      "file2.txt  file3.txt  file4.txt\r\n"
     ]
    }
   ],
   "source": [
    "! ls folder2"
   ]
  },
  {
   "cell_type": "code",
   "execution_count": 67,
   "metadata": {},
   "outputs": [
    {
     "name": "stdout",
     "output_type": "stream",
     "text": [
      "1d0\r\n",
      "< file1.txt\r\n",
      "3a3\r\n",
      "> file4.txt\r\n"
     ]
    }
   ],
   "source": [
    "! diff <(ls folder1) <(ls folder2)"
   ]
  },
  {
   "cell_type": "markdown",
   "metadata": {},
   "source": [
    "Идея соединять процессы через stdin\\stdout очень популярна и для этого есть более удобный интерфейс - pipes или **оператор |**\n",
    "\n",
    "Все команды, соединенные через | запускаются одновременно и общаются друг с другом через stdin\\stdout"
   ]
  },
  {
   "cell_type": "code",
   "execution_count": 68,
   "metadata": {},
   "outputs": [
    {
     "name": "stdout",
     "output_type": "stream",
     "text": [
      "hello\r\n"
     ]
    }
   ],
   "source": [
    "! echo hello | cat"
   ]
  },
  {
   "cell_type": "code",
   "execution_count": 69,
   "metadata": {},
   "outputs": [
    {
     "name": "stdout",
     "output_type": "stream",
     "text": [
      "1\r\n"
     ]
    }
   ],
   "source": [
    "! echo hi | wc -l  # wc считает сколько строк в входных данных"
   ]
  },
  {
   "cell_type": "code",
   "execution_count": 70,
   "metadata": {},
   "outputs": [
    {
     "name": "stdout",
     "output_type": "stream",
     "text": [
      "3\r\n"
     ]
    }
   ],
   "source": [
    "! cat doubled-file.txt | wc -l"
   ]
  },
  {
   "cell_type": "code",
   "execution_count": 71,
   "metadata": {},
   "outputs": [
    {
     "name": "stdout",
     "output_type": "stream",
     "text": [
      "11\r\n"
     ]
    }
   ],
   "source": [
    "! ls -l | wc -l"
   ]
  },
  {
   "cell_type": "code",
   "execution_count": 72,
   "metadata": {},
   "outputs": [
    {
     "name": "stdout",
     "output_type": "stream",
     "text": [
      "22\r\n"
     ]
    }
   ],
   "source": [
    "! ls -l | cat | wc -l | python3 -c \"print(int(input()) * 2)\""
   ]
  },
  {
   "cell_type": "code",
   "execution_count": 73,
   "metadata": {},
   "outputs": [
    {
     "name": "stdout",
     "output_type": "stream",
     "text": [
      "Are you sure you want to do X? (y/n)DOING X\r\n",
      "yes: standard output: Broken pipe\r\n"
     ]
    }
   ],
   "source": [
    "! yes | python3 interactive.py"
   ]
  },
  {
   "cell_type": "code",
   "execution_count": 74,
   "metadata": {},
   "outputs": [
    {
     "name": "stdout",
     "output_type": "stream",
     "text": [
      "y\r\n",
      "y\r\n",
      "y\r\n",
      "y\r\n",
      "y\r\n",
      "y\r\n",
      "y\r\n",
      "y\r\n",
      "y\r\n",
      "y\r\n",
      "yes: standard output: Broken pipe\r\n"
     ]
    }
   ],
   "source": [
    "! yes | head  # Смотрим первые 10 строк файла"
   ]
  },
  {
   "cell_type": "markdown",
   "metadata": {},
   "source": [
    "Существует также родственный оператор **$()**. Он также запускает переданную программу, однако перенаправляет вывод не в файл, а прямо в bash. То есть вывод программы можно использовать как строку внутри скрипта."
   ]
  },
  {
   "cell_type": "code",
   "execution_count": 75,
   "metadata": {},
   "outputs": [
    {
     "name": "stdout",
     "output_type": "stream",
     "text": [
      "/home/ubuntu/tempsem2\r\n"
     ]
    }
   ],
   "source": [
    "! pwd"
   ]
  },
  {
   "cell_type": "code",
   "execution_count": 76,
   "metadata": {},
   "outputs": [
    {
     "name": "stdout",
     "output_type": "stream",
     "text": [
      "I am here - /home/ubuntu/tempsem2\r\n"
     ]
    }
   ],
   "source": [
    "! echo I am here - $(pwd)"
   ]
  },
  {
   "cell_type": "code",
   "execution_count": 78,
   "metadata": {},
   "outputs": [
    {
     "name": "stdout",
     "output_type": "stream",
     "text": [
      "Writing file-to-read.txt\n"
     ]
    }
   ],
   "source": [
    "%%writefile file-to-read.txt\n",
    "/etc/hosts"
   ]
  },
  {
   "cell_type": "code",
   "execution_count": 79,
   "metadata": {},
   "outputs": [
    {
     "name": "stdout",
     "output_type": "stream",
     "text": [
      "# Your system has configured 'manage_etc_hosts' as True.\r\n",
      "# As a result, if you wish for changes to this file to persist\r\n",
      "# then you will need to either\r\n",
      "# a.) make changes to the master file in /etc/cloud/templates/hosts.debian.tmpl\r\n",
      "# b.) change or remove the value of 'manage_etc_hosts' in\r\n",
      "#     /etc/cloud/cloud.cfg or cloud-config from user-data\r\n",
      "#\r\n",
      "127.0.1.1\t\tepd233ve3f389jafokjp.auto.internal epd233ve3f389jafokjp\r\n",
      "127.0.0.1\t\tlocalhost\r\n",
      "# The following lines are desirable for IPv6 capable hosts\r\n",
      "::1\t\tip6-localhost ip6-loopback\r\n",
      "ff02::1\t\tip6-allnodes\r\n",
      "ff02::2\t\tip6-allrouters\r\n",
      "169.254.169.254\t\tmetadata.internal\r\n",
      "10.128.0.25\t\trc1a-dataproc-m-ymnek55ntqs3neie.mdb.yandexcloud.net\r\n"
     ]
    }
   ],
   "source": [
    "! cat $(cat file-to-read.txt)"
   ]
  },
  {
   "cell_type": "code",
   "execution_count": null,
   "metadata": {},
   "outputs": [],
   "source": []
  },
  {
   "cell_type": "markdown",
   "metadata": {},
   "source": [
    "# Полезные программы\n",
    "\n",
    "Bash - всего лишь оболочка и не умеет самостоятельно решать какие-то задачи. Основную работу выполняют установленные программы, которые можно вызывать из bash. Их можно использовать гораздо эффективнее, используя их вместе с возможностями оболочки."
   ]
  },
  {
   "cell_type": "markdown",
   "metadata": {},
   "source": [
    "### Head\n",
    "head читает определенное количество данных с начала файла. Это полезно, например, когда хочется посмотреть на часть данных, которая лежит на диске."
   ]
  },
  {
   "cell_type": "code",
   "execution_count": 80,
   "metadata": {},
   "outputs": [
    {
     "name": "stdout",
     "output_type": "stream",
     "text": [
      "# Your system has configured 'manage_etc_hosts' as True.\r\n",
      "# As a result, if you wish for changes to this file to persist\r\n",
      "# then you will need to either\r\n",
      "# a.) make changes to the master file in /etc/cloud/templates/hosts.debian.tmpl\r\n",
      "# b.) change or remove the value of 'manage_etc_hosts' in\r\n",
      "#     /etc/cloud/cloud.cfg or cloud-config from user-data\r\n",
      "#\r\n",
      "127.0.1.1\t\tepd233ve3f389jafokjp.auto.internal epd233ve3f389jafokjp\r\n",
      "127.0.0.1\t\tlocalhost\r\n",
      "# The following lines are desirable for IPv6 capable hosts\r\n"
     ]
    }
   ],
   "source": [
    "! head /etc/hosts"
   ]
  },
  {
   "cell_type": "code",
   "execution_count": 81,
   "metadata": {},
   "outputs": [
    {
     "name": "stdout",
     "output_type": "stream",
     "text": [
      "# Your system has configured 'manage_etc_hosts' as True.\r\n",
      "# As a result, if you wish for changes to this file to persist\r\n"
     ]
    }
   ],
   "source": [
    "! head -n 2 /etc/hosts  # Читаем только первые 2 строки"
   ]
  },
  {
   "cell_type": "code",
   "execution_count": 82,
   "metadata": {},
   "outputs": [
    {
     "name": "stdout",
     "output_type": "stream",
     "text": [
      "# Your sys"
     ]
    }
   ],
   "source": [
    "! head -c 10 /etc/hosts  # Читаем только первые 10 байт"
   ]
  },
  {
   "cell_type": "code",
   "execution_count": 83,
   "metadata": {},
   "outputs": [
    {
     "name": "stdout",
     "output_type": "stream",
     "text": [
      "# Your system has configured 'manage_etc_hosts' as True.\r\n",
      "# As a result, if you wish for changes to this file to persist\r\n"
     ]
    }
   ],
   "source": [
    "! cat /etc/hosts | head -n 2  # Как и почти все программы, которые мы рассмотрим, умеет работать с вводом"
   ]
  },
  {
   "cell_type": "markdown",
   "metadata": {},
   "source": [
    "### Tail\n",
    "tail делает то же самое, что и head, но с конца файла"
   ]
  },
  {
   "cell_type": "code",
   "execution_count": 84,
   "metadata": {},
   "outputs": [
    {
     "name": "stdout",
     "output_type": "stream",
     "text": [
      "#     /etc/cloud/cloud.cfg or cloud-config from user-data\r\n",
      "#\r\n",
      "127.0.1.1\t\tepd233ve3f389jafokjp.auto.internal epd233ve3f389jafokjp\r\n",
      "127.0.0.1\t\tlocalhost\r\n",
      "# The following lines are desirable for IPv6 capable hosts\r\n",
      "::1\t\tip6-localhost ip6-loopback\r\n",
      "ff02::1\t\tip6-allnodes\r\n",
      "ff02::2\t\tip6-allrouters\r\n",
      "169.254.169.254\t\tmetadata.internal\r\n",
      "10.128.0.25\t\trc1a-dataproc-m-ymnek55ntqs3neie.mdb.yandexcloud.net\r\n"
     ]
    }
   ],
   "source": [
    "! tail /etc/hosts"
   ]
  },
  {
   "cell_type": "code",
   "execution_count": 85,
   "metadata": {},
   "outputs": [
    {
     "name": "stdout",
     "output_type": "stream",
     "text": [
      "169.254.169.254\t\tmetadata.internal\r\n",
      "10.128.0.25\t\trc1a-dataproc-m-ymnek55ntqs3neie.mdb.yandexcloud.net\r\n"
     ]
    }
   ],
   "source": [
    "! tail -n 2 /etc/hosts"
   ]
  },
  {
   "cell_type": "code",
   "execution_count": 87,
   "metadata": {},
   "outputs": [
    {
     "name": "stdout",
     "output_type": "stream",
     "text": [
      "# then you will need to either\r\n",
      "# a.) make changes to the master file in /etc/cloud/templates/hosts.debian.tmpl\r\n",
      "# b.) change or remove the value of 'manage_etc_hosts' in\r\n",
      "#     /etc/cloud/cloud.cfg or cloud-config from user-data\r\n",
      "#\r\n",
      "127.0.1.1\t\tepd233ve3f389jafokjp.auto.internal epd233ve3f389jafokjp\r\n",
      "127.0.0.1\t\tlocalhost\r\n",
      "# The following lines are desirable for IPv6 capable hosts\r\n",
      "::1\t\tip6-localhost ip6-loopback\r\n",
      "ff02::1\t\tip6-allnodes\r\n",
      "ff02::2\t\tip6-allrouters\r\n",
      "169.254.169.254\t\tmetadata.internal\r\n",
      "10.128.0.25\t\trc1a-dataproc-m-ymnek55ntqs3neie.mdb.yandexcloud.net\r\n"
     ]
    }
   ],
   "source": [
    "! tail -n +3 /etc/hosts  # все строки после второй строки (включая вторую строку)"
   ]
  },
  {
   "cell_type": "code",
   "execution_count": 88,
   "metadata": {},
   "outputs": [
    {
     "name": "stdout",
     "output_type": "stream",
     "text": [
      "169.254.169.254\t\tmetadata.internal\r\n",
      "10.128.0.25\t\trc1a-dataproc-m-ymnek55ntqs3neie.mdb.yandexcloud.net\r\n"
     ]
    }
   ],
   "source": [
    "! cat /etc/hosts | tail -n 2"
   ]
  },
  {
   "cell_type": "markdown",
   "metadata": {},
   "source": [
    "### Sort\n",
    "sort сортирует входные данные. По умолчанию используется лексикографический порядок, но это поведение можно поменять с использованием специальных опций.\n",
    "\n",
    "Подробнее можно узнать здесь - https://www.opennet.ru/man.shtml?topic=sort&category=1"
   ]
  },
  {
   "cell_type": "code",
   "execution_count": 89,
   "metadata": {},
   "outputs": [
    {
     "name": "stdout",
     "output_type": "stream",
     "text": [
      "Writing numbers.txt\n"
     ]
    }
   ],
   "source": [
    "%%writefile numbers.txt\n",
    "3\n",
    "5\n",
    "1\n",
    "2\n",
    "6\n",
    "5\n",
    "9\n",
    "4\n",
    "5\n",
    "6\n",
    "7\n",
    "3\n",
    "2\n",
    "10\n",
    "5\n",
    "6"
   ]
  },
  {
   "cell_type": "code",
   "execution_count": 90,
   "metadata": {},
   "outputs": [
    {
     "name": "stdout",
     "output_type": "stream",
     "text": [
      "1\r\n",
      "10\r\n",
      "2\r\n",
      "2\r\n",
      "3\r\n",
      "3\r\n",
      "4\r\n",
      "5\r\n",
      "5\r\n",
      "5\r\n",
      "5\r\n",
      "6\r\n",
      "6\r\n",
      "6\r\n",
      "7\r\n",
      "9\r\n"
     ]
    }
   ],
   "source": [
    "! sort numbers.txt  # Сортируем как строки"
   ]
  },
  {
   "cell_type": "code",
   "execution_count": 91,
   "metadata": {},
   "outputs": [
    {
     "name": "stdout",
     "output_type": "stream",
     "text": [
      "1\r\n",
      "10\r\n",
      "2\r\n",
      "2\r\n",
      "3\r\n",
      "3\r\n",
      "4\r\n",
      "5\r\n",
      "5\r\n",
      "5\r\n",
      "5\r\n",
      "6\r\n",
      "6\r\n",
      "6\r\n",
      "7\r\n",
      "9\r\n"
     ]
    }
   ],
   "source": [
    "! cat numbers.txt | sort"
   ]
  },
  {
   "cell_type": "code",
   "execution_count": 92,
   "metadata": {},
   "outputs": [
    {
     "name": "stdout",
     "output_type": "stream",
     "text": [
      "1\r\n",
      "2\r\n",
      "2\r\n",
      "3\r\n",
      "3\r\n",
      "4\r\n",
      "5\r\n",
      "5\r\n",
      "5\r\n",
      "5\r\n",
      "6\r\n",
      "6\r\n",
      "6\r\n",
      "7\r\n",
      "9\r\n",
      "10\r\n"
     ]
    }
   ],
   "source": [
    "! cat numbers.txt | sort -n # Сортируем как числа"
   ]
  },
  {
   "cell_type": "markdown",
   "metadata": {},
   "source": [
    "Если в данных есть сразу несколько \"колонок\" (например в каждой строке есть значения, разделенные пробельным символом), то можно отдельно указать, по какому полю необходимо сортировать"
   ]
  },
  {
   "cell_type": "code",
   "execution_count": 93,
   "metadata": {},
   "outputs": [
    {
     "name": "stdout",
     "output_type": "stream",
     "text": [
      "Writing number-table.txt\n"
     ]
    }
   ],
   "source": [
    "%%writefile number-table.txt\n",
    "1 10\n",
    "2 9\n",
    "3 8\n",
    "4 7\n",
    "5 6\n",
    "6 5\n",
    "7 4\n",
    "8 3\n",
    "9 2\n",
    "10 1"
   ]
  },
  {
   "cell_type": "code",
   "execution_count": 94,
   "metadata": {},
   "outputs": [
    {
     "name": "stdout",
     "output_type": "stream",
     "text": [
      "1 10\r\n",
      "2 9\r\n",
      "3 8\r\n",
      "4 7\r\n",
      "5 6\r\n",
      "6 5\r\n",
      "7 4\r\n",
      "8 3\r\n",
      "9 2\r\n",
      "10 1\r\n"
     ]
    }
   ],
   "source": [
    "! cat number-table.txt | sort -k1,1 -n"
   ]
  },
  {
   "cell_type": "code",
   "execution_count": 95,
   "metadata": {},
   "outputs": [
    {
     "name": "stdout",
     "output_type": "stream",
     "text": [
      "10 1\r\n",
      "9 2\r\n",
      "8 3\r\n",
      "7 4\r\n",
      "6 5\r\n",
      "5 6\r\n",
      "4 7\r\n",
      "3 8\r\n",
      "2 9\r\n",
      "1 10\r\n"
     ]
    }
   ],
   "source": [
    "! cat number-table.txt | sort -k2,2 -n"
   ]
  },
  {
   "cell_type": "code",
   "execution_count": 96,
   "metadata": {},
   "outputs": [
    {
     "name": "stdout",
     "output_type": "stream",
     "text": [
      "10 1\r\n",
      "9 2\r\n",
      "8 3\r\n",
      "7 4\r\n",
      "6 5\r\n",
      "5 6\r\n",
      "4 7\r\n",
      "3 8\r\n",
      "2 9\r\n",
      "1 10\r\n"
     ]
    }
   ],
   "source": [
    "! cat number-table.txt | sort -k2,2 -k1,1 -n"
   ]
  },
  {
   "cell_type": "code",
   "execution_count": 97,
   "metadata": {},
   "outputs": [
    {
     "name": "stdout",
     "output_type": "stream",
     "text": [
      "10\r\n",
      "9\r\n",
      "7\r\n",
      "6\r\n",
      "6\r\n",
      "6\r\n",
      "5\r\n",
      "5\r\n",
      "5\r\n",
      "5\r\n",
      "4\r\n",
      "3\r\n",
      "3\r\n",
      "2\r\n",
      "2\r\n",
      "1\r\n"
     ]
    }
   ],
   "source": [
    "! cat numbers.txt | sort -n -r  # Сортируем в обратном порядке"
   ]
  },
  {
   "cell_type": "markdown",
   "metadata": {},
   "source": [
    "### Shuf\n",
    "shuf напротив, случайным образом перемешивает входящие данные"
   ]
  },
  {
   "cell_type": "code",
   "execution_count": 100,
   "metadata": {},
   "outputs": [
    {
     "name": "stdout",
     "output_type": "stream",
     "text": [
      "3\r\n",
      "6\r\n",
      "6\r\n",
      "5\r\n",
      "3\r\n",
      "2\r\n",
      "6\r\n",
      "5\r\n",
      "4\r\n",
      "9\r\n",
      "5\r\n",
      "1\r\n",
      "5\r\n",
      "2\r\n",
      "10\r\n",
      "7\r\n"
     ]
    }
   ],
   "source": [
    "! cat numbers.txt | shuf"
   ]
  },
  {
   "cell_type": "code",
   "execution_count": 101,
   "metadata": {},
   "outputs": [
    {
     "name": "stdout",
     "output_type": "stream",
     "text": [
      "7\r\n",
      "9\r\n",
      "5\r\n",
      "10\r\n",
      "4\r\n",
      "5\r\n",
      "5\r\n",
      "6\r\n",
      "2\r\n",
      "3\r\n",
      "6\r\n",
      "3\r\n",
      "1\r\n",
      "2\r\n",
      "6\r\n",
      "5\r\n"
     ]
    }
   ],
   "source": [
    "! cat numbers.txt | shuf"
   ]
  },
  {
   "cell_type": "markdown",
   "metadata": {},
   "source": [
    "### Uniq\n",
    "uniq оставляет только уникальные значения. Однако он корректно работает только с отсортированными данными. Для этого мы можем предварительно использовать sort.\n",
    "\n",
    "Помимо операции схлопывания одинаковых значений, uniq также умеет считать простые статистики для схлопнувшихся групп. Этот функционал чем-то напоминает group by. Так, ключ -c считает количество элементов в каждой группе.\n",
    "\n",
    "Подробнее можно узнать здесь - https://www.opennet.ru/man.shtml?topic=uniq&category=1&russian=0"
   ]
  },
  {
   "cell_type": "code",
   "execution_count": 102,
   "metadata": {},
   "outputs": [
    {
     "name": "stdout",
     "output_type": "stream",
     "text": [
      "3\r\n",
      "5\r\n",
      "1\r\n",
      "2\r\n",
      "6\r\n",
      "5\r\n",
      "9\r\n",
      "4\r\n",
      "5\r\n",
      "6\r\n",
      "7\r\n",
      "3\r\n",
      "2\r\n",
      "10\r\n",
      "5\r\n",
      "6\r\n"
     ]
    }
   ],
   "source": [
    "! cat numbers.txt | uniq  # Не совсем тот результат, что мы ожидаем"
   ]
  },
  {
   "cell_type": "code",
   "execution_count": 103,
   "metadata": {},
   "outputs": [
    {
     "name": "stdout",
     "output_type": "stream",
     "text": [
      "1\r\n",
      "10\r\n",
      "2\r\n",
      "3\r\n",
      "4\r\n",
      "5\r\n",
      "6\r\n",
      "7\r\n",
      "9\r\n"
     ]
    }
   ],
   "source": [
    "! cat numbers.txt | sort | uniq  # А вот так уже работает"
   ]
  },
  {
   "cell_type": "markdown",
   "metadata": {},
   "source": [
    "По ходу \"схлопывания\" uniq умеет еще и подсчитывать количество схлопнутых элементов. Таким образом можно считать количество каждого элемента."
   ]
  },
  {
   "cell_type": "code",
   "execution_count": 105,
   "metadata": {},
   "outputs": [
    {
     "name": "stdout",
     "output_type": "stream",
     "text": [
      "      1 1\r\n",
      "      1 10\r\n",
      "      2 2\r\n",
      "      2 3\r\n",
      "      1 4\r\n",
      "      4 5\r\n",
      "      3 6\r\n",
      "      1 7\r\n",
      "      1 9\r\n"
     ]
    }
   ],
   "source": [
    "! cat numbers.txt | sort | uniq -c"
   ]
  },
  {
   "cell_type": "code",
   "execution_count": 106,
   "metadata": {},
   "outputs": [
    {
     "name": "stdout",
     "output_type": "stream",
     "text": [
      "Writing words.txt\n"
     ]
    }
   ],
   "source": [
    "%%writefile words.txt\n",
    "Lorem\n",
    "ipsum\n",
    "dolor\n",
    "sit\n",
    "met\n",
    "consectetur\n",
    "incididunt\n",
    "elit\n",
    "seddo\n",
    "ipsum\n",
    "tempor\n",
    "incididunt\n",
    "ut\n",
    "laboret\n",
    "dolor\n",
    "ipsum\n",
    "aliqua\n",
    "ipsum"
   ]
  },
  {
   "cell_type": "code",
   "execution_count": 107,
   "metadata": {},
   "outputs": [
    {
     "name": "stdout",
     "output_type": "stream",
     "text": [
      "      1 aliqua\r\n",
      "      1 consectetur\r\n",
      "      2 dolor\r\n",
      "      1 elit\r\n",
      "      2 incididunt\r\n",
      "      4 ipsum\r\n",
      "      1 laboret\r\n",
      "      1 Lorem\r\n",
      "      1 met\r\n",
      "      1 seddo\r\n",
      "      1 sit\r\n",
      "      1 tempor\r\n",
      "      1 ut\r\n"
     ]
    }
   ],
   "source": [
    "! cat words.txt | sort | uniq -c "
   ]
  },
  {
   "cell_type": "markdown",
   "metadata": {},
   "source": [
    "### Wc\n",
    "wc (word count) считает количество элементов во входных данных. По умолчанию считает три характеристики - количество строк, количество слов, количество байт. Различные опции позволяют считать какую-то одну из характеристик. Например -l считает количество строк в данных.\n",
    "\n",
    "Подробнее можно узнать здесь - https://www.opennet.ru/man.shtml?topic=wc&category=1&russian=0"
   ]
  },
  {
   "cell_type": "code",
   "execution_count": 108,
   "metadata": {},
   "outputs": [
    {
     "name": "stdout",
     "output_type": "stream",
     "text": [
      "     16      16      33\r\n"
     ]
    }
   ],
   "source": [
    "! cat numbers.txt | wc"
   ]
  },
  {
   "cell_type": "code",
   "execution_count": 109,
   "metadata": {},
   "outputs": [
    {
     "name": "stdout",
     "output_type": "stream",
     "text": [
      "     10      20      42\r\n"
     ]
    }
   ],
   "source": [
    "! cat number-table.txt | wc"
   ]
  },
  {
   "cell_type": "code",
   "execution_count": 110,
   "metadata": {},
   "outputs": [
    {
     "name": "stdout",
     "output_type": "stream",
     "text": [
      "16\r\n"
     ]
    }
   ],
   "source": [
    "! cat numbers.txt | wc -l # Количество элементов в файле"
   ]
  },
  {
   "cell_type": "code",
   "execution_count": 111,
   "metadata": {},
   "outputs": [
    {
     "name": "stdout",
     "output_type": "stream",
     "text": [
      "9\r\n"
     ]
    }
   ],
   "source": [
    "! cat numbers.txt | sort | uniq | wc -l  # Количество уникальных элементов в файле"
   ]
  },
  {
   "cell_type": "markdown",
   "metadata": {},
   "source": [
    "### Cut\n",
    "\n",
    "cut парсит строки, которые состоят из значений с разделителем. С помощью утилиты можно обрабатывать различные регулярные форматы данных, базирующиеся на разделителях. Например csv или tsv."
   ]
  },
  {
   "cell_type": "code",
   "execution_count": 112,
   "metadata": {},
   "outputs": [
    {
     "name": "stdout",
     "output_type": "stream",
     "text": [
      "--2023-01-17 16:18:04--  https://raw.githubusercontent.com/ADKosm/lsml-2022-public/main/data/2/countries.csv\n",
      "Resolving raw.githubusercontent.com (raw.githubusercontent.com)... 185.199.108.133, 185.199.109.133, 185.199.110.133, ...\n",
      "Connecting to raw.githubusercontent.com (raw.githubusercontent.com)|185.199.108.133|:443... connected.\n",
      "HTTP request sent, awaiting response... 200 OK\n",
      "Length: 14641 (14K) [text/plain]\n",
      "Saving to: ‘countries.csv’\n",
      "\n",
      "countries.csv       100%[===================>]  14.30K  --.-KB/s    in 0.001s  \n",
      "\n",
      "2023-01-17 16:18:05 (12.6 MB/s) - ‘countries.csv’ saved [14641/14641]\n",
      "\n"
     ]
    }
   ],
   "source": [
    "! wget https://raw.githubusercontent.com/ADKosm/lsml-2022-public/main/data/2/countries.csv"
   ]
  },
  {
   "cell_type": "code",
   "execution_count": 113,
   "metadata": {},
   "outputs": [
    {
     "name": "stdout",
     "output_type": "stream",
     "text": [
      "Country,Region,Population,Area (sq. mi.),GDP ($ per capita)\r\n",
      "Afghanistan ,ASIA (EX. NEAR EAST)         ,31056997,647500,700.0\r\n",
      "Albania ,EASTERN EUROPE                     ,3581655,28748,4500.0\r\n",
      "Algeria ,NORTHERN AFRICA                    ,32930091,2381740,6000.0\r\n",
      "American Samoa ,OCEANIA                            ,57794,199,8000.0\r\n",
      "Andorra ,WESTERN EUROPE                     ,71201,468,19000.0\r\n",
      "Angola ,SUB-SAHARAN AFRICA                 ,12127071,1246700,1900.0\r\n",
      "Anguilla ,LATIN AMER. & CARIB    ,13477,102,8600.0\r\n",
      "Antigua & Barbuda ,LATIN AMER. & CARIB    ,69108,443,11000.0\r\n",
      "Argentina ,LATIN AMER. & CARIB    ,39921833,2766890,11200.0\r\n",
      "Armenia ,C.W. OF IND. STATES ,2976372,29800,3500.0\r\n",
      "Aruba ,LATIN AMER. & CARIB    ,71891,193,28000.0\r\n",
      "Australia ,OCEANIA                            ,20264082,7686850,29000.0\r\n",
      "Austria ,WESTERN EUROPE                     ,8192880,83870,30000.0\r\n",
      "Azerbaijan ,C.W. OF IND. STATES ,7961619,86600,3400.0\r\n",
      "Bahamas The ,LATIN AMER. & CARIB    ,303770,13940,16700.0\r\n",
      "Bahrain ,NEAR EAST                          ,698585,665,16900.0\r\n",
      "Bangladesh ,ASIA (EX. NEAR EAST)         ,147365352,144000,1900.0\r\n",
      "Barbados ,LATIN AMER. & CARIB    ,279912,431,15700.0\r\n",
      "Belarus ,C.W. OF IND. STATES ,10293011,207600,6100.0\r\n",
      "Belgium ,WESTERN EUROPE                     ,10379067,30528,29100.0\r\n",
      "Belize ,LATIN AMER. & CARIB    ,287730,22966,4900.0\r\n",
      "Benin ,SUB-SAHARAN AFRICA                 ,7862944,112620,1100.0\r\n",
      "Bermuda ,NORTHERN AMERICA                   ,65773,53,36000.0\r\n",
      "Bhutan ,ASIA (EX. NEAR EAST)         ,2279723,47000,1300.0\r\n",
      "Bolivia ,LATIN AMER. & CARIB    ,8989046,1098580,2400.0\r\n",
      "Bosnia & Herzegovina ,EASTERN EUROPE                     ,4498976,51129,6100.0\r\n",
      "Botswana ,SUB-SAHARAN AFRICA                 ,1639833,600370,9000.0\r\n",
      "Brazil ,LATIN AMER. & CARIB    ,188078227,8511965,7600.0\r\n",
      "British Virgin Is. ,LATIN AMER. & CARIB    ,23098,153,16000.0\r\n",
      "Brunei ,ASIA (EX. NEAR EAST)         ,379444,5770,18600.0\r\n",
      "Bulgaria ,EASTERN EUROPE                     ,7385367,110910,7600.0\r\n",
      "Burkina Faso ,SUB-SAHARAN AFRICA                 ,13902972,274200,1100.0\r\n",
      "Burma ,ASIA (EX. NEAR EAST)         ,47382633,678500,1800.0\r\n",
      "Burundi ,SUB-SAHARAN AFRICA                 ,8090068,27830,600.0\r\n",
      "Cambodia ,ASIA (EX. NEAR EAST)         ,13881427,181040,1900.0\r\n",
      "Cameroon ,SUB-SAHARAN AFRICA                 ,17340702,475440,1800.0\r\n",
      "Canada ,NORTHERN AMERICA                   ,33098932,9984670,29800.0\r\n",
      "Cape Verde ,SUB-SAHARAN AFRICA                 ,420979,4033,1400.0\r\n",
      "Cayman Islands ,LATIN AMER. & CARIB    ,45436,262,35000.0\r\n",
      "Central African Rep. ,SUB-SAHARAN AFRICA                 ,4303356,622984,1100.0\r\n",
      "Chad ,SUB-SAHARAN AFRICA                 ,9944201,1284000,1200.0\r\n",
      "Chile ,LATIN AMER. & CARIB    ,16134219,756950,9900.0\r\n",
      "China ,ASIA (EX. NEAR EAST)         ,1313973713,9596960,5000.0\r\n",
      "Colombia ,LATIN AMER. & CARIB    ,43593035,1138910,6300.0\r\n",
      "Comoros ,SUB-SAHARAN AFRICA                 ,690948,2170,700.0\r\n",
      "Congo Dem. Rep. ,SUB-SAHARAN AFRICA                 ,62660551,2345410,700.0\r\n",
      "Congo Repub. of the ,SUB-SAHARAN AFRICA                 ,3702314,342000,700.0\r\n",
      "Cook Islands ,OCEANIA                            ,21388,240,5000.0\r\n",
      "Costa Rica ,LATIN AMER. & CARIB    ,4075261,51100,9100.0\r\n",
      "Cote d'Ivoire ,SUB-SAHARAN AFRICA                 ,17654843,322460,1400.0\r\n",
      "Croatia ,EASTERN EUROPE                     ,4494749,56542,10600.0\r\n",
      "Cuba ,LATIN AMER. & CARIB    ,11382820,110860,2900.0\r\n",
      "Cyprus ,NEAR EAST                          ,784301,9250,19200.0\r\n",
      "Czech Republic ,EASTERN EUROPE                     ,10235455,78866,15700.0\r\n",
      "Denmark ,WESTERN EUROPE                     ,5450661,43094,31100.0\r\n",
      "Djibouti ,SUB-SAHARAN AFRICA                 ,486530,23000,1300.0\r\n",
      "Dominica ,LATIN AMER. & CARIB    ,68910,754,5400.0\r\n",
      "Dominican Republic ,LATIN AMER. & CARIB    ,9183984,48730,6000.0\r\n",
      "East Timor ,ASIA (EX. NEAR EAST)         ,1062777,15007,500.0\r\n",
      "Ecuador ,LATIN AMER. & CARIB    ,13547510,283560,3300.0\r\n",
      "Egypt ,NORTHERN AFRICA                    ,78887007,1001450,4000.0\r\n",
      "El Salvador ,LATIN AMER. & CARIB    ,6822378,21040,4800.0\r\n",
      "Equatorial Guinea ,SUB-SAHARAN AFRICA                 ,540109,28051,2700.0\r\n",
      "Eritrea ,SUB-SAHARAN AFRICA                 ,4786994,121320,700.0\r\n",
      "Estonia ,BALTICS                            ,1324333,45226,12300.0\r\n",
      "Ethiopia ,SUB-SAHARAN AFRICA                 ,74777981,1127127,700.0\r\n",
      "Faroe Islands ,WESTERN EUROPE                     ,47246,1399,22000.0\r\n",
      "Fiji ,OCEANIA                            ,905949,18270,5800.0\r\n",
      "Finland ,WESTERN EUROPE                     ,5231372,338145,27400.0\r\n",
      "France ,WESTERN EUROPE                     ,60876136,547030,27600.0\r\n",
      "French Guiana ,LATIN AMER. & CARIB    ,199509,91000,8300.0\r\n",
      "French Polynesia ,OCEANIA                            ,274578,4167,17500.0\r\n",
      "Gabon ,SUB-SAHARAN AFRICA                 ,1424906,267667,5500.0\r\n",
      "Gambia The ,SUB-SAHARAN AFRICA                 ,1641564,11300,1700.0\r\n",
      "Gaza Strip ,NEAR EAST                          ,1428757,360,600.0\r\n",
      "Georgia ,C.W. OF IND. STATES ,4661473,69700,2500.0\r\n",
      "Germany ,WESTERN EUROPE                     ,82422299,357021,27600.0\r\n",
      "Ghana ,SUB-SAHARAN AFRICA                 ,22409572,239460,2200.0\r\n",
      "Gibraltar ,WESTERN EUROPE                     ,27928,7,17500.0\r\n",
      "Greece ,WESTERN EUROPE                     ,10688058,131940,20000.0\r\n",
      "Greenland ,NORTHERN AMERICA                   ,56361,2166086,20000.0\r\n",
      "Grenada ,LATIN AMER. & CARIB    ,89703,344,5000.0\r\n",
      "Guadeloupe ,LATIN AMER. & CARIB    ,452776,1780,8000.0\r\n",
      "Guam ,OCEANIA                            ,171019,541,21000.0\r\n",
      "Guatemala ,LATIN AMER. & CARIB    ,12293545,108890,4100.0\r\n",
      "Guernsey ,WESTERN EUROPE                     ,65409,78,20000.0\r\n",
      "Guinea ,SUB-SAHARAN AFRICA                 ,9690222,245857,2100.0\r\n",
      "Guinea-Bissau ,SUB-SAHARAN AFRICA                 ,1442029,36120,800.0\r\n",
      "Guyana ,LATIN AMER. & CARIB    ,767245,214970,4000.0\r\n",
      "Haiti ,LATIN AMER. & CARIB    ,8308504,27750,1600.0\r\n",
      "Honduras ,LATIN AMER. & CARIB    ,7326496,112090,2600.0\r\n",
      "Hong Kong ,ASIA (EX. NEAR EAST)         ,6940432,1092,28800.0\r\n",
      "Hungary ,EASTERN EUROPE                     ,9981334,93030,13900.0\r\n",
      "Iceland ,WESTERN EUROPE                     ,299388,103000,30900.0\r\n",
      "India ,ASIA (EX. NEAR EAST)         ,1095351995,3287590,2900.0\r\n",
      "Indonesia ,ASIA (EX. NEAR EAST)         ,245452739,1919440,3200.0\r\n",
      "Iran ,ASIA (EX. NEAR EAST)         ,68688433,1648000,7000.0\r\n",
      "Iraq ,NEAR EAST                          ,26783383,437072,1500.0\r\n",
      "Ireland ,WESTERN EUROPE                     ,4062235,70280,29600.0\r\n",
      "Isle of Man ,WESTERN EUROPE                     ,75441,572,21000.0\r\n",
      "Israel ,NEAR EAST                          ,6352117,20770,19800.0\r\n",
      "Italy ,WESTERN EUROPE                     ,58133509,301230,26700.0\r\n",
      "Jamaica ,LATIN AMER. & CARIB    ,2758124,10991,3900.0\r\n",
      "Japan ,ASIA (EX. NEAR EAST)         ,127463611,377835,28200.0\r\n",
      "Jersey ,WESTERN EUROPE                     ,91084,116,24800.0\r\n",
      "Jordan ,NEAR EAST                          ,5906760,92300,4300.0\r\n",
      "Kazakhstan ,C.W. OF IND. STATES ,15233244,2717300,6300.0\r\n",
      "Kenya ,SUB-SAHARAN AFRICA                 ,34707817,582650,1000.0\r\n",
      "Kiribati ,OCEANIA                            ,105432,811,800.0\r\n",
      "Korea North ,ASIA (EX. NEAR EAST)         ,23113019,120540,1300.0\r\n",
      "Korea South ,ASIA (EX. NEAR EAST)         ,48846823,98480,17800.0\r\n",
      "Kuwait ,NEAR EAST                          ,2418393,17820,19000.0\r\n",
      "Kyrgyzstan ,C.W. OF IND. STATES ,5213898,198500,1600.0\r\n",
      "Laos ,ASIA (EX. NEAR EAST)         ,6368481,236800,1700.0\r\n",
      "Latvia ,BALTICS                            ,2274735,64589,10200.0\r\n",
      "Lebanon ,NEAR EAST                          ,3874050,10400,4800.0\r\n",
      "Lesotho ,SUB-SAHARAN AFRICA                 ,2022331,30355,3000.0\r\n",
      "Liberia ,SUB-SAHARAN AFRICA                 ,3042004,111370,1000.0\r\n",
      "Libya ,NORTHERN AFRICA                    ,5900754,1759540,6400.0\r\n",
      "Liechtenstein ,WESTERN EUROPE                     ,33987,160,25000.0\r\n",
      "Lithuania ,BALTICS                            ,3585906,65200,11400.0\r\n",
      "Luxembourg ,WESTERN EUROPE                     ,474413,2586,55100.0\r\n",
      "Macau ,ASIA (EX. NEAR EAST)         ,453125,28,19400.0\r\n",
      "Macedonia ,EASTERN EUROPE                     ,2050554,25333,6700.0\r\n",
      "Madagascar ,SUB-SAHARAN AFRICA                 ,18595469,587040,800.0\r\n",
      "Malawi ,SUB-SAHARAN AFRICA                 ,13013926,118480,600.0\r\n",
      "Malaysia ,ASIA (EX. NEAR EAST)         ,24385858,329750,9000.0\r\n",
      "Maldives ,ASIA (EX. NEAR EAST)         ,359008,300,3900.0\r\n",
      "Mali ,SUB-SAHARAN AFRICA                 ,11716829,1240000,900.0\r\n",
      "Malta ,WESTERN EUROPE                     ,400214,316,17700.0\r\n",
      "Marshall Islands ,OCEANIA                            ,60422,11854,1600.0\r\n",
      "Martinique ,LATIN AMER. & CARIB    ,436131,1100,14400.0\r\n",
      "Mauritania ,SUB-SAHARAN AFRICA                 ,3177388,1030700,1800.0\r\n",
      "Mauritius ,SUB-SAHARAN AFRICA                 ,1240827,2040,11400.0\r\n",
      "Mayotte ,SUB-SAHARAN AFRICA                 ,201234,374,2600.0\r\n",
      "Mexico ,LATIN AMER. & CARIB    ,107449525,1972550,9000.0\r\n",
      "Micronesia Fed. St. ,OCEANIA                            ,108004,702,2000.0\r\n",
      "Moldova ,C.W. OF IND. STATES ,4466706,33843,1800.0\r\n",
      "Monaco ,WESTERN EUROPE                     ,32543,2,27000.0\r\n",
      "Mongolia ,ASIA (EX. NEAR EAST)         ,2832224,1564116,1800.0\r\n",
      "Montserrat ,LATIN AMER. & CARIB    ,9439,102,3400.0\r\n",
      "Morocco ,NORTHERN AFRICA                    ,33241259,446550,4000.0\r\n",
      "Mozambique ,SUB-SAHARAN AFRICA                 ,19686505,801590,1200.0\r\n",
      "Namibia ,SUB-SAHARAN AFRICA                 ,2044147,825418,7200.0\r\n",
      "Nauru ,OCEANIA                            ,13287,21,5000.0\r\n",
      "Nepal ,ASIA (EX. NEAR EAST)         ,28287147,147181,1400.0\r\n",
      "Netherlands ,WESTERN EUROPE                     ,16491461,41526,28600.0\r\n",
      "Netherlands Antilles ,LATIN AMER. & CARIB    ,221736,960,11400.0\r\n",
      "New Caledonia ,OCEANIA                            ,219246,19060,15000.0\r\n",
      "New Zealand ,OCEANIA                            ,4076140,268680,21600.0\r\n",
      "Nicaragua ,LATIN AMER. & CARIB    ,5570129,129494,2300.0\r\n",
      "Niger ,SUB-SAHARAN AFRICA                 ,12525094,1267000,800.0\r\n",
      "Nigeria ,SUB-SAHARAN AFRICA                 ,131859731,923768,900.0\r\n",
      "N. Mariana Islands ,OCEANIA                            ,82459,477,12500.0\r\n",
      "Norway ,WESTERN EUROPE                     ,4610820,323802,37800.0\r\n",
      "Oman ,NEAR EAST                          ,3102229,212460,13100.0\r\n",
      "Pakistan ,ASIA (EX. NEAR EAST)         ,165803560,803940,2100.0\r\n",
      "Palau ,OCEANIA                            ,20579,458,9000.0\r\n",
      "Panama ,LATIN AMER. & CARIB    ,3191319,78200,6300.0\r\n",
      "Papua New Guinea ,OCEANIA                            ,5670544,462840,2200.0\r\n",
      "Paraguay ,LATIN AMER. & CARIB    ,6506464,406750,4700.0\r\n",
      "Peru ,LATIN AMER. & CARIB    ,28302603,1285220,5100.0\r\n",
      "Philippines ,ASIA (EX. NEAR EAST)         ,89468677,300000,4600.0\r\n",
      "Poland ,EASTERN EUROPE                     ,38536869,312685,11100.0\r\n",
      "Portugal ,WESTERN EUROPE                     ,10605870,92391,18000.0\r\n",
      "Puerto Rico ,LATIN AMER. & CARIB    ,3927188,13790,16800.0\r\n",
      "Qatar ,NEAR EAST                          ,885359,11437,21500.0\r\n",
      "Reunion ,SUB-SAHARAN AFRICA                 ,787584,2517,5800.0\r\n",
      "Romania ,EASTERN EUROPE                     ,22303552,237500,7000.0\r\n",
      "Russia ,C.W. OF IND. STATES ,142893540,17075200,8900.0\r\n",
      "Rwanda ,SUB-SAHARAN AFRICA                 ,8648248,26338,1300.0\r\n",
      "Saint Helena ,SUB-SAHARAN AFRICA                 ,7502,413,2500.0\r\n",
      "Saint Kitts & Nevis ,LATIN AMER. & CARIB    ,39129,261,8800.0\r\n",
      "Saint Lucia ,LATIN AMER. & CARIB    ,168458,616,5400.0\r\n",
      "St Pierre & Miquelon ,NORTHERN AMERICA                   ,7026,242,6900.0\r\n",
      "Saint Vincent and the Grenadines ,LATIN AMER. & CARIB    ,117848,389,2900.0\r\n",
      "Samoa ,OCEANIA                            ,176908,2944,5600.0\r\n",
      "San Marino ,WESTERN EUROPE                     ,29251,61,34600.0\r\n",
      "Sao Tome & Principe ,SUB-SAHARAN AFRICA                 ,193413,1001,1200.0\r\n",
      "Saudi Arabia ,NEAR EAST                          ,27019731,1960582,11800.0\r\n",
      "Senegal ,SUB-SAHARAN AFRICA                 ,11987121,196190,1600.0\r\n",
      "Serbia ,EASTERN EUROPE                     ,9396411,88361,2200.0\r\n",
      "Seychelles ,SUB-SAHARAN AFRICA                 ,81541,455,7800.0\r\n",
      "Sierra Leone ,SUB-SAHARAN AFRICA                 ,6005250,71740,500.0\r\n",
      "Singapore ,ASIA (EX. NEAR EAST)         ,4492150,693,23700.0\r\n",
      "Slovakia ,EASTERN EUROPE                     ,5439448,48845,13300.0\r\n",
      "Slovenia ,EASTERN EUROPE                     ,2010347,20273,19000.0\r\n",
      "Solomon Islands ,OCEANIA                            ,552438,28450,1700.0\r\n",
      "Somalia ,SUB-SAHARAN AFRICA                 ,8863338,637657,500.0\r\n",
      "South Africa ,SUB-SAHARAN AFRICA                 ,44187637,1219912,10700.0\r\n",
      "Spain ,WESTERN EUROPE                     ,40397842,504782,22000.0\r\n",
      "Sri Lanka ,ASIA (EX. NEAR EAST)         ,20222240,65610,3700.0\r\n",
      "Sudan ,SUB-SAHARAN AFRICA                 ,41236378,2505810,1900.0\r\n",
      "Suriname ,LATIN AMER. & CARIB    ,439117,163270,4000.0\r\n",
      "Swaziland ,SUB-SAHARAN AFRICA                 ,1136334,17363,4900.0\r\n",
      "Sweden ,WESTERN EUROPE                     ,9016596,449964,26800.0\r\n",
      "Switzerland ,WESTERN EUROPE                     ,7523934,41290,32700.0\r\n",
      "Syria ,NEAR EAST                          ,18881361,185180,3300.0\r\n",
      "Taiwan ,ASIA (EX. NEAR EAST)         ,23036087,35980,23400.0\r\n",
      "Tajikistan ,C.W. OF IND. STATES ,7320815,143100,1000.0\r\n",
      "Tanzania ,SUB-SAHARAN AFRICA                 ,37445392,945087,600.0\r\n",
      "Thailand ,ASIA (EX. NEAR EAST)         ,64631595,514000,7400.0\r\n",
      "Togo ,SUB-SAHARAN AFRICA                 ,5548702,56785,1500.0\r\n",
      "Tonga ,OCEANIA                            ,114689,748,2200.0\r\n",
      "Trinidad & Tobago ,LATIN AMER. & CARIB    ,1065842,5128,9500.0\r\n",
      "Tunisia ,NORTHERN AFRICA                    ,10175014,163610,6900.0\r\n",
      "Turkey ,NEAR EAST                          ,70413958,780580,6700.0\r\n",
      "Turkmenistan ,C.W. OF IND. STATES ,5042920,488100,5800.0\r\n",
      "Turks & Caicos Is ,LATIN AMER. & CARIB    ,21152,430,9600.0\r\n",
      "Tuvalu ,OCEANIA                            ,11810,26,1100.0\r\n",
      "Uganda ,SUB-SAHARAN AFRICA                 ,28195754,236040,1400.0\r\n",
      "Ukraine ,C.W. OF IND. STATES ,46710816,603700,5400.0\r\n",
      "United Arab Emirates ,NEAR EAST                          ,2602713,82880,23200.0\r\n",
      "United Kingdom ,WESTERN EUROPE                     ,60609153,244820,27700.0\r\n",
      "United States ,NORTHERN AMERICA                   ,298444215,9631420,37800.0\r\n",
      "Uruguay ,LATIN AMER. & CARIB    ,3431932,176220,12800.0\r\n",
      "Uzbekistan ,C.W. OF IND. STATES ,27307134,447400,1700.0\r\n",
      "Vanuatu ,OCEANIA                            ,208869,12200,2900.0\r\n",
      "Venezuela ,LATIN AMER. & CARIB    ,25730435,912050,4800.0\r\n",
      "Vietnam ,ASIA (EX. NEAR EAST)         ,84402966,329560,2500.0\r\n",
      "Virgin Islands ,LATIN AMER. & CARIB    ,108605,1910,17200.0\r\n",
      "Wallis and Futuna ,OCEANIA                            ,16025,274,3700.0\r\n",
      "West Bank ,NEAR EAST                          ,2460492,5860,800.0\r\n",
      "Western Sahara ,NORTHERN AFRICA                    ,273008,266000,\r\n",
      "Yemen ,NEAR EAST                          ,21456188,527970,800.0\r\n",
      "Zambia ,SUB-SAHARAN AFRICA                 ,11502010,752614,800.0\r\n",
      "Zimbabwe ,SUB-SAHARAN AFRICA                 ,12236805,390580,1900.0\r\n"
     ]
    }
   ],
   "source": [
    "! cat countries.csv"
   ]
  },
  {
   "cell_type": "code",
   "execution_count": 114,
   "metadata": {},
   "outputs": [
    {
     "name": "stdout",
     "output_type": "stream",
     "text": [
      "Country,Population,GDP ($ per capita)\r\n",
      "Afghanistan ,31056997,700.0\r\n",
      "Albania ,3581655,4500.0\r\n",
      "Algeria ,32930091,6000.0\r\n",
      "American Samoa ,57794,8000.0\r\n",
      "Andorra ,71201,19000.0\r\n",
      "Angola ,12127071,1900.0\r\n",
      "Anguilla ,13477,8600.0\r\n",
      "Antigua & Barbuda ,69108,11000.0\r\n",
      "Argentina ,39921833,11200.0\r\n",
      "Armenia ,2976372,3500.0\r\n",
      "Aruba ,71891,28000.0\r\n",
      "Australia ,20264082,29000.0\r\n",
      "Austria ,8192880,30000.0\r\n",
      "Azerbaijan ,7961619,3400.0\r\n",
      "Bahamas The ,303770,16700.0\r\n",
      "Bahrain ,698585,16900.0\r\n",
      "Bangladesh ,147365352,1900.0\r\n",
      "Barbados ,279912,15700.0\r\n",
      "Belarus ,10293011,6100.0\r\n",
      "Belgium ,10379067,29100.0\r\n",
      "Belize ,287730,4900.0\r\n",
      "Benin ,7862944,1100.0\r\n",
      "Bermuda ,65773,36000.0\r\n",
      "Bhutan ,2279723,1300.0\r\n",
      "Bolivia ,8989046,2400.0\r\n",
      "Bosnia & Herzegovina ,4498976,6100.0\r\n",
      "Botswana ,1639833,9000.0\r\n",
      "Brazil ,188078227,7600.0\r\n",
      "British Virgin Is. ,23098,16000.0\r\n",
      "Brunei ,379444,18600.0\r\n",
      "Bulgaria ,7385367,7600.0\r\n",
      "Burkina Faso ,13902972,1100.0\r\n",
      "Burma ,47382633,1800.0\r\n",
      "Burundi ,8090068,600.0\r\n",
      "Cambodia ,13881427,1900.0\r\n",
      "Cameroon ,17340702,1800.0\r\n",
      "Canada ,33098932,29800.0\r\n",
      "Cape Verde ,420979,1400.0\r\n",
      "Cayman Islands ,45436,35000.0\r\n",
      "Central African Rep. ,4303356,1100.0\r\n",
      "Chad ,9944201,1200.0\r\n",
      "Chile ,16134219,9900.0\r\n",
      "China ,1313973713,5000.0\r\n",
      "Colombia ,43593035,6300.0\r\n",
      "Comoros ,690948,700.0\r\n",
      "Congo Dem. Rep. ,62660551,700.0\r\n",
      "Congo Repub. of the ,3702314,700.0\r\n",
      "Cook Islands ,21388,5000.0\r\n",
      "Costa Rica ,4075261,9100.0\r\n",
      "Cote d'Ivoire ,17654843,1400.0\r\n",
      "Croatia ,4494749,10600.0\r\n",
      "Cuba ,11382820,2900.0\r\n",
      "Cyprus ,784301,19200.0\r\n",
      "Czech Republic ,10235455,15700.0\r\n",
      "Denmark ,5450661,31100.0\r\n",
      "Djibouti ,486530,1300.0\r\n",
      "Dominica ,68910,5400.0\r\n",
      "Dominican Republic ,9183984,6000.0\r\n",
      "East Timor ,1062777,500.0\r\n",
      "Ecuador ,13547510,3300.0\r\n",
      "Egypt ,78887007,4000.0\r\n",
      "El Salvador ,6822378,4800.0\r\n",
      "Equatorial Guinea ,540109,2700.0\r\n",
      "Eritrea ,4786994,700.0\r\n",
      "Estonia ,1324333,12300.0\r\n",
      "Ethiopia ,74777981,700.0\r\n",
      "Faroe Islands ,47246,22000.0\r\n",
      "Fiji ,905949,5800.0\r\n",
      "Finland ,5231372,27400.0\r\n",
      "France ,60876136,27600.0\r\n",
      "French Guiana ,199509,8300.0\r\n",
      "French Polynesia ,274578,17500.0\r\n",
      "Gabon ,1424906,5500.0\r\n",
      "Gambia The ,1641564,1700.0\r\n",
      "Gaza Strip ,1428757,600.0\r\n",
      "Georgia ,4661473,2500.0\r\n",
      "Germany ,82422299,27600.0\r\n",
      "Ghana ,22409572,2200.0\r\n",
      "Gibraltar ,27928,17500.0\r\n",
      "Greece ,10688058,20000.0\r\n",
      "Greenland ,56361,20000.0\r\n",
      "Grenada ,89703,5000.0\r\n",
      "Guadeloupe ,452776,8000.0\r\n",
      "Guam ,171019,21000.0\r\n",
      "Guatemala ,12293545,4100.0\r\n",
      "Guernsey ,65409,20000.0\r\n",
      "Guinea ,9690222,2100.0\r\n",
      "Guinea-Bissau ,1442029,800.0\r\n",
      "Guyana ,767245,4000.0\r\n",
      "Haiti ,8308504,1600.0\r\n",
      "Honduras ,7326496,2600.0\r\n",
      "Hong Kong ,6940432,28800.0\r\n",
      "Hungary ,9981334,13900.0\r\n",
      "Iceland ,299388,30900.0\r\n",
      "India ,1095351995,2900.0\r\n",
      "Indonesia ,245452739,3200.0\r\n",
      "Iran ,68688433,7000.0\r\n",
      "Iraq ,26783383,1500.0\r\n",
      "Ireland ,4062235,29600.0\r\n",
      "Isle of Man ,75441,21000.0\r\n",
      "Israel ,6352117,19800.0\r\n",
      "Italy ,58133509,26700.0\r\n",
      "Jamaica ,2758124,3900.0\r\n",
      "Japan ,127463611,28200.0\r\n",
      "Jersey ,91084,24800.0\r\n",
      "Jordan ,5906760,4300.0\r\n",
      "Kazakhstan ,15233244,6300.0\r\n",
      "Kenya ,34707817,1000.0\r\n",
      "Kiribati ,105432,800.0\r\n",
      "Korea North ,23113019,1300.0\r\n",
      "Korea South ,48846823,17800.0\r\n",
      "Kuwait ,2418393,19000.0\r\n",
      "Kyrgyzstan ,5213898,1600.0\r\n",
      "Laos ,6368481,1700.0\r\n",
      "Latvia ,2274735,10200.0\r\n",
      "Lebanon ,3874050,4800.0\r\n",
      "Lesotho ,2022331,3000.0\r\n",
      "Liberia ,3042004,1000.0\r\n",
      "Libya ,5900754,6400.0\r\n",
      "Liechtenstein ,33987,25000.0\r\n",
      "Lithuania ,3585906,11400.0\r\n",
      "Luxembourg ,474413,55100.0\r\n",
      "Macau ,453125,19400.0\r\n",
      "Macedonia ,2050554,6700.0\r\n",
      "Madagascar ,18595469,800.0\r\n",
      "Malawi ,13013926,600.0\r\n",
      "Malaysia ,24385858,9000.0\r\n",
      "Maldives ,359008,3900.0\r\n",
      "Mali ,11716829,900.0\r\n",
      "Malta ,400214,17700.0\r\n",
      "Marshall Islands ,60422,1600.0\r\n",
      "Martinique ,436131,14400.0\r\n",
      "Mauritania ,3177388,1800.0\r\n",
      "Mauritius ,1240827,11400.0\r\n",
      "Mayotte ,201234,2600.0\r\n",
      "Mexico ,107449525,9000.0\r\n",
      "Micronesia Fed. St. ,108004,2000.0\r\n",
      "Moldova ,4466706,1800.0\r\n",
      "Monaco ,32543,27000.0\r\n",
      "Mongolia ,2832224,1800.0\r\n",
      "Montserrat ,9439,3400.0\r\n",
      "Morocco ,33241259,4000.0\r\n",
      "Mozambique ,19686505,1200.0\r\n",
      "Namibia ,2044147,7200.0\r\n",
      "Nauru ,13287,5000.0\r\n",
      "Nepal ,28287147,1400.0\r\n",
      "Netherlands ,16491461,28600.0\r\n",
      "Netherlands Antilles ,221736,11400.0\r\n",
      "New Caledonia ,219246,15000.0\r\n",
      "New Zealand ,4076140,21600.0\r\n",
      "Nicaragua ,5570129,2300.0\r\n",
      "Niger ,12525094,800.0\r\n",
      "Nigeria ,131859731,900.0\r\n",
      "N. Mariana Islands ,82459,12500.0\r\n",
      "Norway ,4610820,37800.0\r\n",
      "Oman ,3102229,13100.0\r\n",
      "Pakistan ,165803560,2100.0\r\n",
      "Palau ,20579,9000.0\r\n",
      "Panama ,3191319,6300.0\r\n",
      "Papua New Guinea ,5670544,2200.0\r\n",
      "Paraguay ,6506464,4700.0\r\n",
      "Peru ,28302603,5100.0\r\n",
      "Philippines ,89468677,4600.0\r\n",
      "Poland ,38536869,11100.0\r\n",
      "Portugal ,10605870,18000.0\r\n",
      "Puerto Rico ,3927188,16800.0\r\n",
      "Qatar ,885359,21500.0\r\n",
      "Reunion ,787584,5800.0\r\n",
      "Romania ,22303552,7000.0\r\n",
      "Russia ,142893540,8900.0\r\n",
      "Rwanda ,8648248,1300.0\r\n",
      "Saint Helena ,7502,2500.0\r\n",
      "Saint Kitts & Nevis ,39129,8800.0\r\n",
      "Saint Lucia ,168458,5400.0\r\n",
      "St Pierre & Miquelon ,7026,6900.0\r\n",
      "Saint Vincent and the Grenadines ,117848,2900.0\r\n",
      "Samoa ,176908,5600.0\r\n",
      "San Marino ,29251,34600.0\r\n",
      "Sao Tome & Principe ,193413,1200.0\r\n",
      "Saudi Arabia ,27019731,11800.0\r\n",
      "Senegal ,11987121,1600.0\r\n",
      "Serbia ,9396411,2200.0\r\n",
      "Seychelles ,81541,7800.0\r\n",
      "Sierra Leone ,6005250,500.0\r\n",
      "Singapore ,4492150,23700.0\r\n",
      "Slovakia ,5439448,13300.0\r\n",
      "Slovenia ,2010347,19000.0\r\n",
      "Solomon Islands ,552438,1700.0\r\n",
      "Somalia ,8863338,500.0\r\n",
      "South Africa ,44187637,10700.0\r\n",
      "Spain ,40397842,22000.0\r\n",
      "Sri Lanka ,20222240,3700.0\r\n",
      "Sudan ,41236378,1900.0\r\n",
      "Suriname ,439117,4000.0\r\n",
      "Swaziland ,1136334,4900.0\r\n",
      "Sweden ,9016596,26800.0\r\n",
      "Switzerland ,7523934,32700.0\r\n",
      "Syria ,18881361,3300.0\r\n",
      "Taiwan ,23036087,23400.0\r\n",
      "Tajikistan ,7320815,1000.0\r\n",
      "Tanzania ,37445392,600.0\r\n",
      "Thailand ,64631595,7400.0\r\n",
      "Togo ,5548702,1500.0\r\n",
      "Tonga ,114689,2200.0\r\n",
      "Trinidad & Tobago ,1065842,9500.0\r\n",
      "Tunisia ,10175014,6900.0\r\n",
      "Turkey ,70413958,6700.0\r\n",
      "Turkmenistan ,5042920,5800.0\r\n",
      "Turks & Caicos Is ,21152,9600.0\r\n",
      "Tuvalu ,11810,1100.0\r\n",
      "Uganda ,28195754,1400.0\r\n",
      "Ukraine ,46710816,5400.0\r\n",
      "United Arab Emirates ,2602713,23200.0\r\n",
      "United Kingdom ,60609153,27700.0\r\n",
      "United States ,298444215,37800.0\r\n",
      "Uruguay ,3431932,12800.0\r\n",
      "Uzbekistan ,27307134,1700.0\r\n",
      "Vanuatu ,208869,2900.0\r\n",
      "Venezuela ,25730435,4800.0\r\n",
      "Vietnam ,84402966,2500.0\r\n",
      "Virgin Islands ,108605,17200.0\r\n",
      "Wallis and Futuna ,16025,3700.0\r\n",
      "West Bank ,2460492,800.0\r\n",
      "Western Sahara ,273008,\r\n",
      "Yemen ,21456188,800.0\r\n",
      "Zambia ,11502010,800.0\r\n",
      "Zimbabwe ,12236805,1900.0\r\n"
     ]
    }
   ],
   "source": [
    "! cat countries.csv | cut -d',' -f1,3,5  # разделяем данные по запятой и берем только 6 и 7 столбец"
   ]
  },
  {
   "cell_type": "code",
   "execution_count": 115,
   "metadata": {},
   "outputs": [
    {
     "name": "stdout",
     "output_type": "stream",
     "text": [
      "31056997\r\n",
      "3581655\r\n",
      "32930091\r\n",
      "57794\r\n",
      "71201\r\n",
      "12127071\r\n",
      "13477\r\n",
      "69108\r\n",
      "39921833\r\n",
      "2976372\r\n"
     ]
    }
   ],
   "source": [
    "# удаляем заголовок и смотрим только на Population\n",
    "! cat countries.csv | tail -n +2 | cut -d',' -f3 | head"
   ]
  },
  {
   "cell_type": "code",
   "execution_count": 116,
   "metadata": {},
   "outputs": [
    {
     "name": "stdout",
     "output_type": "stream",
     "text": [
      "11\r\n"
     ]
    }
   ],
   "source": [
    "# Считаем уникальные оценки в графе Region\n",
    "! cat countries.csv | tail -n +2 | cut -d',' -f2 | sort | uniq | wc -l"
   ]
  },
  {
   "cell_type": "code",
   "execution_count": 117,
   "metadata": {},
   "outputs": [
    {
     "name": "stdout",
     "output_type": "stream",
     "text": [
      "Linux rc1a-dataproc-m-ymnek55ntqs3neie.mdb.yandexcloud.net 5.4.0-132-generic #148-Ubuntu SMP Mon Oct 17 16:02:06 UTC 2022 x86_64 x86_64 x86_64 GNU/Linux\r\n"
     ]
    }
   ],
   "source": [
    "! uname -a  # информация о системе"
   ]
  },
  {
   "cell_type": "code",
   "execution_count": 118,
   "metadata": {},
   "outputs": [
    {
     "name": "stdout",
     "output_type": "stream",
     "text": [
      "Linux 5.4.0-132-generic x86_64\r\n"
     ]
    }
   ],
   "source": [
    "! uname -a | cut -d\" \" -f1,3,12  # получаем информацию конкретно про ядро"
   ]
  },
  {
   "cell_type": "markdown",
   "metadata": {},
   "source": [
    "### Grep\n",
    "\n",
    "grep позволяет фильтровать входной поток по указанному регулярному выражению"
   ]
  },
  {
   "cell_type": "code",
   "execution_count": 119,
   "metadata": {},
   "outputs": [
    {
     "name": "stdout",
     "output_type": "stream",
     "text": [
      "Country,Region,Population,Area (sq. mi.),GDP ($ per capita)\r\n",
      "Afghanistan ,ASIA (EX. NEAR EAST)         ,31056997,647500,700.0\r\n",
      "Albania ,EASTERN EUROPE                     ,3581655,28748,4500.0\r\n",
      "Algeria ,NORTHERN AFRICA                    ,32930091,2381740,6000.0\r\n",
      "American Samoa ,OCEANIA                            ,57794,199,8000.0\r\n",
      "Andorra ,WESTERN EUROPE                     ,71201,468,19000.0\r\n",
      "Angola ,SUB-SAHARAN AFRICA                 ,12127071,1246700,1900.0\r\n",
      "Anguilla ,LATIN AMER. & CARIB    ,13477,102,8600.0\r\n",
      "Antigua & Barbuda ,LATIN AMER. & CARIB    ,69108,443,11000.0\r\n",
      "Argentina ,LATIN AMER. & CARIB    ,39921833,2766890,11200.0\r\n"
     ]
    }
   ],
   "source": [
    "! head countries.csv"
   ]
  },
  {
   "cell_type": "code",
   "execution_count": 120,
   "metadata": {},
   "outputs": [
    {
     "name": "stdout",
     "output_type": "stream",
     "text": [
      "Algeria ,NORTHERN AFRICA                    ,32930091,2381740,6000.0\r\n",
      "Egypt ,NORTHERN AFRICA                    ,78887007,1001450,4000.0\r\n",
      "Libya ,NORTHERN AFRICA                    ,5900754,1759540,6400.0\r\n",
      "Morocco ,NORTHERN AFRICA                    ,33241259,446550,4000.0\r\n",
      "Tunisia ,NORTHERN AFRICA                    ,10175014,163610,6900.0\r\n",
      "Western Sahara ,NORTHERN AFRICA                    ,273008,266000,\r\n"
     ]
    }
   ],
   "source": [
    "! cat countries.csv | grep \"NORTHERN AFRICA\"  # Ищем только NORTHERN AFRICA"
   ]
  },
  {
   "cell_type": "code",
   "execution_count": 121,
   "metadata": {},
   "outputs": [
    {
     "name": "stdout",
     "output_type": "stream",
     "text": [
      "Cayman Islands ,LATIN AMER. & CARIB    ,45436,262,35000.0\r\n",
      "Cook Islands ,OCEANIA                            ,21388,240,5000.0\r\n",
      "Faroe Islands ,WESTERN EUROPE                     ,47246,1399,22000.0\r\n",
      "Marshall Islands ,OCEANIA                            ,60422,11854,1600.0\r\n",
      "N. Mariana Islands ,OCEANIA                            ,82459,477,12500.0\r\n",
      "Solomon Islands ,OCEANIA                            ,552438,28450,1700.0\r\n",
      "Virgin Islands ,LATIN AMER. & CARIB    ,108605,1910,17200.0\r\n"
     ]
    }
   ],
   "source": [
    "! cat countries.csv | grep \"Islands\""
   ]
  },
  {
   "cell_type": "markdown",
   "metadata": {},
   "source": [
    "### AWK\n",
    "\n",
    "Программа для обработки структурированного потока со своим собственным небольшим языком программирования."
   ]
  },
  {
   "cell_type": "code",
   "execution_count": 122,
   "metadata": {},
   "outputs": [
    {
     "name": "stdout",
     "output_type": "stream",
     "text": [
      "Hello World!\r\n"
     ]
    }
   ],
   "source": [
    "! awk 'BEGIN{print \"Hello World!\"; exit}' "
   ]
  },
  {
   "cell_type": "code",
   "execution_count": 123,
   "metadata": {},
   "outputs": [
    {
     "name": "stdout",
     "output_type": "stream",
     "text": [
      "Australia ,OCEANIA                            ,20264082,7686850,29000.0\r\n",
      "Bosnia & Herzegovina ,EASTERN EUROPE                     ,4498976,51129,6100.0\r\n",
      "Burkina Faso ,SUB-SAHARAN AFRICA                 ,13902972,274200,1100.0\r\n",
      "Central African Rep. ,SUB-SAHARAN AFRICA                 ,4303356,622984,1100.0\r\n",
      "Congo Dem. Rep. ,SUB-SAHARAN AFRICA                 ,62660551,2345410,700.0\r\n",
      "Congo Repub. of the ,SUB-SAHARAN AFRICA                 ,3702314,342000,700.0\r\n",
      "Cote d'Ivoire ,SUB-SAHARAN AFRICA                 ,17654843,322460,1400.0\r\n",
      "Czech Republic ,EASTERN EUROPE                     ,10235455,78866,15700.0\r\n",
      "Equatorial Guinea ,SUB-SAHARAN AFRICA                 ,540109,28051,2700.0\r\n",
      "French Polynesia ,OCEANIA                            ,274578,4167,17500.0\r\n",
      "Marshall Islands ,OCEANIA                            ,60422,11854,1600.0\r\n",
      "Micronesia Fed. St. ,OCEANIA                            ,108004,702,2000.0\r\n",
      "Netherlands ,WESTERN EUROPE                     ,16491461,41526,28600.0\r\n",
      "New Caledonia ,OCEANIA                            ,219246,19060,15000.0\r\n",
      "New Zealand ,OCEANIA                            ,4076140,268680,21600.0\r\n",
      "N. Mariana Islands ,OCEANIA                            ,82459,477,12500.0\r\n",
      "Papua New Guinea ,OCEANIA                            ,5670544,462840,2200.0\r\n",
      "St Pierre & Miquelon ,NORTHERN AMERICA                   ,7026,242,6900.0\r\n",
      "Saint Vincent and the Grenadines ,LATIN AMER. & CARIB    ,117848,389,2900.0\r\n",
      "Sao Tome & Principe ,SUB-SAHARAN AFRICA                 ,193413,1001,1200.0\r\n",
      "Saudi Arabia ,NEAR EAST                          ,27019731,1960582,11800.0\r\n",
      "Solomon Islands ,OCEANIA                            ,552438,28450,1700.0\r\n",
      "South Africa ,SUB-SAHARAN AFRICA                 ,44187637,1219912,10700.0\r\n",
      "United Arab Emirates ,NEAR EAST                          ,2602713,82880,23200.0\r\n",
      "United Kingdom ,WESTERN EUROPE                     ,60609153,244820,27700.0\r\n",
      "United States ,NORTHERN AMERICA                   ,298444215,9631420,37800.0\r\n",
      "Wallis and Futuna ,OCEANIA                            ,16025,274,3700.0\r\n"
     ]
    }
   ],
   "source": [
    "! awk '{ if (length($0) > 70) print $0 }' countries.csv"
   ]
  },
  {
   "cell_type": "code",
   "execution_count": 125,
   "metadata": {},
   "outputs": [
    {
     "name": "stdout",
     "output_type": "stream",
     "text": [
      "LATIN AMER. & CARIB    \r\n",
      "EASTERN EUROPE                     \r\n",
      "LATIN AMER. & CARIB    \r\n",
      "SUB-SAHARAN AFRICA                 \r\n",
      "SUB-SAHARAN AFRICA                 \r\n",
      "SUB-SAHARAN AFRICA                 \r\n",
      "LATIN AMER. & CARIB    \r\n",
      "SUB-SAHARAN AFRICA                 \r\n",
      "OCEANIA                            \r\n",
      "OCEANIA                            \r\n",
      "OCEANIA                            \r\n",
      "LATIN AMER. & CARIB    \r\n",
      "OCEANIA                            \r\n",
      "OCEANIA                            \r\n",
      "LATIN AMER. & CARIB    \r\n",
      "NORTHERN AMERICA                   \r\n",
      "LATIN AMER. & CARIB    \r\n",
      "SUB-SAHARAN AFRICA                 \r\n",
      "OCEANIA                            \r\n",
      "LATIN AMER. & CARIB    \r\n",
      "LATIN AMER. & CARIB    \r\n",
      "NEAR EAST                          \r\n",
      "OCEANIA                            \r\n"
     ]
    }
   ],
   "source": [
    "! cat  countries.csv |  awk -F, '{ if (length($1) > 15) print $2 }'"
   ]
  },
  {
   "cell_type": "code",
   "execution_count": 126,
   "metadata": {},
   "outputs": [
    {
     "name": "stdout",
     "output_type": "stream",
     "text": [
      "Azerbaijan ,C.W. OF IND. STATES ,7961619,86600,3400.0\r\n",
      "British Virgin Is. ,LATIN AMER. & CARIB    ,23098,153,16000.0\r\n",
      "Colombia ,LATIN AMER. & CARIB    ,43593035,1138910,6300.0\r\n",
      "East Timor ,ASIA (EX. NEAR EAST)         ,1062777,15007,500.0\r\n",
      "Gambia The ,SUB-SAHARAN AFRICA                 ,1641564,11300,1700.0\r\n",
      "Guyana ,LATIN AMER. & CARIB    ,767245,214970,4000.0\r\n",
      "Japan ,ASIA (EX. NEAR EAST)         ,127463611,377835,28200.0\r\n",
      "Libya ,NORTHERN AFRICA                    ,5900754,1759540,6400.0\r\n",
      "Mauritius ,SUB-SAHARAN AFRICA                 ,1240827,2040,11400.0\r\n",
      "New Caledonia ,OCEANIA                            ,219246,19060,15000.0\r\n",
      "Poland ,EASTERN EUROPE                     ,38536869,312685,11100.0\r\n",
      "Sao Tome & Principe ,SUB-SAHARAN AFRICA                 ,193413,1001,1200.0\r\n",
      "Suriname ,LATIN AMER. & CARIB    ,439117,163270,4000.0\r\n",
      "Turks & Caicos Is ,LATIN AMER. & CARIB    ,21152,430,9600.0\r\n",
      "Western Sahara ,NORTHERN AFRICA                    ,273008,266000,\r\n"
     ]
    }
   ],
   "source": [
    "! awk -F, '{ if (FNR%15==0) print $0 }' countries.csv"
   ]
  },
  {
   "cell_type": "code",
   "execution_count": 127,
   "metadata": {},
   "outputs": [
    {
     "name": "stdout",
     "output_type": "stream",
     "text": [
      "6.52404e+09\r\n"
     ]
    }
   ],
   "source": [
    "! cat countries.csv | tail -n +2 | awk -F, 'BEGIN{sum=0.0} {sum+=$3} END{print sum}'"
   ]
  },
  {
   "cell_type": "code",
   "execution_count": 128,
   "metadata": {},
   "outputs": [
    {
     "name": "stdout",
     "output_type": "stream",
     "text": [
      "17075200 Russia \r\n"
     ]
    }
   ],
   "source": [
    "! cat countries.csv | tail -n +2 | awk -F, 'BEGIN{max=0.0; country=\"\"} {if ($4 > max) {max = $4; country=$1}} END{print max,country}' "
   ]
  },
  {
   "cell_type": "code",
   "execution_count": 129,
   "metadata": {},
   "outputs": [
    {
     "name": "stdout",
     "output_type": "stream",
     "text": [
      "Russia ,C.W. OF IND. STATES ,142893540,17075200,8900.0\r\n"
     ]
    }
   ],
   "source": [
    "! cat countries.csv | grep Russia"
   ]
  },
  {
   "cell_type": "markdown",
   "metadata": {},
   "source": [
    "### Jq\n",
    "jq не является стандартной программой и ее необходимо самостоятельно установить. Для Ubuntu - apt-get install jq.\n",
    "\n",
    "jq - это манипулятор JSON документами. Имеет свой язык запросов к JSON, чем то похожий на пайплайны в bash.\n",
    "\n",
    "Подробнее узнать можно здесь - https://stedolan.github.io/jq/\n",
    "\n",
    "В файле covid.json содержатся записи о заболеваниях короновирусом в различных странах."
   ]
  },
  {
   "cell_type": "code",
   "execution_count": 130,
   "metadata": {},
   "outputs": [
    {
     "name": "stdout",
     "output_type": "stream",
     "text": [
      "--2023-01-17 16:28:33--  https://raw.githubusercontent.com/Biuni/PokemonGO-Pokedex/master/pokedex.json\n",
      "Resolving raw.githubusercontent.com (raw.githubusercontent.com)... 185.199.111.133, 185.199.110.133, 185.199.109.133, ...\n",
      "Connecting to raw.githubusercontent.com (raw.githubusercontent.com)|185.199.111.133|:443... connected.\n",
      "HTTP request sent, awaiting response... 200 OK\n",
      "Length: 81998 (80K) [text/plain]\n",
      "Saving to: ‘pokedex.json’\n",
      "\n",
      "pokedex.json        100%[===================>]  80.08K  --.-KB/s    in 0.03s   \n",
      "\n",
      "2023-01-17 16:28:33 (3.03 MB/s) - ‘pokedex.json’ saved [81998/81998]\n",
      "\n"
     ]
    }
   ],
   "source": [
    "! wget https://raw.githubusercontent.com/Biuni/PokemonGO-Pokedex/master/pokedex.json"
   ]
  },
  {
   "cell_type": "code",
   "execution_count": 131,
   "metadata": {},
   "outputs": [
    {
     "name": "stdout",
     "output_type": "stream",
     "text": [
      "jq - commandline JSON processor [version 1.6]\r\n",
      "\r\n",
      "Usage:\tjq [options] <jq filter> [file...]\r\n",
      "\tjq [options] --args <jq filter> [strings...]\r\n",
      "\tjq [options] --jsonargs <jq filter> [JSON_TEXTS...]\r\n",
      "\r\n",
      "jq is a tool for processing JSON inputs, applying the given filter to\r\n",
      "its JSON text inputs and producing the filter's results as JSON on\r\n",
      "standard output.\r\n",
      "\r\n"
     ]
    }
   ],
   "source": [
    "! jq --help | head"
   ]
  },
  {
   "cell_type": "code",
   "execution_count": 132,
   "metadata": {},
   "outputs": [
    {
     "name": "stdout",
     "output_type": "stream",
     "text": [
      "{\r\n",
      "  \"pokemon\": [{\r\n",
      "    \"id\": 1,\r\n",
      "    \"num\": \"001\",\r\n",
      "    \"name\": \"Bulbasaur\",\r\n",
      "    \"img\": \"http://www.serebii.net/pokemongo/pokemon/001.png\",\r\n",
      "    \"type\": [\r\n",
      "      \"Grass\",\r\n",
      "      \"Poison\"\r\n",
      "    ],\r\n"
     ]
    }
   ],
   "source": [
    "! head pokedex.json"
   ]
  },
  {
   "cell_type": "markdown",
   "metadata": {},
   "source": [
    "Основной формат запроса в jq - это json path - путь из ключей, по которому нужно пройтись. Каждый такой path генерирует новый поток данных, согласно этому запросу, который можно дальше модифицировать.\n",
    "\n",
    "Самый короткий запрос это . - то есть мы запрашиваем весть документ целиком. Попробуем посмотреть на первый элемент в массиве measures."
   ]
  },
  {
   "cell_type": "code",
   "execution_count": 133,
   "metadata": {},
   "outputs": [
    {
     "name": "stdout",
     "output_type": "stream",
     "text": [
      "\u001b[1;39m{\r\n",
      "  \u001b[0m\u001b[34;1m\"id\"\u001b[0m\u001b[1;39m: \u001b[0m\u001b[0;39m1\u001b[0m\u001b[1;39m,\r\n",
      "  \u001b[0m\u001b[34;1m\"num\"\u001b[0m\u001b[1;39m: \u001b[0m\u001b[0;32m\"001\"\u001b[0m\u001b[1;39m,\r\n",
      "  \u001b[0m\u001b[34;1m\"name\"\u001b[0m\u001b[1;39m: \u001b[0m\u001b[0;32m\"Bulbasaur\"\u001b[0m\u001b[1;39m,\r\n",
      "  \u001b[0m\u001b[34;1m\"img\"\u001b[0m\u001b[1;39m: \u001b[0m\u001b[0;32m\"http://www.serebii.net/pokemongo/pokemon/001.png\"\u001b[0m\u001b[1;39m,\r\n",
      "  \u001b[0m\u001b[34;1m\"type\"\u001b[0m\u001b[1;39m: \u001b[0m\u001b[1;39m[\r\n",
      "    \u001b[0;32m\"Grass\"\u001b[0m\u001b[1;39m,\r\n",
      "    \u001b[0;32m\"Poison\"\u001b[0m\u001b[1;39m\r\n",
      "  \u001b[1;39m]\u001b[0m\u001b[1;39m,\r\n",
      "  \u001b[0m\u001b[34;1m\"height\"\u001b[0m\u001b[1;39m: \u001b[0m\u001b[0;32m\"0.71 m\"\u001b[0m\u001b[1;39m,\r\n",
      "  \u001b[0m\u001b[34;1m\"weight\"\u001b[0m\u001b[1;39m: \u001b[0m\u001b[0;32m\"6.9 kg\"\u001b[0m\u001b[1;39m,\r\n",
      "  \u001b[0m\u001b[34;1m\"candy\"\u001b[0m\u001b[1;39m: \u001b[0m\u001b[0;32m\"Bulbasaur Candy\"\u001b[0m\u001b[1;39m,\r\n",
      "  \u001b[0m\u001b[34;1m\"candy_count\"\u001b[0m\u001b[1;39m: \u001b[0m\u001b[0;39m25\u001b[0m\u001b[1;39m,\r\n",
      "  \u001b[0m\u001b[34;1m\"egg\"\u001b[0m\u001b[1;39m: \u001b[0m\u001b[0;32m\"2 km\"\u001b[0m\u001b[1;39m,\r\n",
      "  \u001b[0m\u001b[34;1m\"spawn_chance\"\u001b[0m\u001b[1;39m: \u001b[0m\u001b[0;39m0.69\u001b[0m\u001b[1;39m,\r\n",
      "  \u001b[0m\u001b[34;1m\"avg_spawns\"\u001b[0m\u001b[1;39m: \u001b[0m\u001b[0;39m69\u001b[0m\u001b[1;39m,\r\n",
      "  \u001b[0m\u001b[34;1m\"spawn_time\"\u001b[0m\u001b[1;39m: \u001b[0m\u001b[0;32m\"20:00\"\u001b[0m\u001b[1;39m,\r\n",
      "  \u001b[0m\u001b[34;1m\"multipliers\"\u001b[0m\u001b[1;39m: \u001b[0m\u001b[1;39m[\r\n",
      "    \u001b[0;39m1.58\u001b[0m\u001b[1;39m\r\n",
      "  \u001b[1;39m]\u001b[0m\u001b[1;39m,\r\n",
      "  \u001b[0m\u001b[34;1m\"weaknesses\"\u001b[0m\u001b[1;39m: \u001b[0m\u001b[1;39m[\r\n",
      "    \u001b[0;32m\"Fire\"\u001b[0m\u001b[1;39m,\r\n",
      "    \u001b[0;32m\"Ice\"\u001b[0m\u001b[1;39m,\r\n",
      "    \u001b[0;32m\"Flying\"\u001b[0m\u001b[1;39m,\r\n",
      "    \u001b[0;32m\"Psychic\"\u001b[0m\u001b[1;39m\r\n",
      "  \u001b[1;39m]\u001b[0m\u001b[1;39m,\r\n",
      "  \u001b[0m\u001b[34;1m\"next_evolution\"\u001b[0m\u001b[1;39m: \u001b[0m\u001b[1;39m[\r\n",
      "    \u001b[1;39m{\r\n",
      "      \u001b[0m\u001b[34;1m\"num\"\u001b[0m\u001b[1;39m: \u001b[0m\u001b[0;32m\"002\"\u001b[0m\u001b[1;39m,\r\n",
      "      \u001b[0m\u001b[34;1m\"name\"\u001b[0m\u001b[1;39m: \u001b[0m\u001b[0;32m\"Ivysaur\"\u001b[0m\u001b[1;39m\r\n",
      "    \u001b[1;39m}\u001b[0m\u001b[1;39m,\r\n",
      "    \u001b[1;39m{\r\n",
      "      \u001b[0m\u001b[34;1m\"num\"\u001b[0m\u001b[1;39m: \u001b[0m\u001b[0;32m\"003\"\u001b[0m\u001b[1;39m,\r\n",
      "      \u001b[0m\u001b[34;1m\"name\"\u001b[0m\u001b[1;39m: \u001b[0m\u001b[0;32m\"Venusaur\"\u001b[0m\u001b[1;39m\r\n",
      "    \u001b[1;39m}\u001b[0m\u001b[1;39m\r\n",
      "  \u001b[1;39m]\u001b[0m\u001b[1;39m\r\n",
      "\u001b[1;39m}\u001b[0m\r\n"
     ]
    }
   ],
   "source": [
    "! cat pokedex.json | jq '.pokemon[0]'"
   ]
  },
  {
   "cell_type": "code",
   "execution_count": 134,
   "metadata": {},
   "outputs": [
    {
     "name": "stdout",
     "output_type": "stream",
     "text": [
      "\u001b[1;39m[\r\n",
      "  \u001b[0;32m\"Fire\"\u001b[0m\u001b[1;39m,\r\n",
      "  \u001b[0;32m\"Ice\"\u001b[0m\u001b[1;39m,\r\n",
      "  \u001b[0;32m\"Flying\"\u001b[0m\u001b[1;39m,\r\n",
      "  \u001b[0;32m\"Psychic\"\u001b[0m\u001b[1;39m\r\n",
      "\u001b[1;39m]\u001b[0m\r\n"
     ]
    }
   ],
   "source": [
    "! cat pokedex.json | jq '.pokemon[0].weaknesses'"
   ]
  },
  {
   "cell_type": "code",
   "execution_count": 135,
   "metadata": {},
   "outputs": [
    {
     "name": "stdout",
     "output_type": "stream",
     "text": [
      "\u001b[1;39m[\r\n",
      "  \u001b[0;32m\"pokemon\"\u001b[0m\u001b[1;39m\r\n",
      "\u001b[1;39m]\u001b[0m\r\n"
     ]
    }
   ],
   "source": [
    "! cat pokedex.json | jq '. | keys'"
   ]
  },
  {
   "cell_type": "code",
   "execution_count": 136,
   "metadata": {},
   "outputs": [
    {
     "name": "stdout",
     "output_type": "stream",
     "text": [
      "\u001b[1;39m[\r\n",
      "  \u001b[0;32m\"avg_spawns\"\u001b[0m\u001b[1;39m,\r\n",
      "  \u001b[0;32m\"candy\"\u001b[0m\u001b[1;39m,\r\n",
      "  \u001b[0;32m\"candy_count\"\u001b[0m\u001b[1;39m,\r\n",
      "  \u001b[0;32m\"egg\"\u001b[0m\u001b[1;39m,\r\n",
      "  \u001b[0;32m\"height\"\u001b[0m\u001b[1;39m,\r\n",
      "  \u001b[0;32m\"id\"\u001b[0m\u001b[1;39m,\r\n",
      "  \u001b[0;32m\"img\"\u001b[0m\u001b[1;39m,\r\n",
      "  \u001b[0;32m\"multipliers\"\u001b[0m\u001b[1;39m,\r\n",
      "  \u001b[0;32m\"name\"\u001b[0m\u001b[1;39m,\r\n",
      "  \u001b[0;32m\"next_evolution\"\u001b[0m\u001b[1;39m,\r\n",
      "  \u001b[0;32m\"num\"\u001b[0m\u001b[1;39m,\r\n",
      "  \u001b[0;32m\"spawn_chance\"\u001b[0m\u001b[1;39m,\r\n",
      "  \u001b[0;32m\"spawn_time\"\u001b[0m\u001b[1;39m,\r\n",
      "  \u001b[0;32m\"type\"\u001b[0m\u001b[1;39m,\r\n",
      "  \u001b[0;32m\"weaknesses\"\u001b[0m\u001b[1;39m,\r\n",
      "  \u001b[0;32m\"weight\"\u001b[0m\u001b[1;39m\r\n",
      "\u001b[1;39m]\u001b[0m\r\n"
     ]
    }
   ],
   "source": [
    "! cat pokedex.json | jq '.pokemon[0] | keys'"
   ]
  },
  {
   "cell_type": "code",
   "execution_count": 137,
   "metadata": {},
   "outputs": [
    {
     "name": "stdout",
     "output_type": "stream",
     "text": [
      "\u001b[1;39m[\r\n",
      "  \u001b[0;32m\"name\"\u001b[0m\u001b[1;39m,\r\n",
      "  \u001b[0;32m\"num\"\u001b[0m\u001b[1;39m\r\n",
      "\u001b[1;39m]\u001b[0m\r\n"
     ]
    }
   ],
   "source": [
    "! cat pokedex.json | jq '.pokemon[0].next_evolution[0] | keys'"
   ]
  },
  {
   "cell_type": "code",
   "execution_count": 138,
   "metadata": {},
   "outputs": [
    {
     "name": "stdout",
     "output_type": "stream",
     "text": [
      "\u001b[1;39m[\r\n",
      "  \u001b[1;39m{\r\n",
      "    \u001b[0m\u001b[34;1m\"id\"\u001b[0m\u001b[1;39m: \u001b[0m\u001b[0;39m4\u001b[0m\u001b[1;39m,\r\n",
      "    \u001b[0m\u001b[34;1m\"num\"\u001b[0m\u001b[1;39m: \u001b[0m\u001b[0;32m\"004\"\u001b[0m\u001b[1;39m,\r\n",
      "    \u001b[0m\u001b[34;1m\"name\"\u001b[0m\u001b[1;39m: \u001b[0m\u001b[0;32m\"Charmander\"\u001b[0m\u001b[1;39m,\r\n",
      "    \u001b[0m\u001b[34;1m\"img\"\u001b[0m\u001b[1;39m: \u001b[0m\u001b[0;32m\"http://www.serebii.net/pokemongo/pokemon/004.png\"\u001b[0m\u001b[1;39m,\r\n",
      "    \u001b[0m\u001b[34;1m\"type\"\u001b[0m\u001b[1;39m: \u001b[0m\u001b[1;39m[\r\n",
      "      \u001b[0;32m\"Fire\"\u001b[0m\u001b[1;39m\r\n",
      "    \u001b[1;39m]\u001b[0m\u001b[1;39m,\r\n",
      "    \u001b[0m\u001b[34;1m\"height\"\u001b[0m\u001b[1;39m: \u001b[0m\u001b[0;32m\"0.61 m\"\u001b[0m\u001b[1;39m,\r\n",
      "    \u001b[0m\u001b[34;1m\"weight\"\u001b[0m\u001b[1;39m: \u001b[0m\u001b[0;32m\"8.5 kg\"\u001b[0m\u001b[1;39m,\r\n",
      "    \u001b[0m\u001b[34;1m\"candy\"\u001b[0m\u001b[1;39m: \u001b[0m\u001b[0;32m\"Charmander Candy\"\u001b[0m\u001b[1;39m,\r\n",
      "    \u001b[0m\u001b[34;1m\"candy_count\"\u001b[0m\u001b[1;39m: \u001b[0m\u001b[0;39m25\u001b[0m\u001b[1;39m,\r\n",
      "    \u001b[0m\u001b[34;1m\"egg\"\u001b[0m\u001b[1;39m: \u001b[0m\u001b[0;32m\"2 km\"\u001b[0m\u001b[1;39m,\r\n",
      "    \u001b[0m\u001b[34;1m\"spawn_chance\"\u001b[0m\u001b[1;39m: \u001b[0m\u001b[0;39m0.253\u001b[0m\u001b[1;39m,\r\n",
      "    \u001b[0m\u001b[34;1m\"avg_spawns\"\u001b[0m\u001b[1;39m: \u001b[0m\u001b[0;39m25.3\u001b[0m\u001b[1;39m,\r\n",
      "    \u001b[0m\u001b[34;1m\"spawn_time\"\u001b[0m\u001b[1;39m: \u001b[0m\u001b[0;32m\"08:45\"\u001b[0m\u001b[1;39m,\r\n",
      "    \u001b[0m\u001b[34;1m\"multipliers\"\u001b[0m\u001b[1;39m: \u001b[0m\u001b[1;39m[\r\n",
      "      \u001b[0;39m1.65\u001b[0m\u001b[1;39m\r\n",
      "    \u001b[1;39m]\u001b[0m\u001b[1;39m,\r\n",
      "    \u001b[0m\u001b[34;1m\"weaknesses\"\u001b[0m\u001b[1;39m: \u001b[0m\u001b[1;39m[\r\n",
      "      \u001b[0;32m\"Water\"\u001b[0m\u001b[1;39m,\r\n",
      "      \u001b[0;32m\"Ground\"\u001b[0m\u001b[1;39m,\r\n",
      "      \u001b[0;32m\"Rock\"\u001b[0m\u001b[1;39m\r\n",
      "    \u001b[1;39m]\u001b[0m\u001b[1;39m,\r\n",
      "    \u001b[0m\u001b[34;1m\"next_evolution\"\u001b[0m\u001b[1;39m: \u001b[0m\u001b[1;39m[\r\n",
      "      \u001b[1;39m{\r\n",
      "        \u001b[0m\u001b[34;1m\"num\"\u001b[0m\u001b[1;39m: \u001b[0m\u001b[0;32m\"005\"\u001b[0m\u001b[1;39m,\r\n",
      "        \u001b[0m\u001b[34;1m\"name\"\u001b[0m\u001b[1;39m: \u001b[0m\u001b[0;32m\"Charmeleon\"\u001b[0m\u001b[1;39m\r\n",
      "      \u001b[1;39m}\u001b[0m\u001b[1;39m,\r\n",
      "      \u001b[1;39m{\r\n",
      "        \u001b[0m\u001b[34;1m\"num\"\u001b[0m\u001b[1;39m: \u001b[0m\u001b[0;32m\"006\"\u001b[0m\u001b[1;39m,\r\n",
      "        \u001b[0m\u001b[34;1m\"name\"\u001b[0m\u001b[1;39m: \u001b[0m\u001b[0;32m\"Charizard\"\u001b[0m\u001b[1;39m\r\n",
      "      \u001b[1;39m}\u001b[0m\u001b[1;39m\r\n",
      "    \u001b[1;39m]\u001b[0m\u001b[1;39m\r\n",
      "  \u001b[1;39m}\u001b[0m\u001b[1;39m,\r\n",
      "  \u001b[1;39m{\r\n",
      "    \u001b[0m\u001b[34;1m\"id\"\u001b[0m\u001b[1;39m: \u001b[0m\u001b[0;39m5\u001b[0m\u001b[1;39m,\r\n",
      "    \u001b[0m\u001b[34;1m\"num\"\u001b[0m\u001b[1;39m: \u001b[0m\u001b[0;32m\"005\"\u001b[0m\u001b[1;39m,\r\n",
      "    \u001b[0m\u001b[34;1m\"name\"\u001b[0m\u001b[1;39m: \u001b[0m\u001b[0;32m\"Charmeleon\"\u001b[0m\u001b[1;39m,\r\n",
      "    \u001b[0m\u001b[34;1m\"img\"\u001b[0m\u001b[1;39m: \u001b[0m\u001b[0;32m\"http://www.serebii.net/pokemongo/pokemon/005.png\"\u001b[0m\u001b[1;39m,\r\n",
      "    \u001b[0m\u001b[34;1m\"type\"\u001b[0m\u001b[1;39m: \u001b[0m\u001b[1;39m[\r\n",
      "      \u001b[0;32m\"Fire\"\u001b[0m\u001b[1;39m\r\n",
      "    \u001b[1;39m]\u001b[0m\u001b[1;39m,\r\n",
      "    \u001b[0m\u001b[34;1m\"height\"\u001b[0m\u001b[1;39m: \u001b[0m\u001b[0;32m\"1.09 m\"\u001b[0m\u001b[1;39m,\r\n",
      "    \u001b[0m\u001b[34;1m\"weight\"\u001b[0m\u001b[1;39m: \u001b[0m\u001b[0;32m\"19.0 kg\"\u001b[0m\u001b[1;39m,\r\n",
      "    \u001b[0m\u001b[34;1m\"candy\"\u001b[0m\u001b[1;39m: \u001b[0m\u001b[0;32m\"Charmander Candy\"\u001b[0m\u001b[1;39m,\r\n",
      "    \u001b[0m\u001b[34;1m\"candy_count\"\u001b[0m\u001b[1;39m: \u001b[0m\u001b[0;39m100\u001b[0m\u001b[1;39m,\r\n",
      "    \u001b[0m\u001b[34;1m\"egg\"\u001b[0m\u001b[1;39m: \u001b[0m\u001b[0;32m\"Not in Eggs\"\u001b[0m\u001b[1;39m,\r\n",
      "    \u001b[0m\u001b[34;1m\"spawn_chance\"\u001b[0m\u001b[1;39m: \u001b[0m\u001b[0;39m0.012\u001b[0m\u001b[1;39m,\r\n",
      "    \u001b[0m\u001b[34;1m\"avg_spawns\"\u001b[0m\u001b[1;39m: \u001b[0m\u001b[0;39m1.2\u001b[0m\u001b[1;39m,\r\n",
      "    \u001b[0m\u001b[34;1m\"spawn_time\"\u001b[0m\u001b[1;39m: \u001b[0m\u001b[0;32m\"19:00\"\u001b[0m\u001b[1;39m,\r\n",
      "    \u001b[0m\u001b[34;1m\"multipliers\"\u001b[0m\u001b[1;39m: \u001b[0m\u001b[1;39m[\r\n",
      "      \u001b[0;39m1.79\u001b[0m\u001b[1;39m\r\n",
      "    \u001b[1;39m]\u001b[0m\u001b[1;39m,\r\n",
      "    \u001b[0m\u001b[34;1m\"weaknesses\"\u001b[0m\u001b[1;39m: \u001b[0m\u001b[1;39m[\r\n",
      "      \u001b[0;32m\"Water\"\u001b[0m\u001b[1;39m,\r\n",
      "      \u001b[0;32m\"Ground\"\u001b[0m\u001b[1;39m,\r\n",
      "      \u001b[0;32m\"Rock\"\u001b[0m\u001b[1;39m\r\n",
      "    \u001b[1;39m]\u001b[0m\u001b[1;39m,\r\n",
      "    \u001b[0m\u001b[34;1m\"prev_evolution\"\u001b[0m\u001b[1;39m: \u001b[0m\u001b[1;39m[\r\n",
      "      \u001b[1;39m{\r\n",
      "        \u001b[0m\u001b[34;1m\"num\"\u001b[0m\u001b[1;39m: \u001b[0m\u001b[0;32m\"004\"\u001b[0m\u001b[1;39m,\r\n",
      "        \u001b[0m\u001b[34;1m\"name\"\u001b[0m\u001b[1;39m: \u001b[0m\u001b[0;32m\"Charmander\"\u001b[0m\u001b[1;39m\r\n",
      "      \u001b[1;39m}\u001b[0m\u001b[1;39m\r\n",
      "    \u001b[1;39m]\u001b[0m\u001b[1;39m,\r\n",
      "    \u001b[0m\u001b[34;1m\"next_evolution\"\u001b[0m\u001b[1;39m: \u001b[0m\u001b[1;39m[\r\n",
      "      \u001b[1;39m{\r\n",
      "        \u001b[0m\u001b[34;1m\"num\"\u001b[0m\u001b[1;39m: \u001b[0m\u001b[0;32m\"006\"\u001b[0m\u001b[1;39m,\r\n",
      "        \u001b[0m\u001b[34;1m\"name\"\u001b[0m\u001b[1;39m: \u001b[0m\u001b[0;32m\"Charizard\"\u001b[0m\u001b[1;39m\r\n",
      "      \u001b[1;39m}\u001b[0m\u001b[1;39m\r\n",
      "    \u001b[1;39m]\u001b[0m\u001b[1;39m\r\n",
      "  \u001b[1;39m}\u001b[0m\u001b[1;39m\r\n",
      "\u001b[1;39m]\u001b[0m\r\n"
     ]
    }
   ],
   "source": [
    "! cat pokedex.json | jq '.pokemon[3:5]'"
   ]
  },
  {
   "cell_type": "code",
   "execution_count": 139,
   "metadata": {},
   "outputs": [
    {
     "name": "stdout",
     "output_type": "stream",
     "text": [
      "\u001b[0;39m151\u001b[0m\r\n"
     ]
    }
   ],
   "source": [
    "! cat pokedex.json | jq '.pokemon | length'  # В массиве 151 элемент"
   ]
  },
  {
   "cell_type": "code",
   "execution_count": 140,
   "metadata": {},
   "outputs": [
    {
     "name": "stdout",
     "output_type": "stream",
     "text": [
      "\u001b[0;39m0.69\u001b[0m\r\n",
      "\u001b[0;39m0.042\u001b[0m\r\n",
      "\u001b[0;39m0.017\u001b[0m\r\n",
      "\u001b[0;39m0.253\u001b[0m\r\n",
      "\u001b[0;39m0.012\u001b[0m\r\n",
      "\u001b[0;39m0.0031\u001b[0m\r\n",
      "\u001b[0;39m0.58\u001b[0m\r\n",
      "\u001b[0;39m0.034\u001b[0m\r\n",
      "\u001b[0;39m0.0067\u001b[0m\r\n",
      "\u001b[0;39m3.032\u001b[0m\r\n",
      "\u001b[0;39m0.187\u001b[0m\r\n",
      "\u001b[0;39m0.022\u001b[0m\r\n",
      "\u001b[0;39m7.12\u001b[0m\r\n",
      "\u001b[0;39m0.44\u001b[0m\r\n",
      "\u001b[0;39m0.051\u001b[0m\r\n",
      "\u001b[0;39m15.98\u001b[0m\r\n",
      "\u001b[0;39m1.02\u001b[0m\r\n",
      "\u001b[0;39m0.13\u001b[0m\r\n",
      "\u001b[0;39m13.05\u001b[0m\r\n",
      "\u001b[0;39m0.41\u001b[0m\r\n",
      "\u001b[0;39m4.73\u001b[0m\r\n",
      "\u001b[0;39m0.15\u001b[0m\r\n",
      "\u001b[0;39m2.27\u001b[0m\r\n",
      "\u001b[0;39m0.072\u001b[0m\r\n",
      "\u001b[0;39m0.21\u001b[0m\r\n",
      "\u001b[0;39m0.0076\u001b[0m\r\n",
      "\u001b[0;39m1.11\u001b[0m\r\n",
      "\u001b[0;39m0.037\u001b[0m\r\n",
      "\u001b[0;39m1.38\u001b[0m\r\n",
      "\u001b[0;39m0.088\u001b[0m\r\n",
      "\u001b[0;39m0.012\u001b[0m\r\n",
      "\u001b[0;39m1.31\u001b[0m\r\n",
      "\u001b[0;39m0.083\u001b[0m\r\n",
      "\u001b[0;39m0.017\u001b[0m\r\n",
      "\u001b[0;39m0.92\u001b[0m\r\n",
      "\u001b[0;39m0.012\u001b[0m\r\n",
      "\u001b[0;39m0.22\u001b[0m\r\n",
      "\u001b[0;39m0.0077\u001b[0m\r\n",
      "\u001b[0;39m0.39\u001b[0m\r\n",
      "\u001b[0;39m0.018\u001b[0m\r\n",
      "\u001b[0;39m6.52\u001b[0m\r\n",
      "\u001b[0;39m0.42\u001b[0m\r\n",
      "\u001b[0;39m1.02\u001b[0m\r\n",
      "\u001b[0;39m0.064\u001b[0m\r\n",
      "\u001b[0;39m0.0097\u001b[0m\r\n",
      "\u001b[0;39m2.36\u001b[0m\r\n",
      "\u001b[0;39m0.074\u001b[0m\r\n",
      "\u001b[0;39m2.28\u001b[0m\r\n",
      "\u001b[0;39m0.072\u001b[0m\r\n",
      "\u001b[0;39m0.4\u001b[0m\r\n",
      "\u001b[0;39m0.014\u001b[0m\r\n",
      "\u001b[0;39m0.86\u001b[0m\r\n",
      "\u001b[0;39m0.022\u001b[0m\r\n",
      "\u001b[0;39m2.54\u001b[0m\r\n",
      "\u001b[0;39m0.087\u001b[0m\r\n",
      "\u001b[0;39m0.92\u001b[0m\r\n",
      "\u001b[0;39m0.031\u001b[0m\r\n",
      "\u001b[0;39m0.92\u001b[0m\r\n",
      "\u001b[0;39m0.017\u001b[0m\r\n",
      "\u001b[0;39m2.19\u001b[0m\r\n",
      "\u001b[0;39m0.13\u001b[0m\r\n",
      "\u001b[0;39m0.011\u001b[0m\r\n",
      "\u001b[0;39m0.42\u001b[0m\r\n",
      "\u001b[0;39m0.027\u001b[0m\r\n",
      "\u001b[0;39m0.0073\u001b[0m\r\n",
      "\u001b[0;39m0.49\u001b[0m\r\n",
      "\u001b[0;39m0.034\u001b[0m\r\n",
      "\u001b[0;39m0.0068\u001b[0m\r\n",
      "\u001b[0;39m1.15\u001b[0m\r\n",
      "\u001b[0;39m0.072\u001b[0m\r\n",
      "\u001b[0;39m0.0059\u001b[0m\r\n",
      "\u001b[0;39m0.81\u001b[0m\r\n",
      "\u001b[0;39m0.082\u001b[0m\r\n",
      "\u001b[0;39m1.19\u001b[0m\r\n",
      "\u001b[0;39m0.071\u001b[0m\r\n",
      "\u001b[0;39m0.0047\u001b[0m\r\n",
      "\u001b[0;39m0.51\u001b[0m\r\n",
      "\u001b[0;39m0.011\u001b[0m\r\n",
      "\u001b[0;39m1.05\u001b[0m\r\n",
      "\u001b[0;39m0.036\u001b[0m\r\n",
      "\u001b[0;39m0.71\u001b[0m\r\n",
      "\u001b[0;39m0.023\u001b[0m\r\n",
      "\u001b[0;39m0.0212\u001b[0m\r\n",
      "\u001b[0;39m0.52\u001b[0m\r\n",
      "\u001b[0;39m0.22\u001b[0m\r\n",
      "\u001b[0;39m0.28\u001b[0m\r\n",
      "\u001b[0;39m0.013\u001b[0m\r\n",
      "\u001b[0;39m0.052\u001b[0m\r\n",
      "\u001b[0;39m0.0031\u001b[0m\r\n",
      "\u001b[0;39m0.52\u001b[0m\r\n",
      "\u001b[0;39m0.015\u001b[0m\r\n",
      "\u001b[0;39m0.79\u001b[0m\r\n",
      "\u001b[0;39m0.052\u001b[0m\r\n",
      "\u001b[0;39m0.0067\u001b[0m\r\n",
      "\u001b[0;39m0.1\u001b[0m\r\n",
      "\u001b[0;39m3.21\u001b[0m\r\n",
      "\u001b[0;39m0.1\u001b[0m\r\n",
      "\u001b[0;39m2.12\u001b[0m\r\n",
      "\u001b[0;39m0.062\u001b[0m\r\n",
      "\u001b[0;39m0.65\u001b[0m\r\n"
     ]
    }
   ],
   "source": [
    "! cat pokedex.json | jq '.pokemon[0:100] | .[].spawn_chance'"
   ]
  },
  {
   "cell_type": "code",
   "execution_count": 141,
   "metadata": {},
   "outputs": [
    {
     "name": "stdout",
     "output_type": "stream",
     "text": [
      "\"Abra Candy\"\r\n",
      "\"Bellsprout Candy\"\r\n",
      "\"Bulbasaur Candy\"\r\n",
      "\"Caterpie Candy\"\r\n",
      "\"Charmander Candy\"\r\n",
      "\"Clefairy Candy\"\r\n",
      "\"Cubone Candy\"\r\n",
      "\"Diglett Candy\"\r\n",
      "\"Doduo Candy\"\r\n",
      "\"Dratini Candy\"\r\n",
      "\"Drowzee Candy\"\r\n",
      "\"Dugtrio\"\r\n",
      "\"Eevee Candy\"\r\n",
      "\"Ekans Candy\"\r\n",
      "\"Exeggcute Candy\"\r\n",
      "\"Gastly Candy\"\r\n",
      "\"Geodude Candy\"\r\n",
      "\"Goldeen Candy\"\r\n",
      "\"Grimer Candy\"\r\n",
      "\"Growlithe Candy\"\r\n",
      "\"Horsea Candy\"\r\n",
      "\"Jigglypuff Candy\"\r\n",
      "\"Kabuto Candy\"\r\n",
      "\"Koffing Candy\"\r\n",
      "\"Krabby Candy\"\r\n",
      "\"Machop Candy\"\r\n",
      "\"Magikarp Candy\"\r\n",
      "\"Magnemite Candy\"\r\n",
      "\"Mankey Candy\"\r\n",
      "\"Meowth Candy\"\r\n",
      "\"Nidoran ♀ (Female) Candy\"\r\n",
      "\"Nidoran ♂ (Male) Candy\"\r\n",
      "\"None\"\r\n",
      "\"Oddish Candy\"\r\n",
      "\"Omanyte Candy\"\r\n",
      "\"Paras Candy\"\r\n",
      "\"Pidgey Candy\"\r\n",
      "\"Pikachu Candy\"\r\n",
      "\"Poliwag Candy\"\r\n",
      "\"Ponyta Candy\"\r\n",
      "\"Psyduck Candy\"\r\n",
      "\"Rattata Candy\"\r\n",
      "\"Rhyhorn Candy\"\r\n",
      "\"Sandshrew Candy\"\r\n",
      "\"Seel Candy\"\r\n",
      "\"Shellder Candy\"\r\n",
      "\"Slowpoke Candy\"\r\n",
      "\"Spearow Candy\"\r\n",
      "\"Squirtle Candy\"\r\n",
      "\"Staryu Candy\"\r\n",
      "\"Tentacool Candy\"\r\n",
      "\"Venonat Candy\"\r\n",
      "\"Voltorb Candy\"\r\n",
      "\"Vulpix Candy\"\r\n",
      "\"Weedle Candy\"\r\n",
      "\"Zubat Candy\"\r\n"
     ]
    }
   ],
   "source": [
    "! cat pokedex.json | jq '.pokemon[].candy' | sort | uniq"
   ]
  },
  {
   "cell_type": "code",
   "execution_count": 142,
   "metadata": {},
   "outputs": [
    {
     "name": "stdout",
     "output_type": "stream",
     "text": [
      "Abra Candy\r\n",
      "Bellsprout Candy\r\n",
      "Bulbasaur Candy\r\n",
      "Caterpie Candy\r\n",
      "Charmander Candy\r\n",
      "Clefairy Candy\r\n",
      "Cubone Candy\r\n",
      "Diglett Candy\r\n",
      "Doduo Candy\r\n",
      "Dratini Candy\r\n",
      "Drowzee Candy\r\n",
      "Dugtrio\r\n",
      "Eevee Candy\r\n",
      "Ekans Candy\r\n",
      "Exeggcute Candy\r\n",
      "Gastly Candy\r\n",
      "Geodude Candy\r\n",
      "Goldeen Candy\r\n",
      "Grimer Candy\r\n",
      "Growlithe Candy\r\n",
      "Horsea Candy\r\n",
      "Jigglypuff Candy\r\n",
      "Kabuto Candy\r\n",
      "Koffing Candy\r\n",
      "Krabby Candy\r\n",
      "Machop Candy\r\n",
      "Magikarp Candy\r\n",
      "Magnemite Candy\r\n",
      "Mankey Candy\r\n",
      "Meowth Candy\r\n",
      "Nidoran ♀ (Female) Candy\r\n",
      "Nidoran ♂ (Male) Candy\r\n",
      "None\r\n",
      "Oddish Candy\r\n",
      "Omanyte Candy\r\n",
      "Paras Candy\r\n",
      "Pidgey Candy\r\n",
      "Pikachu Candy\r\n",
      "Poliwag Candy\r\n",
      "Ponyta Candy\r\n",
      "Psyduck Candy\r\n",
      "Rattata Candy\r\n",
      "Rhyhorn Candy\r\n",
      "Sandshrew Candy\r\n",
      "Seel Candy\r\n",
      "Shellder Candy\r\n",
      "Slowpoke Candy\r\n",
      "Spearow Candy\r\n",
      "Squirtle Candy\r\n",
      "Staryu Candy\r\n",
      "Tentacool Candy\r\n",
      "Venonat Candy\r\n",
      "Voltorb Candy\r\n",
      "Vulpix Candy\r\n",
      "Weedle Candy\r\n",
      "Zubat Candy\r\n"
     ]
    }
   ],
   "source": [
    "! cat pokedex.json | jq -r '.pokemon[].candy' | sort | uniq"
   ]
  },
  {
   "cell_type": "markdown",
   "metadata": {},
   "source": [
    "С помощью jq можно фильтровать запросы. Для этого есть оператор select"
   ]
  },
  {
   "cell_type": "code",
   "execution_count": 143,
   "metadata": {},
   "outputs": [
    {
     "name": "stdout",
     "output_type": "stream",
     "text": [
      "{\r\n",
      "  \"id\": 7,\r\n",
      "  \"num\": \"007\",\r\n",
      "  \"name\": \"Squirtle\",\r\n",
      "  \"img\": \"http://www.serebii.net/pokemongo/pokemon/007.png\",\r\n",
      "  \"type\": [\r\n",
      "    \"Water\"\r\n",
      "  ],\r\n",
      "  \"height\": \"0.51 m\",\r\n",
      "  \"weight\": \"9.0 kg\",\r\n",
      "  \"candy\": \"Squirtle Candy\",\r\n",
      "  \"candy_count\": 25,\r\n",
      "  \"egg\": \"2 km\",\r\n",
      "  \"spawn_chance\": 0.58,\r\n",
      "  \"avg_spawns\": 58,\r\n",
      "  \"spawn_time\": \"04:25\",\r\n",
      "  \"multipliers\": [\r\n",
      "    2.1\r\n",
      "  ],\r\n",
      "  \"weaknesses\": [\r\n",
      "    \"Electric\",\r\n",
      "    \"Grass\"\r\n",
      "  ],\r\n",
      "  \"next_evolution\": [\r\n",
      "    {\r\n",
      "      \"num\": \"008\",\r\n",
      "      \"name\": \"Wartortle\"\r\n",
      "    },\r\n",
      "    {\r\n",
      "      \"num\": \"009\",\r\n",
      "Error: writing output failed: Broken pipe\r\n"
     ]
    }
   ],
   "source": [
    "! cat pokedex.json | jq '.pokemon[] | select(.type[0] == \"Water\")' | head -n 30"
   ]
  },
  {
   "cell_type": "code",
   "execution_count": 144,
   "metadata": {},
   "outputs": [
    {
     "name": "stdout",
     "output_type": "stream",
     "text": [
      "\u001b[0;32m\"Squirtle\"\u001b[0m\r\n",
      "\u001b[0;32m\"Wartortle\"\u001b[0m\r\n",
      "\u001b[0;32m\"Blastoise\"\u001b[0m\r\n",
      "\u001b[0;32m\"Sandshrew\"\u001b[0m\r\n",
      "\u001b[0;32m\"Sandslash\"\u001b[0m\r\n",
      "\u001b[0;32m\"Diglett\"\u001b[0m\r\n",
      "\u001b[0;32m\"Dugtrio\"\u001b[0m\r\n",
      "\u001b[0;32m\"Psyduck\"\u001b[0m\r\n",
      "\u001b[0;32m\"Golduck\"\u001b[0m\r\n",
      "\u001b[0;32m\"Poliwag\"\u001b[0m\r\n",
      "\u001b[0;32m\"Poliwhirl\"\u001b[0m\r\n",
      "\u001b[0;32m\"Poliwrath\"\u001b[0m\r\n",
      "\u001b[0;32m\"Geodude\"\u001b[0m\r\n",
      "\u001b[0;32m\"Graveler\"\u001b[0m\r\n",
      "\u001b[0;32m\"Golem\"\u001b[0m\r\n",
      "\u001b[0;32m\"Slowpoke\"\u001b[0m\r\n",
      "\u001b[0;32m\"Slowbro\"\u001b[0m\r\n",
      "\u001b[0;32m\"Seel\"\u001b[0m\r\n",
      "\u001b[0;32m\"Dewgong\"\u001b[0m\r\n",
      "\u001b[0;32m\"Shellder\"\u001b[0m\r\n",
      "\u001b[0;32m\"Cloyster\"\u001b[0m\r\n",
      "\u001b[0;32m\"Onix\"\u001b[0m\r\n",
      "\u001b[0;32m\"Krabby\"\u001b[0m\r\n",
      "\u001b[0;32m\"Kingler\"\u001b[0m\r\n",
      "\u001b[0;32m\"Cubone\"\u001b[0m\r\n",
      "\u001b[0;32m\"Marowak\"\u001b[0m\r\n",
      "\u001b[0;32m\"Rhyhorn\"\u001b[0m\r\n",
      "\u001b[0;32m\"Rhydon\"\u001b[0m\r\n",
      "\u001b[0;32m\"Horsea\"\u001b[0m\r\n",
      "\u001b[0;32m\"Seadra\"\u001b[0m\r\n",
      "\u001b[0;32m\"Goldeen\"\u001b[0m\r\n",
      "\u001b[0;32m\"Seaking\"\u001b[0m\r\n",
      "\u001b[0;32m\"Staryu\"\u001b[0m\r\n",
      "\u001b[0;32m\"Starmie\"\u001b[0m\r\n",
      "\u001b[0;32m\"Magikarp\"\u001b[0m\r\n",
      "\u001b[0;32m\"Lapras\"\u001b[0m\r\n",
      "\u001b[0;32m\"Vaporeon\"\u001b[0m\r\n",
      "\u001b[0;32m\"Omanyte\"\u001b[0m\r\n",
      "\u001b[0;32m\"Omastar\"\u001b[0m\r\n",
      "\u001b[0;32m\"Kabuto\"\u001b[0m\r\n",
      "\u001b[0;32m\"Kabutops\"\u001b[0m\r\n"
     ]
    }
   ],
   "source": [
    "! cat pokedex.json | jq '.pokemon[] | select(.weaknesses[] | contains(\"Grass\")) | .name'"
   ]
  },
  {
   "cell_type": "markdown",
   "metadata": {},
   "source": [
    "### Archives\n",
    "Очень часто данные хранятся в виде архивов. Команды tar и zip\\unzip позволяют распаковывать архивы.\n",
    "\n",
    "tar имеет целый набор однобуквенных ключей, комбинация которых позволяет производить различные операции над архивами.\n",
    "\n",
    "`c` - создать архив\n",
    "\n",
    "`x` - распаковать архив\n",
    "\n",
    "`z` - использовать алгоритм gzip. Архивы, созданные с таким алгоритмом, имеют расширение .tar.gz\n",
    "\n",
    "`v` - печатать на экран детали распаковки\n",
    "\n",
    "`f` - считать архив из указанного файла\n",
    "\n",
    "zip\\unzip работает немного проще. Команда zip создает новый архив, команда unzip распаковывает указанный архив.\n",
    "\n",
    "Подробнее можно узнать здесь - https://www.opennet.ru/man.shtml?topic=tar&category=1 и здесь - https://www.opennet.ru/man.shtml?topic=unzip&category=1&russian=4"
   ]
  },
  {
   "cell_type": "code",
   "execution_count": 145,
   "metadata": {},
   "outputs": [
    {
     "name": "stdout",
     "output_type": "stream",
     "text": [
      "pokedex.json\r\n"
     ]
    }
   ],
   "source": [
    "# Создадим архив из файла pokedex\n",
    "! tar -czvf pokedex.tar.gz pokedex.json"
   ]
  },
  {
   "cell_type": "code",
   "execution_count": 146,
   "metadata": {},
   "outputs": [
    {
     "name": "stdout",
     "output_type": "stream",
     "text": [
      "\u001f�\b\u0000\u0000\u0000\u0000\u0000\u0000\u0003��n�6��s��0r��@C\u0011?�Uw�t:3��L�\u001e",
      "t�\t�@�ն�咷J\u0015ǽ\u0018`�o���O�T�>��9�x���\u0000����E�\u001e",
      "��x��CuW\\\u0017�\u0007���V�\u001d",
      "�\t�\u0013K���%Q����~\u001e",
      "r\u00192\u0016Ƥ�Y$c\u001e",
      "��3\u0011Fⳋ�X\u001d",
      ":|��:__\\|��ܮ���s��\u001f����/.�xP\"��V_,.~n�W?)��7������^}��\u001a�/����E󣯶��|�o��?��7��o��a�嗏����X\u0017�e\u0019�����sn��/U��������i���w��o��f�������T2�b��/���\u0016��m��_���������q�]��\u001fq���������ݏ\u000e��׫J����x������a�����C�����6_]5�\u000e�8k�%����ݿn��������ܿ:\u001e",
      ".°k�~��ˇeY�����\u0005Q�K�w�w�b�)6�/�u�.��򗫃o^/����6/m�tu[^=k������j���Á?\u001c",
      "m>�э�_~{ڍ����zqa��0�]��\u001e",
      "��/�\u001f��^h\\\u0017\u001aׅ�}0Yf|F�e\u0019$3&���3\u0016�υ�}U_���onn6��B�!�ɀ��\u000b",
      "\u0013\\q�κ_m��������a]���!3%5؝VS\u001e",
      "�&)T�\r\n",
      "\"HIC_g[Vy$ i�(\u0010���t!#te�#�E�)�����w�����?VWw�Kid�b���e��bPO1�{�|}�+*�\u0015\u0015���8YQ\u0011UQ,\b�\u00054���8I�VP\u0006��\f",
      "YAYf۳%���\u001ac�$�����_\u001d",
      "i��u�Ő����\u0005\u0017;\u0005��\u0003�\u0000�\u0010\u0012`\u0016��4\u001f���AJ\u000b",
      "�����BHXj�\u0005R\u0013�7��^�U�\u0004R���\u0018�\u0007h*�5��z���r]/\u000b",
      "��\u0012����\u0011]\u0016#pYDlX���\u0016�(����T[\u0011�c+\"\u000f��l����E�\u0017����O���vC��'\u0003�b�|S�\u001d",
      "p��'�Փ��\u0019>�,�t�|`'�s�\u0004��\u000fm\u0005\u0014\u0012\u0012�\b$�$�CrDI,�3(i�%JLI���ɣ\t,�\u0005��\u0002\u001b\u001a!\u000b",
      ",#\u000b",
      "Lmt�5.�|\u0004��Š\u0007��\u0007�\u0005\f",
      "�ŰM�\\�N�$�$��d�bX�I���d�n����+��6�|�E�Dj#\u0002�����\u001e",
      "��*��gB�!p'.B������������iN\u001e",
      "\u0003�����\u001f�k\\J\f",
      " \u0006_mk�r߯\u000b",
      "��t6�\f",
      "6�}6YJV2o�\u0012��3��\"���R�H�\b�\r\n"
     ]
    }
   ],
   "source": [
    "! head -n 2 pokedex.tar.gz"
   ]
  },
  {
   "cell_type": "code",
   "execution_count": 147,
   "metadata": {},
   "outputs": [
    {
     "name": "stdout",
     "output_type": "stream",
     "text": [
      "pokedex.json\r\n"
     ]
    }
   ],
   "source": [
    "# Распакуем этот архив в новую директорию tar-grades\n",
    "! mkdir -p tar-pokemon && tar -xzvf pokedex.tar.gz -C tar-pokemon/"
   ]
  },
  {
   "cell_type": "code",
   "execution_count": 148,
   "metadata": {},
   "outputs": [
    {
     "name": "stdout",
     "output_type": "stream",
     "text": [
      "pokedex.json\r\n"
     ]
    }
   ],
   "source": [
    "! ls tar-pokemon/"
   ]
  },
  {
   "cell_type": "code",
   "execution_count": 149,
   "metadata": {},
   "outputs": [
    {
     "name": "stdout",
     "output_type": "stream",
     "text": [
      "{\r\n",
      "  \"pokemon\": [{\r\n",
      "    \"id\": 1,\r\n",
      "    \"num\": \"001\",\r\n",
      "    \"name\": \"Bulbasaur\",\r\n",
      "    \"img\": \"http://www.serebii.net/pokemongo/pokemon/001.png\",\r\n",
      "    \"type\": [\r\n",
      "      \"Grass\",\r\n",
      "      \"Poison\"\r\n",
      "    ],\r\n"
     ]
    }
   ],
   "source": [
    "! head tar-pokemon/pokedex.json"
   ]
  },
  {
   "cell_type": "code",
   "execution_count": 150,
   "metadata": {},
   "outputs": [
    {
     "name": "stdout",
     "output_type": "stream",
     "text": [
      "  adding: pokedex.json (deflated 90%)\r\n"
     ]
    }
   ],
   "source": [
    "# Сделаем точно тоже самое, но с помощью zip\\unzip\n",
    "! zip pokedex.zip pokedex.json"
   ]
  },
  {
   "cell_type": "code",
   "execution_count": 151,
   "metadata": {},
   "outputs": [
    {
     "name": "stdout",
     "output_type": "stream",
     "text": [
      "�Pؒ��N�)\u000fY�\u0014�L�*S��\u0018l���$*�\u0010ZB�2/��hQ�H�\"H�\u0016�X(B���r�G�\u001c",
      "�~�&\u0013H+2�\u0015�������y)'�+r�k�FIs�@-eA���?�l۪�\u0015���\u0003\u0005�\u0015f�(&w�$v[���m����N?�e���\u001b��4�u�Q�lW1�S�?W}(6���bSQ1T���ي���\u0012A�7�\u001c",
      "\u001b�q����\u0002�AE�:�����\u001ac�\"BY\u0007s�;�\u0014���K��\u000e��\u0005�\f",
      "\r\n",
      "\u0019�1�\u000fh*55���z��]��.K��R��\u000e���\u0016c�-\u00126�}��6�8Cr�~k��BR;�\f",
      "��l��9�E�7����O�f��O!-�\u001c",
      "\u001c",
      "Ŗ��V��KZ=����TO��l�d\u0013䃝H)�\t\u001a�\u001f�\u000e�\"$$\u0015DXIڇ���D\u0010͠�1�(�%��\u0002�-�'��\u0014Xn\r\n"
     ]
    }
   ],
   "source": [
    "! head -n 2 pokedex.zip"
   ]
  },
  {
   "cell_type": "code",
   "execution_count": 159,
   "metadata": {},
   "outputs": [
    {
     "name": "stdout",
     "output_type": "stream",
     "text": [
      "Archive:  pokedex.zip\n",
      "replace zip-pokemon/pokedex.json? [y]es, [n]o, [A]ll, [N]one, [r]ename: ^C\n"
     ]
    }
   ],
   "source": [
    "! mkdir -p zip-pokemon && unzip pokedex.zip -d zip-pokemon/"
   ]
  },
  {
   "cell_type": "code",
   "execution_count": 161,
   "metadata": {},
   "outputs": [
    {
     "name": "stdout",
     "output_type": "stream",
     "text": [
      "pokedex.json\r\n"
     ]
    }
   ],
   "source": [
    "! ls zip-pokemon/"
   ]
  },
  {
   "cell_type": "code",
   "execution_count": 162,
   "metadata": {},
   "outputs": [
    {
     "name": "stdout",
     "output_type": "stream",
     "text": [
      "{\r\n",
      "  \"pokemon\": [{\r\n",
      "    \"id\": 1,\r\n",
      "    \"num\": \"001\",\r\n",
      "    \"name\": \"Bulbasaur\",\r\n",
      "    \"img\": \"http://www.serebii.net/pokemongo/pokemon/001.png\",\r\n",
      "    \"type\": [\r\n",
      "      \"Grass\",\r\n",
      "      \"Poison\"\r\n",
      "    ],\r\n"
     ]
    }
   ],
   "source": [
    "! head zip-pokemon/pokedex.json"
   ]
  },
  {
   "cell_type": "markdown",
   "metadata": {},
   "source": [
    "Также достаточно популярен формат архивов `7z`. Чтобы начать работать с ним, необходимо поставить дополнительно специальный пакет - `apt-get install p7zip-full`.\n"
   ]
  },
  {
   "cell_type": "code",
   "execution_count": 164,
   "metadata": {},
   "outputs": [
    {
     "name": "stdout",
     "output_type": "stream",
     "text": [
      "Hit:1 http://mirror.yandex.ru/ubuntu focal InRelease\n",
      "Hit:2 http://storage.yandexcloud.net/dataproc/ci/trunk/80-d30331cee3848e39 focal InRelease\n",
      "Get:3 http://mirror.yandex.ru/ubuntu focal-updates InRelease [114 kB]          \n",
      "Get:4 http://mirror.yandex.ru/ubuntu focal-backports InRelease [108 kB]        \n",
      "Get:5 http://mirror.yandex.ru/mirrors/postgresql focal-pgdg InRelease [91.6 kB]\n",
      "Hit:6 https://repo.saltproject.io/py3/ubuntu/20.04/amd64/3002 focal InRelease  \n",
      "Hit:7 https://repos.influxdata.com/ubuntu focal InRelease                      \n",
      "Get:8 http://security.ubuntu.com/ubuntu focal-security InRelease [114 kB]\n",
      "Get:9 http://mirror.yandex.ru/ubuntu focal-updates/main amd64 Packages [2,326 kB]\n",
      "Get:10 http://mirror.yandex.ru/ubuntu focal-updates/main i386 Packages [772 kB]\n",
      "Get:11 http://mirror.yandex.ru/ubuntu focal-updates/main Translation-en [402 kB]\n",
      "Get:12 http://mirror.yandex.ru/ubuntu focal-updates/main amd64 c-n-f Metadata [16.1 kB]\n",
      "Get:13 http://mirror.yandex.ru/ubuntu focal-updates/restricted i386 Packages [30.4 kB]\n",
      "Get:14 http://mirror.yandex.ru/ubuntu focal-updates/restricted amd64 Packages [1,550 kB]\n",
      "Get:15 http://mirror.yandex.ru/ubuntu focal-updates/restricted Translation-en [218 kB]\n",
      "Get:16 http://mirror.yandex.ru/ubuntu focal-updates/universe i386 Packages [706 kB]\n",
      "Get:17 http://mirror.yandex.ru/ubuntu focal-updates/universe amd64 Packages [1,014 kB]\n",
      "Get:18 http://mirror.yandex.ru/ubuntu focal-updates/universe Translation-en [235 kB]\n",
      "Get:19 http://mirror.yandex.ru/ubuntu focal-updates/universe amd64 c-n-f Metadata [23.2 kB]\n",
      "Get:20 http://mirror.yandex.ru/ubuntu focal-updates/multiverse amd64 Packages [25.2 kB]\n",
      "Get:21 http://mirror.yandex.ru/ubuntu focal-backports/universe amd64 Packages [24.9 kB]\n",
      "Get:22 http://mirror.yandex.ru/ubuntu focal-backports/universe i386 Packages [13.8 kB]\n",
      "Get:23 http://mirror.yandex.ru/ubuntu focal-backports/universe amd64 c-n-f Metadata [880 B]\n",
      "Get:24 https://packages.fluentbit.io/ubuntu/focal focal InRelease [7,565 B]    \n",
      "Get:25 http://mirror.yandex.ru/mirrors/postgresql focal-pgdg/main amd64 Packages [259 kB]\n",
      "Get:26 http://security.ubuntu.com/ubuntu focal-security/main i386 Packages [540 kB]\n",
      "Get:27 https://packages.fluentbit.io/ubuntu/focal focal/main amd64 Packages [24.0 kB]\n",
      "Get:28 http://security.ubuntu.com/ubuntu focal-security/main amd64 Packages [1,950 kB]\n",
      "Get:29 http://security.ubuntu.com/ubuntu focal-security/main Translation-en [318 kB]\n",
      "Get:30 http://security.ubuntu.com/ubuntu focal-security/main amd64 c-n-f Metadata [11.7 kB]\n",
      "Get:31 http://security.ubuntu.com/ubuntu focal-security/restricted amd64 Packages [1,450 kB]\n",
      "Get:32 http://security.ubuntu.com/ubuntu focal-security/restricted Translation-en [205 kB]\n",
      "Get:33 http://security.ubuntu.com/ubuntu focal-security/universe i386 Packages [574 kB]\n",
      "Get:34 http://security.ubuntu.com/ubuntu focal-security/universe amd64 Packages [783 kB]\n",
      "Get:35 http://security.ubuntu.com/ubuntu focal-security/universe Translation-en [152 kB]\n",
      "Get:36 http://security.ubuntu.com/ubuntu focal-security/universe amd64 c-n-f Metadata [16.9 kB]\n",
      "Fetched 14.1 MB in 3s (4,793 kB/s)                            \n",
      "Reading package lists... Done\n",
      "N: Skipping acquire of configured file 'main/binary-i386/Packages' as repository 'https://packages.fluentbit.io/ubuntu/focal focal InRelease' doesn't support architecture 'i386'\n",
      "Reading package lists... Done\n",
      "Building dependency tree       \n",
      "Reading state information... Done\n",
      "p7zip-full is already the newest version (16.02+dfsg-7build1).\n",
      "0 upgraded, 0 newly installed, 0 to remove and 38 not upgraded.\n"
     ]
    }
   ],
   "source": [
    "! sudo apt-get update && sudo apt-get install p7zip-full -y"
   ]
  },
  {
   "cell_type": "code",
   "execution_count": 165,
   "metadata": {},
   "outputs": [
    {
     "name": "stdout",
     "output_type": "stream",
     "text": [
      "\r\n",
      "7-Zip [64] 16.02 : Copyright (c) 1999-2016 Igor Pavlov : 2016-05-21\r\n",
      "p7zip Version 16.02 (locale=en_US.UTF-8,Utf16=on,HugeFiles=on,64 bits,2 CPUs Intel Xeon Processor (Icelake) (606A0),ASM,AES-NI)\r\n",
      "\r\n",
      "Usage: 7z <command> [<switches>...] <archive_name> [<file_names>...]\r\n",
      "       [<@listfiles...>]\r\n",
      "\r\n",
      "<Commands>\r\n",
      "  a : Add files to archive\r\n",
      "  b : Benchmark\r\n"
     ]
    }
   ],
   "source": [
    "! 7z | head"
   ]
  },
  {
   "cell_type": "code",
   "execution_count": 166,
   "metadata": {},
   "outputs": [
    {
     "name": "stdout",
     "output_type": "stream",
     "text": [
      "\n",
      "7-Zip [64] 16.02 : Copyright (c) 1999-2016 Igor Pavlov : 2016-05-21\n",
      "p7zip Version 16.02 (locale=en_US.UTF-8,Utf16=on,HugeFiles=on,64 bits,2 CPUs Intel Xeon Processor (Icelake) (606A0),ASM,AES-NI)\n",
      "\n",
      "Scanning the drive:\n",
      "  0M Sca        1 file, 81998 bytes (81 KiB)\n",
      "\n",
      "Creating archive: pokedex.7z\n",
      "\n",
      "Items to compress: 1\n",
      "\n",
      "    \n",
      "Files read from disk: 1\n",
      "Archive size: 7044 bytes (7 KiB)\n",
      "Everything is Ok\n"
     ]
    }
   ],
   "source": [
    "! 7z a pokedex.7z pokedex.json  # Создаем архив"
   ]
  },
  {
   "cell_type": "code",
   "execution_count": 167,
   "metadata": {},
   "outputs": [
    {
     "name": "stdout",
     "output_type": "stream",
     "text": [
      "]v�7:�^z8ӺV$��Ds΂\u0013�6\u0015i=Ke$z-�]\u001c",
      "��^G<@�_\tk���\u0017���]��>�q��\u000f\u0016T�^�%U����5��ϔd���4ܝ]&\u001c",
      "�`���7$b�g�\u0019��x��U\u0010\u001b)\u0007�&�r�u\u0012\u0017\u0018��\r\n",
      ";�K$�j�4\u000b",
      ")�=���nд3��\u0002����?#d�\u001e",
      "�4�G��\u001f�#��4\t�Q�H*�\u0001\f",
      "�_��h�\f",
      "��c�1L#�4>\u0004�\u001b\r\n"
     ]
    }
   ],
   "source": [
    "! head -n 2 pokedex.7z"
   ]
  },
  {
   "cell_type": "code",
   "execution_count": 168,
   "metadata": {},
   "outputs": [
    {
     "name": "stdout",
     "output_type": "stream",
     "text": [
      "\r\n",
      "7-Zip [64] 16.02 : Copyright (c) 1999-2016 Igor Pavlov : 2016-05-21\r\n",
      "p7zip Version 16.02 (locale=en_US.UTF-8,Utf16=on,HugeFiles=on,64 bits,2 CPUs Intel Xeon Processor (Icelake) (606A0),ASM,AES-NI)\r\n",
      "\r\n",
      "Scanning the drive for archives:\r\n",
      "  0M Scan\b\b\b\b\b\b\b\b\b         \b\b\b\b\b\b\b\b\b1 file, 7044 bytes (7 KiB)\r\n",
      "\r\n",
      "Extracting archive: pokedex.7z\r\n",
      "--\r\n",
      "Path = pokedex.7z\r\n",
      "Type = 7z\r\n",
      "Physical Size = 7044\r\n",
      "Headers Size = 130\r\n",
      "Method = LZMA2:96k\r\n",
      "Solid = -\r\n",
      "Blocks = 1\r\n",
      "\r\n",
      "  0%\b\b\b\b    \b\b\b\bEverything is Ok\r\n",
      "\r\n",
      "Size:       81998\r\n",
      "Compressed: 7044\r\n"
     ]
    }
   ],
   "source": [
    "! mkdir -p 7z-pokedex && 7z x pokedex.7z -o7z-pokedex/  #  Распаковываем"
   ]
  },
  {
   "cell_type": "code",
   "execution_count": 169,
   "metadata": {},
   "outputs": [
    {
     "name": "stdout",
     "output_type": "stream",
     "text": [
      "pokedex.json\r\n"
     ]
    }
   ],
   "source": [
    "! ls 7z-pokedex/"
   ]
  },
  {
   "cell_type": "markdown",
   "metadata": {},
   "source": [
    "### Networking\n",
    "wget и curl позволяют выгружать данные из интернета.\n",
    "\n",
    "wget более продвинутый - он умеет скачивать сразу множество файлов, поддерживает докачку файлов и так далее. curl более простой и может использоваться скорее для точечных запросов.\n",
    "\n",
    "Подробнее можно узнать здесь - https://www.opennet.ru/man.shtml?topic=wget&category=1&russian=0 и здесь - https://www.opennet.ru/man.shtml?topic=curl&category=1&russian=3\n",
    "\n"
   ]
  },
  {
   "cell_type": "code",
   "execution_count": 170,
   "metadata": {},
   "outputs": [],
   "source": [
    "! mkdir -p nets"
   ]
  },
  {
   "cell_type": "code",
   "execution_count": 171,
   "metadata": {},
   "outputs": [
    {
     "name": "stdout",
     "output_type": "stream",
     "text": [
      "/home/ubuntu/tempsem2/nets\n"
     ]
    }
   ],
   "source": [
    "%cd nets"
   ]
  },
  {
   "cell_type": "code",
   "execution_count": 172,
   "metadata": {},
   "outputs": [
    {
     "name": "stdout",
     "output_type": "stream",
     "text": [
      "  % Total    % Received % Xferd  Average Speed   Time    Time     Time  Current\n",
      "                                 Dload  Upload   Total   Spent    Left  Speed\n",
      "100 81998  100 81998    0     0   454k      0 --:--:-- --:--:-- --:--:--  454k\n"
     ]
    }
   ],
   "source": [
    "! curl -L https://raw.githubusercontent.com/Biuni/PokemonGO-Pokedex/master/pokedex.json > pokedex.json.curl"
   ]
  },
  {
   "cell_type": "code",
   "execution_count": 173,
   "metadata": {},
   "outputs": [
    {
     "name": "stdout",
     "output_type": "stream",
     "text": [
      "--2023-01-17 16:49:08--  https://raw.githubusercontent.com/Biuni/PokemonGO-Pokedex/master/pokedex.json\n",
      "Resolving raw.githubusercontent.com (raw.githubusercontent.com)... 185.199.111.133, 185.199.110.133, 185.199.109.133, ...\n",
      "Connecting to raw.githubusercontent.com (raw.githubusercontent.com)|185.199.111.133|:443... connected.\n",
      "HTTP request sent, awaiting response... 200 OK\n",
      "Length: 81998 (80K) [text/plain]\n",
      "Saving to: ‘pokedex.json.wget’\n",
      "\n",
      "pokedex.json.wget   100%[===================>]  80.08K  --.-KB/s    in 0.03s   \n",
      "\n",
      "2023-01-17 16:49:08 (2.88 MB/s) - ‘pokedex.json.wget’ saved [81998/81998]\n",
      "\n"
     ]
    }
   ],
   "source": [
    "! wget https://raw.githubusercontent.com/Biuni/PokemonGO-Pokedex/master/pokedex.json -O pokedex.json.wget"
   ]
  },
  {
   "cell_type": "code",
   "execution_count": 174,
   "metadata": {},
   "outputs": [
    {
     "name": "stdout",
     "output_type": "stream",
     "text": [
      "--2023-01-17 16:49:35--  https://raw.githubusercontent.com/Biuni/PokemonGO-Pokedex/master/pokedex.json\n",
      "Resolving raw.githubusercontent.com (raw.githubusercontent.com)... 185.199.111.133, 185.199.110.133, 185.199.109.133, ...\n",
      "Connecting to raw.githubusercontent.com (raw.githubusercontent.com)|185.199.111.133|:443... connected.\n",
      "HTTP request sent, awaiting response... 200 OK\n",
      "Length: 81998 (80K) [text/plain]\n",
      "Saving to: ‘STDOUT’\n",
      "\n",
      "-                     0%[                    ]       0  --.-KB/s               {\n",
      "  \"pokemon\": [{\n",
      "    \"id\": 1,\n",
      "    \"num\": \"001\",\n",
      "    \"name\": \"Bulbasaur\",\n",
      "    \"img\": \"http://www.serebii.net/pokemongo/pokemon/001.png\",\n",
      "    \"type\": [\n",
      "      \"Grass\",\n",
      "      \"Poison\"\n",
      "    ],\n",
      "-                    11%[=>                  ]   9.42K  --.-KB/s    in 0.001s  \n",
      "\n",
      "\n",
      "Cannot write to ‘-’ (Success).\n"
     ]
    }
   ],
   "source": [
    "! wget https://raw.githubusercontent.com/Biuni/PokemonGO-Pokedex/master/pokedex.json -O - | head"
   ]
  },
  {
   "cell_type": "code",
   "execution_count": 175,
   "metadata": {},
   "outputs": [
    {
     "name": "stdout",
     "output_type": "stream",
     "text": [
      "pokedex.json.curl  pokedex.json.wget\r\n"
     ]
    }
   ],
   "source": [
    "! ls"
   ]
  },
  {
   "cell_type": "markdown",
   "metadata": {},
   "source": [
    "Создатим список ссылок и скачаем их все разом с помощью ключа -i\n",
    "\n"
   ]
  },
  {
   "cell_type": "code",
   "execution_count": 176,
   "metadata": {},
   "outputs": [
    {
     "name": "stdout",
     "output_type": "stream",
     "text": [
      "Writing link-list.txt\n"
     ]
    }
   ],
   "source": [
    "%%writefile link-list.txt\n",
    "https://raw.githubusercontent.com/Biuni/PokemonGO-Pokedex/master/pokedex.json\n",
    "https://raw.githubusercontent.com/ADKosm/lsml-2022-public/main/data/2/countries.csv"
   ]
  },
  {
   "cell_type": "code",
   "execution_count": 177,
   "metadata": {},
   "outputs": [
    {
     "name": "stdout",
     "output_type": "stream",
     "text": [
      "--2023-01-17 16:50:20--  https://raw.githubusercontent.com/Biuni/PokemonGO-Pokedex/master/pokedex.json\n",
      "Resolving raw.githubusercontent.com (raw.githubusercontent.com)... 185.199.111.133, 185.199.110.133, 185.199.109.133, ...\n",
      "Connecting to raw.githubusercontent.com (raw.githubusercontent.com)|185.199.111.133|:443... connected.\n",
      "HTTP request sent, awaiting response... 200 OK\n",
      "Length: 81998 (80K) [text/plain]\n",
      "Saving to: ‘pokedex.json’\n",
      "\n",
      "pokedex.json        100%[===================>]  80.08K  --.-KB/s    in 0.02s   \n",
      "\n",
      "2023-01-17 16:50:20 (3.19 MB/s) - ‘pokedex.json’ saved [81998/81998]\n",
      "\n",
      "--2023-01-17 16:50:20--  https://raw.githubusercontent.com/ADKosm/lsml-2022-public/main/data/2/countries.csv\n",
      "Reusing existing connection to raw.githubusercontent.com:443.\n",
      "HTTP request sent, awaiting response... 200 OK\n",
      "Length: 14641 (14K) [text/plain]\n",
      "Saving to: ‘countries.csv’\n",
      "\n",
      "countries.csv       100%[===================>]  14.30K  --.-KB/s    in 0s      \n",
      "\n",
      "2023-01-17 16:50:20 (53.8 MB/s) - ‘countries.csv’ saved [14641/14641]\n",
      "\n",
      "FINISHED --2023-01-17 16:50:20--\n",
      "Total wall clock time: 0.3s\n",
      "Downloaded: 2 files, 94K in 0.02s (3.72 MB/s)\n"
     ]
    }
   ],
   "source": [
    "! wget -i link-list.txt"
   ]
  },
  {
   "cell_type": "code",
   "execution_count": 178,
   "metadata": {},
   "outputs": [
    {
     "name": "stdout",
     "output_type": "stream",
     "text": [
      "countries.csv  pokedex.json\t  pokedex.json.wget\r\n",
      "link-list.txt  pokedex.json.curl\r\n"
     ]
    }
   ],
   "source": [
    "! ls"
   ]
  },
  {
   "cell_type": "code",
   "execution_count": 181,
   "metadata": {},
   "outputs": [],
   "source": [
    "! hdfs dfs -mkdir -p /user/pokemons"
   ]
  },
  {
   "cell_type": "code",
   "execution_count": 182,
   "metadata": {},
   "outputs": [
    {
     "name": "stdout",
     "output_type": "stream",
     "text": [
      "  % Total    % Received % Xferd  Average Speed   Time    Time     Time  Current\n",
      "                                 Dload  Upload   Total   Spent    Left  Speed\n",
      "100 81998  100 81998    0     0  51152      0  0:00:01  0:00:01 --:--:-- 51120\n"
     ]
    }
   ],
   "source": [
    "! curl https://raw.githubusercontent.com/Biuni/PokemonGO-Pokedex/master/pokedex.json | hdfs dfs -put - /user/pokemons/pokedex.json"
   ]
  },
  {
   "cell_type": "code",
   "execution_count": 183,
   "metadata": {},
   "outputs": [
    {
     "name": "stdout",
     "output_type": "stream",
     "text": [
      "Found 1 items\r\n",
      "-rw-r--r--   1 ubuntu hadoop      81998 2023-01-17 16:52 /user/pokemons/pokedex.json\r\n"
     ]
    }
   ],
   "source": [
    "! hdfs dfs -ls /user/pokemons"
   ]
  },
  {
   "cell_type": "markdown",
   "metadata": {},
   "source": [
    "### HDFS\n",
    "\n",
    "Подключимся к мастер-ноде кластера и попробуем с него поработать с HDFS"
   ]
  },
  {
   "cell_type": "markdown",
   "metadata": {},
   "source": [
    "```bash\n",
    "ssh lsml-head\n",
    "\n",
    "hdfs dfs -ls s3a://lsml-kosmos/\n",
    "wget https://raw.githubusercontent.com/Biuni/PokemonGO-Pokedex/master/pokedex.json\n",
    "\n",
    "sudo apt-get update && sudo apt-get install jq -y\n",
    "cat pokedex.json | jq -r '.pokemon[] | select(.weaknesses[] | contains(\"Water\")) | .name' > water_weak.txt\n",
    "\n",
    "hdfs dfs -put water_weak.txt s3a://lsml-kosmos/water_weak.txt\n",
    "\n",
    "hdfs dfs -ls s3a://lsml-kosmos/\n",
    "hdfs dfs -get s3a://lsml-kosmos/water_weak.txt hdfs_water_weak.txt\n",
    "```"
   ]
  },
  {
   "cell_type": "code",
   "execution_count": null,
   "metadata": {},
   "outputs": [],
   "source": []
  }
 ],
 "metadata": {
  "kernelspec": {
   "display_name": "Python 3",
   "language": "python",
   "name": "python3"
  },
  "language_info": {
   "codemirror_mode": {
    "name": "ipython",
    "version": 3
   },
   "file_extension": ".py",
   "mimetype": "text/x-python",
   "name": "python",
   "nbconvert_exporter": "python",
   "pygments_lexer": "ipython3",
   "version": "3.8.10"
  }
 },
 "nbformat": 4,
 "nbformat_minor": 4
}
