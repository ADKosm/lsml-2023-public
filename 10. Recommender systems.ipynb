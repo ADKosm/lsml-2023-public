{
 "cells": [
  {
   "cell_type": "code",
   "execution_count": null,
   "id": "7e4ad528",
   "metadata": {},
   "outputs": [],
   "source": [
    "! hdfs dfs -mkdir -p /user/books"
   ]
  },
  {
   "cell_type": "markdown",
   "id": "767228a3",
   "metadata": {},
   "source": [
    "Данные берем отсюда - https://sites.google.com/eng.ucsd.edu/ucsdbookgraph/home"
   ]
  },
  {
   "cell_type": "code",
   "execution_count": null,
   "id": "3e309a68",
   "metadata": {},
   "outputs": [],
   "source": [
    "! curl https://storage.yandexcloud.net/lsml-kosmos/books/goodreads_reviews_dedup.json.gz | gzip -d | tqdm | hdfs dfs -put - /user/books/reviews.json"
   ]
  },
  {
   "cell_type": "code",
   "execution_count": null,
   "id": "a78db467",
   "metadata": {},
   "outputs": [],
   "source": []
  },
  {
   "cell_type": "code",
   "execution_count": 1,
   "id": "7eac5916",
   "metadata": {},
   "outputs": [],
   "source": [
    "import findspark\n",
    "findspark.init()"
   ]
  },
  {
   "cell_type": "code",
   "execution_count": 2,
   "id": "9bdf5770",
   "metadata": {},
   "outputs": [
    {
     "name": "stderr",
     "output_type": "stream",
     "text": [
      "SLF4J: Class path contains multiple SLF4J bindings.\n",
      "SLF4J: Found binding in [jar:file:/usr/lib/spark/jars/slf4j-log4j12-1.7.30.jar!/org/slf4j/impl/StaticLoggerBinder.class]\n",
      "SLF4J: Found binding in [jar:file:/usr/lib/hadoop/lib/slf4j-log4j12-1.7.25.jar!/org/slf4j/impl/StaticLoggerBinder.class]\n",
      "SLF4J: See http://www.slf4j.org/codes.html#multiple_bindings for an explanation.\n",
      "SLF4J: Actual binding is of type [org.slf4j.impl.Log4jLoggerFactory]\n",
      "Setting default log level to \"WARN\".\n",
      "To adjust logging level use sc.setLogLevel(newLevel). For SparkR, use setLogLevel(newLevel).\n",
      "2023-03-14 15:17:07,504 WARN util.Utils: spark.executor.instances less than spark.dynamicAllocation.minExecutors is invalid, ignoring its setting, please update your configs.\n",
      "2023-03-14 15:17:20,050 WARN util.Utils: spark.executor.instances less than spark.dynamicAllocation.minExecutors is invalid, ignoring its setting, please update your configs.\n",
      "2023-03-14 15:17:20,061 WARN cluster.YarnSchedulerBackend$YarnSchedulerEndpoint: Attempted to request executors before the AM has registered!\n"
     ]
    }
   ],
   "source": [
    "import pyspark\n",
    "from pyspark.sql import SparkSession, Row\n",
    "\n",
    "sc = pyspark.SparkContext(appName=\"lsml-app-recomender\")\n",
    "se = SparkSession(sc)"
   ]
  },
  {
   "cell_type": "code",
   "execution_count": 3,
   "id": "a0e141cc",
   "metadata": {},
   "outputs": [],
   "source": [
    "from pyspark.ml.recommendation import ALS\n",
    "from pyspark.ml.feature import StringIndexer\n",
    "from pyspark.sql import functions as F\n",
    "from pyspark.ml.evaluation import RegressionEvaluator\n",
    "from pyspark.ml.recommendation import ALSModel"
   ]
  },
  {
   "cell_type": "code",
   "execution_count": null,
   "id": "fa8a5eac",
   "metadata": {},
   "outputs": [],
   "source": [
    "df = se.read.json(\"/user/books/reviews.json\")\n",
    "df.write.parquet(\"/user/books/reviews.parquet\")"
   ]
  },
  {
   "cell_type": "code",
   "execution_count": null,
   "id": "4e846ad6",
   "metadata": {},
   "outputs": [],
   "source": []
  },
  {
   "cell_type": "code",
   "execution_count": 4,
   "id": "292422f5",
   "metadata": {},
   "outputs": [
    {
     "name": "stderr",
     "output_type": "stream",
     "text": [
      "                                                                                \r"
     ]
    }
   ],
   "source": [
    "df = se.read.parquet(\"/user/books/reviews.parquet\")"
   ]
  },
  {
   "cell_type": "code",
   "execution_count": 5,
   "id": "a1001b3d",
   "metadata": {},
   "outputs": [
    {
     "name": "stderr",
     "output_type": "stream",
     "text": [
      "                                                                                \r"
     ]
    },
    {
     "data": {
      "text/html": [
       "<div>\n",
       "<style scoped>\n",
       "    .dataframe tbody tr th:only-of-type {\n",
       "        vertical-align: middle;\n",
       "    }\n",
       "\n",
       "    .dataframe tbody tr th {\n",
       "        vertical-align: top;\n",
       "    }\n",
       "\n",
       "    .dataframe thead th {\n",
       "        text-align: right;\n",
       "    }\n",
       "</style>\n",
       "<table border=\"1\" class=\"dataframe\">\n",
       "  <thead>\n",
       "    <tr style=\"text-align: right;\">\n",
       "      <th></th>\n",
       "      <th>book_id</th>\n",
       "      <th>date_added</th>\n",
       "      <th>date_updated</th>\n",
       "      <th>n_comments</th>\n",
       "      <th>n_votes</th>\n",
       "      <th>rating</th>\n",
       "      <th>read_at</th>\n",
       "      <th>review_id</th>\n",
       "      <th>review_text</th>\n",
       "      <th>started_at</th>\n",
       "      <th>user_id</th>\n",
       "    </tr>\n",
       "  </thead>\n",
       "  <tbody>\n",
       "    <tr>\n",
       "      <th>0</th>\n",
       "      <td>12640991</td>\n",
       "      <td>Sat Jun 07 11:44:57 -0700 2014</td>\n",
       "      <td>Sat Jun 07 12:09:55 -0700 2014</td>\n",
       "      <td>0</td>\n",
       "      <td>0</td>\n",
       "      <td>5</td>\n",
       "      <td>Sat Jun 07 12:09:55 -0700 2014</td>\n",
       "      <td>69cb3a13a74940783922ab1c8bb7c387</td>\n",
       "      <td>Those crazy customers! What will they say next?</td>\n",
       "      <td>Sat Jun 07 00:00:00 -0700 2014</td>\n",
       "      <td>6365d62d4242a3ca3081be8cada855d3</td>\n",
       "    </tr>\n",
       "    <tr>\n",
       "      <th>1</th>\n",
       "      <td>1028357</td>\n",
       "      <td>Mon Jun 02 16:20:38 -0700 2014</td>\n",
       "      <td>Mon Jun 02 16:21:20 -0700 2014</td>\n",
       "      <td>0</td>\n",
       "      <td>0</td>\n",
       "      <td>5</td>\n",
       "      <td></td>\n",
       "      <td>7198ba82abc0a2e8afe10b1d1f223356</td>\n",
       "      <td>an elegant little book with sweet sepia photog...</td>\n",
       "      <td></td>\n",
       "      <td>6365d62d4242a3ca3081be8cada855d3</td>\n",
       "    </tr>\n",
       "    <tr>\n",
       "      <th>2</th>\n",
       "      <td>2506264</td>\n",
       "      <td>Mon Jun 02 16:17:09 -0700 2014</td>\n",
       "      <td>Mon Jun 02 16:17:45 -0700 2014</td>\n",
       "      <td>0</td>\n",
       "      <td>0</td>\n",
       "      <td>5</td>\n",
       "      <td></td>\n",
       "      <td>46d10c142cc7b80232110f4bb3898a93</td>\n",
       "      <td>Lucy's lemon bars are luscious!</td>\n",
       "      <td></td>\n",
       "      <td>6365d62d4242a3ca3081be8cada855d3</td>\n",
       "    </tr>\n",
       "  </tbody>\n",
       "</table>\n",
       "</div>"
      ],
      "text/plain": [
       "    book_id                      date_added                    date_updated  \\\n",
       "0  12640991  Sat Jun 07 11:44:57 -0700 2014  Sat Jun 07 12:09:55 -0700 2014   \n",
       "1   1028357  Mon Jun 02 16:20:38 -0700 2014  Mon Jun 02 16:21:20 -0700 2014   \n",
       "2   2506264  Mon Jun 02 16:17:09 -0700 2014  Mon Jun 02 16:17:45 -0700 2014   \n",
       "\n",
       "   n_comments  n_votes  rating                         read_at  \\\n",
       "0           0        0       5  Sat Jun 07 12:09:55 -0700 2014   \n",
       "1           0        0       5                                   \n",
       "2           0        0       5                                   \n",
       "\n",
       "                          review_id  \\\n",
       "0  69cb3a13a74940783922ab1c8bb7c387   \n",
       "1  7198ba82abc0a2e8afe10b1d1f223356   \n",
       "2  46d10c142cc7b80232110f4bb3898a93   \n",
       "\n",
       "                                         review_text  \\\n",
       "0    Those crazy customers! What will they say next?   \n",
       "1  an elegant little book with sweet sepia photog...   \n",
       "2                    Lucy's lemon bars are luscious!   \n",
       "\n",
       "                       started_at                           user_id  \n",
       "0  Sat Jun 07 00:00:00 -0700 2014  6365d62d4242a3ca3081be8cada855d3  \n",
       "1                                  6365d62d4242a3ca3081be8cada855d3  \n",
       "2                                  6365d62d4242a3ca3081be8cada855d3  "
      ]
     },
     "execution_count": 5,
     "metadata": {},
     "output_type": "execute_result"
    }
   ],
   "source": [
    "df.limit(3).toPandas()"
   ]
  },
  {
   "cell_type": "markdown",
   "id": "b27f0513",
   "metadata": {},
   "source": [
    "# ALS"
   ]
  },
  {
   "cell_type": "markdown",
   "id": "55e8f7c2",
   "metadata": {},
   "source": [
    "Идентификаторы user и item должны быть числами"
   ]
  },
  {
   "cell_type": "code",
   "execution_count": 6,
   "id": "0e9fd14c",
   "metadata": {},
   "outputs": [
    {
     "name": "stderr",
     "output_type": "stream",
     "text": [
      "                                                                                \r"
     ]
    }
   ],
   "source": [
    "stringIndexer = StringIndexer(\n",
    "    inputCol=\"user_id\", \n",
    "    outputCol=\"user_id_idx\"\n",
    ")\n",
    "modelIndexer = stringIndexer.fit(df)"
   ]
  },
  {
   "cell_type": "code",
   "execution_count": 7,
   "id": "44afa3b8",
   "metadata": {},
   "outputs": [],
   "source": [
    "df_idx = modelIndexer.transform(df)"
   ]
  },
  {
   "cell_type": "code",
   "execution_count": 8,
   "id": "ae0b3458",
   "metadata": {},
   "outputs": [
    {
     "name": "stderr",
     "output_type": "stream",
     "text": [
      "2023-03-14 15:21:14,483 WARN scheduler.DAGScheduler: Broadcasting large task binary with size 26.5 MiB\n",
      "                                                                                \r"
     ]
    },
    {
     "data": {
      "text/html": [
       "<div>\n",
       "<style scoped>\n",
       "    .dataframe tbody tr th:only-of-type {\n",
       "        vertical-align: middle;\n",
       "    }\n",
       "\n",
       "    .dataframe tbody tr th {\n",
       "        vertical-align: top;\n",
       "    }\n",
       "\n",
       "    .dataframe thead th {\n",
       "        text-align: right;\n",
       "    }\n",
       "</style>\n",
       "<table border=\"1\" class=\"dataframe\">\n",
       "  <thead>\n",
       "    <tr style=\"text-align: right;\">\n",
       "      <th></th>\n",
       "      <th>book_id</th>\n",
       "      <th>date_added</th>\n",
       "      <th>date_updated</th>\n",
       "      <th>n_comments</th>\n",
       "      <th>n_votes</th>\n",
       "      <th>rating</th>\n",
       "      <th>read_at</th>\n",
       "      <th>review_id</th>\n",
       "      <th>review_text</th>\n",
       "      <th>started_at</th>\n",
       "      <th>user_id</th>\n",
       "      <th>user_id_idx</th>\n",
       "    </tr>\n",
       "  </thead>\n",
       "  <tbody>\n",
       "    <tr>\n",
       "      <th>0</th>\n",
       "      <td>12640991</td>\n",
       "      <td>Sat Jun 07 11:44:57 -0700 2014</td>\n",
       "      <td>Sat Jun 07 12:09:55 -0700 2014</td>\n",
       "      <td>0</td>\n",
       "      <td>0</td>\n",
       "      <td>5</td>\n",
       "      <td>Sat Jun 07 12:09:55 -0700 2014</td>\n",
       "      <td>69cb3a13a74940783922ab1c8bb7c387</td>\n",
       "      <td>Those crazy customers! What will they say next?</td>\n",
       "      <td>Sat Jun 07 00:00:00 -0700 2014</td>\n",
       "      <td>6365d62d4242a3ca3081be8cada855d3</td>\n",
       "      <td>39431.0</td>\n",
       "    </tr>\n",
       "    <tr>\n",
       "      <th>1</th>\n",
       "      <td>1028357</td>\n",
       "      <td>Mon Jun 02 16:20:38 -0700 2014</td>\n",
       "      <td>Mon Jun 02 16:21:20 -0700 2014</td>\n",
       "      <td>0</td>\n",
       "      <td>0</td>\n",
       "      <td>5</td>\n",
       "      <td></td>\n",
       "      <td>7198ba82abc0a2e8afe10b1d1f223356</td>\n",
       "      <td>an elegant little book with sweet sepia photog...</td>\n",
       "      <td></td>\n",
       "      <td>6365d62d4242a3ca3081be8cada855d3</td>\n",
       "      <td>39431.0</td>\n",
       "    </tr>\n",
       "    <tr>\n",
       "      <th>2</th>\n",
       "      <td>2506264</td>\n",
       "      <td>Mon Jun 02 16:17:09 -0700 2014</td>\n",
       "      <td>Mon Jun 02 16:17:45 -0700 2014</td>\n",
       "      <td>0</td>\n",
       "      <td>0</td>\n",
       "      <td>5</td>\n",
       "      <td></td>\n",
       "      <td>46d10c142cc7b80232110f4bb3898a93</td>\n",
       "      <td>Lucy's lemon bars are luscious!</td>\n",
       "      <td></td>\n",
       "      <td>6365d62d4242a3ca3081be8cada855d3</td>\n",
       "      <td>39431.0</td>\n",
       "    </tr>\n",
       "    <tr>\n",
       "      <th>3</th>\n",
       "      <td>17276206</td>\n",
       "      <td>Mon Jun 02 16:13:47 -0700 2014</td>\n",
       "      <td>Mon Jun 02 16:14:29 -0700 2014</td>\n",
       "      <td>0</td>\n",
       "      <td>0</td>\n",
       "      <td>5</td>\n",
       "      <td>Tue Jun 03 00:00:00 -0700 2014</td>\n",
       "      <td>084c25847c45ac89ab94d7bc461a2ee2</td>\n",
       "      <td>the pictures and the recipes are superb, and y...</td>\n",
       "      <td></td>\n",
       "      <td>6365d62d4242a3ca3081be8cada855d3</td>\n",
       "      <td>39431.0</td>\n",
       "    </tr>\n",
       "    <tr>\n",
       "      <th>4</th>\n",
       "      <td>2433240</td>\n",
       "      <td>Mon Jun 02 15:57:42 -0700 2014</td>\n",
       "      <td>Wed Jul 02 16:08:58 -0700 2014</td>\n",
       "      <td>0</td>\n",
       "      <td>0</td>\n",
       "      <td>5</td>\n",
       "      <td>Mon Jun 02 15:57:59 -0700 2014</td>\n",
       "      <td>e00d5c22b5d8cfc20050b287bd0b0854</td>\n",
       "      <td>A charming addition to any home.</td>\n",
       "      <td></td>\n",
       "      <td>6365d62d4242a3ca3081be8cada855d3</td>\n",
       "      <td>39431.0</td>\n",
       "    </tr>\n",
       "  </tbody>\n",
       "</table>\n",
       "</div>"
      ],
      "text/plain": [
       "    book_id                      date_added                    date_updated  \\\n",
       "0  12640991  Sat Jun 07 11:44:57 -0700 2014  Sat Jun 07 12:09:55 -0700 2014   \n",
       "1   1028357  Mon Jun 02 16:20:38 -0700 2014  Mon Jun 02 16:21:20 -0700 2014   \n",
       "2   2506264  Mon Jun 02 16:17:09 -0700 2014  Mon Jun 02 16:17:45 -0700 2014   \n",
       "3  17276206  Mon Jun 02 16:13:47 -0700 2014  Mon Jun 02 16:14:29 -0700 2014   \n",
       "4   2433240  Mon Jun 02 15:57:42 -0700 2014  Wed Jul 02 16:08:58 -0700 2014   \n",
       "\n",
       "   n_comments  n_votes  rating                         read_at  \\\n",
       "0           0        0       5  Sat Jun 07 12:09:55 -0700 2014   \n",
       "1           0        0       5                                   \n",
       "2           0        0       5                                   \n",
       "3           0        0       5  Tue Jun 03 00:00:00 -0700 2014   \n",
       "4           0        0       5  Mon Jun 02 15:57:59 -0700 2014   \n",
       "\n",
       "                          review_id  \\\n",
       "0  69cb3a13a74940783922ab1c8bb7c387   \n",
       "1  7198ba82abc0a2e8afe10b1d1f223356   \n",
       "2  46d10c142cc7b80232110f4bb3898a93   \n",
       "3  084c25847c45ac89ab94d7bc461a2ee2   \n",
       "4  e00d5c22b5d8cfc20050b287bd0b0854   \n",
       "\n",
       "                                         review_text  \\\n",
       "0    Those crazy customers! What will they say next?   \n",
       "1  an elegant little book with sweet sepia photog...   \n",
       "2                    Lucy's lemon bars are luscious!   \n",
       "3  the pictures and the recipes are superb, and y...   \n",
       "4                   A charming addition to any home.   \n",
       "\n",
       "                       started_at                           user_id  \\\n",
       "0  Sat Jun 07 00:00:00 -0700 2014  6365d62d4242a3ca3081be8cada855d3   \n",
       "1                                  6365d62d4242a3ca3081be8cada855d3   \n",
       "2                                  6365d62d4242a3ca3081be8cada855d3   \n",
       "3                                  6365d62d4242a3ca3081be8cada855d3   \n",
       "4                                  6365d62d4242a3ca3081be8cada855d3   \n",
       "\n",
       "   user_id_idx  \n",
       "0      39431.0  \n",
       "1      39431.0  \n",
       "2      39431.0  \n",
       "3      39431.0  \n",
       "4      39431.0  "
      ]
     },
     "execution_count": 8,
     "metadata": {},
     "output_type": "execute_result"
    }
   ],
   "source": [
    "df_idx.limit(5).toPandas()"
   ]
  },
  {
   "cell_type": "code",
   "execution_count": 9,
   "id": "4bf6d404",
   "metadata": {},
   "outputs": [
    {
     "name": "stderr",
     "output_type": "stream",
     "text": [
      "2023-03-14 15:22:15,290 WARN scheduler.DAGScheduler: Broadcasting large task binary with size 26.4 MiB\n",
      "                                                                                \r"
     ]
    },
    {
     "data": {
      "text/html": [
       "<div>\n",
       "<style scoped>\n",
       "    .dataframe tbody tr th:only-of-type {\n",
       "        vertical-align: middle;\n",
       "    }\n",
       "\n",
       "    .dataframe tbody tr th {\n",
       "        vertical-align: top;\n",
       "    }\n",
       "\n",
       "    .dataframe thead th {\n",
       "        text-align: right;\n",
       "    }\n",
       "</style>\n",
       "<table border=\"1\" class=\"dataframe\">\n",
       "  <thead>\n",
       "    <tr style=\"text-align: right;\">\n",
       "      <th></th>\n",
       "      <th>book_id</th>\n",
       "      <th>user_id_idx</th>\n",
       "      <th>rating</th>\n",
       "    </tr>\n",
       "  </thead>\n",
       "  <tbody>\n",
       "    <tr>\n",
       "      <th>0</th>\n",
       "      <td>12640991</td>\n",
       "      <td>39431</td>\n",
       "      <td>5.0</td>\n",
       "    </tr>\n",
       "    <tr>\n",
       "      <th>1</th>\n",
       "      <td>1028357</td>\n",
       "      <td>39431</td>\n",
       "      <td>5.0</td>\n",
       "    </tr>\n",
       "  </tbody>\n",
       "</table>\n",
       "</div>"
      ],
      "text/plain": [
       "    book_id  user_id_idx  rating\n",
       "0  12640991        39431     5.0\n",
       "1   1028357        39431     5.0"
      ]
     },
     "execution_count": 9,
     "metadata": {},
     "output_type": "execute_result"
    }
   ],
   "source": [
    "(\n",
    "    df_idx\n",
    "    .select(\n",
    "        df_idx.book_id.cast(\"integer\"), \n",
    "        df_idx.user_id_idx.cast(\"integer\"),\n",
    "        df_idx.rating.cast(\"float\")\n",
    "    )\n",
    "    .limit(2)\n",
    "    .toPandas()\n",
    ")"
   ]
  },
  {
   "cell_type": "code",
   "execution_count": 10,
   "id": "e8c69161",
   "metadata": {},
   "outputs": [],
   "source": [
    "train_df, test_df = (\n",
    "    df_idx\n",
    "    .select(\n",
    "        df_idx.book_id.cast(\"integer\"), \n",
    "        df_idx.user_id_idx.cast(\"integer\"),\n",
    "        df_idx.rating.cast(\"float\")\n",
    "    )\n",
    "    .randomSplit([0.8, 0.2], 874365)\n",
    ")"
   ]
  },
  {
   "cell_type": "code",
   "execution_count": 11,
   "id": "4f48aa72",
   "metadata": {},
   "outputs": [
    {
     "name": "stderr",
     "output_type": "stream",
     "text": [
      "2023-03-14 15:22:34,616 WARN scheduler.DAGScheduler: Broadcasting large task binary with size 26.5 MiB\n",
      "                                                                                \r"
     ]
    },
    {
     "data": {
      "text/plain": [
       "12593264"
      ]
     },
     "execution_count": 11,
     "metadata": {},
     "output_type": "execute_result"
    }
   ],
   "source": [
    "train_df.count()"
   ]
  },
  {
   "cell_type": "code",
   "execution_count": 12,
   "id": "2b41dc8a",
   "metadata": {},
   "outputs": [],
   "source": [
    "train_df = train_df.cache()\n",
    "test_df = test_df.cache()"
   ]
  },
  {
   "cell_type": "markdown",
   "id": "27c2b344",
   "metadata": {},
   "source": [
    "https://spark.apache.org/docs/latest/api/python/reference/api/pyspark.ml.recommendation.ALS.html#pyspark.ml.recommendation.ALS"
   ]
  },
  {
   "cell_type": "code",
   "execution_count": 13,
   "id": "4ced54f4",
   "metadata": {},
   "outputs": [],
   "source": [
    "alsModel = ALS(\n",
    "    rank=20,\n",
    "    userCol='user_id_idx',\n",
    "    itemCol='book_id',\n",
    "    ratingCol='rating'\n",
    ")"
   ]
  },
  {
   "cell_type": "code",
   "execution_count": 14,
   "id": "48e9ec1e",
   "metadata": {},
   "outputs": [
    {
     "name": "stderr",
     "output_type": "stream",
     "text": [
      "2023-03-14 15:24:07,807 WARN scheduler.DAGScheduler: Broadcasting large task binary with size 26.5 MiB\n",
      "2023-03-14 15:24:10,747 WARN scheduler.DAGScheduler: Broadcasting large task binary with size 26.5 MiB\n",
      "2023-03-14 15:24:36,275 WARN scheduler.DAGScheduler: Broadcasting large task binary with size 26.5 MiB\n",
      "2023-03-14 15:24:49,234 WARN scheduler.DAGScheduler: Broadcasting large task binary with size 26.5 MiB\n",
      "2023-03-14 15:24:58,559 WARN scheduler.DAGScheduler: Broadcasting large task binary with size 26.5 MiB\n",
      "2023-03-14 15:25:08,754 WARN scheduler.DAGScheduler: Broadcasting large task binary with size 26.5 MiB\n",
      "2023-03-14 15:25:14,380 WARN scheduler.DAGScheduler: Broadcasting large task binary with size 26.5 MiB\n",
      "2023-03-14 15:25:16,821 WARN scheduler.DAGScheduler: Broadcasting large task binary with size 26.5 MiB\n",
      "2023-03-14 15:25:24,752 WARN scheduler.DAGScheduler: Broadcasting large task binary with size 26.5 MiB\n",
      "2023-03-14 15:25:29,080 WARN scheduler.DAGScheduler: Broadcasting large task binary with size 26.5 MiB\n",
      "2023-03-14 15:25:37,064 WARN scheduler.DAGScheduler: Broadcasting large task binary with size 26.5 MiB\n",
      "2023-03-14 15:25:41,896 WARN scheduler.DAGScheduler: Broadcasting large task binary with size 26.5 MiB\n",
      "2023-03-14 15:25:49,262 WARN scheduler.DAGScheduler: Broadcasting large task binary with size 26.5 MiB\n",
      "2023-03-14 15:25:53,864 WARN scheduler.DAGScheduler: Broadcasting large task binary with size 26.5 MiB\n",
      "2023-03-14 15:26:01,899 WARN scheduler.DAGScheduler: Broadcasting large task binary with size 26.5 MiB\n",
      "2023-03-14 15:26:06,249 WARN scheduler.DAGScheduler: Broadcasting large task binary with size 26.5 MiB\n",
      "2023-03-14 15:26:13,788 WARN scheduler.DAGScheduler: Broadcasting large task binary with size 26.5 MiB\n",
      "2023-03-14 15:26:18,059 WARN scheduler.DAGScheduler: Broadcasting large task binary with size 26.5 MiB\n",
      "2023-03-14 15:26:25,787 WARN scheduler.DAGScheduler: Broadcasting large task binary with size 26.5 MiB\n",
      "2023-03-14 15:26:29,806 WARN scheduler.DAGScheduler: Broadcasting large task binary with size 26.5 MiB\n",
      "2023-03-14 15:26:37,573 WARN scheduler.DAGScheduler: Broadcasting large task binary with size 26.5 MiB\n",
      "2023-03-14 15:26:41,738 WARN scheduler.DAGScheduler: Broadcasting large task binary with size 26.5 MiB\n",
      "2023-03-14 15:26:49,206 WARN scheduler.DAGScheduler: Broadcasting large task binary with size 26.5 MiB\n",
      "2023-03-14 15:26:53,369 WARN scheduler.DAGScheduler: Broadcasting large task binary with size 26.5 MiB\n",
      "2023-03-14 15:27:00,749 WARN scheduler.DAGScheduler: Broadcasting large task binary with size 26.5 MiB\n",
      "2023-03-14 15:27:05,227 WARN scheduler.DAGScheduler: Broadcasting large task binary with size 26.5 MiB\n",
      "2023-03-14 15:27:12,614 WARN scheduler.DAGScheduler: Broadcasting large task binary with size 26.5 MiB\n",
      "2023-03-14 15:27:16,766 WARN scheduler.DAGScheduler: Broadcasting large task binary with size 26.5 MiB\n",
      "                                                                                \r"
     ]
    }
   ],
   "source": [
    "model = alsModel.fit(train_df)"
   ]
  },
  {
   "cell_type": "code",
   "execution_count": 15,
   "id": "44f8ec4e",
   "metadata": {},
   "outputs": [
    {
     "data": {
      "text/plain": [
       "ALSModel: uid=ALS_914e8fc4be08, rank=20"
      ]
     },
     "execution_count": 15,
     "metadata": {},
     "output_type": "execute_result"
    }
   ],
   "source": [
    "model"
   ]
  },
  {
   "cell_type": "code",
   "execution_count": 16,
   "id": "16ec0d61",
   "metadata": {},
   "outputs": [],
   "source": [
    "predictions = model.transform(test_df)"
   ]
  },
  {
   "cell_type": "code",
   "execution_count": 17,
   "id": "f3712638",
   "metadata": {},
   "outputs": [
    {
     "name": "stderr",
     "output_type": "stream",
     "text": [
      "2023-03-14 15:30:34,374 WARN scheduler.DAGScheduler: Broadcasting large task binary with size 26.5 MiB\n",
      "2023-03-14 15:30:34,761 WARN scheduler.DAGScheduler: Broadcasting large task binary with size 26.5 MiB\n",
      "2023-03-14 15:30:35,190 WARN scheduler.DAGScheduler: Broadcasting large task binary with size 26.5 MiB\n",
      "2023-03-14 15:30:50,973 WARN scheduler.DAGScheduler: Broadcasting large task binary with size 26.6 MiB\n",
      "2023-03-14 15:31:30,225 WARN scheduler.DAGScheduler: Broadcasting large task binary with size 26.6 MiB\n",
      "                                                                                \r"
     ]
    },
    {
     "data": {
      "text/html": [
       "<div>\n",
       "<style scoped>\n",
       "    .dataframe tbody tr th:only-of-type {\n",
       "        vertical-align: middle;\n",
       "    }\n",
       "\n",
       "    .dataframe tbody tr th {\n",
       "        vertical-align: top;\n",
       "    }\n",
       "\n",
       "    .dataframe thead th {\n",
       "        text-align: right;\n",
       "    }\n",
       "</style>\n",
       "<table border=\"1\" class=\"dataframe\">\n",
       "  <thead>\n",
       "    <tr style=\"text-align: right;\">\n",
       "      <th></th>\n",
       "      <th>book_id</th>\n",
       "      <th>user_id_idx</th>\n",
       "      <th>rating</th>\n",
       "      <th>prediction</th>\n",
       "    </tr>\n",
       "  </thead>\n",
       "  <tbody>\n",
       "    <tr>\n",
       "      <th>0</th>\n",
       "      <td>463</td>\n",
       "      <td>25463</td>\n",
       "      <td>2.0</td>\n",
       "      <td>2.125897</td>\n",
       "    </tr>\n",
       "    <tr>\n",
       "      <th>1</th>\n",
       "      <td>463</td>\n",
       "      <td>78145</td>\n",
       "      <td>5.0</td>\n",
       "      <td>4.014388</td>\n",
       "    </tr>\n",
       "    <tr>\n",
       "      <th>2</th>\n",
       "      <td>463</td>\n",
       "      <td>2052</td>\n",
       "      <td>5.0</td>\n",
       "      <td>3.549244</td>\n",
       "    </tr>\n",
       "    <tr>\n",
       "      <th>3</th>\n",
       "      <td>463</td>\n",
       "      <td>14864</td>\n",
       "      <td>3.0</td>\n",
       "      <td>3.587353</td>\n",
       "    </tr>\n",
       "    <tr>\n",
       "      <th>4</th>\n",
       "      <td>463</td>\n",
       "      <td>5822</td>\n",
       "      <td>4.0</td>\n",
       "      <td>2.505881</td>\n",
       "    </tr>\n",
       "    <tr>\n",
       "      <th>5</th>\n",
       "      <td>463</td>\n",
       "      <td>28536</td>\n",
       "      <td>4.0</td>\n",
       "      <td>3.418390</td>\n",
       "    </tr>\n",
       "    <tr>\n",
       "      <th>6</th>\n",
       "      <td>496</td>\n",
       "      <td>118183</td>\n",
       "      <td>5.0</td>\n",
       "      <td>2.500000</td>\n",
       "    </tr>\n",
       "    <tr>\n",
       "      <th>7</th>\n",
       "      <td>1591</td>\n",
       "      <td>5592</td>\n",
       "      <td>3.0</td>\n",
       "      <td>2.334067</td>\n",
       "    </tr>\n",
       "    <tr>\n",
       "      <th>8</th>\n",
       "      <td>1591</td>\n",
       "      <td>12492</td>\n",
       "      <td>4.0</td>\n",
       "      <td>2.733440</td>\n",
       "    </tr>\n",
       "    <tr>\n",
       "      <th>9</th>\n",
       "      <td>1591</td>\n",
       "      <td>8873</td>\n",
       "      <td>5.0</td>\n",
       "      <td>4.082526</td>\n",
       "    </tr>\n",
       "  </tbody>\n",
       "</table>\n",
       "</div>"
      ],
      "text/plain": [
       "   book_id  user_id_idx  rating  prediction\n",
       "0      463        25463     2.0    2.125897\n",
       "1      463        78145     5.0    4.014388\n",
       "2      463         2052     5.0    3.549244\n",
       "3      463        14864     3.0    3.587353\n",
       "4      463         5822     4.0    2.505881\n",
       "5      463        28536     4.0    3.418390\n",
       "6      496       118183     5.0    2.500000\n",
       "7     1591         5592     3.0    2.334067\n",
       "8     1591        12492     4.0    2.733440\n",
       "9     1591         8873     5.0    4.082526"
      ]
     },
     "execution_count": 17,
     "metadata": {},
     "output_type": "execute_result"
    }
   ],
   "source": [
    "predictions.select(\n",
    "    \"book_id\", \"user_id_idx\", \"rating\",\n",
    "    F.when(F.isnan(F.col(\"prediction\")), 2.5).otherwise(F.col(\"prediction\")).alias(\"prediction\")\n",
    ").limit(10).toPandas()"
   ]
  },
  {
   "cell_type": "code",
   "execution_count": 18,
   "id": "442a5251",
   "metadata": {},
   "outputs": [],
   "source": [
    "predictions = predictions.select(\n",
    "    \"book_id\", \"user_id_idx\", \"rating\",\n",
    "    F.when(F.isnan(F.col(\"prediction\")), 2.5).otherwise(F.col(\"prediction\")).alias(\"prediction\")\n",
    ").cache()"
   ]
  },
  {
   "cell_type": "code",
   "execution_count": 19,
   "id": "502824e2",
   "metadata": {},
   "outputs": [
    {
     "name": "stderr",
     "output_type": "stream",
     "text": [
      "2023-03-14 15:32:30,587 WARN scheduler.DAGScheduler: Broadcasting large task binary with size 26.5 MiB\n",
      "2023-03-14 15:32:31,043 WARN scheduler.DAGScheduler: Broadcasting large task binary with size 26.5 MiB\n",
      "2023-03-14 15:32:31,449 WARN scheduler.DAGScheduler: Broadcasting large task binary with size 26.5 MiB\n",
      "2023-03-14 15:32:39,859 WARN scheduler.DAGScheduler: Broadcasting large task binary with size 26.6 MiB\n",
      "2023-03-14 15:33:17,049 WARN scheduler.DAGScheduler: Broadcasting large task binary with size 26.6 MiB\n",
      "2023-03-14 15:34:30,784 WARN scheduler.DAGScheduler: Broadcasting large task binary with size 26.6 MiB\n",
      "                                                                                \r"
     ]
    }
   ],
   "source": [
    "rsme = RegressionEvaluator(\n",
    "    predictionCol='prediction',\n",
    "    labelCol='rating',\n",
    "    metricName='rmse'\n",
    ").evaluate(predictions)"
   ]
  },
  {
   "cell_type": "code",
   "execution_count": 20,
   "id": "32758710",
   "metadata": {},
   "outputs": [
    {
     "data": {
      "text/plain": [
       "1.2571986175823344"
      ]
     },
     "execution_count": 20,
     "metadata": {},
     "output_type": "execute_result"
    }
   ],
   "source": [
    "rsme"
   ]
  },
  {
   "cell_type": "code",
   "execution_count": 21,
   "id": "af2a8dbc",
   "metadata": {},
   "outputs": [
    {
     "name": "stderr",
     "output_type": "stream",
     "text": [
      "2023-03-14 15:34:35,498 WARN scheduler.DAGScheduler: Broadcasting large task binary with size 26.6 MiB\n",
      "2023-03-14 15:35:40,307 WARN scheduler.DAGScheduler: Broadcasting large task binary with size 26.6 MiB\n",
      "                                                                                \r"
     ]
    }
   ],
   "source": [
    "rtwo = RegressionEvaluator(\n",
    "    predictionCol='prediction',\n",
    "    labelCol='rating',\n",
    "    metricName='r2'\n",
    ").evaluate(predictions)"
   ]
  },
  {
   "cell_type": "code",
   "execution_count": 22,
   "id": "956309b7",
   "metadata": {},
   "outputs": [
    {
     "data": {
      "text/plain": [
       "-0.0003574318874415283"
      ]
     },
     "execution_count": 22,
     "metadata": {},
     "output_type": "execute_result"
    }
   ],
   "source": [
    "rtwo"
   ]
  },
  {
   "cell_type": "markdown",
   "id": "4e4967a2",
   "metadata": {},
   "source": [
    "---"
   ]
  },
  {
   "cell_type": "code",
   "execution_count": null,
   "id": "6472386c",
   "metadata": {},
   "outputs": [],
   "source": [
    "alsModel = ALS(\n",
    "    rank=150,\n",
    "    userCol='user_id_idx',\n",
    "    itemCol='book_id',\n",
    "    ratingCol='rating'\n",
    ")\n",
    "model = alsModel.fit(train_df)\n",
    "predictions = model.transform(test_df)\n",
    "predictions = predictions.select(\n",
    "    \"book_id\", \"user_id_idx\", \"rating\",\n",
    "    F.when(F.isnan(F.col(\"prediction\")), 2.5).otherwise(F.col(\"prediction\")).alias(\"prediction\")\n",
    ").cache()\n",
    "\n",
    "rsme = RegressionEvaluator(\n",
    "    predictionCol='prediction',\n",
    "    labelCol='rating',\n",
    "    metricName='rmse'\n",
    ").evaluate(predictions)\n",
    "print(rsme)\n",
    "rtwo = RegressionEvaluator(\n",
    "    predictionCol='prediction',\n",
    "    labelCol='rating',\n",
    "    metricName='r2'\n",
    ").evaluate(predictions)\n",
    "print(rtwo)"
   ]
  },
  {
   "cell_type": "code",
   "execution_count": null,
   "id": "9b2e2895",
   "metadata": {},
   "outputs": [],
   "source": [
    "model.save(\"/user/books/als-150\")"
   ]
  },
  {
   "cell_type": "code",
   "execution_count": null,
   "id": "8e35d18e",
   "metadata": {},
   "outputs": [],
   "source": []
  },
  {
   "cell_type": "code",
   "execution_count": 23,
   "id": "7575e7fe",
   "metadata": {},
   "outputs": [],
   "source": [
    "model = ALSModel().load(\"/user/books/als-150\")"
   ]
  },
  {
   "cell_type": "code",
   "execution_count": 24,
   "id": "e9b69d5e",
   "metadata": {},
   "outputs": [],
   "source": [
    "predictions = model.transform(test_df).select(\n",
    "    \"book_id\", \"user_id_idx\", \"rating\",\n",
    "    F.when(F.isnan(F.col(\"prediction\")), 2.5).otherwise(F.col(\"prediction\")).alias(\"prediction\")\n",
    ").cache()"
   ]
  },
  {
   "cell_type": "code",
   "execution_count": 25,
   "id": "063925e6",
   "metadata": {},
   "outputs": [
    {
     "name": "stderr",
     "output_type": "stream",
     "text": [
      "2023-03-14 15:37:56,465 WARN scheduler.DAGScheduler: Broadcasting large task binary with size 26.5 MiB\n",
      "2023-03-14 15:38:17,035 WARN scheduler.DAGScheduler: Broadcasting large task binary with size 26.5 MiB\n",
      "2023-03-14 15:38:55,793 WARN scheduler.DAGScheduler: Broadcasting large task binary with size 26.5 MiB\n",
      "                                                                                \r"
     ]
    },
    {
     "data": {
      "text/html": [
       "<div>\n",
       "<style scoped>\n",
       "    .dataframe tbody tr th:only-of-type {\n",
       "        vertical-align: middle;\n",
       "    }\n",
       "\n",
       "    .dataframe tbody tr th {\n",
       "        vertical-align: top;\n",
       "    }\n",
       "\n",
       "    .dataframe thead th {\n",
       "        text-align: right;\n",
       "    }\n",
       "</style>\n",
       "<table border=\"1\" class=\"dataframe\">\n",
       "  <thead>\n",
       "    <tr style=\"text-align: right;\">\n",
       "      <th></th>\n",
       "      <th>book_id</th>\n",
       "      <th>user_id_idx</th>\n",
       "      <th>rating</th>\n",
       "      <th>prediction</th>\n",
       "    </tr>\n",
       "  </thead>\n",
       "  <tbody>\n",
       "    <tr>\n",
       "      <th>0</th>\n",
       "      <td>463</td>\n",
       "      <td>25463</td>\n",
       "      <td>2.0</td>\n",
       "      <td>3.088337</td>\n",
       "    </tr>\n",
       "    <tr>\n",
       "      <th>1</th>\n",
       "      <td>463</td>\n",
       "      <td>78145</td>\n",
       "      <td>5.0</td>\n",
       "      <td>3.517526</td>\n",
       "    </tr>\n",
       "    <tr>\n",
       "      <th>2</th>\n",
       "      <td>463</td>\n",
       "      <td>28536</td>\n",
       "      <td>4.0</td>\n",
       "      <td>3.943266</td>\n",
       "    </tr>\n",
       "  </tbody>\n",
       "</table>\n",
       "</div>"
      ],
      "text/plain": [
       "   book_id  user_id_idx  rating  prediction\n",
       "0      463        25463     2.0    3.088337\n",
       "1      463        78145     5.0    3.517526\n",
       "2      463        28536     4.0    3.943266"
      ]
     },
     "execution_count": 25,
     "metadata": {},
     "output_type": "execute_result"
    }
   ],
   "source": [
    "predictions.limit(3).toPandas()"
   ]
  },
  {
   "cell_type": "code",
   "execution_count": 26,
   "id": "d2b83c82",
   "metadata": {},
   "outputs": [
    {
     "name": "stderr",
     "output_type": "stream",
     "text": [
      "2023-03-14 15:38:57,254 WARN scheduler.DAGScheduler: Broadcasting large task binary with size 26.5 MiB\n",
      "2023-03-14 15:40:25,945 WARN scheduler.DAGScheduler: Broadcasting large task binary with size 26.5 MiB\n",
      "[Stage 161:==============================================>        (11 + 2) / 13]\r"
     ]
    },
    {
     "name": "stdout",
     "output_type": "stream",
     "text": [
      "0.018213869782585435\n"
     ]
    },
    {
     "name": "stderr",
     "output_type": "stream",
     "text": [
      "                                                                                \r"
     ]
    }
   ],
   "source": [
    "rtwo = RegressionEvaluator(\n",
    "    predictionCol='prediction',\n",
    "    labelCol='rating',\n",
    "    metricName='r2'\n",
    ").evaluate(predictions)\n",
    "print(rtwo)"
   ]
  },
  {
   "cell_type": "code",
   "execution_count": null,
   "id": "5f2b52c9",
   "metadata": {},
   "outputs": [],
   "source": []
  },
  {
   "cell_type": "markdown",
   "id": "25d7a0f1",
   "metadata": {},
   "source": [
    "# VW\n",
    "\n",
    "Обучать ALS по формулам не сильно сложнее линейной модели. При этом размерность очень высокая.\n",
    "Поэтому создатели Vowpal Wabbit не прошли мимо и сделали факторизацию на базе vw."
   ]
  },
  {
   "cell_type": "code",
   "execution_count": 27,
   "id": "6b188dd0",
   "metadata": {},
   "outputs": [],
   "source": [
    "def convert_to_vw(data):\n",
    "    target = data['rating']\n",
    "    \n",
    "    book_id = data['book_id']\n",
    "    user_id = data['user_id_idx']\n",
    "    \n",
    "    template = \"{target} |u {user} |i {item}\"\n",
    "    return template.format(\n",
    "        target=target,\n",
    "        user=user_id,\n",
    "        item=book_id\n",
    "    )"
   ]
  },
  {
   "cell_type": "code",
   "execution_count": 28,
   "id": "36120a87",
   "metadata": {},
   "outputs": [
    {
     "name": "stdout",
     "output_type": "stream",
     "text": [
      "Deleted /user/books/train.vw\n",
      "Deleted /user/books/test.vw\n"
     ]
    }
   ],
   "source": [
    "! hdfs dfs -rm -r /user/books/train.vw /user/books/test.vw"
   ]
  },
  {
   "cell_type": "code",
   "execution_count": 29,
   "id": "6380bda8",
   "metadata": {},
   "outputs": [
    {
     "name": "stderr",
     "output_type": "stream",
     "text": [
      "2023-03-14 15:44:04,282 WARN scheduler.DAGScheduler: Broadcasting large task binary with size 26.6 MiB\n",
      "2023-03-14 15:44:40,001 WARN scheduler.DAGScheduler: Broadcasting large task binary with size 26.6 MiB\n",
      "                                                                                \r"
     ]
    }
   ],
   "source": [
    "train_df.rdd.map(convert_to_vw).saveAsTextFile('/user/books/train.vw')\n",
    "test_df.rdd.map(convert_to_vw).saveAsTextFile('/user/books/test.vw')"
   ]
  },
  {
   "cell_type": "code",
   "execution_count": 30,
   "id": "9e9910e4",
   "metadata": {},
   "outputs": [],
   "source": [
    "! hdfs dfs -cat /user/books/train.vw/* > books.train.vw\n",
    "! hdfs dfs -cat /user/books/test.vw/* > books.test.vw"
   ]
  },
  {
   "cell_type": "code",
   "execution_count": 31,
   "id": "70b45667",
   "metadata": {},
   "outputs": [
    {
     "name": "stdout",
     "output_type": "stream",
     "text": [
      "5.0 |u 4601 |i 1\r\n",
      "5.0 |u 6090 |i 1\r\n",
      "4.0 |u 9713 |i 1\r\n",
      "5.0 |u 9934 |i 1\r\n",
      "2.0 |u 15455 |i 1\r\n"
     ]
    }
   ],
   "source": [
    "! head -n 5 books.train.vw"
   ]
  },
  {
   "cell_type": "code",
   "execution_count": 32,
   "id": "9e816fe7",
   "metadata": {},
   "outputs": [
    {
     "name": "stdout",
     "output_type": "stream",
     "text": [
      "creating quadratic features for pairs: ui \n",
      "final_regressor = books.model.bin\n",
      "Num weight bits = 18\n",
      "learning rate = 0.015\n",
      "initial_t = 1\n",
      "power_t = 0.5\n",
      "decay_learning_rate = 1\n",
      "creating cache_file = books.train.vw.cache\n",
      "Reading datafile = books.train.vw\n",
      "num sources = 1\n",
      "Enabled reductions: rank, scorer\n",
      "average  since         example        example  current  current  current\n",
      "loss     last          counter         weight    label  predict features\n",
      "23.809454 23.809454            1            1.0   5.0000   0.1205       63\n",
      "23.126781 22.444107            2            2.0   5.0000   0.2625       63\n",
      "20.585162 18.043544            4            4.0   5.0000   0.3285       63\n",
      "15.722990 10.860818            8            8.0   5.0000   0.4103       63\n",
      "14.714807 13.706624           16           16.0   5.0000   0.4450       63\n",
      "15.790171 16.865536           32           32.0   5.0000   0.5353       63\n",
      "15.296687 14.803202           64           64.0   4.0000   0.7943       63\n",
      "13.538872 11.781057          128          128.0   5.0000   0.8722       63\n",
      "10.600742 7.662612          256          256.0   0.0000   1.0618       63\n",
      "9.405553 8.210364          512          512.0   4.0000   1.4003       63\n",
      "7.849833 6.294114         1024         1024.0   4.0000   1.8371       63\n",
      "6.121148 4.392462         2048         2048.0   4.0000   2.2193       63\n",
      "4.730689 3.340231         4096         4096.0   5.0000   2.7468       63\n",
      "3.478872 2.227056         8192         8192.0   0.0000   3.1439       63\n",
      "2.556607 1.634341        16384        16384.0   5.0000   3.3897       63\n",
      "2.037884 1.519162        32768        32768.0   2.0000   3.6919       63\n",
      "1.719372 1.400859        65536        65536.0   5.0000   3.8125       63\n",
      "1.592469 1.465566       131072       131072.0   4.0000   3.7623       63\n",
      "1.572033 1.551596       262144       262144.0   1.0000   3.7508       63\n",
      "1.538377 1.504721       524288       524288.0   5.0000   3.7884       63\n",
      "1.533955 1.529532      1048576      1048576.0   5.0000   3.7066       63\n",
      "1.553180 1.572406      2097152      2097152.0   5.0000   3.8595       63\n",
      "1.570098 1.587015      4194304      4194304.0   4.0000   3.7508       63\n",
      "1.553304 1.536510      8388608      8388608.0   5.0000   3.7916       63\n",
      "1.565636 1.565636     16777216     16777216.0   3.0000   3.7176       63 h\n",
      "1.567271 1.568906     33554432     33554432.0   4.0000   3.6874       63 h\n",
      "1.563305 1.559340     67108864     67108864.0   5.0000   3.8399       63 h\n",
      "1.561121 1.558936    134217728    134217728.0   4.0000   3.7606       63 h\n",
      "\n",
      "finished run\n",
      "number of examples per pass = 11333938\n",
      "passes used = 20\n",
      "weighted example sum = 226678760.000000\n",
      "weighted label sum = 854580480.000000\n",
      "average loss = 1.551018 h\n",
      "best constant = 3.770007\n",
      "total feature number = 14280761880\n"
     ]
    }
   ],
   "source": [
    "! vw --final_regressor books.model.bin books.train.vw \\\n",
    "    --bit_precision 18 \\\n",
    "    --learning_rate 0.015 \\\n",
    "    -q ui \\\n",
    "    --rank 30 \\\n",
    "    --passes 20 \\\n",
    "    --cache -k "
   ]
  },
  {
   "cell_type": "code",
   "execution_count": 33,
   "id": "f4ef74bd",
   "metadata": {},
   "outputs": [
    {
     "name": "stdout",
     "output_type": "stream",
     "text": [
      "creating quadratic features for pairs: ui \n",
      "only testing\n",
      "predictions = books.preductions.txt\n",
      "Num weight bits = 18\n",
      "learning rate = 10\n",
      "initial_t = 1\n",
      "power_t = 0.5\n",
      "using no cache\n",
      "Reading datafile = books.test.vw\n",
      "num sources = 1\n",
      "Enabled reductions: rank, scorer\n",
      "average  since         example        example  current  current  current\n",
      "loss     last          counter         weight    label  predict features\n",
      "0.973979 0.973979            1            1.0   5.0000   4.0131       63\n",
      "0.891001 0.808023            2            2.0   3.0000   3.8989       63\n",
      "0.718283 0.545564            4            4.0   5.0000   3.9561       63\n",
      "1.440387 2.162492            8            8.0   2.0000   3.9782       63\n",
      "1.146450 0.852513           16           16.0   5.0000   4.0221       63\n",
      "1.207636 1.268822           32           32.0   4.0000   3.7922       63\n",
      "1.228613 1.249590           64           64.0   5.0000   3.8065       63\n",
      "1.590630 1.952647          128          128.0   4.0000   3.7144       63\n",
      "1.597280 1.603929          256          256.0   4.0000   3.7386       63\n",
      "1.564375 1.531470          512          512.0   1.0000   3.7470       63\n",
      "1.599001 1.633628         1024         1024.0   3.0000   3.6914       63\n",
      "1.571875 1.544749         2048         2048.0   5.0000   3.8247       63\n",
      "1.554320 1.536764         4096         4096.0   3.0000   3.6900       63\n",
      "1.545408 1.536497         8192         8192.0   2.0000   3.7288       63\n",
      "1.457785 1.370162        16384        16384.0   3.0000   3.6729       63\n",
      "1.481482 1.505178        32768        32768.0   3.0000   3.6957       63\n",
      "1.484978 1.488474        65536        65536.0   3.0000   3.7479       63\n",
      "1.506888 1.528798       131072       131072.0   4.0000   3.7282       63\n",
      "1.511127 1.515367       262144       262144.0   4.0000   3.7706       63\n",
      "1.530815 1.550503       524288       524288.0   3.0000   3.6993       63\n",
      "1.554205 1.577595      1048576      1048576.0   4.0000   3.6759       63\n",
      "1.545199 1.536194      2097152      2097152.0   5.0000   3.7529       63\n",
      "\n",
      "finished run\n",
      "number of examples = 3146703\n",
      "weighted example sum = 3146703.000000\n",
      "weighted label sum = 11862544.000000\n",
      "average loss = 1.558959\n",
      "best constant = 3.769833\n",
      "total feature number = 198242289\n"
     ]
    }
   ],
   "source": [
    "! vw --testonly --initial_regressor books.model.bin --predictions books.preductions.txt books.test.vw"
   ]
  },
  {
   "cell_type": "code",
   "execution_count": 34,
   "id": "f15c74ed",
   "metadata": {},
   "outputs": [],
   "source": [
    "import numpy as np\n",
    "from sklearn.metrics import r2_score\n",
    "\n",
    "\n",
    "def calc_r2(predictions_filename, answers_filename):\n",
    "    def read_target_from_vw(vw_record):\n",
    "        return float(vw_record.split(' ')[0])\n",
    "    \n",
    "    with open(predictions_filename, 'r') as f:\n",
    "        y_pred = np.array([float(value) for value in f.readlines()])\n",
    "        \n",
    "    with open(answers_filename, 'r') as f:\n",
    "        y_expected = np.array([read_target_from_vw(value) for value in f.readlines()])\n",
    "        \n",
    "    return r2_score(y_expected, y_pred)"
   ]
  },
  {
   "cell_type": "code",
   "execution_count": 35,
   "id": "e2004640",
   "metadata": {},
   "outputs": [
    {
     "data": {
      "text/plain": [
       "0.013306889694614688"
      ]
     },
     "execution_count": 35,
     "metadata": {},
     "output_type": "execute_result"
    }
   ],
   "source": [
    "calc_r2('books.preductions.txt', 'books.test.vw')"
   ]
  },
  {
   "cell_type": "code",
   "execution_count": null,
   "id": "fdd9e286",
   "metadata": {},
   "outputs": [],
   "source": []
  },
  {
   "cell_type": "code",
   "execution_count": 38,
   "id": "5f3cd5d0",
   "metadata": {},
   "outputs": [
    {
     "data": {
      "text/html": [
       "<div>\n",
       "<style scoped>\n",
       "    .dataframe tbody tr th:only-of-type {\n",
       "        vertical-align: middle;\n",
       "    }\n",
       "\n",
       "    .dataframe tbody tr th {\n",
       "        vertical-align: top;\n",
       "    }\n",
       "\n",
       "    .dataframe thead th {\n",
       "        text-align: right;\n",
       "    }\n",
       "</style>\n",
       "<table border=\"1\" class=\"dataframe\">\n",
       "  <thead>\n",
       "    <tr style=\"text-align: right;\">\n",
       "      <th></th>\n",
       "      <th>id</th>\n",
       "      <th>features</th>\n",
       "    </tr>\n",
       "  </thead>\n",
       "  <tbody>\n",
       "    <tr>\n",
       "      <th>0</th>\n",
       "      <td>5</td>\n",
       "      <td>[-0.07720393687486649, -0.03092358633875847, -...</td>\n",
       "    </tr>\n",
       "    <tr>\n",
       "      <th>1</th>\n",
       "      <td>15</td>\n",
       "      <td>[-0.06538841128349304, -0.08368418365716934, -...</td>\n",
       "    </tr>\n",
       "    <tr>\n",
       "      <th>2</th>\n",
       "      <td>25</td>\n",
       "      <td>[-0.03245057165622711, 0.10539549589157104, -0...</td>\n",
       "    </tr>\n",
       "    <tr>\n",
       "      <th>3</th>\n",
       "      <td>35</td>\n",
       "      <td>[0.010047990828752518, -0.10455098003149033, -...</td>\n",
       "    </tr>\n",
       "    <tr>\n",
       "      <th>4</th>\n",
       "      <td>45</td>\n",
       "      <td>[0.04023910313844681, -0.1822228878736496, -0....</td>\n",
       "    </tr>\n",
       "  </tbody>\n",
       "</table>\n",
       "</div>"
      ],
      "text/plain": [
       "   id                                           features\n",
       "0   5  [-0.07720393687486649, -0.03092358633875847, -...\n",
       "1  15  [-0.06538841128349304, -0.08368418365716934, -...\n",
       "2  25  [-0.03245057165622711, 0.10539549589157104, -0...\n",
       "3  35  [0.010047990828752518, -0.10455098003149033, -...\n",
       "4  45  [0.04023910313844681, -0.1822228878736496, -0...."
      ]
     },
     "execution_count": 38,
     "metadata": {},
     "output_type": "execute_result"
    }
   ],
   "source": [
    "model.userFactors.limit(5).toPandas()"
   ]
  },
  {
   "cell_type": "code",
   "execution_count": 39,
   "id": "39495149",
   "metadata": {},
   "outputs": [
    {
     "data": {
      "text/html": [
       "<div>\n",
       "<style scoped>\n",
       "    .dataframe tbody tr th:only-of-type {\n",
       "        vertical-align: middle;\n",
       "    }\n",
       "\n",
       "    .dataframe tbody tr th {\n",
       "        vertical-align: top;\n",
       "    }\n",
       "\n",
       "    .dataframe thead th {\n",
       "        text-align: right;\n",
       "    }\n",
       "</style>\n",
       "<table border=\"1\" class=\"dataframe\">\n",
       "  <thead>\n",
       "    <tr style=\"text-align: right;\">\n",
       "      <th></th>\n",
       "      <th>id</th>\n",
       "      <th>features</th>\n",
       "    </tr>\n",
       "  </thead>\n",
       "  <tbody>\n",
       "    <tr>\n",
       "      <th>0</th>\n",
       "      <td>10</td>\n",
       "      <td>[-0.2850845456123352, 0.07771358639001846, -0....</td>\n",
       "    </tr>\n",
       "    <tr>\n",
       "      <th>1</th>\n",
       "      <td>30</td>\n",
       "      <td>[0.005825348664075136, -0.05510112643241882, -...</td>\n",
       "    </tr>\n",
       "    <tr>\n",
       "      <th>2</th>\n",
       "      <td>40</td>\n",
       "      <td>[0.050969891250133514, -0.0017147120088338852,...</td>\n",
       "    </tr>\n",
       "    <tr>\n",
       "      <th>3</th>\n",
       "      <td>50</td>\n",
       "      <td>[-0.10132698714733124, -0.13968558609485626, -...</td>\n",
       "    </tr>\n",
       "    <tr>\n",
       "      <th>4</th>\n",
       "      <td>80</td>\n",
       "      <td>[-0.03349057212471962, 0.04379903897643089, -0...</td>\n",
       "    </tr>\n",
       "  </tbody>\n",
       "</table>\n",
       "</div>"
      ],
      "text/plain": [
       "   id                                           features\n",
       "0  10  [-0.2850845456123352, 0.07771358639001846, -0....\n",
       "1  30  [0.005825348664075136, -0.05510112643241882, -...\n",
       "2  40  [0.050969891250133514, -0.0017147120088338852,...\n",
       "3  50  [-0.10132698714733124, -0.13968558609485626, -...\n",
       "4  80  [-0.03349057212471962, 0.04379903897643089, -0..."
      ]
     },
     "execution_count": 39,
     "metadata": {},
     "output_type": "execute_result"
    }
   ],
   "source": [
    "model.itemFactors.limit(5).toPandas()"
   ]
  },
  {
   "cell_type": "code",
   "execution_count": null,
   "id": "8322b3ca",
   "metadata": {},
   "outputs": [],
   "source": [
    "user_factors = model.userFactors.withColumnRenamed(\"features\", \"features_users\").withColumnRenamed(\"id\", \"user_id\")\n",
    "item_factors = model.itemFactors.withColumnRenamed(\"features\", \"features_items\").withColumnRenamed(\"id\", \"item_id\")\n",
    "\n",
    "train_embeddinds = (\n",
    "    train_df\n",
    "    .join(\n",
    "        user_factors, \n",
    "        train_df[\"user_id_idx\"] == user_factors['user_id'], \n",
    "        'inner'\n",
    "    ).join(\n",
    "        item_factors,\n",
    "        train_df[\"book_id\"] == item_factors['item_id'],\n",
    "        'inner'\n",
    "    ).select(\"rating\", \"features_users\", \"features_items\")\n",
    ")\n",
    "\n",
    "test_embeddinds = (\n",
    "    test_df\n",
    "    .join(\n",
    "        user_factors, \n",
    "        test_df[\"user_id_idx\"] == user_factors['user_id'], \n",
    "        'inner'\n",
    "    ).join(\n",
    "        item_factors,\n",
    "        test_df[\"book_id\"] == item_factors['item_id'],\n",
    "        'inner'\n",
    "    ).select(\"rating\", \"features_users\", \"features_items\")\n",
    ")"
   ]
  },
  {
   "cell_type": "code",
   "execution_count": null,
   "id": "7c05cf85",
   "metadata": {},
   "outputs": [],
   "source": [
    "train_df"
   ]
  },
  {
   "cell_type": "code",
   "execution_count": null,
   "id": "44b756ed",
   "metadata": {},
   "outputs": [],
   "source": [
    "train_df.write.csv('/user/books/train.1.csv')\n",
    "test_df.write.csv('/user/books/test.1.csv')"
   ]
  },
  {
   "cell_type": "code",
   "execution_count": null,
   "id": "08f9085a",
   "metadata": {},
   "outputs": [],
   "source": [
    "user_factors.write.json(\"/user/books/user_embeddings.json\")\n",
    "item_factors.write.json(\"/user/books/item_embeddings.json\")"
   ]
  },
  {
   "cell_type": "code",
   "execution_count": null,
   "id": "8fc4c11f",
   "metadata": {},
   "outputs": [],
   "source": [
    "! hdfs dfs -cat /user/books/train.1.csv/* > train.csv\n",
    "! hdfs dfs -cat /user/books/test.1.csv/* > test.csv\n",
    "! hdfs dfs -cat /user/books/user_embeddings.json/* > user_embeddings.json\n",
    "! hdfs dfs -cat /user/books/item_embeddings.json/* > item_embeddings.json"
   ]
  },
  {
   "cell_type": "code",
   "execution_count": null,
   "id": "0b7564f8",
   "metadata": {},
   "outputs": [],
   "source": [
    "! hdfs dfs -cat /user/books/train.1.csv/* | hdfs dfs -put - s3a://lsml-kosmos/books/train.csv\n",
    "! hdfs dfs -cat /user/books/test.1.csv/* | hdfs dfs -put - s3a://lsml-kosmos/books/test.csv\n",
    "! hdfs dfs -cat /user/books/user_embeddings.json/* | hdfs dfs -put - s3a://lsml-kosmos/books/user_embeddings.json\n",
    "! hdfs dfs -cat /user/books/item_embeddings.json/* | hdfs dfs -put - s3a://lsml-kosmos/books/item_embeddings.json"
   ]
  },
  {
   "cell_type": "code",
   "execution_count": 40,
   "id": "6fa833d0",
   "metadata": {},
   "outputs": [
    {
     "name": "stdout",
     "output_type": "stream",
     "text": [
      "{\"user_id\":5,\"features_users\":[-0.07720394,-0.030923586,-0.04779837,0.3102566,-0.053540517,0.09795014,0.032852527,0.06930428,0.039828647,0.031232966,0.17347063,0.232285,-0.09380776,0.024341501,0.11624159,-0.2619187,-0.08836968,0.06953201,0.20723261,0.12196311,0.1247963,-0.10602624,-0.1254682,-0.28474677,-0.01585786,-0.120135166,0.07127104,-0.21951209,-0.30859768,0.096185505,0.111323744,-0.036068693,-0.14755586,0.06521902,0.04360454,0.104903206,-0.045897838,-0.10819084,-0.030722907,0.07432675,-0.073400036,-0.32423452,-0.15359992,0.26965234,-0.29423082,-0.13540295,-0.039831333,-0.2589557,-0.14539984,0.067690015,0.01251732,-0.08975892,-0.3184666,0.12576434,-0.19654253,0.2511444,-0.015817294,0.20824127,-0.09050013,0.22162919,-0.08456694,0.23965225,-0.08829764,-0.3244229,-0.062211625,0.19281957,0.29111478,0.096435584,0.08684807,0.13913643,0.28351086,0.08623802,-0.1467635,-0.018381469,0.008369594,0.028563906,0.1692092,-0.19120657,-0.11601393,0.07819555,0.20300296,0.42559722,-0.07550634,-0.111909956,0.17624022,0.126122,0.16989067,0.18162507,0.20226844,-0.056609932,0.12870467,0.15836264,-0.14205706,0.00874572,0.0726574,0.11835529,-0.027300216,-0.111686096,-0.074745424,0.24109688,7.423931E-4,-0.027091911,0.035036787,0.024226857,0.14061394,-0.067359045,0.22634584,-0.018616615,-0.09778279,0.010726469,0.021877898,0.03975621,-0.010079849,0.06652915,0.06609601,0.044149373,-0.22182757,0.04820771,0.18287742,0.14243707,0.061577983,-0.048511002,0.24910721,0.05371408,-0.22304522,-0.20263653,-0.20156366,-0.0694765,0.067213915,0.15173632,-0.13105711,0.12570587,-0.18657114,-0.2211428,0.33910197,-0.0065517426,0.05590577,-0.06818701,-0.042310808,-0.14887127,0.0932926,-0.05951605,-0.304529,0.08234065,-0.12914002,0.37968913,0.19358683,0.24703291,0.28188172,0.06655888]}\r\n"
     ]
    }
   ],
   "source": [
    "! head -n 1 user_embeddings.json"
   ]
  },
  {
   "cell_type": "code",
   "execution_count": 41,
   "id": "4f052212",
   "metadata": {},
   "outputs": [],
   "source": [
    "import pandas as pd\n",
    "import json\n",
    "from tqdm import tqdm"
   ]
  },
  {
   "cell_type": "code",
   "execution_count": 42,
   "id": "bc560eae",
   "metadata": {},
   "outputs": [],
   "source": [
    "train_pd_df = pd.read_csv('train.csv')\n",
    "test_pd_df = pd.read_csv('test.csv')"
   ]
  },
  {
   "cell_type": "code",
   "execution_count": null,
   "id": "2a8497c7",
   "metadata": {},
   "outputs": [],
   "source": [
    "! mkdir -p user_embs/\n",
    "! mkdir -p item_embs/"
   ]
  },
  {
   "cell_type": "code",
   "execution_count": null,
   "id": "b87c5a5d",
   "metadata": {},
   "outputs": [],
   "source": []
  },
  {
   "cell_type": "code",
   "execution_count": null,
   "id": "e94535cd",
   "metadata": {},
   "outputs": [],
   "source": [
    "with open('user_embeddings.json', 'r') as f:\n",
    "    user_emb = {}\n",
    "    for line in tqdm(f):\n",
    "        r = json.loads(line)\n",
    "        with open('user_embs/{}.json'.format(r['user_id']), 'w+') as g:\n",
    "            g.write(json.dumps(r['features_users']))\n",
    "    \n",
    "with open('item_embeddings.json') as f:\n",
    "    item_emb = {}\n",
    "    for line in tqdm(f):\n",
    "        r = json.loads(line)\n",
    "        with open('item_embs/{}.json'.format(r['item_id']), 'w+') as g:\n",
    "            g.write(json.dumps(r['features_items']))"
   ]
  },
  {
   "cell_type": "markdown",
   "id": "20f68b14",
   "metadata": {},
   "source": [
    "# Recom NN"
   ]
  },
  {
   "cell_type": "code",
   "execution_count": null,
   "id": "04801a62",
   "metadata": {},
   "outputs": [],
   "source": [
    "torch.__version__"
   ]
  },
  {
   "cell_type": "code",
   "execution_count": 45,
   "id": "07cc5d8a",
   "metadata": {},
   "outputs": [],
   "source": [
    "import torch\n",
    "\n",
    "import json\n",
    "\n",
    "import glob\n",
    "\n",
    "import torch\n",
    "\n",
    "import torch.nn as nn\n",
    "import torch.optim as optim\n",
    "import torch.functional as F\n",
    "from torch.utils.data import Dataset, DataLoader\n",
    "from tqdm import tqdm\n",
    "import torch.nn.utils.prune as prune\n",
    "from torch.nn.modules.conv import Conv2d\n",
    "from torch.nn.modules.linear import Linear\n",
    "from torch.autograd import Variable"
   ]
  },
  {
   "cell_type": "code",
   "execution_count": 46,
   "id": "a8ea7e72",
   "metadata": {},
   "outputs": [],
   "source": [
    "a, b, c = train_pd_df.iloc[3]"
   ]
  },
  {
   "cell_type": "code",
   "execution_count": 47,
   "id": "31a9361f",
   "metadata": {},
   "outputs": [
    {
     "data": {
      "text/plain": [
       "(1.0, 15455.0, 2.0)"
      ]
     },
     "execution_count": 47,
     "metadata": {},
     "output_type": "execute_result"
    }
   ],
   "source": [
    "a, b, c"
   ]
  },
  {
   "cell_type": "code",
   "execution_count": null,
   "id": "6031cf38",
   "metadata": {},
   "outputs": [],
   "source": [
    "len(train_pd_df)"
   ]
  },
  {
   "cell_type": "code",
   "execution_count": 49,
   "id": "338d0708",
   "metadata": {},
   "outputs": [],
   "source": [
    "def get_user_emb(index):\n",
    "    with open('user_embs/{}.json'.format(int(index))) as f:\n",
    "        return json.loads(f.read())\n",
    "    \n",
    "def get_item_emb(index):\n",
    "    with open('item_embs/{}.json'.format(int(index))) as f:\n",
    "        return json.loads(f.read())"
   ]
  },
  {
   "cell_type": "code",
   "execution_count": 48,
   "id": "4594162d",
   "metadata": {},
   "outputs": [],
   "source": [
    "class BooksDataset(Dataset):\n",
    "    def __init__(self, df):\n",
    "        self.df = df\n",
    "    \n",
    "    def __getitem__(self, idx):\n",
    "        book, user, rating = self.df.iloc[idx]\n",
    "        user_features = get_user_emb(user)\n",
    "        book_features = get_item_emb(book)\n",
    "    \n",
    "        return rating, torch.FloatTensor(user_features), torch.FloatTensor(book_features)\n",
    "    \n",
    "    def __len__(self):\n",
    "        return len(self.df)"
   ]
  },
  {
   "cell_type": "code",
   "execution_count": 50,
   "id": "2b0aac5a",
   "metadata": {},
   "outputs": [],
   "source": [
    "BATCH_SIZE = 256\n",
    "\n",
    "train_dataset = BooksDataset(train_pd_df)\n",
    "train_dl = DataLoader(train_dataset, batch_size=BATCH_SIZE, shuffle=False, num_workers=4)\n",
    "test_dataset = BooksDataset(test_pd_df)\n",
    "test_dl = DataLoader(test_dataset, batch_size=BATCH_SIZE, shuffle=False, num_workers=4)"
   ]
  },
  {
   "cell_type": "code",
   "execution_count": 51,
   "id": "9b5cf9fb",
   "metadata": {},
   "outputs": [
    {
     "name": "stdout",
     "output_type": "stream",
     "text": [
      "DSSMSimple(\n",
      "  (ulin1): Linear(in_features=150, out_features=100, bias=True)\n",
      "  (ulin2): Linear(in_features=100, out_features=50, bias=True)\n",
      "  (blin1): Linear(in_features=150, out_features=80, bias=True)\n",
      "  (blin2): Linear(in_features=80, out_features=50, bias=True)\n",
      ")\n"
     ]
    }
   ],
   "source": [
    "class DSSMSimple(nn.Module):\n",
    "    def __init__(self):\n",
    "        super(DSSMSimple, self).__init__()\n",
    "        \n",
    "        self.ulin1 = nn.Linear(150, 100)\n",
    "        self.ulin2 = nn.Linear(100, 50)\n",
    "\n",
    "        self.blin1 = nn.Linear(150, 80)\n",
    "        self.blin2 = nn.Linear(80, 50)\n",
    "    \n",
    "    def user_embedding(self, user):\n",
    "        x = nn.ReLU()(self.ulin1(user))\n",
    "        x = nn.ReLU()(self.ulin2(x))\n",
    "        return x\n",
    "    \n",
    "    def book_embedding(self, book):\n",
    "        x = nn.ReLU()(self.blin1(book))\n",
    "        x = nn.ReLU()(self.blin2(x))\n",
    "        return x\n",
    "    \n",
    "    def forward(self, user, book):\n",
    "        user_x = self.user_embedding(user)\n",
    "        book_x = self.book_embedding(book)\n",
    "        return torch.einsum('bs,bs->b', user_x, book_x)\n",
    "\n",
    "dssm = DSSMSimple()\n",
    "print(dssm)"
   ]
  },
  {
   "cell_type": "code",
   "execution_count": 52,
   "id": "15a760c0",
   "metadata": {},
   "outputs": [],
   "source": [
    "def fit(model, train_loader, epoch_number=5):\n",
    "    optimizer = torch.optim.Adam(model.parameters())\n",
    "    error = nn.MSELoss()\n",
    "    model.train()\n",
    "    for epoch in range(epoch_number):\n",
    "        correct = 0\n",
    "        for batch_idx, (y_batch, user_batch, book_batch) in enumerate(train_loader):\n",
    "            var_user_batch = Variable(user_batch).float()\n",
    "            var_book_batch = Variable(book_batch).float()\n",
    "            var_y_batch = Variable(y_batch).float()\n",
    "            \n",
    "            output = model(var_user_batch, var_book_batch)\n",
    "\n",
    "            optimizer.zero_grad()\n",
    "            \n",
    "            loss = error(output, var_y_batch)\n",
    "            loss.backward()\n",
    "            \n",
    "            optimizer.step()\n",
    "\n",
    "            if batch_idx % 50 == 0:\n",
    "                print('Epoch : {} [{}/{} ({:.0f}%)]\\tLoss: {:.6f}'.format(\n",
    "                    epoch, batch_idx*len(user_batch), len(train_loader.dataset), 100.*batch_idx / len(train_loader), loss.data))"
   ]
  },
  {
   "cell_type": "code",
   "execution_count": 53,
   "id": "58f500b3",
   "metadata": {},
   "outputs": [
    {
     "name": "stdout",
     "output_type": "stream",
     "text": [
      "Epoch : 0 [0/12593263 (0%)]\tLoss: 16.479763\n",
      "Epoch : 0 [12800/12593263 (0%)]\tLoss: 1.225606\n"
     ]
    },
    {
     "ename": "KeyboardInterrupt",
     "evalue": "",
     "output_type": "error",
     "traceback": [
      "\u001b[0;31m---------------------------------------------------------------------------\u001b[0m",
      "\u001b[0;31mKeyboardInterrupt\u001b[0m                         Traceback (most recent call last)",
      "Cell \u001b[0;32mIn[53], line 1\u001b[0m\n\u001b[0;32m----> 1\u001b[0m \u001b[43mfit\u001b[49m\u001b[43m(\u001b[49m\u001b[43mdssm\u001b[49m\u001b[43m,\u001b[49m\u001b[43m \u001b[49m\u001b[43mtrain_dl\u001b[49m\u001b[43m,\u001b[49m\u001b[43m \u001b[49m\u001b[38;5;241;43m1\u001b[39;49m\u001b[43m)\u001b[49m\n",
      "Cell \u001b[0;32mIn[52], line 7\u001b[0m, in \u001b[0;36mfit\u001b[0;34m(model, train_loader, epoch_number)\u001b[0m\n\u001b[1;32m      5\u001b[0m \u001b[38;5;28;01mfor\u001b[39;00m epoch \u001b[38;5;129;01min\u001b[39;00m \u001b[38;5;28mrange\u001b[39m(epoch_number):\n\u001b[1;32m      6\u001b[0m     correct \u001b[38;5;241m=\u001b[39m \u001b[38;5;241m0\u001b[39m\n\u001b[0;32m----> 7\u001b[0m     \u001b[38;5;28;01mfor\u001b[39;00m batch_idx, (y_batch, user_batch, book_batch) \u001b[38;5;129;01min\u001b[39;00m \u001b[38;5;28menumerate\u001b[39m(train_loader):\n\u001b[1;32m      8\u001b[0m         var_user_batch \u001b[38;5;241m=\u001b[39m Variable(user_batch)\u001b[38;5;241m.\u001b[39mfloat()\n\u001b[1;32m      9\u001b[0m         var_book_batch \u001b[38;5;241m=\u001b[39m Variable(book_batch)\u001b[38;5;241m.\u001b[39mfloat()\n",
      "File \u001b[0;32m~/.local/lib/python3.8/site-packages/torch/utils/data/dataloader.py:530\u001b[0m, in \u001b[0;36m_BaseDataLoaderIter.__next__\u001b[0;34m(self)\u001b[0m\n\u001b[1;32m    528\u001b[0m \u001b[38;5;28;01mif\u001b[39;00m \u001b[38;5;28mself\u001b[39m\u001b[38;5;241m.\u001b[39m_sampler_iter \u001b[38;5;129;01mis\u001b[39;00m \u001b[38;5;28;01mNone\u001b[39;00m:\n\u001b[1;32m    529\u001b[0m     \u001b[38;5;28mself\u001b[39m\u001b[38;5;241m.\u001b[39m_reset()\n\u001b[0;32m--> 530\u001b[0m data \u001b[38;5;241m=\u001b[39m \u001b[38;5;28;43mself\u001b[39;49m\u001b[38;5;241;43m.\u001b[39;49m\u001b[43m_next_data\u001b[49m\u001b[43m(\u001b[49m\u001b[43m)\u001b[49m\n\u001b[1;32m    531\u001b[0m \u001b[38;5;28mself\u001b[39m\u001b[38;5;241m.\u001b[39m_num_yielded \u001b[38;5;241m+\u001b[39m\u001b[38;5;241m=\u001b[39m \u001b[38;5;241m1\u001b[39m\n\u001b[1;32m    532\u001b[0m \u001b[38;5;28;01mif\u001b[39;00m \u001b[38;5;28mself\u001b[39m\u001b[38;5;241m.\u001b[39m_dataset_kind \u001b[38;5;241m==\u001b[39m _DatasetKind\u001b[38;5;241m.\u001b[39mIterable \u001b[38;5;129;01mand\u001b[39;00m \\\n\u001b[1;32m    533\u001b[0m         \u001b[38;5;28mself\u001b[39m\u001b[38;5;241m.\u001b[39m_IterableDataset_len_called \u001b[38;5;129;01mis\u001b[39;00m \u001b[38;5;129;01mnot\u001b[39;00m \u001b[38;5;28;01mNone\u001b[39;00m \u001b[38;5;129;01mand\u001b[39;00m \\\n\u001b[1;32m    534\u001b[0m         \u001b[38;5;28mself\u001b[39m\u001b[38;5;241m.\u001b[39m_num_yielded \u001b[38;5;241m>\u001b[39m \u001b[38;5;28mself\u001b[39m\u001b[38;5;241m.\u001b[39m_IterableDataset_len_called:\n",
      "File \u001b[0;32m~/.local/lib/python3.8/site-packages/torch/utils/data/dataloader.py:1207\u001b[0m, in \u001b[0;36m_MultiProcessingDataLoaderIter._next_data\u001b[0;34m(self)\u001b[0m\n\u001b[1;32m   1204\u001b[0m     \u001b[38;5;28;01mreturn\u001b[39;00m \u001b[38;5;28mself\u001b[39m\u001b[38;5;241m.\u001b[39m_process_data(data)\n\u001b[1;32m   1206\u001b[0m \u001b[38;5;28;01massert\u001b[39;00m \u001b[38;5;129;01mnot\u001b[39;00m \u001b[38;5;28mself\u001b[39m\u001b[38;5;241m.\u001b[39m_shutdown \u001b[38;5;129;01mand\u001b[39;00m \u001b[38;5;28mself\u001b[39m\u001b[38;5;241m.\u001b[39m_tasks_outstanding \u001b[38;5;241m>\u001b[39m \u001b[38;5;241m0\u001b[39m\n\u001b[0;32m-> 1207\u001b[0m idx, data \u001b[38;5;241m=\u001b[39m \u001b[38;5;28;43mself\u001b[39;49m\u001b[38;5;241;43m.\u001b[39;49m\u001b[43m_get_data\u001b[49m\u001b[43m(\u001b[49m\u001b[43m)\u001b[49m\n\u001b[1;32m   1208\u001b[0m \u001b[38;5;28mself\u001b[39m\u001b[38;5;241m.\u001b[39m_tasks_outstanding \u001b[38;5;241m-\u001b[39m\u001b[38;5;241m=\u001b[39m \u001b[38;5;241m1\u001b[39m\n\u001b[1;32m   1209\u001b[0m \u001b[38;5;28;01mif\u001b[39;00m \u001b[38;5;28mself\u001b[39m\u001b[38;5;241m.\u001b[39m_dataset_kind \u001b[38;5;241m==\u001b[39m _DatasetKind\u001b[38;5;241m.\u001b[39mIterable:\n\u001b[1;32m   1210\u001b[0m     \u001b[38;5;66;03m# Check for _IterableDatasetStopIteration\u001b[39;00m\n",
      "File \u001b[0;32m~/.local/lib/python3.8/site-packages/torch/utils/data/dataloader.py:1173\u001b[0m, in \u001b[0;36m_MultiProcessingDataLoaderIter._get_data\u001b[0;34m(self)\u001b[0m\n\u001b[1;32m   1169\u001b[0m     \u001b[38;5;66;03m# In this case, `self._data_queue` is a `queue.Queue`,. But we don't\u001b[39;00m\n\u001b[1;32m   1170\u001b[0m     \u001b[38;5;66;03m# need to call `.task_done()` because we don't use `.join()`.\u001b[39;00m\n\u001b[1;32m   1171\u001b[0m \u001b[38;5;28;01melse\u001b[39;00m:\n\u001b[1;32m   1172\u001b[0m     \u001b[38;5;28;01mwhile\u001b[39;00m \u001b[38;5;28;01mTrue\u001b[39;00m:\n\u001b[0;32m-> 1173\u001b[0m         success, data \u001b[38;5;241m=\u001b[39m \u001b[38;5;28;43mself\u001b[39;49m\u001b[38;5;241;43m.\u001b[39;49m\u001b[43m_try_get_data\u001b[49m\u001b[43m(\u001b[49m\u001b[43m)\u001b[49m\n\u001b[1;32m   1174\u001b[0m         \u001b[38;5;28;01mif\u001b[39;00m success:\n\u001b[1;32m   1175\u001b[0m             \u001b[38;5;28;01mreturn\u001b[39;00m data\n",
      "File \u001b[0;32m~/.local/lib/python3.8/site-packages/torch/utils/data/dataloader.py:1011\u001b[0m, in \u001b[0;36m_MultiProcessingDataLoaderIter._try_get_data\u001b[0;34m(self, timeout)\u001b[0m\n\u001b[1;32m    998\u001b[0m \u001b[38;5;28;01mdef\u001b[39;00m \u001b[38;5;21m_try_get_data\u001b[39m(\u001b[38;5;28mself\u001b[39m, timeout\u001b[38;5;241m=\u001b[39m_utils\u001b[38;5;241m.\u001b[39mMP_STATUS_CHECK_INTERVAL):\n\u001b[1;32m    999\u001b[0m     \u001b[38;5;66;03m# Tries to fetch data from `self._data_queue` once for a given timeout.\u001b[39;00m\n\u001b[1;32m   1000\u001b[0m     \u001b[38;5;66;03m# This can also be used as inner loop of fetching without timeout, with\u001b[39;00m\n\u001b[0;32m   (...)\u001b[0m\n\u001b[1;32m   1008\u001b[0m     \u001b[38;5;66;03m# Returns a 2-tuple:\u001b[39;00m\n\u001b[1;32m   1009\u001b[0m     \u001b[38;5;66;03m#   (bool: whether successfully get data, any: data if successful else None)\u001b[39;00m\n\u001b[1;32m   1010\u001b[0m     \u001b[38;5;28;01mtry\u001b[39;00m:\n\u001b[0;32m-> 1011\u001b[0m         data \u001b[38;5;241m=\u001b[39m \u001b[38;5;28;43mself\u001b[39;49m\u001b[38;5;241;43m.\u001b[39;49m\u001b[43m_data_queue\u001b[49m\u001b[38;5;241;43m.\u001b[39;49m\u001b[43mget\u001b[49m\u001b[43m(\u001b[49m\u001b[43mtimeout\u001b[49m\u001b[38;5;241;43m=\u001b[39;49m\u001b[43mtimeout\u001b[49m\u001b[43m)\u001b[49m\n\u001b[1;32m   1012\u001b[0m         \u001b[38;5;28;01mreturn\u001b[39;00m (\u001b[38;5;28;01mTrue\u001b[39;00m, data)\n\u001b[1;32m   1013\u001b[0m     \u001b[38;5;28;01mexcept\u001b[39;00m \u001b[38;5;167;01mException\u001b[39;00m \u001b[38;5;28;01mas\u001b[39;00m e:\n\u001b[1;32m   1014\u001b[0m         \u001b[38;5;66;03m# At timeout and error, we manually check whether any worker has\u001b[39;00m\n\u001b[1;32m   1015\u001b[0m         \u001b[38;5;66;03m# failed. Note that this is the only mechanism for Windows to detect\u001b[39;00m\n\u001b[1;32m   1016\u001b[0m         \u001b[38;5;66;03m# worker failures.\u001b[39;00m\n",
      "File \u001b[0;32m/opt/conda/lib/python3.8/multiprocessing/queues.py:107\u001b[0m, in \u001b[0;36mQueue.get\u001b[0;34m(self, block, timeout)\u001b[0m\n\u001b[1;32m    105\u001b[0m \u001b[38;5;28;01mif\u001b[39;00m block:\n\u001b[1;32m    106\u001b[0m     timeout \u001b[38;5;241m=\u001b[39m deadline \u001b[38;5;241m-\u001b[39m time\u001b[38;5;241m.\u001b[39mmonotonic()\n\u001b[0;32m--> 107\u001b[0m     \u001b[38;5;28;01mif\u001b[39;00m \u001b[38;5;129;01mnot\u001b[39;00m \u001b[38;5;28;43mself\u001b[39;49m\u001b[38;5;241;43m.\u001b[39;49m\u001b[43m_poll\u001b[49m\u001b[43m(\u001b[49m\u001b[43mtimeout\u001b[49m\u001b[43m)\u001b[49m:\n\u001b[1;32m    108\u001b[0m         \u001b[38;5;28;01mraise\u001b[39;00m Empty\n\u001b[1;32m    109\u001b[0m \u001b[38;5;28;01melif\u001b[39;00m \u001b[38;5;129;01mnot\u001b[39;00m \u001b[38;5;28mself\u001b[39m\u001b[38;5;241m.\u001b[39m_poll():\n",
      "File \u001b[0;32m/opt/conda/lib/python3.8/multiprocessing/connection.py:257\u001b[0m, in \u001b[0;36m_ConnectionBase.poll\u001b[0;34m(self, timeout)\u001b[0m\n\u001b[1;32m    255\u001b[0m \u001b[38;5;28mself\u001b[39m\u001b[38;5;241m.\u001b[39m_check_closed()\n\u001b[1;32m    256\u001b[0m \u001b[38;5;28mself\u001b[39m\u001b[38;5;241m.\u001b[39m_check_readable()\n\u001b[0;32m--> 257\u001b[0m \u001b[38;5;28;01mreturn\u001b[39;00m \u001b[38;5;28;43mself\u001b[39;49m\u001b[38;5;241;43m.\u001b[39;49m\u001b[43m_poll\u001b[49m\u001b[43m(\u001b[49m\u001b[43mtimeout\u001b[49m\u001b[43m)\u001b[49m\n",
      "File \u001b[0;32m/opt/conda/lib/python3.8/multiprocessing/connection.py:424\u001b[0m, in \u001b[0;36mConnection._poll\u001b[0;34m(self, timeout)\u001b[0m\n\u001b[1;32m    423\u001b[0m \u001b[38;5;28;01mdef\u001b[39;00m \u001b[38;5;21m_poll\u001b[39m(\u001b[38;5;28mself\u001b[39m, timeout):\n\u001b[0;32m--> 424\u001b[0m     r \u001b[38;5;241m=\u001b[39m \u001b[43mwait\u001b[49m\u001b[43m(\u001b[49m\u001b[43m[\u001b[49m\u001b[38;5;28;43mself\u001b[39;49m\u001b[43m]\u001b[49m\u001b[43m,\u001b[49m\u001b[43m \u001b[49m\u001b[43mtimeout\u001b[49m\u001b[43m)\u001b[49m\n\u001b[1;32m    425\u001b[0m     \u001b[38;5;28;01mreturn\u001b[39;00m \u001b[38;5;28mbool\u001b[39m(r)\n",
      "File \u001b[0;32m/opt/conda/lib/python3.8/multiprocessing/connection.py:931\u001b[0m, in \u001b[0;36mwait\u001b[0;34m(object_list, timeout)\u001b[0m\n\u001b[1;32m    928\u001b[0m     deadline \u001b[38;5;241m=\u001b[39m time\u001b[38;5;241m.\u001b[39mmonotonic() \u001b[38;5;241m+\u001b[39m timeout\n\u001b[1;32m    930\u001b[0m \u001b[38;5;28;01mwhile\u001b[39;00m \u001b[38;5;28;01mTrue\u001b[39;00m:\n\u001b[0;32m--> 931\u001b[0m     ready \u001b[38;5;241m=\u001b[39m \u001b[43mselector\u001b[49m\u001b[38;5;241;43m.\u001b[39;49m\u001b[43mselect\u001b[49m\u001b[43m(\u001b[49m\u001b[43mtimeout\u001b[49m\u001b[43m)\u001b[49m\n\u001b[1;32m    932\u001b[0m     \u001b[38;5;28;01mif\u001b[39;00m ready:\n\u001b[1;32m    933\u001b[0m         \u001b[38;5;28;01mreturn\u001b[39;00m [key\u001b[38;5;241m.\u001b[39mfileobj \u001b[38;5;28;01mfor\u001b[39;00m (key, events) \u001b[38;5;129;01min\u001b[39;00m ready]\n",
      "File \u001b[0;32m/opt/conda/lib/python3.8/selectors.py:415\u001b[0m, in \u001b[0;36m_PollLikeSelector.select\u001b[0;34m(self, timeout)\u001b[0m\n\u001b[1;32m    413\u001b[0m ready \u001b[38;5;241m=\u001b[39m []\n\u001b[1;32m    414\u001b[0m \u001b[38;5;28;01mtry\u001b[39;00m:\n\u001b[0;32m--> 415\u001b[0m     fd_event_list \u001b[38;5;241m=\u001b[39m \u001b[38;5;28;43mself\u001b[39;49m\u001b[38;5;241;43m.\u001b[39;49m\u001b[43m_selector\u001b[49m\u001b[38;5;241;43m.\u001b[39;49m\u001b[43mpoll\u001b[49m\u001b[43m(\u001b[49m\u001b[43mtimeout\u001b[49m\u001b[43m)\u001b[49m\n\u001b[1;32m    416\u001b[0m \u001b[38;5;28;01mexcept\u001b[39;00m \u001b[38;5;167;01mInterruptedError\u001b[39;00m:\n\u001b[1;32m    417\u001b[0m     \u001b[38;5;28;01mreturn\u001b[39;00m ready\n",
      "\u001b[0;31mKeyboardInterrupt\u001b[0m: "
     ]
    }
   ],
   "source": [
    "fit(dssm, train_dl, 1)"
   ]
  },
  {
   "cell_type": "code",
   "execution_count": null,
   "id": "5fcff0ef",
   "metadata": {},
   "outputs": [],
   "source": []
  },
  {
   "cell_type": "code",
   "execution_count": null,
   "id": "ad17f239",
   "metadata": {},
   "outputs": [],
   "source": []
  },
  {
   "cell_type": "code",
   "execution_count": 54,
   "id": "685ff20f",
   "metadata": {},
   "outputs": [],
   "source": [
    "train_pd_df = train_pd_df.rename(columns={'1': 'book', '4601': 'user', '5.0': 'rating'})"
   ]
  },
  {
   "cell_type": "code",
   "execution_count": 55,
   "id": "5d0aac57",
   "metadata": {},
   "outputs": [],
   "source": [
    "users = train_pd_df['user'].unique().tolist()[:1000]\n",
    "books = train_pd_df['book'].unique().tolist()[:100000]"
   ]
  },
  {
   "cell_type": "code",
   "execution_count": 56,
   "id": "8b375c19",
   "metadata": {},
   "outputs": [
    {
     "data": {
      "text/plain": [
       "(1000, 100000)"
      ]
     },
     "execution_count": 56,
     "metadata": {},
     "output_type": "execute_result"
    }
   ],
   "source": [
    "len(users), len(books)"
   ]
  },
  {
   "cell_type": "code",
   "execution_count": 57,
   "id": "2ec295ac",
   "metadata": {},
   "outputs": [],
   "source": [
    "import random\n",
    "import numpy as np"
   ]
  },
  {
   "cell_type": "code",
   "execution_count": 59,
   "id": "c5a37472",
   "metadata": {},
   "outputs": [
    {
     "name": "stdout",
     "output_type": "stream",
     "text": [
      "189094\n",
      "2871\n"
     ]
    }
   ],
   "source": [
    "rnd_user = random.choice(users)\n",
    "rnd_book = random.choice(books)\n",
    "\n",
    "print(rnd_user)\n",
    "print(rnd_book)"
   ]
  },
  {
   "cell_type": "code",
   "execution_count": 60,
   "id": "cec91dac",
   "metadata": {},
   "outputs": [],
   "source": [
    "user_emb = np.array(get_user_emb(rnd_user))\n",
    "book_emb = np.array(get_item_emb(rnd_book))"
   ]
  },
  {
   "cell_type": "code",
   "execution_count": 61,
   "id": "4d0dec9c",
   "metadata": {},
   "outputs": [
    {
     "data": {
      "text/plain": [
       "3.39363445984638"
      ]
     },
     "execution_count": 61,
     "metadata": {},
     "output_type": "execute_result"
    }
   ],
   "source": [
    "score = user_emb.dot(book_emb)\n",
    "score"
   ]
  },
  {
   "cell_type": "code",
   "execution_count": null,
   "id": "6bfff91c",
   "metadata": {},
   "outputs": [],
   "source": []
  },
  {
   "cell_type": "code",
   "execution_count": null,
   "id": "cffd41ef",
   "metadata": {},
   "outputs": [],
   "source": []
  },
  {
   "cell_type": "markdown",
   "id": "c20c23bc",
   "metadata": {},
   "source": [
    "# Bandits"
   ]
  },
  {
   "cell_type": "code",
   "execution_count": null,
   "id": "b47bfc5f",
   "metadata": {},
   "outputs": [],
   "source": []
  },
  {
   "cell_type": "code",
   "execution_count": 62,
   "id": "01c64ac1",
   "metadata": {},
   "outputs": [],
   "source": [
    "from pyspark.ml.linalg import Vectors\n",
    "from pyspark.ml.clustering import KMeans"
   ]
  },
  {
   "cell_type": "code",
   "execution_count": 63,
   "id": "f5fb93c6",
   "metadata": {},
   "outputs": [
    {
     "data": {
      "text/html": [
       "<div>\n",
       "<style scoped>\n",
       "    .dataframe tbody tr th:only-of-type {\n",
       "        vertical-align: middle;\n",
       "    }\n",
       "\n",
       "    .dataframe tbody tr th {\n",
       "        vertical-align: top;\n",
       "    }\n",
       "\n",
       "    .dataframe thead th {\n",
       "        text-align: right;\n",
       "    }\n",
       "</style>\n",
       "<table border=\"1\" class=\"dataframe\">\n",
       "  <thead>\n",
       "    <tr style=\"text-align: right;\">\n",
       "      <th></th>\n",
       "      <th>id</th>\n",
       "      <th>features</th>\n",
       "    </tr>\n",
       "  </thead>\n",
       "  <tbody>\n",
       "    <tr>\n",
       "      <th>0</th>\n",
       "      <td>10</td>\n",
       "      <td>[-0.2850845456123352, 0.07771358639001846, -0....</td>\n",
       "    </tr>\n",
       "    <tr>\n",
       "      <th>1</th>\n",
       "      <td>30</td>\n",
       "      <td>[0.005825348664075136, -0.05510112643241882, -...</td>\n",
       "    </tr>\n",
       "    <tr>\n",
       "      <th>2</th>\n",
       "      <td>40</td>\n",
       "      <td>[0.050969891250133514, -0.0017147120088338852,...</td>\n",
       "    </tr>\n",
       "    <tr>\n",
       "      <th>3</th>\n",
       "      <td>50</td>\n",
       "      <td>[-0.10132698714733124, -0.13968558609485626, -...</td>\n",
       "    </tr>\n",
       "    <tr>\n",
       "      <th>4</th>\n",
       "      <td>80</td>\n",
       "      <td>[-0.03349057212471962, 0.04379903897643089, -0...</td>\n",
       "    </tr>\n",
       "    <tr>\n",
       "      <th>5</th>\n",
       "      <td>100</td>\n",
       "      <td>[-0.06785227358341217, 0.021136218681931496, -...</td>\n",
       "    </tr>\n",
       "    <tr>\n",
       "      <th>6</th>\n",
       "      <td>110</td>\n",
       "      <td>[-0.0590093620121479, 0.12813735008239746, -0....</td>\n",
       "    </tr>\n",
       "    <tr>\n",
       "      <th>7</th>\n",
       "      <td>130</td>\n",
       "      <td>[-0.004132889676839113, -0.005473628640174866,...</td>\n",
       "    </tr>\n",
       "    <tr>\n",
       "      <th>8</th>\n",
       "      <td>160</td>\n",
       "      <td>[-0.18580056726932526, -0.007518137339502573, ...</td>\n",
       "    </tr>\n",
       "    <tr>\n",
       "      <th>9</th>\n",
       "      <td>180</td>\n",
       "      <td>[-0.21777990460395813, -0.004085865803062916, ...</td>\n",
       "    </tr>\n",
       "  </tbody>\n",
       "</table>\n",
       "</div>"
      ],
      "text/plain": [
       "    id                                           features\n",
       "0   10  [-0.2850845456123352, 0.07771358639001846, -0....\n",
       "1   30  [0.005825348664075136, -0.05510112643241882, -...\n",
       "2   40  [0.050969891250133514, -0.0017147120088338852,...\n",
       "3   50  [-0.10132698714733124, -0.13968558609485626, -...\n",
       "4   80  [-0.03349057212471962, 0.04379903897643089, -0...\n",
       "5  100  [-0.06785227358341217, 0.021136218681931496, -...\n",
       "6  110  [-0.0590093620121479, 0.12813735008239746, -0....\n",
       "7  130  [-0.004132889676839113, -0.005473628640174866,...\n",
       "8  160  [-0.18580056726932526, -0.007518137339502573, ...\n",
       "9  180  [-0.21777990460395813, -0.004085865803062916, ..."
      ]
     },
     "execution_count": 63,
     "metadata": {},
     "output_type": "execute_result"
    }
   ],
   "source": [
    "model.itemFactors.limit(10).toPandas()"
   ]
  },
  {
   "cell_type": "code",
   "execution_count": null,
   "id": "57c90d58",
   "metadata": {},
   "outputs": [],
   "source": []
  },
  {
   "cell_type": "code",
   "execution_count": 64,
   "id": "32c580d5",
   "metadata": {},
   "outputs": [
    {
     "name": "stderr",
     "output_type": "stream",
     "text": [
      "                                                                                \r"
     ]
    }
   ],
   "source": [
    "books_embeddings = (\n",
    "    se.createDataFrame(\n",
    "        model\n",
    "        .itemFactors\n",
    "        .rdd.map(lambda x: (x.id, Vectors.dense(x.features))),\n",
    "        [\"id\", \"embedding\"]\n",
    "    )\n",
    ").cache()"
   ]
  },
  {
   "cell_type": "code",
   "execution_count": 65,
   "id": "4c2f370a",
   "metadata": {},
   "outputs": [
    {
     "name": "stderr",
     "output_type": "stream",
     "text": [
      "                                                                                \r"
     ]
    },
    {
     "data": {
      "text/plain": [
       "1856171"
      ]
     },
     "execution_count": 65,
     "metadata": {},
     "output_type": "execute_result"
    }
   ],
   "source": [
    "books_embeddings.select(\"id\").distinct().count()"
   ]
  },
  {
   "cell_type": "code",
   "execution_count": 66,
   "id": "0813c466",
   "metadata": {},
   "outputs": [],
   "source": [
    "kmeans = KMeans(\n",
    "    k=15,\n",
    "    featuresCol=\"embedding\",\n",
    "    predictionCol=\"cluster_id\"\n",
    ")"
   ]
  },
  {
   "cell_type": "code",
   "execution_count": 67,
   "id": "b0e1d9fb",
   "metadata": {},
   "outputs": [
    {
     "name": "stderr",
     "output_type": "stream",
     "text": [
      "2023-03-14 16:40:57,592 WARN netlib.BLAS: Failed to load implementation from: com.github.fommil.netlib.NativeSystemBLAS\n",
      "2023-03-14 16:40:57,593 WARN netlib.BLAS: Failed to load implementation from: com.github.fommil.netlib.NativeRefBLAS\n",
      "                                                                                \r"
     ]
    }
   ],
   "source": [
    "clustering_model = kmeans.fit(books_embeddings)"
   ]
  },
  {
   "cell_type": "code",
   "execution_count": 68,
   "id": "04cddfef",
   "metadata": {},
   "outputs": [
    {
     "data": {
      "text/plain": [
       "KMeansModel: uid=KMeans_945736c55f33, k=15, distanceMeasure=euclidean, numFeatures=150"
      ]
     },
     "execution_count": 68,
     "metadata": {},
     "output_type": "execute_result"
    }
   ],
   "source": [
    "clustering_model"
   ]
  },
  {
   "cell_type": "code",
   "execution_count": 69,
   "id": "3fb217dd",
   "metadata": {},
   "outputs": [],
   "source": [
    "books_clusters = clustering_model.transform(books_embeddings)"
   ]
  },
  {
   "cell_type": "code",
   "execution_count": 70,
   "id": "7e08ecd3",
   "metadata": {},
   "outputs": [
    {
     "data": {
      "text/html": [
       "<div>\n",
       "<style scoped>\n",
       "    .dataframe tbody tr th:only-of-type {\n",
       "        vertical-align: middle;\n",
       "    }\n",
       "\n",
       "    .dataframe tbody tr th {\n",
       "        vertical-align: top;\n",
       "    }\n",
       "\n",
       "    .dataframe thead th {\n",
       "        text-align: right;\n",
       "    }\n",
       "</style>\n",
       "<table border=\"1\" class=\"dataframe\">\n",
       "  <thead>\n",
       "    <tr style=\"text-align: right;\">\n",
       "      <th></th>\n",
       "      <th>id</th>\n",
       "      <th>embedding</th>\n",
       "      <th>cluster_id</th>\n",
       "    </tr>\n",
       "  </thead>\n",
       "  <tbody>\n",
       "    <tr>\n",
       "      <th>0</th>\n",
       "      <td>10</td>\n",
       "      <td>[-0.2850845456123352, 0.07771358639001846, -0....</td>\n",
       "      <td>8</td>\n",
       "    </tr>\n",
       "    <tr>\n",
       "      <th>1</th>\n",
       "      <td>30</td>\n",
       "      <td>[0.005825348664075136, -0.05510112643241882, -...</td>\n",
       "      <td>8</td>\n",
       "    </tr>\n",
       "    <tr>\n",
       "      <th>2</th>\n",
       "      <td>40</td>\n",
       "      <td>[0.050969891250133514, -0.0017147120088338852,...</td>\n",
       "      <td>8</td>\n",
       "    </tr>\n",
       "    <tr>\n",
       "      <th>3</th>\n",
       "      <td>50</td>\n",
       "      <td>[-0.10132698714733124, -0.13968558609485626, -...</td>\n",
       "      <td>12</td>\n",
       "    </tr>\n",
       "    <tr>\n",
       "      <th>4</th>\n",
       "      <td>80</td>\n",
       "      <td>[-0.03349057212471962, 0.04379903897643089, -0...</td>\n",
       "      <td>4</td>\n",
       "    </tr>\n",
       "    <tr>\n",
       "      <th>5</th>\n",
       "      <td>100</td>\n",
       "      <td>[-0.06785227358341217, 0.021136218681931496, -...</td>\n",
       "      <td>2</td>\n",
       "    </tr>\n",
       "    <tr>\n",
       "      <th>6</th>\n",
       "      <td>110</td>\n",
       "      <td>[-0.0590093620121479, 0.12813735008239746, -0....</td>\n",
       "      <td>8</td>\n",
       "    </tr>\n",
       "    <tr>\n",
       "      <th>7</th>\n",
       "      <td>130</td>\n",
       "      <td>[-0.004132889676839113, -0.005473628640174866,...</td>\n",
       "      <td>3</td>\n",
       "    </tr>\n",
       "    <tr>\n",
       "      <th>8</th>\n",
       "      <td>160</td>\n",
       "      <td>[-0.18580056726932526, -0.007518137339502573, ...</td>\n",
       "      <td>7</td>\n",
       "    </tr>\n",
       "    <tr>\n",
       "      <th>9</th>\n",
       "      <td>180</td>\n",
       "      <td>[-0.21777990460395813, -0.004085865803062916, ...</td>\n",
       "      <td>8</td>\n",
       "    </tr>\n",
       "  </tbody>\n",
       "</table>\n",
       "</div>"
      ],
      "text/plain": [
       "    id                                          embedding  cluster_id\n",
       "0   10  [-0.2850845456123352, 0.07771358639001846, -0....           8\n",
       "1   30  [0.005825348664075136, -0.05510112643241882, -...           8\n",
       "2   40  [0.050969891250133514, -0.0017147120088338852,...           8\n",
       "3   50  [-0.10132698714733124, -0.13968558609485626, -...          12\n",
       "4   80  [-0.03349057212471962, 0.04379903897643089, -0...           4\n",
       "5  100  [-0.06785227358341217, 0.021136218681931496, -...           2\n",
       "6  110  [-0.0590093620121479, 0.12813735008239746, -0....           8\n",
       "7  130  [-0.004132889676839113, -0.005473628640174866,...           3\n",
       "8  160  [-0.18580056726932526, -0.007518137339502573, ...           7\n",
       "9  180  [-0.21777990460395813, -0.004085865803062916, ...           8"
      ]
     },
     "execution_count": 70,
     "metadata": {},
     "output_type": "execute_result"
    }
   ],
   "source": [
    "books_clusters.limit(10).toPandas()"
   ]
  },
  {
   "cell_type": "code",
   "execution_count": 71,
   "id": "ae3cc3df",
   "metadata": {},
   "outputs": [],
   "source": [
    "from collections import defaultdict"
   ]
  },
  {
   "cell_type": "code",
   "execution_count": 72,
   "id": "4e548911",
   "metadata": {},
   "outputs": [],
   "source": [
    "clusters = defaultdict(list)"
   ]
  },
  {
   "cell_type": "code",
   "execution_count": 73,
   "id": "eda8ba93",
   "metadata": {},
   "outputs": [
    {
     "name": "stderr",
     "output_type": "stream",
     "text": [
      "                                                                                \r"
     ]
    }
   ],
   "source": [
    "for book_id, cluster_id in books_clusters.rdd.map(lambda x: (x[\"id\"], x['cluster_id'])).collect():\n",
    "    clusters[cluster_id].append(book_id)"
   ]
  },
  {
   "cell_type": "code",
   "execution_count": 74,
   "id": "c1c24969",
   "metadata": {},
   "outputs": [],
   "source": [
    "class RecommenderBandit:\n",
    "    def __init__(self, clusters, t):\n",
    "        self.clusters = clusters\n",
    "        self.book_map = {}\n",
    "        \n",
    "        for c, books in clusters.items():\n",
    "            for b in books:\n",
    "                self.book_map[b] = c\n",
    "        \n",
    "        self.params = {}\n",
    "        self.t = t\n",
    "        for c in clusters:\n",
    "            self.params[c] = (1.0, 1.0)\n",
    "        \n",
    "    def get_book(self, user):\n",
    "        best_cluster, prop = max([\n",
    "            (c, np.random.beta(b, a))\n",
    "            for c, (a, b) in self.params.items()\n",
    "        ], key=lambda x: x[1])\n",
    "        return random.choice(self.clusters[best_cluster])\n",
    "    \n",
    "    def observe(self, user, book, score):\n",
    "        is_like = score > self.t\n",
    "        cluster = self.book_map[book]\n",
    "        a, b = self.params[cluster]\n",
    "        if is_like:\n",
    "            self.params[cluster] = (a, b+1)\n",
    "        else:\n",
    "            self.params[cluster] = (a+1, b)"
   ]
  },
  {
   "cell_type": "code",
   "execution_count": 75,
   "id": "292e351c",
   "metadata": {},
   "outputs": [],
   "source": [
    "class RecommenderRandom:\n",
    "    def __init__(self, clusters):\n",
    "        self.clusters = clusters\n",
    "    \n",
    "    def get_book(self, user):\n",
    "        best_cluster = random.choice(list(self.clusters))\n",
    "        return random.choice(self.clusters[best_cluster])\n",
    "    \n",
    "    def observe(self, user, book, score):\n",
    "        pass"
   ]
  },
  {
   "cell_type": "code",
   "execution_count": 76,
   "id": "7ac2cbad",
   "metadata": {},
   "outputs": [],
   "source": [
    "def play(number_of_rounds, user, recommender):\n",
    "    scores = []\n",
    "    for r in range(number_of_rounds):\n",
    "        book = recommender.get_book(user)\n",
    "        \n",
    "        user_emb = np.array(get_user_emb(user))\n",
    "        book_emb = np.array(get_item_emb(book))\n",
    "        score = user_emb.dot(book_emb)\n",
    "        recommender.observe(user, book, score)\n",
    "        \n",
    "        if r % 100 == 0:\n",
    "            print(\"Round {}, book {}, score {}\".format(r, book, score))\n",
    "        \n",
    "        scores.append(score)\n",
    "    return scores"
   ]
  },
  {
   "cell_type": "code",
   "execution_count": 77,
   "id": "dc7c05a0",
   "metadata": {},
   "outputs": [],
   "source": [
    "bandit = RecommenderBandit(clusters, 2.0)"
   ]
  },
  {
   "cell_type": "code",
   "execution_count": 78,
   "id": "52a25a34",
   "metadata": {},
   "outputs": [],
   "source": [
    "random_rec = RecommenderRandom(clusters)"
   ]
  },
  {
   "cell_type": "code",
   "execution_count": 80,
   "id": "922e7bd8",
   "metadata": {},
   "outputs": [],
   "source": [
    "current_user = random.choice(users)"
   ]
  },
  {
   "cell_type": "code",
   "execution_count": 81,
   "id": "4532b2a4",
   "metadata": {},
   "outputs": [
    {
     "name": "stdout",
     "output_type": "stream",
     "text": [
      "Round 0, book 34355050, score 2.007433047216707\n",
      "Round 100, book 9523251, score 3.045932829077853\n",
      "Round 200, book 25459447, score 3.1080206633121894\n",
      "Round 300, book 35400310, score 3.106344004076624\n",
      "Round 400, book 27821037, score 2.1865563120343463\n",
      "Round 500, book 15700469, score 3.311572163126535\n",
      "Round 600, book 13002123, score 3.5046401873773667\n",
      "Round 700, book 25762893, score 3.229809361346439\n",
      "Round 800, book 5800159, score 3.4891456327742807\n",
      "Round 900, book 996347, score 4.191038055941544\n"
     ]
    }
   ],
   "source": [
    "result_bandit = play(1000, current_user, bandit)"
   ]
  },
  {
   "cell_type": "code",
   "execution_count": 82,
   "id": "71a33dc3",
   "metadata": {},
   "outputs": [
    {
     "data": {
      "text/plain": [
       "[2.007433047216707,\n",
       " 2.0116584276374256,\n",
       " 3.882453536072294,\n",
       " 3.583038922054875,\n",
       " 1.4863391079405683,\n",
       " 1.631006573619506,\n",
       " 3.704393092993888,\n",
       " 3.3242853395769587,\n",
       " 2.0974045577649094,\n",
       " 3.0470690683351616,\n",
       " 2.0201860257240347,\n",
       " 2.7376147346939583,\n",
       " 2.87073736266633,\n",
       " 3.228119057529924,\n",
       " 3.0016689231294844,\n",
       " 1.8941351086829936,\n",
       " 2.023475061519957,\n",
       " 2.8104114557863156,\n",
       " 3.450592315317187,\n",
       " 2.6918254877587593,\n",
       " 3.339572314675534,\n",
       " 2.4045844077997423,\n",
       " 2.8178301561985646,\n",
       " 3.4300370304735863,\n",
       " 3.005227486266891,\n",
       " 3.39004854157367,\n",
       " 0.0,\n",
       " 4.101905357361757,\n",
       " 3.3337162099700492,\n",
       " 3.6737392844548804,\n",
       " 2.7280713592978842,\n",
       " 2.808387456061984,\n",
       " 2.2803688217239646,\n",
       " 3.5529007390892904,\n",
       " 3.242441112092485,\n",
       " 3.0087890484879978,\n",
       " 3.2479283681871207,\n",
       " 3.2247984750766223,\n",
       " 2.8488509320647513,\n",
       " 3.279550070540063,\n",
       " 3.82536038062802,\n",
       " 1.8259126155288232,\n",
       " 3.4913984504695397,\n",
       " 2.351212101909935,\n",
       " 3.6945039273742752,\n",
       " 3.0341818920998187,\n",
       " 3.7962613157260283,\n",
       " 2.4207244297309134,\n",
       " 3.087167417249163,\n",
       " 2.880210283309648,\n",
       " 3.841598583554994,\n",
       " 2.8703367674510663,\n",
       " 2.8244982042772433,\n",
       " 3.7249339497568656,\n",
       " 2.1427608899571084,\n",
       " 3.477986785941727,\n",
       " 1.2972101697915108,\n",
       " 3.6463868044525327,\n",
       " 2.468383671252857,\n",
       " 3.707172090467717,\n",
       " 3.850673119399231,\n",
       " 2.9098168202216415,\n",
       " 2.5213058378260147,\n",
       " 4.014912153424599,\n",
       " 2.735216717304991,\n",
       " 3.114768572209202,\n",
       " 2.899486525513746,\n",
       " 2.564486753270586,\n",
       " 2.7068611444498867,\n",
       " 2.892076749784002,\n",
       " 3.6076267272086078,\n",
       " 3.3925257780143845,\n",
       " 2.537012162991532,\n",
       " 3.6002041937863676,\n",
       " 3.3487648921580218,\n",
       " 3.1296869515315273,\n",
       " 3.3168857007592054,\n",
       " 3.627841211109083,\n",
       " 3.7813504488080953,\n",
       " 2.4261535735323005,\n",
       " 1.8346127347920542,\n",
       " 3.0838741818732665,\n",
       " 2.2295086482713034,\n",
       " 3.192229498578485,\n",
       " 2.921478601455594,\n",
       " 2.4158342236895094,\n",
       " 3.034033310676833,\n",
       " 2.5773240973471845,\n",
       " 3.5002005029636045,\n",
       " 3.618402086748687,\n",
       " 2.4575231627689456,\n",
       " 2.859830815659141,\n",
       " 2.6343521170973303,\n",
       " 2.6699956796457465,\n",
       " 2.9833613064775935,\n",
       " 3.2888393425183144,\n",
       " 2.923960205968165,\n",
       " 2.7550539557983287,\n",
       " 2.977536793976612,\n",
       " 3.294822919087029,\n",
       " 3.045932829077853,\n",
       " 3.354519656722061,\n",
       " 3.6531503230947746,\n",
       " 3.0636291444671033,\n",
       " 2.6409250804937785,\n",
       " 3.7275364487190292,\n",
       " 3.410859762109022,\n",
       " 2.7738430575710655,\n",
       " 3.2423402329607303,\n",
       " 3.5725157600348547,\n",
       " 3.1557072827186383,\n",
       " 3.6300682168007365,\n",
       " 3.3512904754378856,\n",
       " 2.6774160638761804,\n",
       " 3.710339335367904,\n",
       " 2.6110766249328607,\n",
       " 3.5677463716095192,\n",
       " 3.7762795544446903,\n",
       " 2.6592755069540672,\n",
       " 3.176935863702617,\n",
       " 3.839770120456335,\n",
       " 2.87237896490958,\n",
       " 2.769641498986352,\n",
       " 3.20481283156362,\n",
       " 2.808551552951389,\n",
       " 3.146576772858272,\n",
       " 3.8667264180014134,\n",
       " 2.949497837406116,\n",
       " 2.835413107748921,\n",
       " 3.4494581185856332,\n",
       " 3.6790123198090385,\n",
       " 3.71715428614893,\n",
       " 2.8468109604897522,\n",
       " 0.0,\n",
       " 3.7523052950375044,\n",
       " 3.1304593859864327,\n",
       " 3.8481038902385927,\n",
       " 2.771931713346029,\n",
       " 2.7379391844376073,\n",
       " 2.974318283707614,\n",
       " 2.960243179674622,\n",
       " 3.107968358402341,\n",
       " 2.05808960641999,\n",
       " 3.365808558800145,\n",
       " 3.7073031470749838,\n",
       " 2.851587610368732,\n",
       " 3.3920088955622543,\n",
       " 2.330513546040921,\n",
       " 2.7653411207315863,\n",
       " 3.1131472256856463,\n",
       " 3.6561313029631504,\n",
       " 3.0544184848694886,\n",
       " 3.429779492775431,\n",
       " 3.540432937817669,\n",
       " 3.7310708346928276,\n",
       " 2.842991096823354,\n",
       " 3.1903513890784843,\n",
       " 1.6452372886200735,\n",
       " 2.4834797912900357,\n",
       " 2.6241683950871555,\n",
       " 3.0845480959044815,\n",
       " 3.0014304366299633,\n",
       " 2.5188304303649245,\n",
       " 3.506339558561294,\n",
       " 3.248603686365476,\n",
       " 3.6813162562201356,\n",
       " 2.303942343854514,\n",
       " 3.501381931314175,\n",
       " 3.0315387633418145,\n",
       " 3.658649526380099,\n",
       " 3.19714184678184,\n",
       " 3.1804771845832907,\n",
       " 3.558421676917502,\n",
       " 3.126868112696798,\n",
       " 3.155347295760063,\n",
       " 3.3820846395872075,\n",
       " 2.6791364722421003,\n",
       " 3.3033002266755034,\n",
       " 3.6655481966938224,\n",
       " 2.3316592145965545,\n",
       " 3.156364222025068,\n",
       " 3.7911178188120296,\n",
       " 3.542210166116033,\n",
       " 2.0597546150897283,\n",
       " 3.0818756755197323,\n",
       " 3.270328034932269,\n",
       " 3.105708061095847,\n",
       " 3.780967281058582,\n",
       " 3.085150301755444,\n",
       " 3.7241042669537734,\n",
       " 3.204514126590093,\n",
       " 2.0204055755176307,\n",
       " 2.9107824325709544,\n",
       " 3.9676767085173203,\n",
       " 3.3248946155582475,\n",
       " 3.760709767948495,\n",
       " 2.5849700428399602,\n",
       " 3.1717739589501828,\n",
       " 2.478593049652732,\n",
       " 2.098867902661706,\n",
       " 3.1080206633121894,\n",
       " 2.964450287239532,\n",
       " 3.062670162250331,\n",
       " 2.943654207870887,\n",
       " 2.750368923433044,\n",
       " 3.6349436636974426,\n",
       " 3.005441648593748,\n",
       " 3.4763437173142195,\n",
       " 2.5713666527779515,\n",
       " 3.176597612836947,\n",
       " 2.891839899221409,\n",
       " 3.7315806786282253,\n",
       " 2.7096781094950617,\n",
       " 3.0751802557797183,\n",
       " 2.8583286106987917,\n",
       " 1.773901784681218,\n",
       " 3.663352764058169,\n",
       " 4.19376472046104,\n",
       " 2.5302802620239953,\n",
       " 3.79405373043959,\n",
       " 2.986732525043189,\n",
       " 3.510388323545119,\n",
       " 3.1213491420532757,\n",
       " 2.772049773671339,\n",
       " 2.956569743945057,\n",
       " 4.0204315610023285,\n",
       " 2.9409325217225395,\n",
       " 4.053161923512418,\n",
       " 3.332099516366143,\n",
       " 3.4046606429676793,\n",
       " 3.393682429036471,\n",
       " 2.8376056330155186,\n",
       " 4.251233855689628,\n",
       " 3.711842703892929,\n",
       " 3.0790968614755525,\n",
       " 3.5784770576523743,\n",
       " 2.831590973904783,\n",
       " 3.069239456902322,\n",
       " 3.7416164649361154,\n",
       " 3.206043645732047,\n",
       " 3.2169678980727583,\n",
       " 3.684823257153235,\n",
       " 3.6034490920014917,\n",
       " 3.6560605612571666,\n",
       " 3.2919270373428358,\n",
       " 2.456159475133053,\n",
       " 2.171312772691411,\n",
       " 3.078193602262704,\n",
       " 3.5633955289972676,\n",
       " 3.3786553590200405,\n",
       " 2.7475896079734135,\n",
       " 3.6957393511491823,\n",
       " 3.484601327059643,\n",
       " 3.6411595836055195,\n",
       " 3.175409643068381,\n",
       " 3.47137290957093,\n",
       " 3.7078358435231573,\n",
       " 2.586058816016674,\n",
       " 3.7397260794979377,\n",
       " 2.6331288217317566,\n",
       " 3.2782693363003284,\n",
       " 2.8883078811691085,\n",
       " 3.567493076957945,\n",
       " 3.748692004346686,\n",
       " 3.459432346720774,\n",
       " 3.357333238586971,\n",
       " 3.089702314732592,\n",
       " 3.598093479726776,\n",
       " 3.55961993464023,\n",
       " 3.860619021130403,\n",
       " 2.4918213298612018,\n",
       " 2.7798864571042494,\n",
       " 2.8900927488884585,\n",
       " 2.80300301786765,\n",
       " 2.172593839265201,\n",
       " 2.77682370460468,\n",
       " 2.9670464598094344,\n",
       " 3.4272364035488505,\n",
       " 2.5105771179609397,\n",
       " 3.385164095130593,\n",
       " 3.8464152669173037,\n",
       " 3.5612909731143843,\n",
       " 2.6644934561412135,\n",
       " 2.666069372529142,\n",
       " 3.1915251406912826,\n",
       " 3.619135951556678,\n",
       " 2.9415228845985886,\n",
       " 3.0762250909453512,\n",
       " 2.9831891083251763,\n",
       " 3.3134470885749243,\n",
       " 3.0476771411225396,\n",
       " 2.9130779875025614,\n",
       " 3.4363226241597205,\n",
       " 3.2402298818974122,\n",
       " 3.75818586644461,\n",
       " 2.7374074206241756,\n",
       " 3.349884062847296,\n",
       " 3.412005719047385,\n",
       " 3.331194798644417,\n",
       " 2.361530250036048,\n",
       " 3.106344004076624,\n",
       " 2.904460206731237,\n",
       " 2.7887094276398927,\n",
       " 3.5866668117511495,\n",
       " 3.3867971187904997,\n",
       " 3.303999748228894,\n",
       " 2.7194730223508565,\n",
       " 2.8782344575784573,\n",
       " 3.009810229369217,\n",
       " 3.063180205903212,\n",
       " 3.2911518446334567,\n",
       " 3.896174331122176,\n",
       " 2.928549122316957,\n",
       " 2.516238883153728,\n",
       " 3.1586197559097857,\n",
       " 3.1963460156623924,\n",
       " 2.7496067185679633,\n",
       " 3.4693641776997284,\n",
       " 2.823600662309724,\n",
       " 3.6032209448565524,\n",
       " 2.7338695481505852,\n",
       " 3.047298643197792,\n",
       " 3.251329535192323,\n",
       " 3.5545362142431753,\n",
       " 3.7271848944875328,\n",
       " 2.887727449660571,\n",
       " 2.9024880473397547,\n",
       " 2.8999830592780858,\n",
       " 2.97499548937156,\n",
       " 2.817950752742438,\n",
       " 2.5257618468076557,\n",
       " 3.147599399937095,\n",
       " 2.709055525571036,\n",
       " 3.4062435359776058,\n",
       " 2.8875303623219084,\n",
       " 3.535553299952426,\n",
       " 3.8110896228289324,\n",
       " 2.9687200871160586,\n",
       " 3.085511523665039,\n",
       " 2.7681710385105167,\n",
       " 3.3786553590200405,\n",
       " 3.4896322796341406,\n",
       " 3.756692530418219,\n",
       " 3.287426980127015,\n",
       " 3.489221193956196,\n",
       " 2.987096196082816,\n",
       " 2.7838682814859697,\n",
       " 2.8272593573470957,\n",
       " 2.9364757455682318,\n",
       " 3.5472645150670026,\n",
       " 3.4193799247310634,\n",
       " 3.75240031846336,\n",
       " 3.8552520722225188,\n",
       " 4.0106127133196035,\n",
       " 3.1576723094429573,\n",
       " 2.7291415332381477,\n",
       " 2.399185435438256,\n",
       " 2.81923490308626,\n",
       " 2.166031008600495,\n",
       " 3.098162870576217,\n",
       " 2.801089385376543,\n",
       " 3.2711240011272995,\n",
       " 3.5941546720870154,\n",
       " 3.966325884840031,\n",
       " 3.7159769055754324,\n",
       " 3.822937435857122,\n",
       " 3.328244199261727,\n",
       " 3.3508634581836714,\n",
       " 3.4628238172558103,\n",
       " 2.587042320043741,\n",
       " 3.070997932545201,\n",
       " 3.2236410479301143,\n",
       " 3.734717376653662,\n",
       " 2.806516722853442,\n",
       " 2.739949897909102,\n",
       " 3.2927095171266956,\n",
       " 3.3157638135601757,\n",
       " 3.6288433936176006,\n",
       " 2.9418309649522087,\n",
       " 3.3316401154270987,\n",
       " 2.831223445818984,\n",
       " 2.3824680359199704,\n",
       " 3.5146682638110485,\n",
       " 4.044210851226191,\n",
       " 2.9566538221274383,\n",
       " 3.38528033703618,\n",
       " 3.2507151063580886,\n",
       " 2.8370886807134004,\n",
       " 3.398694534230693,\n",
       " 3.7582327112266265,\n",
       " 3.3616611658712507,\n",
       " 4.141419997686668,\n",
       " 3.2724112562345624,\n",
       " 3.5789080881768673,\n",
       " 2.522138036814813,\n",
       " 3.219310871000343,\n",
       " 3.028700271798922,\n",
       " 3.005386800552638,\n",
       " 3.2486241768642623,\n",
       " 3.4971868106938055,\n",
       " 2.1865563120343463,\n",
       " 2.753096686693754,\n",
       " 1.8284978916328152,\n",
       " 3.3686644357526863,\n",
       " 2.9221896803707406,\n",
       " 3.2347401937498628,\n",
       " 3.173478283471718,\n",
       " 2.6335786945165482,\n",
       " 2.219765496857053,\n",
       " 3.3148168668431848,\n",
       " 3.396598038131067,\n",
       " 2.784213947782563,\n",
       " 3.0000563787358487,\n",
       " 2.9117095418238246,\n",
       " 3.0683570992119007,\n",
       " 3.572960713943397,\n",
       " 3.9300359023544402,\n",
       " 4.0841325177659,\n",
       " 3.496502664537804,\n",
       " 2.868645202500636,\n",
       " 2.959634094357142,\n",
       " 4.134811019867407,\n",
       " 3.253453142383422,\n",
       " 3.325496821268411,\n",
       " 3.013591805547977,\n",
       " 3.4644595983886726,\n",
       " 3.0849163573811276,\n",
       " 4.241279210674854,\n",
       " 3.8930843233240005,\n",
       " 3.187427743269398,\n",
       " 3.393953316423772,\n",
       " 3.420319416557067,\n",
       " 3.5521886854835434,\n",
       " 3.4815695971429768,\n",
       " 3.2548105633748694,\n",
       " 3.3651175216311353,\n",
       " 2.675042449070873,\n",
       " 2.777126795445027,\n",
       " 3.1781635435088917,\n",
       " 3.8511580846475306,\n",
       " 2.8118452138716736,\n",
       " 3.20948823244082,\n",
       " 3.4022556451285197,\n",
       " 3.5871517254884706,\n",
       " 3.904608885130633,\n",
       " 2.7235100145440843,\n",
       " 3.146949993617977,\n",
       " 3.278077970120466,\n",
       " 3.741316227304686,\n",
       " 3.651067806865045,\n",
       " 3.1205838355946547,\n",
       " 3.204337473002763,\n",
       " 3.12562309039443,\n",
       " 2.8982382320302595,\n",
       " 3.312056228255907,\n",
       " 3.2508491119009943,\n",
       " 3.331574090673463,\n",
       " 3.482385086850167,\n",
       " 3.5477697015069114,\n",
       " 2.2457257527669072,\n",
       " 2.954930983623929,\n",
       " 3.4813615815437444,\n",
       " 2.5935679267262755,\n",
       " 3.217058854703021,\n",
       " 2.8655202042810215,\n",
       " 3.8586118905808373,\n",
       " 3.0231234550237143,\n",
       " 2.7476789467743985,\n",
       " 3.3451685622898073,\n",
       " 4.056493938297909,\n",
       " 3.507564021907108,\n",
       " 2.8748369794265196,\n",
       " 3.1368975975448037,\n",
       " 3.7978064645694047,\n",
       " 2.540394867591621,\n",
       " 3.0899878521956454,\n",
       " 3.800647280589129,\n",
       " 3.208834206812198,\n",
       " 3.0928281900373404,\n",
       " 3.064393230152566,\n",
       " 3.2475960821125187,\n",
       " 3.07398316934336,\n",
       " 3.67663884980355,\n",
       " 3.357465578116504,\n",
       " 3.3146670300702334,\n",
       " 3.213694245691284,\n",
       " 3.737800455611762,\n",
       " 3.324083788992637,\n",
       " 2.8648436827725616,\n",
       " 3.8095317847461185,\n",
       " 2.74755980701811,\n",
       " 3.7389983100146797,\n",
       " 3.3043408558134986,\n",
       " 3.628028346219352,\n",
       " 2.8263290161689345,\n",
       " 3.1040831342899895,\n",
       " 3.0612182605115503,\n",
       " 3.3727992990721014,\n",
       " 2.9370531482648454,\n",
       " 3.0154348549383965,\n",
       " 3.311572163126535,\n",
       " 4.108611726197817,\n",
       " 4.128438971291358,\n",
       " 3.0893395397897514,\n",
       " 2.7031233881346854,\n",
       " 3.289558293217936,\n",
       " 2.8775887384032943,\n",
       " 3.8394020834934315,\n",
       " 3.826312947761113,\n",
       " 2.7916068623953665,\n",
       " 3.277473016364413,\n",
       " 2.3966663074609684,\n",
       " 3.5672730074575996,\n",
       " 3.607111522251975,\n",
       " 3.780181401417458,\n",
       " 2.8698439076752593,\n",
       " 3.58950274722674,\n",
       " 3.334376631152082,\n",
       " 3.370618898119653,\n",
       " 3.4773204033405607,\n",
       " 3.873244390984708,\n",
       " 3.34062501087831,\n",
       " 3.286963180190955,\n",
       " 3.1735312442128665,\n",
       " 3.589934561307594,\n",
       " 3.3031089470016837,\n",
       " 3.495702907561503,\n",
       " 3.203391121139315,\n",
       " 3.169642321988827,\n",
       " 3.7318196868898057,\n",
       " 2.963339233044817,\n",
       " 3.4901428550532616,\n",
       " 3.29415452502252,\n",
       " 4.065740695148401,\n",
       " 3.446099870761627,\n",
       " 3.1434130866982644,\n",
       " 3.1195887597715966,\n",
       " 4.0998929293938415,\n",
       " 3.328098656165834,\n",
       " 2.8938179110096782,\n",
       " 3.0614254329212085,\n",
       " 3.701979085155292,\n",
       " 2.9630292024952074,\n",
       " 3.4163335336168323,\n",
       " 3.3314235058722885,\n",
       " 3.884153562833706,\n",
       " 3.422902225533785,\n",
       " 3.833940476799547,\n",
       " 2.462548746154405,\n",
       " 3.0609602215627754,\n",
       " 4.009633786870429,\n",
       " 2.6291257259571035,\n",
       " 2.822480011802931,\n",
       " 3.3572330755984283,\n",
       " 3.1939846133192393,\n",
       " 3.2819730646377008,\n",
       " 3.3180868362883222,\n",
       " 3.7044034528839584,\n",
       " 3.6849381081909214,\n",
       " 2.4994755168827774,\n",
       " 2.4451448615480706,\n",
       " 3.9700309713222506,\n",
       " 3.0976986142297376,\n",
       " 3.4990313900675565,\n",
       " 4.20774780232189,\n",
       " 3.6020360739350155,\n",
       " 3.278523451908792,\n",
       " 3.3441341973358285,\n",
       " 2.802964265315182,\n",
       " 3.028601751108574,\n",
       " 2.7751873220153715,\n",
       " 3.612431262115133,\n",
       " 2.795685635723547,\n",
       " 3.799544562656047,\n",
       " 3.451412350110702,\n",
       " 3.3712151039066223,\n",
       " 2.91607195564662,\n",
       " 3.621952232204734,\n",
       " 2.253674975885877,\n",
       " 3.3825539726472265,\n",
       " 3.873518321668607,\n",
       " 3.153846112030282,\n",
       " 3.4495476392977444,\n",
       " 3.247438432966217,\n",
       " 4.0992638006459385,\n",
       " 3.2740886709396166,\n",
       " 3.761677211055202,\n",
       " 3.2283766576704376,\n",
       " 3.522502506176138,\n",
       " 3.0877470551383257,\n",
       " 4.081411080541429,\n",
       " 3.245557195576091,\n",
       " 3.076550424063912,\n",
       " 3.2181022068168943,\n",
       " 3.7175045307279007,\n",
       " 3.2429316535453228,\n",
       " 3.3050619139702038,\n",
       " 3.2152977989148166,\n",
       " 3.4032695122848966,\n",
       " 3.2658893214261497,\n",
       " 3.5046401873773667,\n",
       " 3.8750927623424585,\n",
       " 2.804097690977757,\n",
       " 2.171312772691411,\n",
       " 2.9693326182817854,\n",
       " 3.141560094344713,\n",
       " 3.2226494415788878,\n",
       " 3.366800830865632,\n",
       " 2.867011222159083,\n",
       " 2.7306632636980606,\n",
       " 3.532711154404563,\n",
       " 2.9908442271116518,\n",
       " 3.893291316399513,\n",
       " 3.5642298125270884,\n",
       " 3.4704066575011274,\n",
       " 2.594298708613795,\n",
       " 4.279474602313703,\n",
       " 3.5620764452090685,\n",
       " 3.102298322411491,\n",
       " 3.5643317783173654,\n",
       " 3.6870695349254805,\n",
       " 3.9551635286805724,\n",
       " 3.2305227258651716,\n",
       " 3.627777813436423,\n",
       " 2.6039367120723313,\n",
       " 2.7679237659752363,\n",
       " 3.391171058805465,\n",
       " 3.171355780941084,\n",
       " 2.6153236113810756,\n",
       " 3.0662822407564163,\n",
       " 3.052307173323347,\n",
       " 3.049599728751412,\n",
       " 2.9046474520058485,\n",
       " 3.4543507967151177,\n",
       " 3.205867277025613,\n",
       " 3.440161984944665,\n",
       " 3.180095919144703,\n",
       " 3.4930383385833172,\n",
       " 2.735342117078833,\n",
       " 3.4712940919649533,\n",
       " 3.6509839486618394,\n",
       " 2.75509282626228,\n",
       " 3.509337356388265,\n",
       " 3.46626522397105,\n",
       " 3.1877063144476057,\n",
       " 3.343508955868807,\n",
       " 3.493562881003756,\n",
       " 3.2429159438675854,\n",
       " 3.3624355763758422,\n",
       " 3.2238528228350947,\n",
       " 3.294534327821784,\n",
       " 3.4081881417282944,\n",
       " 3.0262452327252256,\n",
       " 3.659746682897663,\n",
       " 2.5796636101357806,\n",
       " 3.680387632957865,\n",
       " 2.3815694322653664,\n",
       " 3.4320192465129327,\n",
       " 2.9851209914259216,\n",
       " 3.6736108562774583,\n",
       " 3.009438265377683,\n",
       " 3.329639026450208,\n",
       " 2.9567602479409443,\n",
       " 3.3328604518389935,\n",
       " 3.434699620137059,\n",
       " 3.118906129769047,\n",
       " 3.0911874023913466,\n",
       " 3.0142590136201206,\n",
       " 2.5616717670218447,\n",
       " 4.0533583340533195,\n",
       " 3.2272256040976517,\n",
       " 3.5344520151562446,\n",
       " 3.522260510429482,\n",
       " 3.510079843252395,\n",
       " 2.6488283787873197,\n",
       " 2.5599921495799807,\n",
       " 3.0110142851787973,\n",
       " 3.151522984573637,\n",
       " 3.2667629943777885,\n",
       " 2.763269194265514,\n",
       " 3.4981314236491388,\n",
       " 3.0709920334590057,\n",
       " 2.8981672690974714,\n",
       " 4.092386330958736,\n",
       " 2.944864124616882,\n",
       " 2.852924429380958,\n",
       " 2.258778432095155,\n",
       " 3.7588946949153668,\n",
       " 2.9403706249795767,\n",
       " 4.040406488460144,\n",
       " 2.7298840187326174,\n",
       " 3.4056790149370872,\n",
       " 2.961849157149973,\n",
       " 2.861915373058726,\n",
       " 3.5126698538329846,\n",
       " 2.8161253522607774,\n",
       " 2.944886955989222,\n",
       " 3.5625330680464353,\n",
       " 3.3399257630872285,\n",
       " 3.13143001395737,\n",
       " 3.229809361346439,\n",
       " 2.9354248207337,\n",
       " 3.452842054317633,\n",
       " 3.2883423974502697,\n",
       " 3.185272399582496,\n",
       " 3.078953260881616,\n",
       " 4.128385254802546,\n",
       " 3.35949744695165,\n",
       " 2.556567482838941,\n",
       " 4.219056451061849,\n",
       " 3.01914012007931,\n",
       " 3.2569785173759613,\n",
       " 2.5899363017348014,\n",
       " 2.706508011992133,\n",
       " 2.392611942019807,\n",
       " 3.147280868392496,\n",
       " 3.0147847297632873,\n",
       " 2.860737438204426,\n",
       " 2.68896883609619,\n",
       " 3.0979647472882426,\n",
       " 3.523817665675653,\n",
       " 3.2426055839533485,\n",
       " 3.3277446991946955,\n",
       " 2.9777674212003102,\n",
       " 3.7160309796363804,\n",
       " 3.2990177787674737,\n",
       " 3.603369147015411,\n",
       " 3.2819324380137793,\n",
       " 2.9586417294881184,\n",
       " 3.3314235058722885,\n",
       " 3.4558690371656997,\n",
       " 3.379069439937189,\n",
       " 2.8265502123905346,\n",
       " 3.473506818440214,\n",
       " 3.383119456379279,\n",
       " 2.987199293664603,\n",
       " 3.765623438776649,\n",
       " 3.3578649826599647,\n",
       " 3.754198473470171,\n",
       " 3.2357438531635374,\n",
       " 3.987147139768014,\n",
       " 3.279889697468009,\n",
       " 2.828840855804341,\n",
       " 3.5972767557604683,\n",
       " 2.865505487106528,\n",
       " 2.7152352949612117,\n",
       " 3.094946163495974,\n",
       " 3.328690030395933,\n",
       " 3.6655481966938224,\n",
       " 3.435664914922785,\n",
       " 3.423602580407296,\n",
       " 3.6242975960655004,\n",
       " 4.181540013515851,\n",
       " 2.7998863986799565,\n",
       " 2.587005781898679,\n",
       " 3.660672195182742,\n",
       " 3.556123796836238,\n",
       " 2.788240362017723,\n",
       " 3.1359101859021834,\n",
       " 3.2697989113074883,\n",
       " 2.6929296481055967,\n",
       " 3.7100168605198145,\n",
       " 3.0887154523937332,\n",
       " 2.9592946551224366,\n",
       " 3.4533943074412763,\n",
       " 3.2387452333251145,\n",
       " 4.132594071164138,\n",
       " 4.369459601224902,\n",
       " 3.295240503242464,\n",
       " 2.546047909984132,\n",
       " 3.322748098005137,\n",
       " 3.0938541188128625,\n",
       " 3.3042077221358483,\n",
       " 3.32970127301885,\n",
       " 3.4756856709166786,\n",
       " 3.168020965076948,\n",
       " 2.660551245340233,\n",
       " 3.3016235442168083,\n",
       " 2.7651252330509597,\n",
       " 3.1507525457755072,\n",
       " 3.7589886127940417,\n",
       " 3.9080086352459626,\n",
       " 3.372581645903667,\n",
       " 3.541793801931905,\n",
       " 4.131604437402307,\n",
       " 2.455938996180658,\n",
       " 3.9211648871647315,\n",
       " 3.095399659569003,\n",
       " 3.1107645005790743,\n",
       " 2.8456569995753926,\n",
       " 3.411847658555743,\n",
       " 3.318604586912213,\n",
       " 3.2144637275913084,\n",
       " 2.799588571017885,\n",
       " 4.150511377547287,\n",
       " 3.026890559787751,\n",
       " 3.7668881387784237,\n",
       " 3.5253324210193995,\n",
       " 3.3710029737969998,\n",
       " 3.3730959753377414,\n",
       " 3.4891456327742807,\n",
       " 3.3194133225437055,\n",
       " 3.54554466239831,\n",
       " 3.5607873850227123,\n",
       " 3.0384519373777077,\n",
       " 2.574567815128243,\n",
       " 3.650650237900208,\n",
       " 3.5255539194896888,\n",
       " 2.8928780218630803,\n",
       " 3.5367109343175036,\n",
       " 3.578192499343712,\n",
       " 3.1832990627371958,\n",
       " 2.9039914517736602,\n",
       " 3.583524619410819,\n",
       " 3.7739417253135747,\n",
       " 3.660600754292274,\n",
       " 3.467460637153982,\n",
       " 3.8250733860299055,\n",
       " 3.20594172964675,\n",
       " 3.5948117320577038,\n",
       " 4.048585479939441,\n",
       " 3.2418406411485203,\n",
       " 3.560855383888354,\n",
       " 3.505359914830907,\n",
       " 2.879230125089075,\n",
       " 2.544754722409972,\n",
       " 3.467238193607094,\n",
       " 3.2861251182625324,\n",
       " 3.3106612180876547,\n",
       " 2.6562321819404864,\n",
       " 2.6568991447292487,\n",
       " 3.7471834150818197,\n",
       " 3.7833180965597557,\n",
       " 3.1103500112887748,\n",
       " 3.600422146180494,\n",
       " 3.5119433588368456,\n",
       " 3.633885417515381,\n",
       " 3.2538560018086726,\n",
       " 3.0747121086139195,\n",
       " 2.727267345896539,\n",
       " 3.0215715200356668,\n",
       " 3.8298635143671156,\n",
       " 3.145359783923613,\n",
       " 3.4568061839111826,\n",
       " 3.556931706523909,\n",
       " 3.3956988876496013,\n",
       " 2.9782229608056467,\n",
       " 3.7033647023855476,\n",
       " 3.115135169743121,\n",
       " 2.821872080890703,\n",
       " 3.787055430208551,\n",
       " 3.274956195501881,\n",
       " 3.0050791801657435,\n",
       " 3.426271988870349,\n",
       " 3.427977490897039,\n",
       " 3.021371807804354,\n",
       " 3.597278870399612,\n",
       " 2.8719288118708817,\n",
       " 2.7126365449748295,\n",
       " 3.7035499393115994,\n",
       " 2.945034339875059,\n",
       " 2.8573807883147313,\n",
       " 3.4945508398685896,\n",
       " 3.72714022253433,\n",
       " 3.0309827906830002,\n",
       " 3.484601327059643,\n",
       " 2.762330875548087,\n",
       " 2.8583176672103603,\n",
       " 3.1482662284407916,\n",
       " 3.4056790149370872,\n",
       " 3.34389645489053,\n",
       " 3.8032034816041143,\n",
       " 2.765118830177863,\n",
       " 3.276008857932838,\n",
       " 3.8572664671094756,\n",
       " 3.2231705031483866,\n",
       " 3.270124329440686,\n",
       " 3.4019850508578675,\n",
       " 3.138163748888608,\n",
       " 3.474556550790125,\n",
       " 3.74061019425117,\n",
       " 3.3521966033978616,\n",
       " 3.3353399456773323,\n",
       " 3.545653023148173,\n",
       " 2.97868430732198,\n",
       " 2.9205462530851816,\n",
       " 3.289352239047436,\n",
       " 2.780777119421846,\n",
       " 3.537053564752291,\n",
       " 3.3811134277053707,\n",
       " 2.940667071736078,\n",
       " 2.9371238055397306,\n",
       " 3.6546398709948007,\n",
       " 3.426009525203012,\n",
       " 3.358776946754179,\n",
       " 3.1380008563332606,\n",
       " 2.789989112400578,\n",
       " 2.9464718485516217,\n",
       " 3.8508608236802617,\n",
       " 3.3137261215946356,\n",
       " 4.191038055941544,\n",
       " 3.4409182021162734,\n",
       " 3.412940494657976,\n",
       " 2.538641408864539,\n",
       " 3.2169678980727583,\n",
       " 3.3165050597274024,\n",
       " 2.6907227064280175,\n",
       " 3.341004225689564,\n",
       " 2.560107641176992,\n",
       " 3.509576859977563,\n",
       " 3.750026930185271,\n",
       " 3.2842092619150733,\n",
       " 3.6986385025552955,\n",
       " 2.78842029031099,\n",
       " 3.013625359653352,\n",
       " 3.1436742754195657,\n",
       " 3.700393385876192,\n",
       " 3.1732199644722545,\n",
       " 3.4521171479943114,\n",
       " 3.4743354897904912,\n",
       " 3.340388528225629,\n",
       " 3.5992863865382905,\n",
       " 3.3681008927476683,\n",
       " 3.1632169761004008,\n",
       " 3.223139889181569,\n",
       " 3.1657329535146466,\n",
       " 3.706832109827901,\n",
       " 3.657604424793168,\n",
       " 2.847547537430133,\n",
       " 3.654375571235655,\n",
       " 3.4624892683459634,\n",
       " 3.0944608208134423,\n",
       " 2.734515671832485,\n",
       " 3.4933376128396225,\n",
       " 2.5733974255915015,\n",
       " 3.0961984114176517,\n",
       " 3.5144023023277287,\n",
       " 2.747543341738015,\n",
       " 3.076232977563517,\n",
       " 3.012586673232458,\n",
       " 2.87779738752367,\n",
       " 3.3626683255169305,\n",
       " 2.546032900742571,\n",
       " 3.078251352717541,\n",
       " 3.8844438182908427,\n",
       " 3.8412893054606667,\n",
       " 3.260638487982024,\n",
       " 3.0062904772049532,\n",
       " 2.746668347120411,\n",
       " 2.9235725220538558,\n",
       " 3.176510054177993,\n",
       " 2.691655541477221,\n",
       " 3.091155246105552,\n",
       " 3.280177373944945,\n",
       " 3.0444958149255283,\n",
       " 2.883942290989233,\n",
       " 3.145604989688158,\n",
       " 3.3004023826717845,\n",
       " 2.9957746971265045,\n",
       " 3.300336502453129,\n",
       " 2.937825577180527,\n",
       " 3.06812183227974,\n",
       " 3.1465640576906564,\n",
       " 2.8995934199887037,\n",
       " 3.617969757838505,\n",
       " 2.6110856962644604,\n",
       " 3.083750636349329,\n",
       " 2.925814834956097,\n",
       " 3.1043235966990266,\n",
       " 2.8173850460617134,\n",
       " 3.541656566135106,\n",
       " 3.7379439759174926,\n",
       " 3.5730345137220914,\n",
       " 3.3216259194937354,\n",
       " 2.919152337432,\n",
       " 3.882955502022135,\n",
       " 3.0984256382518276,\n",
       " 4.053446057963935,\n",
       " 2.8182217082608556,\n",
       " 3.240031204050394,\n",
       " 2.7831046865927083,\n",
       " 3.1988584191833094,\n",
       " 3.20594172964675,\n",
       " 3.744714944062538,\n",
       " 3.6957393511491823,\n",
       " 3.9235470107325203,\n",
       " 2.898983241447313,\n",
       " 3.7471834150818197,\n",
       " 3.2231410076939517,\n",
       " 3.492112735662082,\n",
       " 2.8885900418072383,\n",
       " 3.4498049972972473,\n",
       " 3.5255858584746473,\n",
       " 3.245981761933765,\n",
       " 3.019434891432578,\n",
       " 2.9819315740791694,\n",
       " 3.5802471095560504,\n",
       " 3.238694982430319,\n",
       " 2.6352612811509615,\n",
       " 2.942611353772093]"
      ]
     },
     "execution_count": 82,
     "metadata": {},
     "output_type": "execute_result"
    }
   ],
   "source": [
    "result_bandit"
   ]
  },
  {
   "cell_type": "code",
   "execution_count": 83,
   "id": "11760d97",
   "metadata": {},
   "outputs": [
    {
     "data": {
      "text/plain": [
       "{8: (1.0, 296.0),\n",
       " 12: (1.0, 255.0),\n",
       " 4: (1.0, 7.0),\n",
       " 2: (2.0, 1.0),\n",
       " 3: (3.0, 6.0),\n",
       " 7: (1.0, 91.0),\n",
       " 9: (2.0, 22.0),\n",
       " 0: (2.0, 4.0),\n",
       " 6: (1.0, 260.0),\n",
       " 14: (1.0, 7.0),\n",
       " 1: (3.0, 1.0),\n",
       " 11: (2.0, 1.0),\n",
       " 5: (2.0, 51.0),\n",
       " 10: (2.0, 1.0),\n",
       " 13: (2.0, 1.0)}"
      ]
     },
     "execution_count": 83,
     "metadata": {},
     "output_type": "execute_result"
    }
   ],
   "source": [
    "bandit.params"
   ]
  },
  {
   "cell_type": "code",
   "execution_count": null,
   "id": "1852484e",
   "metadata": {},
   "outputs": [],
   "source": []
  },
  {
   "cell_type": "code",
   "execution_count": 84,
   "id": "4d205273",
   "metadata": {},
   "outputs": [],
   "source": [
    "from matplotlib import pyplot as plt"
   ]
  },
  {
   "cell_type": "code",
   "execution_count": 85,
   "id": "53a12101",
   "metadata": {},
   "outputs": [
    {
     "data": {
      "text/plain": [
       "[<matplotlib.lines.Line2D at 0x7f41ea06d640>]"
      ]
     },
     "execution_count": 85,
     "metadata": {},
     "output_type": "execute_result"
    },
    {
     "data": {
      "image/png": "[encoded data removed]",
      "text/plain": [
       "<Figure size 640x480 with 1 Axes>"
      ]
     },
     "metadata": {},
     "output_type": "display_data"
    }
   ],
   "source": [
    "plt.plot(result_bandit)"
   ]
  },
  {
   "cell_type": "code",
   "execution_count": null,
   "id": "5635437f",
   "metadata": {},
   "outputs": [],
   "source": []
  },
  {
   "cell_type": "code",
   "execution_count": 86,
   "id": "0e9d8540",
   "metadata": {},
   "outputs": [
    {
     "name": "stdout",
     "output_type": "stream",
     "text": [
      "Round 0, book 7229821, score 2.0943831837483446\n",
      "Round 100, book 680144, score 2.8953228948851937\n",
      "Round 200, book 34369027, score 2.467372617373934\n",
      "Round 300, book 6921454, score 2.4785337301165615\n",
      "Round 400, book 870484, score 3.3509742764182566\n",
      "Round 500, book 16299334, score 1.5561035999223058\n",
      "Round 600, book 32711684, score 2.4184427366302614\n",
      "Round 700, book 1737078, score 2.5185747022083786\n",
      "Round 800, book 16247826, score 3.288428233756427\n",
      "Round 900, book 8697266, score 3.165536585724373\n"
     ]
    }
   ],
   "source": [
    "result_ran = play(1000, current_user, random_rec)"
   ]
  },
  {
   "cell_type": "code",
   "execution_count": 87,
   "id": "2c56fb25",
   "metadata": {},
   "outputs": [
    {
     "data": {
      "text/plain": [
       "[<matplotlib.lines.Line2D at 0x7f41e9af7790>]"
      ]
     },
     "execution_count": 87,
     "metadata": {},
     "output_type": "execute_result"
    },
    {
     "data": {
      "image/png": "[encoded data removed]",
      "text/plain": [
       "<Figure size 640x480 with 1 Axes>"
      ]
     },
     "metadata": {},
     "output_type": "display_data"
    }
   ],
   "source": [
    "plt.plot(result_ran)"
   ]
  },
  {
   "cell_type": "code",
   "execution_count": null,
   "id": "bd40685d",
   "metadata": {},
   "outputs": [],
   "source": []
  },
  {
   "cell_type": "code",
   "execution_count": null,
   "id": "e328c925",
   "metadata": {},
   "outputs": [],
   "source": []
  }
 ],
 "metadata": {
  "kernelspec": {
   "display_name": "Python 3 (ipykernel)",
   "language": "python",
   "name": "python3"
  },
  "language_info": {
   "codemirror_mode": {
    "name": "ipython",
    "version": 3
   },
   "file_extension": ".py",
   "mimetype": "text/x-python",
   "name": "python",
   "nbconvert_exporter": "python",
   "pygments_lexer": "ipython3",
   "version": "3.8.10"
  }
 },
 "nbformat": 4,
 "nbformat_minor": 5
}
