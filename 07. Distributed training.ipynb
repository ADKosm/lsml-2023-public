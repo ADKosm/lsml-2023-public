{
 "cells": [
  {
   "cell_type": "markdown",
   "metadata": {},
   "source": [
    "# Распределенное обучение классических моделей\n",
    "\n",
    "Поговорим про то, как решать задачу машинного обучения, когда самих наблюдений очень много и они все не помещаются на машину.\n",
    "\n",
    "Центральная идея во всех алгоритмах - параллельно на нескольких машинах посчитать частичные элементы, которые требуются для принятия решения, передать их на центральную машину и сделать шаг алгоритма.\n",
    "\n",
    "Для обучения линейных моделей на различных машинах будем считать градиент и на главной машине делать шаг градиентного спуска.\n",
    "\n",
    "Для деревьев решений на различных машинах будем считать распределение по корзинкам (по бинам) и на главной машине будет определять порог для определенного признака."
   ]
  },
  {
   "cell_type": "markdown",
   "metadata": {},
   "source": [
    "### Распределенное обучение VW\n",
    "\n",
    "Vowpal Wabbit также умеет работать распределенно, что делает его универсальным инструментом для обучения линейных моделей на больших данных. Для работы он использует дополнительный компонент - `spanning_tree` - это специальный процесс, который координирует работу различных воркеров между собой.\n",
    "\n",
    "Про него можно также думать, как про корневую вершину в алгоритме \"Tree Allreduce\", который используется для эффективной утилизации сети при обучении.\n",
    "\n",
    "Чтобы иметь возможность использовать `spanning_tree`, необходимо собрать VW руками.\n",
    "\n",
    "\n",
    "Собирем VW. Делать это нужно с суперпользоателя, поэтому удобнее всего запускать из терминала.\n",
    "\n",
    "```bash\n",
    "apt update && \\\n",
    "apt install git psmisc -y && \\\n",
    "apt install libboost-dev libboost-program-options-dev libboost-system-dev libboost-thread-dev libboost-math-dev libboost-test-dev zlib1g-dev cmake g++ -y \n",
    "\n",
    "\n",
    "wget https://github.com/google/flatbuffers/archive/v1.12.0.tar.gz && \\\n",
    "tar -xzf v1.12.0.tar.gz && \\\n",
    "cd flatbuffers-1.12.0 && \\\n",
    "mkdir build_dir && \\\n",
    "cd build_dir && \\\n",
    "cmake -G \"Unix Makefiles\" -DFLATBUFFERS_BUILD_TESTS=Off -DFLATBUFFERS_INSTALL=On -DCMAKE_BUILD_TYPE=Release DFLATBUFFERS_BUILD_FLATHASH=Off .. && \\\n",
    "make install -j$(nproc) && \\\n",
    "cd ../..\n",
    "\n",
    "git clone --recursive https://github.com/VowpalWabbit/vowpal_wabbit.git && \\\n",
    "cd vowpal_wabbit && \\\n",
    "sudo make && \\\n",
    "cd build && \\\n",
    "sudo make install -j$(nproc)\n",
    "```\n",
    "\n",
    "**Хозяйке на заметку** Чтобы получить рутовый доступ с кластера в Azure через Jupyter можно открыть терминал и по ssh подключиться к пользователю `azureuser`. Текущий пользователь `spark` к сожалению имеет очень мало прав.\n",
    "\n",
    "```bash\n",
    "ssh azureuser@localhost\n",
    "sudo su\n",
    "```"
   ]
  },
  {
   "cell_type": "code",
   "execution_count": null,
   "metadata": {},
   "outputs": [],
   "source": [
    "%%writefile install_vw.sh\n",
    "\n",
    "sudo apt update -y\n",
    "sudo apt install git psmisc -y \n",
    "sudo apt install libboost-dev libboost-program-options-dev libboost-system-dev libboost-thread-dev libboost-math-dev libboost-test-dev zlib1g-dev cmake g++ -y \n",
    "\n",
    "wget https://github.com/google/flatbuffers/archive/v1.12.0.tar.gz && \\\n",
    "    tar -xzf v1.12.0.tar.gz && \\\n",
    "    cd flatbuffers-1.12.0 && \\\n",
    "    mkdir build_dir && \\\n",
    "    cd build_dir && \\\n",
    "    cmake -G \"Unix Makefiles\" -DFLATBUFFERS_BUILD_TESTS=Off -DFLATBUFFERS_INSTALL=On -DCMAKE_BUILD_TYPE=Release DFLATBUFFERS_BUILD_FLATHASH=Off .. && \\\n",
    "    make install -j$(nproc) && \\\n",
    "    cd ../..\n",
    "    \n",
    "git clone --recursive https://github.com/VowpalWabbit/vowpal_wabbit.git && \\\n",
    "    cd vowpal_wabbit && \\\n",
    "    git checkout d1ead9a0a9afd56d2ee11a72e0c1aaa7702ee281 && \\\n",
    "    sudo make && \\\n",
    "    cd build && \\\n",
    "    sudo make install -j$(nproc)"
   ]
  },
  {
   "cell_type": "code",
   "execution_count": null,
   "metadata": {},
   "outputs": [],
   "source": [
    "! bash install_vw.sh"
   ]
  },
  {
   "cell_type": "code",
   "execution_count": null,
   "metadata": {},
   "outputs": [],
   "source": [
    "! which vw"
   ]
  },
  {
   "cell_type": "code",
   "execution_count": null,
   "metadata": {
    "cell_status": {
     "execute_time": {
      "duration": 186.580078125,
      "end_time": 1613981874641.176
     }
    }
   },
   "outputs": [],
   "source": [
    "! which spanning_tree"
   ]
  },
  {
   "cell_type": "code",
   "execution_count": null,
   "metadata": {},
   "outputs": [],
   "source": []
  },
  {
   "cell_type": "code",
   "execution_count": null,
   "metadata": {
    "cell_status": {
     "execute_time": {
      "duration": 3100.781982421875,
      "end_time": 1613982023114.511
     }
    }
   },
   "outputs": [],
   "source": [
    "! wget https://archive.ics.uci.edu/ml/machine-learning-databases/00462/drugsCom_raw.zip\n",
    "! unzip drugsCom_raw.zip"
   ]
  },
  {
   "cell_type": "code",
   "execution_count": null,
   "metadata": {},
   "outputs": [],
   "source": [
    "! hdfs dfs -ls /user"
   ]
  },
  {
   "cell_type": "code",
   "execution_count": null,
   "metadata": {
    "cell_status": {
     "execute_time": {
      "duration": 5219.3681640625,
      "end_time": 1613982512264.579
     }
    }
   },
   "outputs": [],
   "source": [
    "! hdfs dfs -rm -r /user/drugs/data || true\n",
    "! hdfs dfs -mkdir -p /user/drugs/data"
   ]
  },
  {
   "cell_type": "code",
   "execution_count": null,
   "metadata": {},
   "outputs": [],
   "source": [
    "! hdfs dfs -ls /user/drugs"
   ]
  },
  {
   "cell_type": "markdown",
   "metadata": {},
   "source": [
    "Выгрузим датасет с препаратами."
   ]
  },
  {
   "cell_type": "code",
   "execution_count": null,
   "metadata": {
    "cell_status": {
     "execute_time": {
      "duration": 3977.365966796875,
      "end_time": 1613982557665.565
     }
    }
   },
   "outputs": [],
   "source": [
    "%%bash\n",
    "\n",
    "cat drugsComTrain_raw.tsv <(tail -n +2 drugsComTest_raw.tsv) | hdfs dfs -put - /user/drugs/data/drugs.tsv"
   ]
  },
  {
   "cell_type": "code",
   "execution_count": null,
   "metadata": {
    "cell_status": {
     "execute_time": {
      "duration": 2452.219970703125,
      "end_time": 1613982582184.549
     }
    }
   },
   "outputs": [],
   "source": [
    "! hdfs dfs -ls  -h /user/drugs/data"
   ]
  },
  {
   "cell_type": "code",
   "execution_count": null,
   "metadata": {
    "cell_status": {
     "execute_time": {
      "duration": 38.340087890625,
      "end_time": 1613982201031.531
     }
    }
   },
   "outputs": [],
   "source": []
  },
  {
   "cell_type": "code",
   "execution_count": null,
   "metadata": {},
   "outputs": [],
   "source": [
    "import findspark\n",
    "findspark.init()"
   ]
  },
  {
   "cell_type": "code",
   "execution_count": null,
   "metadata": {},
   "outputs": [],
   "source": [
    "import pyspark\n",
    "sc = pyspark.SparkContext(appName=\"lsml-app-1\")"
   ]
  },
  {
   "cell_type": "code",
   "execution_count": null,
   "metadata": {},
   "outputs": [],
   "source": [
    "from pyspark.sql import SparkSession, Row\n",
    "se = SparkSession(sc)"
   ]
  },
  {
   "cell_type": "code",
   "execution_count": null,
   "metadata": {
    "cell_status": {
     "execute_time": {
      "duration": 33.364990234375,
      "end_time": 1613986893297.585
     }
    }
   },
   "outputs": [],
   "source": [
    "from pyspark.sql import functions as F\n",
    "from datetime import datetime\n",
    "import re"
   ]
  },
  {
   "cell_type": "code",
   "execution_count": 13,
   "metadata": {
    "cell_status": {
     "execute_time": {
      "duration": 17387.600830078125,
      "end_time": 1613984918317.608
     }
    }
   },
   "outputs": [
    {
     "name": "stderr",
     "output_type": "stream",
     "text": [
      "                                                                                \r"
     ]
    }
   ],
   "source": [
    "data = se.read.option(\"delimiter\", \"\\t\").csv('/user/drugs/data/*', header=True, inferSchema=True)"
   ]
  },
  {
   "cell_type": "code",
   "execution_count": 15,
   "metadata": {
    "cell_status": {
     "execute_time": {
      "duration": 762.689208984375,
      "end_time": 1613984919090.165
     }
    }
   },
   "outputs": [
    {
     "data": {
      "text/html": [
       "<div>\n",
       "<style scoped>\n",
       "    .dataframe tbody tr th:only-of-type {\n",
       "        vertical-align: middle;\n",
       "    }\n",
       "\n",
       "    .dataframe tbody tr th {\n",
       "        vertical-align: top;\n",
       "    }\n",
       "\n",
       "    .dataframe thead th {\n",
       "        text-align: right;\n",
       "    }\n",
       "</style>\n",
       "<table border=\"1\" class=\"dataframe\">\n",
       "  <thead>\n",
       "    <tr style=\"text-align: right;\">\n",
       "      <th></th>\n",
       "      <th>_c0</th>\n",
       "      <th>drugName</th>\n",
       "      <th>condition</th>\n",
       "      <th>review</th>\n",
       "      <th>rating</th>\n",
       "      <th>date</th>\n",
       "      <th>usefulCount</th>\n",
       "    </tr>\n",
       "  </thead>\n",
       "  <tbody>\n",
       "    <tr>\n",
       "      <th>0</th>\n",
       "      <td>206461</td>\n",
       "      <td>Valsartan</td>\n",
       "      <td>Left Ventricular Dysfunction</td>\n",
       "      <td>\"\"\"It has no side effect, I take it in combina...</td>\n",
       "      <td>9.0</td>\n",
       "      <td>May 20, 2012</td>\n",
       "      <td>27.0</td>\n",
       "    </tr>\n",
       "    <tr>\n",
       "      <th>1</th>\n",
       "      <td>95260</td>\n",
       "      <td>Guanfacine</td>\n",
       "      <td>ADHD</td>\n",
       "      <td>\"\"\"My son is halfway through his fourth week o...</td>\n",
       "      <td>None</td>\n",
       "      <td>None</td>\n",
       "      <td>NaN</td>\n",
       "    </tr>\n",
       "    <tr>\n",
       "      <th>2</th>\n",
       "      <td>We have tried many different medications and s...</td>\n",
       "      <td>8.0</td>\n",
       "      <td>April 27, 2010</td>\n",
       "      <td>192</td>\n",
       "      <td>None</td>\n",
       "      <td>None</td>\n",
       "      <td>NaN</td>\n",
       "    </tr>\n",
       "    <tr>\n",
       "      <th>3</th>\n",
       "      <td>92703</td>\n",
       "      <td>Lybrel</td>\n",
       "      <td>Birth Control</td>\n",
       "      <td>\"\"\"I used to take another oral contraceptive, ...</td>\n",
       "      <td>None</td>\n",
       "      <td>None</td>\n",
       "      <td>NaN</td>\n",
       "    </tr>\n",
       "    <tr>\n",
       "      <th>4</th>\n",
       "      <td>The positive side is that I didn&amp;#039;t have a...</td>\n",
       "      <td>5.0</td>\n",
       "      <td>December 14, 2009</td>\n",
       "      <td>17</td>\n",
       "      <td>None</td>\n",
       "      <td>None</td>\n",
       "      <td>NaN</td>\n",
       "    </tr>\n",
       "    <tr>\n",
       "      <th>5</th>\n",
       "      <td>138000</td>\n",
       "      <td>Ortho Evra</td>\n",
       "      <td>Birth Control</td>\n",
       "      <td>\"\"\"This is my first time using any form of bir...</td>\n",
       "      <td>8.0</td>\n",
       "      <td>November 3, 2015</td>\n",
       "      <td>10.0</td>\n",
       "    </tr>\n",
       "    <tr>\n",
       "      <th>6</th>\n",
       "      <td>35696</td>\n",
       "      <td>Buprenorphine / naloxone</td>\n",
       "      <td>Opiate Dependence</td>\n",
       "      <td>\"\"\"Suboxone has completely turned my life arou...</td>\n",
       "      <td>9.0</td>\n",
       "      <td>November 27, 2016</td>\n",
       "      <td>37.0</td>\n",
       "    </tr>\n",
       "    <tr>\n",
       "      <th>7</th>\n",
       "      <td>155963</td>\n",
       "      <td>Cialis</td>\n",
       "      <td>Benign Prostatic Hyperplasia</td>\n",
       "      <td>\"\"\"2nd day on 5mg started to work with rock ha...</td>\n",
       "      <td>2.0</td>\n",
       "      <td>November 28, 2015</td>\n",
       "      <td>43.0</td>\n",
       "    </tr>\n",
       "    <tr>\n",
       "      <th>8</th>\n",
       "      <td>165907</td>\n",
       "      <td>Levonorgestrel</td>\n",
       "      <td>Emergency Contraception</td>\n",
       "      <td>\"\"\"He pulled out, but he cummed a bit in me. I...</td>\n",
       "      <td>1.0</td>\n",
       "      <td>March 7, 2017</td>\n",
       "      <td>5.0</td>\n",
       "    </tr>\n",
       "    <tr>\n",
       "      <th>9</th>\n",
       "      <td>102654</td>\n",
       "      <td>Aripiprazole</td>\n",
       "      <td>Bipolar Disorde</td>\n",
       "      <td>\"\"\"Abilify changed my life. There is hope. I w...</td>\n",
       "      <td>10.0</td>\n",
       "      <td>March 14, 2015</td>\n",
       "      <td>32.0</td>\n",
       "    </tr>\n",
       "  </tbody>\n",
       "</table>\n",
       "</div>"
      ],
      "text/plain": [
       "                                                 _c0  \\\n",
       "0                                             206461   \n",
       "1                                              95260   \n",
       "2  We have tried many different medications and s...   \n",
       "3                                              92703   \n",
       "4  The positive side is that I didn&#039;t have a...   \n",
       "5                                             138000   \n",
       "6                                              35696   \n",
       "7                                             155963   \n",
       "8                                             165907   \n",
       "9                                             102654   \n",
       "\n",
       "                   drugName                     condition  \\\n",
       "0                 Valsartan  Left Ventricular Dysfunction   \n",
       "1                Guanfacine                          ADHD   \n",
       "2                       8.0                April 27, 2010   \n",
       "3                    Lybrel                 Birth Control   \n",
       "4                       5.0             December 14, 2009   \n",
       "5                Ortho Evra                 Birth Control   \n",
       "6  Buprenorphine / naloxone             Opiate Dependence   \n",
       "7                    Cialis  Benign Prostatic Hyperplasia   \n",
       "8            Levonorgestrel       Emergency Contraception   \n",
       "9              Aripiprazole               Bipolar Disorde   \n",
       "\n",
       "                                              review rating  \\\n",
       "0  \"\"\"It has no side effect, I take it in combina...    9.0   \n",
       "1  \"\"\"My son is halfway through his fourth week o...   None   \n",
       "2                                                192   None   \n",
       "3  \"\"\"I used to take another oral contraceptive, ...   None   \n",
       "4                                                 17   None   \n",
       "5  \"\"\"This is my first time using any form of bir...    8.0   \n",
       "6  \"\"\"Suboxone has completely turned my life arou...    9.0   \n",
       "7  \"\"\"2nd day on 5mg started to work with rock ha...    2.0   \n",
       "8  \"\"\"He pulled out, but he cummed a bit in me. I...    1.0   \n",
       "9  \"\"\"Abilify changed my life. There is hope. I w...   10.0   \n",
       "\n",
       "                date  usefulCount  \n",
       "0       May 20, 2012         27.0  \n",
       "1               None          NaN  \n",
       "2               None          NaN  \n",
       "3               None          NaN  \n",
       "4               None          NaN  \n",
       "5   November 3, 2015         10.0  \n",
       "6  November 27, 2016         37.0  \n",
       "7  November 28, 2015         43.0  \n",
       "8      March 7, 2017          5.0  \n",
       "9     March 14, 2015         32.0  "
      ]
     },
     "execution_count": 15,
     "metadata": {},
     "output_type": "execute_result"
    }
   ],
   "source": [
    "data.limit(10).toPandas()"
   ]
  },
  {
   "cell_type": "markdown",
   "metadata": {},
   "source": [
    "Мы будем запускать 2 воркера. Поэтмоу разделим весь датасет на 3 части - 2 равные для воркером и 1 маленькую часть для теста."
   ]
  },
  {
   "cell_type": "code",
   "execution_count": 16,
   "metadata": {
    "cell_status": {
     "execute_time": {
      "duration": 244.2529296875,
      "end_time": 1613986336547.433
     }
    }
   },
   "outputs": [],
   "source": [
    "part1, part2, test = (\n",
    "    data\n",
    "    .na.drop('any')\n",
    "    .randomSplit([0.45, 0.45, 0.1], 422)\n",
    ")"
   ]
  },
  {
   "cell_type": "markdown",
   "metadata": {},
   "source": [
    "Соберем датасет на спарке"
   ]
  },
  {
   "cell_type": "code",
   "execution_count": 17,
   "metadata": {
    "cell_status": {
     "execute_time": {
      "duration": 31.01318359375,
      "end_time": 1613986336688.383
     }
    }
   },
   "outputs": [],
   "source": [
    "def convert_to_vw(data):\n",
    "    target = data['usefulCount']\n",
    "    \n",
    "    drug_name = data['drugName'].lower().replace(' ', '_')\n",
    "    condition = data['condition'].lower().replace(' ', '_')\n",
    "    \n",
    "    raw_text = data['review'].lower()\n",
    "    word_pattern = re.compile(r\"[a-zA-Z0-9_]+\")\n",
    "    words = [match.group(0) for match in re.finditer(word_pattern, raw_text)]\n",
    "    review = ' '.join(words)\n",
    "    \n",
    "    rating = data['rating']\n",
    "    \n",
    "    weekday = datetime.strptime(data['date'], '%B %d, %Y').weekday()\n",
    "    \n",
    "    template = \"{target} |d {drug_name} |c {condition} |r {review} |w {weekday} |s rating:{rating}\"\n",
    "    return template.format(\n",
    "        target=target,\n",
    "        drug_name=drug_name,\n",
    "        condition=condition,\n",
    "        review=review,\n",
    "        weekday=weekday,\n",
    "        rating=rating\n",
    "    )"
   ]
  },
  {
   "cell_type": "code",
   "execution_count": 18,
   "metadata": {
    "cell_status": {
     "execute_time": {
      "duration": 3050.494873046875,
      "end_time": 1613986378939.938
     }
    }
   },
   "outputs": [
    {
     "name": "stdout",
     "output_type": "stream",
     "text": [
      "Deleted /user/drugs/part1.vw\r\n",
      "Deleted /user/drugs/part2.vw\r\n",
      "Deleted /user/drugs/test.vw\r\n"
     ]
    }
   ],
   "source": [
    "! hdfs dfs -rm -r /user/drugs/*.vw"
   ]
  },
  {
   "cell_type": "code",
   "execution_count": 19,
   "metadata": {
    "cell_status": {
     "execute_time": {
      "duration": 9322.19091796875,
      "end_time": 1613986395951.814
     }
    }
   },
   "outputs": [
    {
     "name": "stderr",
     "output_type": "stream",
     "text": [
      "                                                                                \r"
     ]
    }
   ],
   "source": [
    "part1.rdd.map(convert_to_vw).saveAsTextFile('/user/drugs/part1.vw')\n",
    "part2.rdd.map(convert_to_vw).saveAsTextFile('/user/drugs/part2.vw')\n",
    "test.rdd.map(convert_to_vw).saveAsTextFile('/user/drugs/test.vw')"
   ]
  },
  {
   "cell_type": "code",
   "execution_count": 20,
   "metadata": {
    "cell_status": {
     "execute_time": {
      "duration": 12384.204833984375,
      "end_time": 1613986623135.253
     }
    }
   },
   "outputs": [],
   "source": [
    "\n",
    "! hdfs dfs -cat /user/drugs/part1.vw/* > train.part1.vw\n",
    "! hdfs dfs -cat /user/drugs/part2.vw/* > train.part2.vw\n",
    "! hdfs dfs -cat /user/drugs/test.vw/* > test.vw"
   ]
  },
  {
   "cell_type": "markdown",
   "metadata": {},
   "source": [
    "Посмотрим, какие результаты мы получим, если просто запустим VW на всем файле."
   ]
  },
  {
   "cell_type": "code",
   "execution_count": 21,
   "metadata": {
    "cell_status": {
     "execute_time": {
      "duration": 256.260009765625,
      "end_time": 1613987206894.957
     }
    }
   },
   "outputs": [],
   "source": [
    "! cat train.*.vw > train.full.vw"
   ]
  },
  {
   "cell_type": "code",
   "execution_count": 22,
   "metadata": {
    "cell_status": {
     "execute_time": {
      "duration": 3399.77099609375,
      "end_time": 1613987014763.149
     }
    }
   },
   "outputs": [],
   "source": [
    "import numpy as np\n",
    "from sklearn.metrics import r2_score\n",
    "\n",
    "\n",
    "def calc_r2(predictions_filename, answers_filename):\n",
    "    def read_target_from_vw(vw_record):\n",
    "        return float(vw_record.split(' ')[0])\n",
    "    \n",
    "    with open(predictions_filename, 'r') as f:\n",
    "        y_pred = np.array([float(value) for value in f.readlines()])\n",
    "        \n",
    "    with open(answers_filename, 'r') as f:\n",
    "        y_expected = np.array([read_target_from_vw(value) for value in f.readlines()])\n",
    "        \n",
    "    return r2_score(y_expected, y_pred)"
   ]
  },
  {
   "cell_type": "code",
   "execution_count": null,
   "metadata": {},
   "outputs": [],
   "source": []
  },
  {
   "cell_type": "code",
   "execution_count": 23,
   "metadata": {
    "cell_status": {
     "execute_time": {
      "duration": 201.5390625,
      "end_time": 1613987014977.758
     }
    }
   },
   "outputs": [
    {
     "name": "stdout",
     "output_type": "stream",
     "text": [
      "Num weight bits = 18\r\n",
      "learning rate = 0.5\r\n",
      "initial_t = 0\r\n",
      "power_t = 0.5\r\n",
      "using no cache\r\n",
      "Reading datafile = \r\n",
      "num sources = 1\r\n",
      "driver:\r\n",
      "  --onethread           Disable parse thread\r\n",
      "VW options:\r\n",
      "  --ring_size arg (=256, ) size of example ring\r\n",
      "  --strict_parse           throw on malformed examples\r\n",
      "Update options:\r\n",
      "  -l [ --learning_rate ] arg Set learning rate\r\n",
      "  --power_t arg              t power value\r\n",
      "  --decay_learning_rate arg  Set Decay factor for learning_rate between passes\r\n",
      "  --initial_t arg            initial t value\r\n"
     ]
    }
   ],
   "source": [
    "! vw --help | head"
   ]
  },
  {
   "cell_type": "markdown",
   "metadata": {},
   "source": [
    "Обучаем VW на одном файле целиком"
   ]
  },
  {
   "cell_type": "code",
   "execution_count": 24,
   "metadata": {
    "cell_status": {
     "execute_time": {
      "duration": 38173.47607421875,
      "end_time": 1613989408919.288
     }
    }
   },
   "outputs": [
    {
     "name": "stdout",
     "output_type": "stream",
     "text": [
      "Generating 2-grams for r namespaces.\n",
      "creating features for following interactions: dc \n",
      "final_regressor = drugs.model.bin\n",
      "Num weight bits = 23\n",
      "learning rate = 20\n",
      "initial_t = 0\n",
      "power_t = 0.5\n",
      "decay_learning_rate = 1\n",
      "creating cache_file = train.full.vw.cache\n",
      "Reading datafile = train.full.vw\n",
      "num sources = 1\n",
      "Enabled reductions: gd, scorer\n",
      "average  since         example        example  current  current  current\n",
      "loss     last          counter         weight    label  predict features\n",
      "16.000000 16.000000            1            1.0   4.0000   0.0000      155\n",
      "8.284978 0.569956            2            2.0   1.0000   1.7550      207\n",
      "5.384596 2.484213            4            4.0   0.0000   1.6859      249\n",
      "3.444507 1.504419            8            8.0   1.0000   0.1637       45\n",
      "110.780388 218.116268           16           16.0   3.0000   7.7153      139\n",
      "75.235660 39.690933           32           32.0   2.0000   4.0961      151\n",
      "51.536644 27.837627           64           64.0   2.0000   1.9416       73\n",
      "80.020489 108.504335          128          128.0   3.0000   6.1402      195\n",
      "873.081100 1666.141711          256          256.0   9.0000  14.4029      161\n",
      "1160.002329 1446.923559          512          512.0  79.0000   0.0000      247\n",
      "999.645317 839.288304         1024         1024.0  29.0000  33.4246      117\n",
      "839.118734 678.592150         2048         2048.0   0.0000  22.5671       93\n",
      "1045.837843 1252.556953         4096         4096.0  23.0000  16.7853      305\n",
      "924.149914 802.461985         8192         8192.0   3.0000   0.0000      307\n",
      "1045.836684 1167.523454        16384        16384.0  32.0000  22.8957       79\n",
      "991.280404 936.724125        32768        32768.0  68.0000 127.5900      291\n",
      "913.958523 836.636641        65536        65536.0  18.0000  16.1984      125\n",
      "833.377287 752.796051       131072       131072.0  11.0000  17.9540      297\n",
      "767.057827 767.057827       262144       262144.0  18.0000  22.0474      105 h\n",
      "649.845052 532.632276       524288       524288.0  23.0000  22.3745      233 h\n",
      "547.113472 444.383656      1048576      1048576.0   8.0000   7.8707      207 h\n",
      "487.013218 426.912448      2097152      2097152.0  27.0000  27.9684      173 h\n",
      "\n",
      "finished run\n",
      "number of examples per pass = 153905\n",
      "passes used = 17\n",
      "weighted example sum = 2616385.000000\n",
      "weighted label sum = 74117042.000000\n",
      "average loss = 422.329315 h\n",
      "best constant = 28.328033\n",
      "total feature number = 461006153\n",
      "CPU times: user 448 ms, sys: 64 ms, total: 512 ms\n",
      "Wall time: 28.2 s\n"
     ]
    }
   ],
   "source": [
    "%%time\n",
    "\n",
    "! vw --final_regressor drugs.model.bin train.full.vw \\\n",
    "    --onethread \\\n",
    "    --learning_rate 20.0 \\\n",
    "    --bit_precision 23 \\\n",
    "    --passes 40 \\\n",
    "    --ngram r2 \\\n",
    "    --interactions dc \\\n",
    "    --cache -k"
   ]
  },
  {
   "cell_type": "code",
   "execution_count": 25,
   "metadata": {
    "cell_status": {
     "execute_time": {
      "duration": 384.7109375,
      "end_time": 1613989409310.835
     }
    }
   },
   "outputs": [
    {
     "name": "stdout",
     "output_type": "stream",
     "text": [
      "Generating 2-grams for r namespaces.\n",
      "creating features for following interactions: dc \n",
      "only testing\n",
      "predictions = drugs.preductions.txt\n",
      "Num weight bits = 23\n",
      "learning rate = 0.5\n",
      "initial_t = 0\n",
      "power_t = 0.5\n",
      "using no cache\n",
      "Reading datafile = test.vw\n",
      "num sources = 1\n",
      "Enabled reductions: gd, scorer\n",
      "average  since         example        example  current  current  current\n",
      "loss     last          counter         weight    label  predict features\n",
      "0.447677 0.447677            1            1.0   2.0000   2.6691      317\n",
      "2.223839 4.000000            2            2.0   2.0000   0.0000      237\n",
      "4.300955 6.378071            4            4.0  10.0000  11.9381      163\n",
      "25.360267 46.419579            8            8.0   1.0000  14.3987       59\n",
      "17.799924 10.239580           16           16.0   2.0000   9.0071      285\n",
      "24.017554 30.235185           32           32.0   7.0000   3.3096      125\n",
      "158.437527 292.857500           64           64.0  10.0000  44.5076      175\n",
      "336.991100 515.544673          128          128.0  36.0000  58.1014      215\n",
      "267.254932 197.518764          256          256.0  12.0000  15.5234       95\n",
      "229.260331 191.265730          512          512.0   2.0000   0.0000      161\n",
      "417.915709 606.571087         1024         1024.0 101.0000 103.5116      175\n",
      "420.939098 423.962488         2048         2048.0   0.0000   3.6762      191\n",
      "466.031273 511.123448         4096         4096.0  65.0000  51.5437       47\n",
      "515.703584 565.375895         8192         8192.0   7.0000   0.0000      303\n",
      "474.605856 433.508129        16384        16384.0  30.0000  40.9357       33\n",
      "\n",
      "finished run\n",
      "number of examples = 18906\n",
      "weighted example sum = 18906.000000\n",
      "weighted label sum = 535907.000000\n",
      "average loss = 472.151429\n",
      "best constant = 28.345869\n",
      "total feature number = 3339722\n"
     ]
    }
   ],
   "source": [
    "! vw --testonly --initial_regressor drugs.model.bin --predictions drugs.preductions.txt test.vw"
   ]
  },
  {
   "cell_type": "code",
   "execution_count": 26,
   "metadata": {
    "cell_status": {
     "execute_time": {
      "duration": 141.4169921875,
      "end_time": 1613989409456.95
     }
    }
   },
   "outputs": [
    {
     "data": {
      "text/plain": [
       "0.6526252786437012"
      ]
     },
     "execution_count": 26,
     "metadata": {},
     "output_type": "execute_result"
    }
   ],
   "source": [
    "calc_r2('drugs.preductions.txt', 'test.vw')"
   ]
  },
  {
   "cell_type": "markdown",
   "metadata": {},
   "source": [
    "Обучили модель на **0.65** за **30** секунд."
   ]
  },
  {
   "cell_type": "code",
   "execution_count": null,
   "metadata": {},
   "outputs": [],
   "source": []
  },
  {
   "cell_type": "markdown",
   "metadata": {},
   "source": [
    "Посмотрим, что будет если мы обучим модель только на части данных"
   ]
  },
  {
   "cell_type": "code",
   "execution_count": 27,
   "metadata": {
    "cell_status": {
     "execute_time": {
      "duration": 9082.3662109375,
      "end_time": 1613988507257.777
     }
    }
   },
   "outputs": [
    {
     "name": "stdout",
     "output_type": "stream",
     "text": [
      "Generating 2-grams for r namespaces.\n",
      "creating features for following interactions: dc \n",
      "final_regressor = drugs.model.bin\n",
      "Num weight bits = 23\n",
      "learning rate = 20\n",
      "initial_t = 0\n",
      "power_t = 0.5\n",
      "decay_learning_rate = 1\n",
      "creating cache_file = train.part1.vw.cache\n",
      "Reading datafile = train.part1.vw\n",
      "num sources = 1\n",
      "Enabled reductions: gd, scorer\n",
      "average  since         example        example  current  current  current\n",
      "loss     last          counter         weight    label  predict features\n",
      "16.000000 16.000000            1            1.0   4.0000   0.0000      155\n",
      "8.284978 0.569956            2            2.0   1.0000   1.7550      207\n",
      "5.384596 2.484213            4            4.0   0.0000   1.6859      249\n",
      "3.444507 1.504419            8            8.0   1.0000   0.1637       45\n",
      "110.780388 218.116268           16           16.0   3.0000   7.7153      139\n",
      "75.235660 39.690933           32           32.0   2.0000   4.0961      151\n",
      "51.536644 27.837627           64           64.0   2.0000   1.9416       73\n",
      "80.020489 108.504335          128          128.0   3.0000   6.1402      195\n",
      "873.081100 1666.141711          256          256.0   9.0000  14.4029      161\n",
      "1160.002329 1446.923559          512          512.0  79.0000   0.0000      247\n",
      "999.645317 839.288304         1024         1024.0  29.0000  33.4246      117\n",
      "839.118734 678.592150         2048         2048.0   0.0000  22.5671       93\n",
      "1045.837843 1252.556953         4096         4096.0  23.0000  16.7853      305\n",
      "924.149914 802.461985         8192         8192.0   3.0000   0.0000      307\n",
      "1045.836684 1167.523454        16384        16384.0  32.0000  22.8957       79\n",
      "991.280404 936.724125        32768        32768.0  68.0000 127.5900      291\n",
      "991.280404 936.724125        32768        32768.0  68.0000 127.5900      291\n",
      "913.958523 836.636641        65536        65536.0  18.0000  16.1984      125\n",
      "1037.556544 1037.556544       131072       131072.0  21.0000   0.0000      165 h\n",
      "943.885156 850.207335       262144       262144.0  64.0000  70.6678      233 h\n",
      "931.106259 918.327801       524288       524288.0   2.0000   2.5408       81 h\n",
      "\n",
      "finished run\n",
      "number of examples per pass = 76909\n",
      "passes used = 7\n",
      "weighted example sum = 538363.000000\n",
      "weighted label sum = 15235661.000000\n",
      "average loss = 887.870056 h\n",
      "best constant = 28.299978\n",
      "total feature number = 95024510\n",
      "CPU times: user 95.2 ms, sys: 30.8 ms, total: 126 ms\n",
      "Wall time: 6.36 s\n"
     ]
    }
   ],
   "source": [
    "%%time\n",
    "\n",
    "! vw --final_regressor drugs.model.bin train.part1.vw \\\n",
    "    --onethread \\\n",
    "    --learning_rate 20.0 \\\n",
    "    --bit_precision 23 \\\n",
    "    --passes 40 \\\n",
    "    --ngram r2 \\\n",
    "    --interactions dc \\\n",
    "    --cache -k"
   ]
  },
  {
   "cell_type": "code",
   "execution_count": 28,
   "metadata": {
    "cell_status": {
     "execute_time": {
      "duration": 381.276123046875,
      "end_time": 1613988507644.468
     }
    }
   },
   "outputs": [
    {
     "name": "stdout",
     "output_type": "stream",
     "text": [
      "Generating 2-grams for r namespaces.\n",
      "creating features for following interactions: dc \n",
      "only testing\n",
      "predictions = drugs.preductions.txt\n",
      "Num weight bits = 23\n",
      "learning rate = 0.5\n",
      "initial_t = 0\n",
      "power_t = 0.5\n",
      "using no cache\n",
      "Reading datafile = test.vw\n",
      "num sources = 1\n",
      "Enabled reductions: gd, scorer\n",
      "average  since         example        example  current  current  current\n",
      "loss     last          counter         weight    label  predict features\n",
      "1054.792969 1054.792969            1            1.0   2.0000  34.4776      317\n",
      "529.396484 4.000000            2            2.0   2.0000   0.0000      237\n",
      "351.250557 173.104630            4            4.0  10.0000  28.3633      163\n",
      "214.487823 77.725090            8            8.0   1.0000  16.5387       59\n",
      "140.830627 67.173430           16           16.0   2.0000  21.5064      285\n",
      "101.366076 61.901526           32           32.0   7.0000   3.7109      125\n",
      "202.674485 303.982894           64           64.0  10.0000  32.8632      175\n",
      "677.614774 1152.555063          128          128.0  36.0000  57.6672      215\n",
      "652.559612 627.504449          256          256.0  12.0000  12.7842       95\n",
      "562.562285 472.564959          512          512.0   2.0000   0.8607      161\n",
      "759.854795 957.147305         1024         1024.0 101.0000 104.1705      175\n",
      "803.473320 847.091844         2048         2048.0   0.0000  16.4304      191\n",
      "835.734412 867.995505         4096         4096.0  65.0000  34.9336       47\n",
      "938.522850 1041.311287         8192         8192.0   7.0000   0.0000      303\n",
      "842.230091 745.937331        16384        16384.0  30.0000  44.1338       33\n",
      "\n",
      "finished run\n",
      "number of examples = 18906\n",
      "weighted example sum = 18906.000000\n",
      "weighted label sum = 535907.000000\n",
      "average loss = 840.278802\n",
      "best constant = 28.345869\n",
      "total feature number = 3339722\n"
     ]
    }
   ],
   "source": [
    "! vw --testonly --initial_regressor drugs.model.bin --predictions drugs.preductions.txt test.vw"
   ]
  },
  {
   "cell_type": "code",
   "execution_count": 29,
   "metadata": {
    "cell_status": {
     "execute_time": {
      "duration": 132.541015625,
      "end_time": 1613988507782.773
     }
    }
   },
   "outputs": [
    {
     "data": {
      "text/plain": [
       "0.38178390321607647"
      ]
     },
     "execution_count": 29,
     "metadata": {},
     "output_type": "execute_result"
    }
   ],
   "source": [
    "\n",
    "calc_r2('drugs.preductions.txt', 'test.vw')"
   ]
  },
  {
   "cell_type": "markdown",
   "metadata": {},
   "source": [
    "Гораздо быстрее обучились, но потеряли в качестве. \n",
    "\n",
    "Модель на **0.38** за **6** секунд\n",
    "\n",
    "**Мораль** - семплирование не самых удачный подход, чтобы получать качество, нужно засовывать в модель вообще все данные."
   ]
  },
  {
   "cell_type": "markdown",
   "metadata": {},
   "source": [
    "Запустим в фоновом режиме `spanning_tree` и проверим что он правда работает.\n",
    "\n",
    "Далее воркеры будут подключаться к нему по tcp."
   ]
  },
  {
   "cell_type": "code",
   "execution_count": 30,
   "metadata": {
    "cell_status": {
     "execute_time": {
      "duration": 14.64794921875,
      "end_time": 1613987732434.034
     }
    }
   },
   "outputs": [],
   "source": [
    "%%bash --bg --out OUT --err ERR\n",
    "spanning_tree --nondaemon"
   ]
  },
  {
   "cell_type": "code",
   "execution_count": 31,
   "metadata": {
    "cell_status": {
     "execute_time": {
      "duration": 201.56298828125,
      "end_time": 1613988532226.307
     }
    }
   },
   "outputs": [
    {
     "name": "stdout",
     "output_type": "stream",
     "text": [
      "ubuntu      7380  0.0  0.0   6068  1612 ?        S    15:44   0:00 spanning_tree --nondaemon\r\n",
      "ubuntu      7383  0.0  0.0   9492  3264 pts/0    Ss+  15:44   0:00 /bin/bash -c  ps aux | grep spanning_tree\r\n"
     ]
    }
   ],
   "source": [
    "! ps aux | grep spanning_tree"
   ]
  },
  {
   "cell_type": "markdown",
   "metadata": {},
   "source": [
    "Пора запускать рабочих. Для этого используется уже известная команда vw, в которую просто добавляются специальные параметры\n",
    "\n",
    "* `--span_server` - указываем адрес, где находится менеджер (spanning_tree). В нашем случае это localhost. В реальной жизни там мог бы быть IP адрес другой машины\n",
    "* `--unique_id` - так как один spanning_tree может обрабатывать сразу много различных процессов обучения, то необходимо их как-то разграничить. Для этого используется unique_id - это число, которое должно быть одинаковым для всех ваших рабочих, чтобы их не перепутали с другими. Например ваш коллега также обучает VW но для другой задачи - он может подключить свои VW к этому же spanning_tree указав для них unique_id = 0. В таком случае вам, чтобы подключиться, нужно запускать свои рабочие например с unique_id = 5, чтобы они не смешались с рабочими вашего коллеги.\n",
    "* `--total` - число рабочих, которое вы планируете подключить в текущей сессии обучения\n",
    "* `--node` - идентификатор текущего рабочего. Нумерация начинается с нуля, поэтому если вы хотите запустить 3 рабочих, то им нужно выдать значения для --node 0, 1 и 2.\n",
    "* `-d` - данные для обработки для текущего рабочего\n",
    "Все остальные параметры обучения должны быть одинаковыми для всех рабочих.\n",
    "\n",
    "Чтобы сохранить коэффициенты полученной модели, необходимо для какого-то одного рабочего указать через `-f` или `--final_regressor` файл, куда записать результат. Точно также, как мы это делали в предыдущей лабораторной.\n",
    "\n",
    "Запустим двух рабочих. Первого запустим также в фоне, а вот второй запустим прямо в ноутбуке и будем следить за процессом обучения."
   ]
  },
  {
   "cell_type": "code",
   "execution_count": 32,
   "metadata": {
    "cell_status": {
     "execute_time": {
      "duration": 13.574951171875,
      "end_time": 1613990892362.47
     }
    }
   },
   "outputs": [],
   "source": [
    "%%bash --bg --out OUT --err ERR\n",
    "\n",
    "vw -d train.part1.vw \\\n",
    "    --span_server localhost \\\n",
    "    --total 2 \\\n",
    "    --node 0 \\\n",
    "    --unique_id 1 \\\n",
    "    --learning_rate 20.0 \\\n",
    "    --bit_precision 23 \\\n",
    "    --passes 40 \\\n",
    "    --ngram r2 \\\n",
    "    --interactions dc \\\n",
    "    --cache -k"
   ]
  },
  {
   "cell_type": "code",
   "execution_count": 33,
   "metadata": {
    "cell_status": {
     "execute_time": {
      "duration": 238.797119140625,
      "end_time": 1613990892776.134
     }
    }
   },
   "outputs": [
    {
     "name": "stdout",
     "output_type": "stream",
     "text": [
      "ubuntu      7509  0.0  0.8 222760 133016 ?       Rl   15:49   0:00 vw -d train.part1.vw --span_server localhost --total 2 --node 0 --unique_id 1 --learning_rate 20.0 --bit_precision 23 --passes 40 --ngram r2 --interactions dc --cache -k\r\n",
      "ubuntu      7513  0.0  0.0   9492  3264 pts/0    Ss+  15:49   0:00 /bin/bash -c  ps aux | grep vw\r\n",
      "ubuntu      7515  0.0  0.0   8900   724 pts/0    S+   15:49   0:00 grep vw\r\n"
     ]
    }
   ],
   "source": [
    "! ps aux | grep vw"
   ]
  },
  {
   "cell_type": "code",
   "execution_count": 34,
   "metadata": {
    "cell_status": {
     "execute_time": {
      "duration": 36841.71484375,
      "end_time": 1613990929623.276
     }
    }
   },
   "outputs": [
    {
     "name": "stdout",
     "output_type": "stream",
     "text": [
      "Generating 2-grams for r namespaces.\n",
      "creating features for following interactions: dc \n",
      "final_regressor = drugs.model.bin\n",
      "Num weight bits = 23\n",
      "learning rate = 20\n",
      "initial_t = 0\n",
      "power_t = 0.5\n",
      "decay_learning_rate = 1\n",
      "creating cache_file = train.part2.vw.cache\n",
      "Reading datafile = train.part2.vw\n",
      "num sources = 1\n",
      "Enabled reductions: gd, scorer\n",
      "average  since         example        example  current  current  current\n",
      "loss     last          counter         weight    label  predict features\n",
      "4.000000 4.000000            1            1.0   2.0000   0.0000      207\n",
      "9.166723 14.333446            2            2.0   4.0000   0.2140       61\n",
      "42.704962 76.243202            4            4.0   0.0000   6.1127      235\n",
      "53.751544 64.798126            8            8.0  18.0000   2.1770      203\n",
      "53.708574 53.665604           16           16.0  24.0000   6.9774      155\n",
      "40.367511 27.026447           32           32.0   3.0000   6.5818      273\n",
      "45.832557 51.297603           64           64.0   2.0000   8.2354      245\n",
      "109.074974 172.317392          128          128.0  24.0000  16.8396      213\n",
      "673.354866 1237.634757          256          256.0  76.0000  14.3099      279\n",
      "1015.136478 1356.918090          512          512.0  23.0000  39.7633      201\n",
      "911.819452 808.502427         1024         1024.0  65.0000  15.4694       83\n",
      "642.289911 372.760370         2048         2048.0   6.0000   0.0000      291\n",
      "821.871644 1001.453378         4096         4096.0  25.0000  37.0418      301\n",
      "1133.981974 1446.092304         8192         8192.0   6.0000   4.2844      311\n",
      "1040.096814 946.211655        16384        16384.0  21.0000  27.3926      277\n",
      "994.843446 949.590078        32768        32768.0  33.0000  43.9167       43\n",
      "912.797242 830.751038        65536        65536.0  28.0000  21.0527       15\n",
      "connecting to 127.0.0.1 = localhost:26543\n",
      "wrote unique_id=1\n",
      "wrote total=2\n",
      "wrote node=1\n",
      "read ok=1\n",
      "read kid_count=1\n",
      "read parent_ip=255.255.255.255\n",
      "read parent_port=65535\n",
      "912.170144 912.170144       131072       131072.0  11.0000  13.0508      137 h\n",
      "799.834497 687.498849       262144       262144.0   9.0000  10.3241      145 h\n",
      "675.028637 550.227062       524288       524288.0   7.0000   6.3030      195 h\n",
      "606.715241 538.401845      1048576      1048576.0  29.0000  31.0512      301 h\n",
      "\n",
      "finished run\n",
      "number of examples per pass = 153905\n",
      "passes used = 23\n",
      "weighted example sum = 3539815.000000\n",
      "weighted label sum = 100209848.000000\n",
      "average loss = 1115.867188 h\n",
      "best constant = 28.309345\n",
      "total feature number = 623893120\n",
      "CPU times: user 506 ms, sys: 117 ms, total: 624 ms\n",
      "Wall time: 32.6 s\n"
     ]
    }
   ],
   "source": [
    "%%time\n",
    "\n",
    "! vw -d train.part2.vw \\\n",
    "    --span_server localhost \\\n",
    "    --total 2 \\\n",
    "    --node 1 \\\n",
    "    --unique_id 1 \\\n",
    "    --learning_rate 20.0 \\\n",
    "    --bit_precision 23 \\\n",
    "    --passes 40 \\\n",
    "    --ngram r2 \\\n",
    "    --interactions dc \\\n",
    "    --cache -k \\\n",
    "    -f drugs.model.bin"
   ]
  },
  {
   "cell_type": "code",
   "execution_count": 35,
   "metadata": {
    "cell_status": {
     "execute_time": {
      "duration": 385.595947265625,
      "end_time": 1613990930014.148
     }
    }
   },
   "outputs": [
    {
     "name": "stdout",
     "output_type": "stream",
     "text": [
      "Generating 2-grams for r namespaces.\n",
      "creating features for following interactions: dc \n",
      "only testing\n",
      "predictions = drugs.preductions.txt\n",
      "Num weight bits = 23\n",
      "learning rate = 0.5\n",
      "initial_t = 0\n",
      "power_t = 0.5\n",
      "using no cache\n",
      "Reading datafile = test.vw\n",
      "num sources = 1\n",
      "Enabled reductions: gd, scorer\n",
      "average  since         example        example  current  current  current\n",
      "loss     last          counter         weight    label  predict features\n",
      "2.849555 2.849555            1            1.0   2.0000   3.6881      317\n",
      "3.424778 4.000000            2            2.0   2.0000   0.0000      237\n",
      "6.356657 9.288537            4            4.0  10.0000  13.0947      163\n",
      "34.073244 61.789832            8            8.0   1.0000  16.2863       59\n",
      "32.563332 31.053420           16           16.0   2.0000  16.5415      285\n",
      "31.656058 30.748784           32           32.0   7.0000   3.2724      125\n",
      "82.980499 134.304941           64           64.0  10.0000  43.8365      175\n",
      "333.861668 584.742837          128          128.0  36.0000  33.4536      215\n",
      "251.625093 169.388518          256          256.0  12.0000  17.0271       95\n",
      "207.968365 164.311637          512          512.0   2.0000   0.0000      161\n",
      "426.491306 645.014246         1024         1024.0 101.0000 106.3550      175\n",
      "436.934750 447.378194         2048         2048.0   0.0000   6.0057      191\n",
      "479.735384 522.536018         4096         4096.0  65.0000  49.4455       47\n",
      "522.162819 564.590255         8192         8192.0   7.0000   0.0000      303\n",
      "483.762786 445.362753        16384        16384.0  30.0000  39.8361       33\n",
      "\n",
      "finished run\n",
      "number of examples = 18906\n",
      "weighted example sum = 18906.000000\n",
      "weighted label sum = 535907.000000\n",
      "average loss = 476.209406\n",
      "best constant = 28.345869\n",
      "total feature number = 3339722\n"
     ]
    }
   ],
   "source": [
    "! vw --testonly --initial_regressor drugs.model.bin --predictions drugs.preductions.txt test.vw"
   ]
  },
  {
   "cell_type": "code",
   "execution_count": 36,
   "metadata": {
    "cell_status": {
     "execute_time": {
      "duration": 134.175048828125,
      "end_time": 1613990930153.721
     }
    }
   },
   "outputs": [
    {
     "data": {
      "text/plain": [
       "0.6496397151076883"
      ]
     },
     "execution_count": 36,
     "metadata": {},
     "output_type": "execute_result"
    }
   ],
   "source": [
    "calc_r2('drugs.preductions.txt', 'test.vw')"
   ]
  },
  {
   "cell_type": "markdown",
   "metadata": {},
   "source": [
    "Качество получилось даже немного больше, чем при одиночном запуске.\n",
    "\n",
    "Сильного ускорения по времени мы не увидели, потому что мы все это запускаем на одной машине. Однако если запускать эти воркеры на разных машинах и на больших объемах данных, то можно увидеть сильное ускорение процесса обучения.\n",
    "\n",
    "И основное достижение этого алгоритма - теперь мы можем размещать данные по нескольким машинам, что позволяет нам теоретически обработать датасет произвольного размера."
   ]
  },
  {
   "cell_type": "code",
   "execution_count": null,
   "metadata": {},
   "outputs": [],
   "source": []
  },
  {
   "cell_type": "markdown",
   "metadata": {},
   "source": [
    "### VW на Hadoop\n",
    "\n",
    "VW достаточно несложно запустить в виде обычной MapReduce задачи. Для этого даже есть готовый скрипт, который написан авторами инструмента. \n",
    "\n",
    "Почитать про то, как запускать этот инструмент на Hadoop можно вот здесь - https://github.com/VowpalWabbit/vowpal_wabbit/tree/master/cluster .\n",
    "\n",
    "Мы же с вами более внимательно рассмотрим более удобный интерфейс для распределенного обучения VW на кластере."
   ]
  },
  {
   "cell_type": "markdown",
   "metadata": {
    "collapsed": true
   },
   "source": [
    "### SynapseML\n",
    "\n",
    "Существует целый набор библиотек для Spark от Microsoft, который позволяет удобно и быстро запускать распределенные алгоритмы на кластере Spark. Про все возможности можно почитать на официальном GitHub - https://github.com/microsoft/SynapseML\n",
    "\n",
    "Мы с вами воспользуемся двумя инструментами оттуда - VW и LightGBM (градиентный бустинг).\n",
    "\n",
    "\n",
    "Чтобы поставить SynapseML в окружение с lyvi , достаточно просто переконфигурировать сессию спарка."
   ]
  },
  {
   "cell_type": "code",
   "execution_count": 1,
   "metadata": {},
   "outputs": [],
   "source": [
    "import findspark\n",
    "findspark.init()"
   ]
  },
  {
   "cell_type": "code",
   "execution_count": 2,
   "metadata": {},
   "outputs": [
    {
     "name": "stderr",
     "output_type": "stream",
     "text": [
      "SLF4J: Class path contains multiple SLF4J bindings.\n",
      "SLF4J: Found binding in [jar:file:/usr/lib/spark/jars/slf4j-log4j12-1.7.30.jar!/org/slf4j/impl/StaticLoggerBinder.class]\n",
      "SLF4J: Found binding in [jar:file:/usr/lib/hadoop/lib/slf4j-log4j12-1.7.25.jar!/org/slf4j/impl/StaticLoggerBinder.class]\n",
      "SLF4J: See http://www.slf4j.org/codes.html#multiple_bindings for an explanation.\n",
      "SLF4J: Actual binding is of type [org.slf4j.impl.Log4jLoggerFactory]\n",
      "Ivy Default Cache set to: /home/ubuntu/.ivy2/cache\n",
      "The jars for the packages stored in: /home/ubuntu/.ivy2/jars\n",
      ":: loading settings :: url = jar:file:/usr/lib/spark/jars/ivy-2.4.0.jar!/org/apache/ivy/core/settings/ivysettings.xml\n",
      "com.microsoft.azure#synapseml_2.12 added as a dependency\n",
      ":: resolving dependencies :: org.apache.spark#spark-submit-parent-13f4f7a4-c2f6-4223-b0fb-5865321bda65;1.0\n",
      "\tconfs: [default]\n",
      "\tfound com.microsoft.azure#synapseml_2.12;0.9.5 in central\n",
      "\tfound com.microsoft.azure#synapseml-core_2.12;0.9.5 in central\n",
      "\tfound org.scalactic#scalactic_2.12;3.0.5 in central\n",
      "\tfound org.scala-lang#scala-reflect;2.12.4 in central\n",
      "\tfound io.spray#spray-json_2.12;1.3.2 in central\n",
      "\tfound com.jcraft#jsch;0.1.54 in central\n",
      "\tfound org.apache.httpcomponents#httpclient;4.5.6 in central\n",
      "\tfound org.apache.httpcomponents#httpcore;4.4.10 in central\n",
      "\tfound commons-logging#commons-logging;1.2 in central\n",
      "\tfound commons-codec#commons-codec;1.10 in central\n",
      "\tfound org.apache.httpcomponents#httpmime;4.5.6 in central\n",
      "\tfound com.linkedin.isolation-forest#isolation-forest_3.2.0_2.12;2.0.8 in central\n",
      "\tfound com.chuusai#shapeless_2.12;2.3.2 in central\n",
      "\tfound org.typelevel#macro-compat_2.12;1.1.1 in central\n",
      "\tfound org.apache.spark#spark-avro_2.12;3.2.0 in central\n",
      "\tfound org.tukaani#xz;1.8 in central\n",
      "\tfound org.spark-project.spark#unused;1.0.0 in central\n",
      "\tfound org.testng#testng;6.8.8 in central\n",
      "\tfound org.beanshell#bsh;2.0b4 in central\n",
      "\tfound com.beust#jcommander;1.27 in central\n",
      "\tfound com.microsoft.azure#synapseml-deep-learning_2.12;0.9.5 in central\n",
      "\tfound com.microsoft.azure#synapseml-opencv_2.12;0.9.5 in central\n",
      "\tfound org.openpnp#opencv;3.2.0-1 in central\n",
      "\tfound com.microsoft.cntk#cntk;2.4 in central\n",
      "\tfound com.microsoft.onnxruntime#onnxruntime_gpu;1.8.1 in central\n",
      "\tfound com.microsoft.azure#synapseml-cognitive_2.12;0.9.5 in central\n",
      "\tfound com.microsoft.cognitiveservices.speech#client-jar-sdk;1.14.0 in central\n",
      "\tfound com.azure#azure-storage-blob;12.14.2 in central\n",
      "\tfound com.azure#azure-core;1.22.0 in central\n",
      "\tfound com.fasterxml.jackson.core#jackson-annotations;2.12.5 in central\n",
      "\tfound com.fasterxml.jackson.core#jackson-core;2.12.5 in central\n",
      "\tfound com.fasterxml.jackson.core#jackson-databind;2.12.5 in central\n",
      "\tfound com.fasterxml.jackson.datatype#jackson-datatype-jsr310;2.12.5 in central\n",
      "\tfound com.fasterxml.jackson.dataformat#jackson-dataformat-xml;2.12.5 in central\n",
      "\tfound com.fasterxml.jackson.module#jackson-module-jaxb-annotations;2.12.5 in central\n",
      "\tfound jakarta.xml.bind#jakarta.xml.bind-api;2.3.2 in central\n",
      "\tfound jakarta.activation#jakarta.activation-api;1.2.1 in central\n",
      "\tfound org.codehaus.woodstox#stax2-api;4.2.1 in central\n",
      "\tfound com.fasterxml.woodstox#woodstox-core;6.2.4 in central\n",
      "\tfound org.slf4j#slf4j-api;1.7.32 in central\n",
      "\tfound io.projectreactor#reactor-core;3.4.10 in central\n",
      "\tfound org.reactivestreams#reactive-streams;1.0.3 in central\n",
      "\tfound io.netty#netty-tcnative-boringssl-static;2.0.43.Final in central\n",
      "\tfound com.azure#azure-core-http-netty;1.11.2 in central\n",
      "\tfound io.netty#netty-handler;4.1.68.Final in central\n",
      "\tfound io.netty#netty-common;4.1.68.Final in central\n",
      "\tfound io.netty#netty-resolver;4.1.68.Final in central\n",
      "\tfound io.netty#netty-buffer;4.1.68.Final in central\n",
      "\tfound io.netty#netty-transport;4.1.68.Final in central\n",
      "\tfound io.netty#netty-codec;4.1.68.Final in central\n",
      "\tfound io.netty#netty-handler-proxy;4.1.68.Final in central\n",
      "\tfound io.netty#netty-codec-socks;4.1.68.Final in central\n",
      "\tfound io.netty#netty-codec-http;4.1.68.Final in central\n",
      "\tfound io.netty#netty-codec-http2;4.1.68.Final in central\n",
      "\tfound io.netty#netty-transport-native-unix-common;4.1.68.Final in central\n",
      "\tfound io.netty#netty-transport-native-epoll;4.1.68.Final in central\n",
      "\tfound io.netty#netty-transport-native-kqueue;4.1.68.Final in central\n",
      "\tfound io.projectreactor.netty#reactor-netty-http;1.0.11 in central\n",
      "\tfound io.netty#netty-resolver-dns;4.1.68.Final in central\n",
      "\tfound io.netty#netty-codec-dns;4.1.68.Final in central\n",
      "\tfound io.netty#netty-resolver-dns-native-macos;4.1.68.Final in central\n",
      "\tfound io.projectreactor.netty#reactor-netty-core;1.0.11 in central\n",
      "\tfound com.azure#azure-storage-common;12.14.1 in central\n",
      "\tfound com.azure#azure-storage-internal-avro;12.1.2 in central\n",
      "\tfound com.azure#azure-ai-textanalytics;5.1.4 in central\n",
      "\tfound com.microsoft.azure#synapseml-vw_2.12;0.9.5 in central\n",
      "\tfound com.github.vowpalwabbit#vw-jni;8.9.1 in central\n",
      "\tfound com.microsoft.azure#synapseml-lightgbm_2.12;0.9.5 in central\n",
      "\tfound com.microsoft.ml.lightgbm#lightgbmlib;3.2.110 in central\n",
      ":: resolution report :: resolve 2285ms :: artifacts dl 242ms\n",
      "\t:: modules in use:\n",
      "\tcom.azure#azure-ai-textanalytics;5.1.4 from central in [default]\n",
      "\tcom.azure#azure-core;1.22.0 from central in [default]\n",
      "\tcom.azure#azure-core-http-netty;1.11.2 from central in [default]\n",
      "\tcom.azure#azure-storage-blob;12.14.2 from central in [default]\n",
      "\tcom.azure#azure-storage-common;12.14.1 from central in [default]\n",
      "\tcom.azure#azure-storage-internal-avro;12.1.2 from central in [default]\n",
      "\tcom.beust#jcommander;1.27 from central in [default]\n",
      "\tcom.chuusai#shapeless_2.12;2.3.2 from central in [default]\n",
      "\tcom.fasterxml.jackson.core#jackson-annotations;2.12.5 from central in [default]\n",
      "\tcom.fasterxml.jackson.core#jackson-core;2.12.5 from central in [default]\n",
      "\tcom.fasterxml.jackson.core#jackson-databind;2.12.5 from central in [default]\n",
      "\tcom.fasterxml.jackson.dataformat#jackson-dataformat-xml;2.12.5 from central in [default]\n",
      "\tcom.fasterxml.jackson.datatype#jackson-datatype-jsr310;2.12.5 from central in [default]\n",
      "\tcom.fasterxml.jackson.module#jackson-module-jaxb-annotations;2.12.5 from central in [default]\n",
      "\tcom.fasterxml.woodstox#woodstox-core;6.2.4 from central in [default]\n",
      "\tcom.github.vowpalwabbit#vw-jni;8.9.1 from central in [default]\n",
      "\tcom.jcraft#jsch;0.1.54 from central in [default]\n",
      "\tcom.linkedin.isolation-forest#isolation-forest_3.2.0_2.12;2.0.8 from central in [default]\n",
      "\tcom.microsoft.azure#synapseml-cognitive_2.12;0.9.5 from central in [default]\n",
      "\tcom.microsoft.azure#synapseml-core_2.12;0.9.5 from central in [default]\n",
      "\tcom.microsoft.azure#synapseml-deep-learning_2.12;0.9.5 from central in [default]\n",
      "\tcom.microsoft.azure#synapseml-lightgbm_2.12;0.9.5 from central in [default]\n",
      "\tcom.microsoft.azure#synapseml-opencv_2.12;0.9.5 from central in [default]\n",
      "\tcom.microsoft.azure#synapseml-vw_2.12;0.9.5 from central in [default]\n",
      "\tcom.microsoft.azure#synapseml_2.12;0.9.5 from central in [default]\n",
      "\tcom.microsoft.cntk#cntk;2.4 from central in [default]\n",
      "\tcom.microsoft.cognitiveservices.speech#client-jar-sdk;1.14.0 from central in [default]\n",
      "\tcom.microsoft.ml.lightgbm#lightgbmlib;3.2.110 from central in [default]\n",
      "\tcom.microsoft.onnxruntime#onnxruntime_gpu;1.8.1 from central in [default]\n",
      "\tcommons-codec#commons-codec;1.10 from central in [default]\n",
      "\tcommons-logging#commons-logging;1.2 from central in [default]\n",
      "\tio.netty#netty-buffer;4.1.68.Final from central in [default]\n",
      "\tio.netty#netty-codec;4.1.68.Final from central in [default]\n",
      "\tio.netty#netty-codec-dns;4.1.68.Final from central in [default]\n",
      "\tio.netty#netty-codec-http;4.1.68.Final from central in [default]\n",
      "\tio.netty#netty-codec-http2;4.1.68.Final from central in [default]\n",
      "\tio.netty#netty-codec-socks;4.1.68.Final from central in [default]\n",
      "\tio.netty#netty-common;4.1.68.Final from central in [default]\n",
      "\tio.netty#netty-handler;4.1.68.Final from central in [default]\n",
      "\tio.netty#netty-handler-proxy;4.1.68.Final from central in [default]\n",
      "\tio.netty#netty-resolver;4.1.68.Final from central in [default]\n",
      "\tio.netty#netty-resolver-dns;4.1.68.Final from central in [default]\n",
      "\tio.netty#netty-resolver-dns-native-macos;4.1.68.Final from central in [default]\n",
      "\tio.netty#netty-tcnative-boringssl-static;2.0.43.Final from central in [default]\n",
      "\tio.netty#netty-transport;4.1.68.Final from central in [default]\n",
      "\tio.netty#netty-transport-native-epoll;4.1.68.Final from central in [default]\n",
      "\tio.netty#netty-transport-native-kqueue;4.1.68.Final from central in [default]\n",
      "\tio.netty#netty-transport-native-unix-common;4.1.68.Final from central in [default]\n",
      "\tio.projectreactor#reactor-core;3.4.10 from central in [default]\n",
      "\tio.projectreactor.netty#reactor-netty-core;1.0.11 from central in [default]\n",
      "\tio.projectreactor.netty#reactor-netty-http;1.0.11 from central in [default]\n",
      "\tio.spray#spray-json_2.12;1.3.2 from central in [default]\n",
      "\tjakarta.activation#jakarta.activation-api;1.2.1 from central in [default]\n",
      "\tjakarta.xml.bind#jakarta.xml.bind-api;2.3.2 from central in [default]\n",
      "\torg.apache.httpcomponents#httpclient;4.5.6 from central in [default]\n",
      "\torg.apache.httpcomponents#httpcore;4.4.10 from central in [default]\n",
      "\torg.apache.httpcomponents#httpmime;4.5.6 from central in [default]\n",
      "\torg.apache.spark#spark-avro_2.12;3.2.0 from central in [default]\n",
      "\torg.beanshell#bsh;2.0b4 from central in [default]\n",
      "\torg.codehaus.woodstox#stax2-api;4.2.1 from central in [default]\n",
      "\torg.openpnp#opencv;3.2.0-1 from central in [default]\n",
      "\torg.reactivestreams#reactive-streams;1.0.3 from central in [default]\n",
      "\torg.scala-lang#scala-reflect;2.12.4 from central in [default]\n",
      "\torg.scalactic#scalactic_2.12;3.0.5 from central in [default]\n",
      "\torg.slf4j#slf4j-api;1.7.32 from central in [default]\n",
      "\torg.spark-project.spark#unused;1.0.0 from central in [default]\n",
      "\torg.testng#testng;6.8.8 from central in [default]\n",
      "\torg.tukaani#xz;1.8 from central in [default]\n",
      "\torg.typelevel#macro-compat_2.12;1.1.1 from central in [default]\n",
      "\t---------------------------------------------------------------------\n",
      "\t|                  |            modules            ||   artifacts   |\n",
      "\t|       conf       | number| search|dwnlded|evicted|| number|dwnlded|\n",
      "\t---------------------------------------------------------------------\n",
      "\t|      default     |   69  |   0   |   0   |   0   ||   69  |   0   |\n",
      "\t---------------------------------------------------------------------\n",
      ":: retrieving :: org.apache.spark#spark-submit-parent-13f4f7a4-c2f6-4223-b0fb-5865321bda65\n",
      "\tconfs: [default]\n",
      "\t0 artifacts copied, 69 already retrieved (0kB/23ms)\n",
      "Setting default log level to \"WARN\".\n",
      "To adjust logging level use sc.setLogLevel(newLevel). For SparkR, use setLogLevel(newLevel).\n",
      "2023-02-21 15:59:26,529 WARN yarn.Client: Same path resource file:///home/ubuntu/.ivy2/jars/com.microsoft.azure_synapseml_2.12-0.9.5.jar added multiple times to distributed cache.\n",
      "2023-02-21 15:59:26,529 WARN yarn.Client: Same path resource file:///home/ubuntu/.ivy2/jars/com.microsoft.azure_synapseml-core_2.12-0.9.5.jar added multiple times to distributed cache.\n",
      "2023-02-21 15:59:26,529 WARN yarn.Client: Same path resource file:///home/ubuntu/.ivy2/jars/com.microsoft.azure_synapseml-deep-learning_2.12-0.9.5.jar added multiple times to distributed cache.\n",
      "2023-02-21 15:59:26,529 WARN yarn.Client: Same path resource file:///home/ubuntu/.ivy2/jars/com.microsoft.azure_synapseml-cognitive_2.12-0.9.5.jar added multiple times to distributed cache.\n",
      "2023-02-21 15:59:26,529 WARN yarn.Client: Same path resource file:///home/ubuntu/.ivy2/jars/com.microsoft.azure_synapseml-vw_2.12-0.9.5.jar added multiple times to distributed cache.\n",
      "2023-02-21 15:59:26,529 WARN yarn.Client: Same path resource file:///home/ubuntu/.ivy2/jars/com.microsoft.azure_synapseml-lightgbm_2.12-0.9.5.jar added multiple times to distributed cache.\n",
      "2023-02-21 15:59:26,529 WARN yarn.Client: Same path resource file:///home/ubuntu/.ivy2/jars/com.microsoft.azure_synapseml-opencv_2.12-0.9.5.jar added multiple times to distributed cache.\n",
      "2023-02-21 15:59:26,529 WARN yarn.Client: Same path resource file:///home/ubuntu/.ivy2/jars/org.scalactic_scalactic_2.12-3.0.5.jar added multiple times to distributed cache.\n",
      "2023-02-21 15:59:26,529 WARN yarn.Client: Same path resource file:///home/ubuntu/.ivy2/jars/io.spray_spray-json_2.12-1.3.2.jar added multiple times to distributed cache.\n",
      "2023-02-21 15:59:26,529 WARN yarn.Client: Same path resource file:///home/ubuntu/.ivy2/jars/com.jcraft_jsch-0.1.54.jar added multiple times to distributed cache.\n",
      "2023-02-21 15:59:26,529 WARN yarn.Client: Same path resource file:///home/ubuntu/.ivy2/jars/org.apache.httpcomponents_httpclient-4.5.6.jar added multiple times to distributed cache.\n",
      "2023-02-21 15:59:26,529 WARN yarn.Client: Same path resource file:///home/ubuntu/.ivy2/jars/org.apache.httpcomponents_httpmime-4.5.6.jar added multiple times to distributed cache.\n",
      "2023-02-21 15:59:26,529 WARN yarn.Client: Same path resource file:///home/ubuntu/.ivy2/jars/com.linkedin.isolation-forest_isolation-forest_3.2.0_2.12-2.0.8.jar added multiple times to distributed cache.\n",
      "2023-02-21 15:59:26,530 WARN yarn.Client: Same path resource file:///home/ubuntu/.ivy2/jars/org.scala-lang_scala-reflect-2.12.4.jar added multiple times to distributed cache.\n",
      "2023-02-21 15:59:26,530 WARN yarn.Client: Same path resource file:///home/ubuntu/.ivy2/jars/org.apache.httpcomponents_httpcore-4.4.10.jar added multiple times to distributed cache.\n",
      "2023-02-21 15:59:26,530 WARN yarn.Client: Same path resource file:///home/ubuntu/.ivy2/jars/commons-logging_commons-logging-1.2.jar added multiple times to distributed cache.\n",
      "2023-02-21 15:59:26,530 WARN yarn.Client: Same path resource file:///home/ubuntu/.ivy2/jars/commons-codec_commons-codec-1.10.jar added multiple times to distributed cache.\n",
      "2023-02-21 15:59:26,530 WARN yarn.Client: Same path resource file:///home/ubuntu/.ivy2/jars/com.chuusai_shapeless_2.12-2.3.2.jar added multiple times to distributed cache.\n",
      "2023-02-21 15:59:26,530 WARN yarn.Client: Same path resource file:///home/ubuntu/.ivy2/jars/org.apache.spark_spark-avro_2.12-3.2.0.jar added multiple times to distributed cache.\n",
      "2023-02-21 15:59:26,530 WARN yarn.Client: Same path resource file:///home/ubuntu/.ivy2/jars/org.testng_testng-6.8.8.jar added multiple times to distributed cache.\n",
      "2023-02-21 15:59:26,530 WARN yarn.Client: Same path resource file:///home/ubuntu/.ivy2/jars/org.typelevel_macro-compat_2.12-1.1.1.jar added multiple times to distributed cache.\n",
      "2023-02-21 15:59:26,530 WARN yarn.Client: Same path resource file:///home/ubuntu/.ivy2/jars/org.tukaani_xz-1.8.jar added multiple times to distributed cache.\n",
      "2023-02-21 15:59:26,530 WARN yarn.Client: Same path resource file:///home/ubuntu/.ivy2/jars/org.spark-project.spark_unused-1.0.0.jar added multiple times to distributed cache.\n",
      "2023-02-21 15:59:26,530 WARN yarn.Client: Same path resource file:///home/ubuntu/.ivy2/jars/org.beanshell_bsh-2.0b4.jar added multiple times to distributed cache.\n",
      "2023-02-21 15:59:26,530 WARN yarn.Client: Same path resource file:///home/ubuntu/.ivy2/jars/com.beust_jcommander-1.27.jar added multiple times to distributed cache.\n",
      "2023-02-21 15:59:26,530 WARN yarn.Client: Same path resource file:///home/ubuntu/.ivy2/jars/com.microsoft.cntk_cntk-2.4.jar added multiple times to distributed cache.\n",
      "2023-02-21 15:59:26,530 WARN yarn.Client: Same path resource file:///home/ubuntu/.ivy2/jars/com.microsoft.onnxruntime_onnxruntime_gpu-1.8.1.jar added multiple times to distributed cache.\n",
      "2023-02-21 15:59:26,530 WARN yarn.Client: Same path resource file:///home/ubuntu/.ivy2/jars/org.openpnp_opencv-3.2.0-1.jar added multiple times to distributed cache.\n",
      "2023-02-21 15:59:26,530 WARN yarn.Client: Same path resource file:///home/ubuntu/.ivy2/jars/com.microsoft.cognitiveservices.speech_client-jar-sdk-1.14.0.jar added multiple times to distributed cache.\n",
      "2023-02-21 15:59:26,530 WARN yarn.Client: Same path resource file:///home/ubuntu/.ivy2/jars/com.azure_azure-storage-blob-12.14.2.jar added multiple times to distributed cache.\n",
      "2023-02-21 15:59:26,530 WARN yarn.Client: Same path resource file:///home/ubuntu/.ivy2/jars/com.azure_azure-ai-textanalytics-5.1.4.jar added multiple times to distributed cache.\n",
      "2023-02-21 15:59:26,530 WARN yarn.Client: Same path resource file:///home/ubuntu/.ivy2/jars/com.azure_azure-core-1.22.0.jar added multiple times to distributed cache.\n",
      "2023-02-21 15:59:26,530 WARN yarn.Client: Same path resource file:///home/ubuntu/.ivy2/jars/com.azure_azure-core-http-netty-1.11.2.jar added multiple times to distributed cache.\n",
      "2023-02-21 15:59:26,530 WARN yarn.Client: Same path resource file:///home/ubuntu/.ivy2/jars/com.azure_azure-storage-common-12.14.1.jar added multiple times to distributed cache.\n",
      "2023-02-21 15:59:26,530 WARN yarn.Client: Same path resource file:///home/ubuntu/.ivy2/jars/com.azure_azure-storage-internal-avro-12.1.2.jar added multiple times to distributed cache.\n",
      "2023-02-21 15:59:26,530 WARN yarn.Client: Same path resource file:///home/ubuntu/.ivy2/jars/com.fasterxml.jackson.core_jackson-annotations-2.12.5.jar added multiple times to distributed cache.\n",
      "2023-02-21 15:59:26,530 WARN yarn.Client: Same path resource file:///home/ubuntu/.ivy2/jars/com.fasterxml.jackson.core_jackson-core-2.12.5.jar added multiple times to distributed cache.\n",
      "2023-02-21 15:59:26,530 WARN yarn.Client: Same path resource file:///home/ubuntu/.ivy2/jars/com.fasterxml.jackson.core_jackson-databind-2.12.5.jar added multiple times to distributed cache.\n",
      "2023-02-21 15:59:26,530 WARN yarn.Client: Same path resource file:///home/ubuntu/.ivy2/jars/com.fasterxml.jackson.datatype_jackson-datatype-jsr310-2.12.5.jar added multiple times to distributed cache.\n",
      "2023-02-21 15:59:26,530 WARN yarn.Client: Same path resource file:///home/ubuntu/.ivy2/jars/com.fasterxml.jackson.dataformat_jackson-dataformat-xml-2.12.5.jar added multiple times to distributed cache.\n",
      "2023-02-21 15:59:26,530 WARN yarn.Client: Same path resource file:///home/ubuntu/.ivy2/jars/org.slf4j_slf4j-api-1.7.32.jar added multiple times to distributed cache.\n",
      "2023-02-21 15:59:26,530 WARN yarn.Client: Same path resource file:///home/ubuntu/.ivy2/jars/io.projectreactor_reactor-core-3.4.10.jar added multiple times to distributed cache.\n",
      "2023-02-21 15:59:26,530 WARN yarn.Client: Same path resource file:///home/ubuntu/.ivy2/jars/io.netty_netty-tcnative-boringssl-static-2.0.43.Final.jar added multiple times to distributed cache.\n",
      "2023-02-21 15:59:26,530 WARN yarn.Client: Same path resource file:///home/ubuntu/.ivy2/jars/com.fasterxml.jackson.module_jackson-module-jaxb-annotations-2.12.5.jar added multiple times to distributed cache.\n",
      "2023-02-21 15:59:26,530 WARN yarn.Client: Same path resource file:///home/ubuntu/.ivy2/jars/org.codehaus.woodstox_stax2-api-4.2.1.jar added multiple times to distributed cache.\n",
      "2023-02-21 15:59:26,531 WARN yarn.Client: Same path resource file:///home/ubuntu/.ivy2/jars/com.fasterxml.woodstox_woodstox-core-6.2.4.jar added multiple times to distributed cache.\n",
      "2023-02-21 15:59:26,531 WARN yarn.Client: Same path resource file:///home/ubuntu/.ivy2/jars/jakarta.xml.bind_jakarta.xml.bind-api-2.3.2.jar added multiple times to distributed cache.\n",
      "2023-02-21 15:59:26,531 WARN yarn.Client: Same path resource file:///home/ubuntu/.ivy2/jars/jakarta.activation_jakarta.activation-api-1.2.1.jar added multiple times to distributed cache.\n",
      "2023-02-21 15:59:26,531 WARN yarn.Client: Same path resource file:///home/ubuntu/.ivy2/jars/org.reactivestreams_reactive-streams-1.0.3.jar added multiple times to distributed cache.\n",
      "2023-02-21 15:59:26,531 WARN yarn.Client: Same path resource file:///home/ubuntu/.ivy2/jars/io.netty_netty-handler-4.1.68.Final.jar added multiple times to distributed cache.\n",
      "2023-02-21 15:59:26,531 WARN yarn.Client: Same path resource file:///home/ubuntu/.ivy2/jars/io.netty_netty-handler-proxy-4.1.68.Final.jar added multiple times to distributed cache.\n",
      "2023-02-21 15:59:26,531 WARN yarn.Client: Same path resource file:///home/ubuntu/.ivy2/jars/io.netty_netty-buffer-4.1.68.Final.jar added multiple times to distributed cache.\n",
      "2023-02-21 15:59:26,531 WARN yarn.Client: Same path resource file:///home/ubuntu/.ivy2/jars/io.netty_netty-codec-http-4.1.68.Final.jar added multiple times to distributed cache.\n",
      "2023-02-21 15:59:26,531 WARN yarn.Client: Same path resource file:///home/ubuntu/.ivy2/jars/io.netty_netty-codec-http2-4.1.68.Final.jar added multiple times to distributed cache.\n",
      "2023-02-21 15:59:26,531 WARN yarn.Client: Same path resource file:///home/ubuntu/.ivy2/jars/io.netty_netty-transport-native-unix-common-4.1.68.Final.jar added multiple times to distributed cache.\n",
      "2023-02-21 15:59:26,531 WARN yarn.Client: Same path resource file:///home/ubuntu/.ivy2/jars/io.netty_netty-transport-native-epoll-4.1.68.Final.jar added multiple times to distributed cache.\n",
      "2023-02-21 15:59:26,531 WARN yarn.Client: Same path resource file:///home/ubuntu/.ivy2/jars/io.netty_netty-transport-native-kqueue-4.1.68.Final.jar added multiple times to distributed cache.\n",
      "2023-02-21 15:59:26,531 WARN yarn.Client: Same path resource file:///home/ubuntu/.ivy2/jars/io.projectreactor.netty_reactor-netty-http-1.0.11.jar added multiple times to distributed cache.\n",
      "2023-02-21 15:59:26,531 WARN yarn.Client: Same path resource file:///home/ubuntu/.ivy2/jars/io.netty_netty-common-4.1.68.Final.jar added multiple times to distributed cache.\n",
      "2023-02-21 15:59:26,531 WARN yarn.Client: Same path resource file:///home/ubuntu/.ivy2/jars/io.netty_netty-resolver-4.1.68.Final.jar added multiple times to distributed cache.\n",
      "2023-02-21 15:59:26,531 WARN yarn.Client: Same path resource file:///home/ubuntu/.ivy2/jars/io.netty_netty-transport-4.1.68.Final.jar added multiple times to distributed cache.\n",
      "2023-02-21 15:59:26,531 WARN yarn.Client: Same path resource file:///home/ubuntu/.ivy2/jars/io.netty_netty-codec-4.1.68.Final.jar added multiple times to distributed cache.\n",
      "2023-02-21 15:59:26,531 WARN yarn.Client: Same path resource file:///home/ubuntu/.ivy2/jars/io.netty_netty-codec-socks-4.1.68.Final.jar added multiple times to distributed cache.\n",
      "2023-02-21 15:59:26,531 WARN yarn.Client: Same path resource file:///home/ubuntu/.ivy2/jars/io.netty_netty-resolver-dns-4.1.68.Final.jar added multiple times to distributed cache.\n",
      "2023-02-21 15:59:26,531 WARN yarn.Client: Same path resource file:///home/ubuntu/.ivy2/jars/io.netty_netty-resolver-dns-native-macos-4.1.68.Final.jar added multiple times to distributed cache.\n",
      "2023-02-21 15:59:26,531 WARN yarn.Client: Same path resource file:///home/ubuntu/.ivy2/jars/io.projectreactor.netty_reactor-netty-core-1.0.11.jar added multiple times to distributed cache.\n",
      "2023-02-21 15:59:26,531 WARN yarn.Client: Same path resource file:///home/ubuntu/.ivy2/jars/io.netty_netty-codec-dns-4.1.68.Final.jar added multiple times to distributed cache.\n",
      "2023-02-21 15:59:26,531 WARN yarn.Client: Same path resource file:///home/ubuntu/.ivy2/jars/com.github.vowpalwabbit_vw-jni-8.9.1.jar added multiple times to distributed cache.\n",
      "2023-02-21 15:59:26,531 WARN yarn.Client: Same path resource file:///home/ubuntu/.ivy2/jars/com.microsoft.ml.lightgbm_lightgbmlib-3.2.110.jar added multiple times to distributed cache.\n"
     ]
    }
   ],
   "source": [
    "import pyspark\n",
    "se = pyspark.sql.SparkSession.builder.appName(\"MyApp2\") \\\n",
    "            .config(\"spark.jars.packages\", \"com.microsoft.azure:synapseml_2.12:0.9.5\") \\\n",
    "            .config(\"spark.dynamicAllocation.enabled\", False) \\\n",
    "            .config(\"spark.locality.wait\", 0) \\\n",
    "            .getOrCreate()\n"
   ]
  },
  {
   "cell_type": "code",
   "execution_count": 3,
   "metadata": {},
   "outputs": [],
   "source": [
    "! cd /home/ubuntu/.ivy2/jars && \\\n",
    "    cp io.netty_netty-transport-native-epoll-4.1.68.Final-linux-x86_64.jar io.netty_netty-transport-native-epoll-4.1.68.Final.jar && \\\n",
    "    cp io.netty_netty-transport-native-kqueue-4.1.68.Final-osx-x86_64.jar io.netty_netty-transport-native-kqueue-4.1.68.Final.jar && \\\n",
    "    cp io.netty_netty-resolver-dns-native-macos-4.1.68.Final-osx-x86_64.jar io.netty_netty-resolver-dns-native-macos-4.1.68.Final.jar"
   ]
  },
  {
   "cell_type": "code",
   "execution_count": null,
   "metadata": {},
   "outputs": [],
   "source": []
  },
  {
   "cell_type": "code",
   "execution_count": null,
   "metadata": {},
   "outputs": [],
   "source": []
  },
  {
   "cell_type": "code",
   "execution_count": 4,
   "metadata": {
    "cell_status": {
     "execute_time": {
      "duration": 39.697021484375,
      "end_time": 1613995620888.398
     }
    }
   },
   "outputs": [],
   "source": [
    "from pyspark.sql.functions import when, col\n",
    "from pyspark.ml import Pipeline\n",
    "from synapse.ml.vw import VowpalWabbitFeaturizer, VowpalWabbitRegressor"
   ]
  },
  {
   "cell_type": "code",
   "execution_count": 5,
   "metadata": {
    "cell_status": {
     "execute_time": {
      "duration": 2252.64794921875,
      "end_time": 1613995623288.365
     }
    }
   },
   "outputs": [
    {
     "name": "stderr",
     "output_type": "stream",
     "text": [
      "                                                                                \r"
     ]
    }
   ],
   "source": [
    "data = se.read.option(\"delimiter\", \"\\t\").csv('/user/drugs/data/*', header=True, inferSchema=True)"
   ]
  },
  {
   "cell_type": "code",
   "execution_count": 6,
   "metadata": {},
   "outputs": [
    {
     "data": {
      "text/html": [
       "<div>\n",
       "<style scoped>\n",
       "    .dataframe tbody tr th:only-of-type {\n",
       "        vertical-align: middle;\n",
       "    }\n",
       "\n",
       "    .dataframe tbody tr th {\n",
       "        vertical-align: top;\n",
       "    }\n",
       "\n",
       "    .dataframe thead th {\n",
       "        text-align: right;\n",
       "    }\n",
       "</style>\n",
       "<table border=\"1\" class=\"dataframe\">\n",
       "  <thead>\n",
       "    <tr style=\"text-align: right;\">\n",
       "      <th></th>\n",
       "      <th>_c0</th>\n",
       "      <th>drugName</th>\n",
       "      <th>condition</th>\n",
       "      <th>review</th>\n",
       "      <th>rating</th>\n",
       "      <th>date</th>\n",
       "      <th>usefulCount</th>\n",
       "    </tr>\n",
       "  </thead>\n",
       "  <tbody>\n",
       "    <tr>\n",
       "      <th>0</th>\n",
       "      <td>206461</td>\n",
       "      <td>Valsartan</td>\n",
       "      <td>Left Ventricular Dysfunction</td>\n",
       "      <td>\"\"\"It has no side effect, I take it in combina...</td>\n",
       "      <td>9.0</td>\n",
       "      <td>May 20, 2012</td>\n",
       "      <td>27.0</td>\n",
       "    </tr>\n",
       "    <tr>\n",
       "      <th>1</th>\n",
       "      <td>95260</td>\n",
       "      <td>Guanfacine</td>\n",
       "      <td>ADHD</td>\n",
       "      <td>\"\"\"My son is halfway through his fourth week o...</td>\n",
       "      <td>None</td>\n",
       "      <td>None</td>\n",
       "      <td>NaN</td>\n",
       "    </tr>\n",
       "    <tr>\n",
       "      <th>2</th>\n",
       "      <td>We have tried many different medications and s...</td>\n",
       "      <td>8.0</td>\n",
       "      <td>April 27, 2010</td>\n",
       "      <td>192</td>\n",
       "      <td>None</td>\n",
       "      <td>None</td>\n",
       "      <td>NaN</td>\n",
       "    </tr>\n",
       "    <tr>\n",
       "      <th>3</th>\n",
       "      <td>92703</td>\n",
       "      <td>Lybrel</td>\n",
       "      <td>Birth Control</td>\n",
       "      <td>\"\"\"I used to take another oral contraceptive, ...</td>\n",
       "      <td>None</td>\n",
       "      <td>None</td>\n",
       "      <td>NaN</td>\n",
       "    </tr>\n",
       "    <tr>\n",
       "      <th>4</th>\n",
       "      <td>The positive side is that I didn&amp;#039;t have a...</td>\n",
       "      <td>5.0</td>\n",
       "      <td>December 14, 2009</td>\n",
       "      <td>17</td>\n",
       "      <td>None</td>\n",
       "      <td>None</td>\n",
       "      <td>NaN</td>\n",
       "    </tr>\n",
       "    <tr>\n",
       "      <th>5</th>\n",
       "      <td>138000</td>\n",
       "      <td>Ortho Evra</td>\n",
       "      <td>Birth Control</td>\n",
       "      <td>\"\"\"This is my first time using any form of bir...</td>\n",
       "      <td>8.0</td>\n",
       "      <td>November 3, 2015</td>\n",
       "      <td>10.0</td>\n",
       "    </tr>\n",
       "    <tr>\n",
       "      <th>6</th>\n",
       "      <td>35696</td>\n",
       "      <td>Buprenorphine / naloxone</td>\n",
       "      <td>Opiate Dependence</td>\n",
       "      <td>\"\"\"Suboxone has completely turned my life arou...</td>\n",
       "      <td>9.0</td>\n",
       "      <td>November 27, 2016</td>\n",
       "      <td>37.0</td>\n",
       "    </tr>\n",
       "    <tr>\n",
       "      <th>7</th>\n",
       "      <td>155963</td>\n",
       "      <td>Cialis</td>\n",
       "      <td>Benign Prostatic Hyperplasia</td>\n",
       "      <td>\"\"\"2nd day on 5mg started to work with rock ha...</td>\n",
       "      <td>2.0</td>\n",
       "      <td>November 28, 2015</td>\n",
       "      <td>43.0</td>\n",
       "    </tr>\n",
       "    <tr>\n",
       "      <th>8</th>\n",
       "      <td>165907</td>\n",
       "      <td>Levonorgestrel</td>\n",
       "      <td>Emergency Contraception</td>\n",
       "      <td>\"\"\"He pulled out, but he cummed a bit in me. I...</td>\n",
       "      <td>1.0</td>\n",
       "      <td>March 7, 2017</td>\n",
       "      <td>5.0</td>\n",
       "    </tr>\n",
       "    <tr>\n",
       "      <th>9</th>\n",
       "      <td>102654</td>\n",
       "      <td>Aripiprazole</td>\n",
       "      <td>Bipolar Disorde</td>\n",
       "      <td>\"\"\"Abilify changed my life. There is hope. I w...</td>\n",
       "      <td>10.0</td>\n",
       "      <td>March 14, 2015</td>\n",
       "      <td>32.0</td>\n",
       "    </tr>\n",
       "  </tbody>\n",
       "</table>\n",
       "</div>"
      ],
      "text/plain": [
       "                                                 _c0  \\\n",
       "0                                             206461   \n",
       "1                                              95260   \n",
       "2  We have tried many different medications and s...   \n",
       "3                                              92703   \n",
       "4  The positive side is that I didn&#039;t have a...   \n",
       "5                                             138000   \n",
       "6                                              35696   \n",
       "7                                             155963   \n",
       "8                                             165907   \n",
       "9                                             102654   \n",
       "\n",
       "                   drugName                     condition  \\\n",
       "0                 Valsartan  Left Ventricular Dysfunction   \n",
       "1                Guanfacine                          ADHD   \n",
       "2                       8.0                April 27, 2010   \n",
       "3                    Lybrel                 Birth Control   \n",
       "4                       5.0             December 14, 2009   \n",
       "5                Ortho Evra                 Birth Control   \n",
       "6  Buprenorphine / naloxone             Opiate Dependence   \n",
       "7                    Cialis  Benign Prostatic Hyperplasia   \n",
       "8            Levonorgestrel       Emergency Contraception   \n",
       "9              Aripiprazole               Bipolar Disorde   \n",
       "\n",
       "                                              review rating  \\\n",
       "0  \"\"\"It has no side effect, I take it in combina...    9.0   \n",
       "1  \"\"\"My son is halfway through his fourth week o...   None   \n",
       "2                                                192   None   \n",
       "3  \"\"\"I used to take another oral contraceptive, ...   None   \n",
       "4                                                 17   None   \n",
       "5  \"\"\"This is my first time using any form of bir...    8.0   \n",
       "6  \"\"\"Suboxone has completely turned my life arou...    9.0   \n",
       "7  \"\"\"2nd day on 5mg started to work with rock ha...    2.0   \n",
       "8  \"\"\"He pulled out, but he cummed a bit in me. I...    1.0   \n",
       "9  \"\"\"Abilify changed my life. There is hope. I w...   10.0   \n",
       "\n",
       "                date  usefulCount  \n",
       "0       May 20, 2012         27.0  \n",
       "1               None          NaN  \n",
       "2               None          NaN  \n",
       "3               None          NaN  \n",
       "4               None          NaN  \n",
       "5   November 3, 2015         10.0  \n",
       "6  November 27, 2016         37.0  \n",
       "7  November 28, 2015         43.0  \n",
       "8      March 7, 2017          5.0  \n",
       "9     March 14, 2015         32.0  "
      ]
     },
     "execution_count": 6,
     "metadata": {},
     "output_type": "execute_result"
    }
   ],
   "source": [
    "data.limit(10).toPandas()"
   ]
  },
  {
   "cell_type": "code",
   "execution_count": 7,
   "metadata": {},
   "outputs": [
    {
     "data": {
      "text/plain": [
       "['_c0', 'drugName', 'condition', 'review', 'rating', 'date', 'usefulCount']"
      ]
     },
     "execution_count": 7,
     "metadata": {},
     "output_type": "execute_result"
    }
   ],
   "source": [
    "data.columns"
   ]
  },
  {
   "cell_type": "code",
   "execution_count": 8,
   "metadata": {},
   "outputs": [
    {
     "name": "stdout",
     "output_type": "stream",
     "text": [
      "root\n",
      " |-- _c0: string (nullable = true)\n",
      " |-- d: string (nullable = true)\n",
      " |-- c: string (nullable = true)\n",
      " |-- r: string (nullable = true)\n",
      " |-- rating: string (nullable = true)\n",
      " |-- data: string (nullable = true)\n",
      " |-- target: integer (nullable = true)\n",
      "\n"
     ]
    }
   ],
   "source": [
    "columns = [\n",
    "    '_c0',\n",
    "    'd',\n",
    "    'c',\n",
    "    'r',\n",
    "    'rating',\n",
    "    'data',\n",
    "    'target',\n",
    "]\n",
    "df = data.toDF(*columns)\n",
    "df.printSchema()"
   ]
  },
  {
   "cell_type": "code",
   "execution_count": 9,
   "metadata": {
    "cell_status": {
     "execute_time": {
      "duration": 234.337158203125,
      "end_time": 1613995623531.917
     }
    }
   },
   "outputs": [],
   "source": [
    "train, test = (\n",
    "    df\n",
    "    .na.drop('any')\n",
    "    .randomSplit([0.9, 0.1], 422)\n",
    ")"
   ]
  },
  {
   "cell_type": "code",
   "execution_count": 10,
   "metadata": {
    "cell_status": {
     "execute_time": {
      "duration": 741.008056640625,
      "end_time": 1613995624283.641
     }
    }
   },
   "outputs": [
    {
     "name": "stderr",
     "output_type": "stream",
     "text": [
      "                                                                                \r"
     ]
    },
    {
     "data": {
      "text/html": [
       "<div>\n",
       "<style scoped>\n",
       "    .dataframe tbody tr th:only-of-type {\n",
       "        vertical-align: middle;\n",
       "    }\n",
       "\n",
       "    .dataframe tbody tr th {\n",
       "        vertical-align: top;\n",
       "    }\n",
       "\n",
       "    .dataframe thead th {\n",
       "        text-align: right;\n",
       "    }\n",
       "</style>\n",
       "<table border=\"1\" class=\"dataframe\">\n",
       "  <thead>\n",
       "    <tr style=\"text-align: right;\">\n",
       "      <th></th>\n",
       "      <th>_c0</th>\n",
       "      <th>d</th>\n",
       "      <th>c</th>\n",
       "      <th>r</th>\n",
       "      <th>rating</th>\n",
       "      <th>data</th>\n",
       "      <th>target</th>\n",
       "    </tr>\n",
       "  </thead>\n",
       "  <tbody>\n",
       "    <tr>\n",
       "      <th>0</th>\n",
       "      <td>10000</td>\n",
       "      <td>Lo Loestrin Fe</td>\n",
       "      <td>Birth Control</td>\n",
       "      <td>\"\"\"I was on this birth control for 8 months. T...</td>\n",
       "      <td>7.0</td>\n",
       "      <td>April 10, 2013</td>\n",
       "      <td>4</td>\n",
       "    </tr>\n",
       "    <tr>\n",
       "      <th>1</th>\n",
       "      <td>100012</td>\n",
       "      <td>Desogestrel / ethinyl estradiol</td>\n",
       "      <td>Birth Control</td>\n",
       "      <td>\"\"\"I&amp;#039;ve been taking Velivet for about a y...</td>\n",
       "      <td>9.0</td>\n",
       "      <td>June 17, 2017</td>\n",
       "      <td>2</td>\n",
       "    </tr>\n",
       "    <tr>\n",
       "      <th>2</th>\n",
       "      <td>100013</td>\n",
       "      <td>Desogestrel / ethinyl estradiol</td>\n",
       "      <td>Birth Control</td>\n",
       "      <td>\"\"\"Gives me heartburn and indigestion. Also ma...</td>\n",
       "      <td>2.0</td>\n",
       "      <td>June 8, 2017</td>\n",
       "      <td>1</td>\n",
       "    </tr>\n",
       "    <tr>\n",
       "      <th>3</th>\n",
       "      <td>100029</td>\n",
       "      <td>Desogestrel / ethinyl estradiol</td>\n",
       "      <td>Birth Control</td>\n",
       "      <td>\"\"\"I was switched from Azurette to Viorele by ...</td>\n",
       "      <td>5.0</td>\n",
       "      <td>December 6, 2017</td>\n",
       "      <td>0</td>\n",
       "    </tr>\n",
       "    <tr>\n",
       "      <th>4</th>\n",
       "      <td>10004</td>\n",
       "      <td>Lo Loestrin Fe</td>\n",
       "      <td>Birth Control</td>\n",
       "      <td>\"\"\"I&amp;#039;m 41, using for cramps and excessive...</td>\n",
       "      <td>2.0</td>\n",
       "      <td>March 31, 2013</td>\n",
       "      <td>12</td>\n",
       "    </tr>\n",
       "    <tr>\n",
       "      <th>5</th>\n",
       "      <td>100055</td>\n",
       "      <td>Desogestrel / ethinyl estradiol</td>\n",
       "      <td>Birth Control</td>\n",
       "      <td>\"\"\"I was on Apri for about a year. The first f...</td>\n",
       "      <td>5.0</td>\n",
       "      <td>May 2, 2017</td>\n",
       "      <td>1</td>\n",
       "    </tr>\n",
       "    <tr>\n",
       "      <th>6</th>\n",
       "      <td>10007</td>\n",
       "      <td>Lo Loestrin Fe</td>\n",
       "      <td>Birth Control</td>\n",
       "      <td>\"\"\"I posted on this forum when I first started...</td>\n",
       "      <td>9.0</td>\n",
       "      <td>March 10, 2013</td>\n",
       "      <td>18</td>\n",
       "    </tr>\n",
       "    <tr>\n",
       "      <th>7</th>\n",
       "      <td>100071</td>\n",
       "      <td>Desogestrel / ethinyl estradiol</td>\n",
       "      <td>Birth Control</td>\n",
       "      <td>\"\"\"So I&amp;#039;ve only been on this pill for a m...</td>\n",
       "      <td>8.0</td>\n",
       "      <td>March 7, 2017</td>\n",
       "      <td>7</td>\n",
       "    </tr>\n",
       "    <tr>\n",
       "      <th>8</th>\n",
       "      <td>100085</td>\n",
       "      <td>Desogestrel / ethinyl estradiol</td>\n",
       "      <td>Birth Control</td>\n",
       "      <td>\"\"\"I was on this for a year or two, I had been...</td>\n",
       "      <td>1.0</td>\n",
       "      <td>January 28, 2017</td>\n",
       "      <td>4</td>\n",
       "    </tr>\n",
       "    <tr>\n",
       "      <th>9</th>\n",
       "      <td>100087</td>\n",
       "      <td>Desogestrel / ethinyl estradiol</td>\n",
       "      <td>Birth Control</td>\n",
       "      <td>\"\"\"I&amp;#039;m 19 and have been on this birth con...</td>\n",
       "      <td>9.0</td>\n",
       "      <td>January 26, 2017</td>\n",
       "      <td>3</td>\n",
       "    </tr>\n",
       "    <tr>\n",
       "      <th>10</th>\n",
       "      <td>100088</td>\n",
       "      <td>Desogestrel / ethinyl estradiol</td>\n",
       "      <td>Birth Control</td>\n",
       "      <td>\"\"\"I switched to this birth control from Gilde...</td>\n",
       "      <td>10.0</td>\n",
       "      <td>January 19, 2017</td>\n",
       "      <td>4</td>\n",
       "    </tr>\n",
       "    <tr>\n",
       "      <th>11</th>\n",
       "      <td>100100</td>\n",
       "      <td>Desogestrel / ethinyl estradiol</td>\n",
       "      <td>Birth Control</td>\n",
       "      <td>\"\"\"I&amp;#039;ve been on Kariva for a months now a...</td>\n",
       "      <td>7.0</td>\n",
       "      <td>December 19, 2016</td>\n",
       "      <td>7</td>\n",
       "    </tr>\n",
       "    <tr>\n",
       "      <th>12</th>\n",
       "      <td>100101</td>\n",
       "      <td>Desogestrel / ethinyl estradiol</td>\n",
       "      <td>Birth Control</td>\n",
       "      <td>\"\"\"This birth control is amazing! I was defini...</td>\n",
       "      <td>10.0</td>\n",
       "      <td>December 18, 2016</td>\n",
       "      <td>5</td>\n",
       "    </tr>\n",
       "    <tr>\n",
       "      <th>13</th>\n",
       "      <td>100105</td>\n",
       "      <td>Desogestrel / ethinyl estradiol</td>\n",
       "      <td>Birth Control</td>\n",
       "      <td>\"\"\"For the most part, my experience on this me...</td>\n",
       "      <td>8.0</td>\n",
       "      <td>November 30, 2016</td>\n",
       "      <td>3</td>\n",
       "    </tr>\n",
       "    <tr>\n",
       "      <th>14</th>\n",
       "      <td>100107</td>\n",
       "      <td>Desogestrel / ethinyl estradiol</td>\n",
       "      <td>Birth Control</td>\n",
       "      <td>\"\"\"completely lost every bit of sex drive i ha...</td>\n",
       "      <td>5.0</td>\n",
       "      <td>November 23, 2016</td>\n",
       "      <td>1</td>\n",
       "    </tr>\n",
       "    <tr>\n",
       "      <th>15</th>\n",
       "      <td>100109</td>\n",
       "      <td>Desogestrel / ethinyl estradiol</td>\n",
       "      <td>Birth Control</td>\n",
       "      <td>\"\"\"My doc prescribed this for endometriosis. I...</td>\n",
       "      <td>9.0</td>\n",
       "      <td>November 21, 2016</td>\n",
       "      <td>7</td>\n",
       "    </tr>\n",
       "    <tr>\n",
       "      <th>16</th>\n",
       "      <td>100122</td>\n",
       "      <td>Desogestrel / ethinyl estradiol</td>\n",
       "      <td>Birth Control</td>\n",
       "      <td>\"\"\"Let me preface this by saying I have taken ...</td>\n",
       "      <td>10.0</td>\n",
       "      <td>November 3, 2016</td>\n",
       "      <td>3</td>\n",
       "    </tr>\n",
       "    <tr>\n",
       "      <th>17</th>\n",
       "      <td>100123</td>\n",
       "      <td>Desogestrel / ethinyl estradiol</td>\n",
       "      <td>Birth Control</td>\n",
       "      <td>\"\"\"I haven&amp;#039;t taken any BC in 5 years sinc...</td>\n",
       "      <td>1.0</td>\n",
       "      <td>November 2, 2016</td>\n",
       "      <td>2</td>\n",
       "    </tr>\n",
       "    <tr>\n",
       "      <th>18</th>\n",
       "      <td>100124</td>\n",
       "      <td>Desogestrel / ethinyl estradiol</td>\n",
       "      <td>Birth Control</td>\n",
       "      <td>\"\"\"Caused extreme vaginal dryness for me\"\"\"</td>\n",
       "      <td>1.0</td>\n",
       "      <td>November 2, 2016</td>\n",
       "      <td>1</td>\n",
       "    </tr>\n",
       "    <tr>\n",
       "      <th>19</th>\n",
       "      <td>100125</td>\n",
       "      <td>Desogestrel / ethinyl estradiol</td>\n",
       "      <td>Birth Control</td>\n",
       "      <td>\"\"\"Seems fine so far. Half way into my second ...</td>\n",
       "      <td>9.0</td>\n",
       "      <td>October 28, 2016</td>\n",
       "      <td>4</td>\n",
       "    </tr>\n",
       "  </tbody>\n",
       "</table>\n",
       "</div>"
      ],
      "text/plain": [
       "       _c0                                d              c  \\\n",
       "0    10000                   Lo Loestrin Fe  Birth Control   \n",
       "1   100012  Desogestrel / ethinyl estradiol  Birth Control   \n",
       "2   100013  Desogestrel / ethinyl estradiol  Birth Control   \n",
       "3   100029  Desogestrel / ethinyl estradiol  Birth Control   \n",
       "4    10004                   Lo Loestrin Fe  Birth Control   \n",
       "5   100055  Desogestrel / ethinyl estradiol  Birth Control   \n",
       "6    10007                   Lo Loestrin Fe  Birth Control   \n",
       "7   100071  Desogestrel / ethinyl estradiol  Birth Control   \n",
       "8   100085  Desogestrel / ethinyl estradiol  Birth Control   \n",
       "9   100087  Desogestrel / ethinyl estradiol  Birth Control   \n",
       "10  100088  Desogestrel / ethinyl estradiol  Birth Control   \n",
       "11  100100  Desogestrel / ethinyl estradiol  Birth Control   \n",
       "12  100101  Desogestrel / ethinyl estradiol  Birth Control   \n",
       "13  100105  Desogestrel / ethinyl estradiol  Birth Control   \n",
       "14  100107  Desogestrel / ethinyl estradiol  Birth Control   \n",
       "15  100109  Desogestrel / ethinyl estradiol  Birth Control   \n",
       "16  100122  Desogestrel / ethinyl estradiol  Birth Control   \n",
       "17  100123  Desogestrel / ethinyl estradiol  Birth Control   \n",
       "18  100124  Desogestrel / ethinyl estradiol  Birth Control   \n",
       "19  100125  Desogestrel / ethinyl estradiol  Birth Control   \n",
       "\n",
       "                                                    r rating  \\\n",
       "0   \"\"\"I was on this birth control for 8 months. T...    7.0   \n",
       "1   \"\"\"I&#039;ve been taking Velivet for about a y...    9.0   \n",
       "2   \"\"\"Gives me heartburn and indigestion. Also ma...    2.0   \n",
       "3   \"\"\"I was switched from Azurette to Viorele by ...    5.0   \n",
       "4   \"\"\"I&#039;m 41, using for cramps and excessive...    2.0   \n",
       "5   \"\"\"I was on Apri for about a year. The first f...    5.0   \n",
       "6   \"\"\"I posted on this forum when I first started...    9.0   \n",
       "7   \"\"\"So I&#039;ve only been on this pill for a m...    8.0   \n",
       "8   \"\"\"I was on this for a year or two, I had been...    1.0   \n",
       "9   \"\"\"I&#039;m 19 and have been on this birth con...    9.0   \n",
       "10  \"\"\"I switched to this birth control from Gilde...   10.0   \n",
       "11  \"\"\"I&#039;ve been on Kariva for a months now a...    7.0   \n",
       "12  \"\"\"This birth control is amazing! I was defini...   10.0   \n",
       "13  \"\"\"For the most part, my experience on this me...    8.0   \n",
       "14  \"\"\"completely lost every bit of sex drive i ha...    5.0   \n",
       "15  \"\"\"My doc prescribed this for endometriosis. I...    9.0   \n",
       "16  \"\"\"Let me preface this by saying I have taken ...   10.0   \n",
       "17  \"\"\"I haven&#039;t taken any BC in 5 years sinc...    1.0   \n",
       "18        \"\"\"Caused extreme vaginal dryness for me\"\"\"    1.0   \n",
       "19  \"\"\"Seems fine so far. Half way into my second ...    9.0   \n",
       "\n",
       "                 data  target  \n",
       "0      April 10, 2013       4  \n",
       "1       June 17, 2017       2  \n",
       "2        June 8, 2017       1  \n",
       "3    December 6, 2017       0  \n",
       "4      March 31, 2013      12  \n",
       "5         May 2, 2017       1  \n",
       "6      March 10, 2013      18  \n",
       "7       March 7, 2017       7  \n",
       "8    January 28, 2017       4  \n",
       "9    January 26, 2017       3  \n",
       "10   January 19, 2017       4  \n",
       "11  December 19, 2016       7  \n",
       "12  December 18, 2016       5  \n",
       "13  November 30, 2016       3  \n",
       "14  November 23, 2016       1  \n",
       "15  November 21, 2016       7  \n",
       "16   November 3, 2016       3  \n",
       "17   November 2, 2016       2  \n",
       "18   November 2, 2016       1  \n",
       "19   October 28, 2016       4  "
      ]
     },
     "execution_count": 10,
     "metadata": {},
     "output_type": "execute_result"
    }
   ],
   "source": [
    "train.limit(20).toPandas()"
   ]
  },
  {
   "cell_type": "markdown",
   "metadata": {},
   "source": [
    "Создадим объект для создания признаков в формате VW. Он принимает dataframe и возвращает dataframe но уже с новой колонкой, в которой записаны эти признаки"
   ]
  },
  {
   "cell_type": "code",
   "execution_count": 11,
   "metadata": {
    "cell_status": {
     "execute_time": {
      "duration": 38.982177734375,
      "end_time": 1613995624334.72
     }
    }
   },
   "outputs": [],
   "source": [
    "vw_featurizer = VowpalWabbitFeaturizer(\n",
    "    inputCols=[\"rating\"], \n",
    "    stringSplitInputCols=[\"d\", \"c\", \"r\"],\n",
    "    outputCol=\"features\",\n",
    "    numBits=24\n",
    ")"
   ]
  },
  {
   "cell_type": "code",
   "execution_count": 12,
   "metadata": {
    "cell_status": {
     "execute_time": {
      "duration": 2252.458984375,
      "end_time": 1613995626618.318
     }
    }
   },
   "outputs": [
    {
     "name": "stderr",
     "output_type": "stream",
     "text": [
      "                                                                                \r"
     ]
    },
    {
     "data": {
      "text/plain": [
       "SparseVector(16777216, {139281: 1.0, 1016583: 1.0, 1102820: 1.0, 1162472: 2.0, 1505820: 1.0, 2204132: 1.0, 2339869: 1.0, 2673967: 1.0, 2679020: 1.0, 2839966: 1.0, 2991125: 1.0, 3257429: 1.0, 3346639: 6.0, 3410361: 1.0, 3446374: 1.0, 3783103: 2.0, 3803230: 1.0, 4415074: 1.0, 4597225: 1.0, 4709980: 1.0, 4778637: 1.0, 4890812: 1.0, 5367110: 1.0, 5426661: 2.0, 5481570: 1.0, 5728618: 1.0, 5837165: 1.0, 5881332: 1.0, 6192782: 1.0, 6362983: 1.0, 6366072: 1.0, 6737743: 1.0, 7337106: 2.0, 7608613: 1.0, 7636861: 3.0, 8148668: 1.0, 8336163: 1.0, 8515415: 1.0, 9170487: 1.0, 9519332: 1.0, 9651660: 1.0, 9787552: 1.0, 9845063: 1.0, 9894590: 1.0, 9970646: 1.0, 10090473: 1.0, 10189708: 1.0, 11318998: 1.0, 11946903: 1.0, 12243560: 1.0, 12463287: 2.0, 12730453: 1.0, 12741825: 1.0, 13350349: 1.0, 13357553: 2.0, 13735132: 3.0, 13901790: 1.0, 14380379: 1.0, 14524688: 1.0, 14608623: 1.0, 14946398: 1.0, 15174436: 1.0, 15384876: 1.0, 15847749: 1.0, 16681717: 1.0, 16772414: 1.0})"
      ]
     },
     "execution_count": 12,
     "metadata": {},
     "output_type": "execute_result"
    }
   ],
   "source": [
    "x = vw_featurizer.transform(train).rdd.first()\n",
    "x['features']"
   ]
  },
  {
   "cell_type": "code",
   "execution_count": null,
   "metadata": {},
   "outputs": [],
   "source": []
  },
  {
   "cell_type": "markdown",
   "metadata": {},
   "source": [
    "Создадим объект для обучения классификатора. Схема работы точно такая же - принимает на вход dataframe и потом может модифицировать другой dataframe, делая предсказание."
   ]
  },
  {
   "cell_type": "code",
   "execution_count": 13,
   "metadata": {
    "cell_status": {
     "execute_time": {
      "duration": 243.45703125,
      "end_time": 1613995626869.473
     }
    }
   },
   "outputs": [],
   "source": [
    "args = \"--learning_rate 20.0 --bit_precision 24 --ngram r2 --interactions dc\"\n",
    "vw_model = VowpalWabbitRegressor(\n",
    "    featuresCol=\"features\",\n",
    "    labelCol=\"target\",\n",
    "    args=args,\n",
    "    numPasses=40\n",
    ")"
   ]
  },
  {
   "cell_type": "markdown",
   "metadata": {},
   "source": [
    "Соберем их в единый пайплайн"
   ]
  },
  {
   "cell_type": "code",
   "execution_count": 14,
   "metadata": {
    "cell_status": {
     "execute_time": {
      "duration": 38.97900390625,
      "end_time": 1613995626918.419
     }
    }
   },
   "outputs": [],
   "source": [
    "vw_pipeline = Pipeline(stages=[vw_featurizer, vw_model])"
   ]
  },
  {
   "cell_type": "code",
   "execution_count": 15,
   "metadata": {
    "cell_status": {
     "execute_time": {
      "duration": 59484.3818359375,
      "end_time": 1613995686444.083
     }
    }
   },
   "outputs": [
    {
     "name": "stderr",
     "output_type": "stream",
     "text": [
      "inbound connection from 10.128.0.37(rc1a-dataproc-d-z4c3crwrio0motqz.mdb.yandexcloud.net:37795) serv=38608\n",
      "10.128.0.37(rc1a-dataproc-d-z4c3crwrio0motqz.mdb.yandexcloud.net:37795): nonce=839980628\n",
      "10.128.0.37(rc1a-dataproc-d-z4c3crwrio0motqz.mdb.yandexcloud.net:37795): total=4\n",
      "10.128.0.37(rc1a-dataproc-d-z4c3crwrio0motqz.mdb.yandexcloud.net:37795): node id=1\n",
      "inbound connection from 10.128.0.37(rc1a-dataproc-d-z4c3crwrio0motqz.mdb.yandexcloud.net:37795) serv=38616\n",
      "10.128.0.37(rc1a-dataproc-d-z4c3crwrio0motqz.mdb.yandexcloud.net:37795): nonce=839980628\n",
      "10.128.0.37(rc1a-dataproc-d-z4c3crwrio0motqz.mdb.yandexcloud.net:37795): total=4\n",
      "10.128.0.37(rc1a-dataproc-d-z4c3crwrio0motqz.mdb.yandexcloud.net:37795): node id=0\n"
     ]
    },
    {
     "name": "stdout",
     "output_type": "stream",
     "text": [
      "nonce 839980628 still waiting for 3 nodes out of 4 for example node 0\n",
      "nonce 839980628 still waiting for 2 nodes out of 4 for example node 2\n"
     ]
    },
    {
     "name": "stderr",
     "output_type": "stream",
     "text": [
      "inbound connection from 10.128.0.27(rc1a-dataproc-d-1jipfldazn1nw9u1.mdb.yandexcloud.net:37795) serv=44152\n",
      "10.128.0.27(rc1a-dataproc-d-1jipfldazn1nw9u1.mdb.yandexcloud.net:37795): nonce=839980628\n",
      "10.128.0.27(rc1a-dataproc-d-1jipfldazn1nw9u1.mdb.yandexcloud.net:37795): total=4\n",
      "10.128.0.27(rc1a-dataproc-d-1jipfldazn1nw9u1.mdb.yandexcloud.net:37795): node id=3\n"
     ]
    },
    {
     "name": "stdout",
     "output_type": "stream",
     "text": [
      "nonce 839980628 still waiting for 1 nodes out of 4 for example node 2\n"
     ]
    },
    {
     "name": "stderr",
     "output_type": "stream",
     "text": [
      "inbound connection from 10.128.0.27(rc1a-dataproc-d-1jipfldazn1nw9u1.mdb.yandexcloud.net:37795) serv=44168\n",
      "10.128.0.27(rc1a-dataproc-d-1jipfldazn1nw9u1.mdb.yandexcloud.net:37795): nonce=839980628\n",
      "10.128.0.27(rc1a-dataproc-d-1jipfldazn1nw9u1.mdb.yandexcloud.net:37795): total=4\n",
      "10.128.0.27(rc1a-dataproc-d-1jipfldazn1nw9u1.mdb.yandexcloud.net:37795): node id=2\n",
      "                                                                                \r"
     ]
    }
   ],
   "source": [
    "vw_trained = vw_pipeline.fit(train)"
   ]
  },
  {
   "cell_type": "code",
   "execution_count": 16,
   "metadata": {
    "cell_status": {
     "execute_time": {
      "duration": 236.666015625,
      "end_time": 1613995686690.678
     }
    }
   },
   "outputs": [
    {
     "name": "stderr",
     "output_type": "stream",
     "text": [
      "Generating 2-grams for r namespaces.\n",
      "creating features for following interactions: dc \n",
      "only testing\n",
      "Num weight bits = 24\n",
      "learning rate = 0.5\n",
      "initial_t = 0\n",
      "power_t = 0.5\n",
      "using no cache\n",
      "Reading datafile = \n",
      "num sources = 1\n"
     ]
    }
   ],
   "source": [
    "prediction = vw_trained.transform(test)"
   ]
  },
  {
   "cell_type": "code",
   "execution_count": 17,
   "metadata": {
    "cell_status": {
     "execute_time": {
      "duration": 2271.975830078125,
      "end_time": 1613995688975.507
     }
    }
   },
   "outputs": [
    {
     "name": "stderr",
     "output_type": "stream",
     "text": [
      "                                                                                \r"
     ]
    },
    {
     "data": {
      "text/html": [
       "<div>\n",
       "<style scoped>\n",
       "    .dataframe tbody tr th:only-of-type {\n",
       "        vertical-align: middle;\n",
       "    }\n",
       "\n",
       "    .dataframe tbody tr th {\n",
       "        vertical-align: top;\n",
       "    }\n",
       "\n",
       "    .dataframe thead th {\n",
       "        text-align: right;\n",
       "    }\n",
       "</style>\n",
       "<table border=\"1\" class=\"dataframe\">\n",
       "  <thead>\n",
       "    <tr style=\"text-align: right;\">\n",
       "      <th></th>\n",
       "      <th>_c0</th>\n",
       "      <th>d</th>\n",
       "      <th>c</th>\n",
       "      <th>r</th>\n",
       "      <th>rating</th>\n",
       "      <th>data</th>\n",
       "      <th>target</th>\n",
       "      <th>features</th>\n",
       "      <th>rawPrediction</th>\n",
       "      <th>prediction</th>\n",
       "    </tr>\n",
       "  </thead>\n",
       "  <tbody>\n",
       "    <tr>\n",
       "      <th>0</th>\n",
       "      <td>100009</td>\n",
       "      <td>Desogestrel / ethinyl estradiol</td>\n",
       "      <td>Birth Control</td>\n",
       "      <td>\"\"\"I was on reclipsen for less than 2 weeks an...</td>\n",
       "      <td>1.0</td>\n",
       "      <td>June 28, 2017</td>\n",
       "      <td>2</td>\n",
       "      <td>(0.0, 0.0, 0.0, 0.0, 0.0, 0.0, 0.0, 0.0, 0.0, ...</td>\n",
       "      <td>0.000000</td>\n",
       "      <td>0.000000</td>\n",
       "    </tr>\n",
       "    <tr>\n",
       "      <th>1</th>\n",
       "      <td>10002</td>\n",
       "      <td>Lo Loestrin Fe</td>\n",
       "      <td>Birth Control</td>\n",
       "      <td>\"\"\"Well, I&amp;#039;ve been on this right now for ...</td>\n",
       "      <td>6.0</td>\n",
       "      <td>April 4, 2013</td>\n",
       "      <td>10</td>\n",
       "      <td>(0.0, 0.0, 0.0, 0.0, 0.0, 0.0, 0.0, 0.0, 0.0, ...</td>\n",
       "      <td>20.970985</td>\n",
       "      <td>20.970985</td>\n",
       "    </tr>\n",
       "    <tr>\n",
       "      <th>2</th>\n",
       "      <td>100091</td>\n",
       "      <td>Desogestrel / ethinyl estradiol</td>\n",
       "      <td>Birth Control</td>\n",
       "      <td>\"\"\"I started Apri a year and 4 months ago. Whe...</td>\n",
       "      <td>8.0</td>\n",
       "      <td>January 8, 2017</td>\n",
       "      <td>3</td>\n",
       "      <td>(0.0, 0.0, 0.0, 0.0, 0.0, 0.0, 0.0, 0.0, 0.0, ...</td>\n",
       "      <td>2.158253</td>\n",
       "      <td>2.158253</td>\n",
       "    </tr>\n",
       "    <tr>\n",
       "      <th>3</th>\n",
       "      <td>100094</td>\n",
       "      <td>Desogestrel / ethinyl estradiol</td>\n",
       "      <td>Birth Control</td>\n",
       "      <td>\"\"\"I started Apri after switching from a birth...</td>\n",
       "      <td>8.0</td>\n",
       "      <td>December 29, 2016</td>\n",
       "      <td>2</td>\n",
       "      <td>(0.0, 0.0, 0.0, 0.0, 0.0, 0.0, 0.0, 0.0, 0.0, ...</td>\n",
       "      <td>0.000000</td>\n",
       "      <td>0.000000</td>\n",
       "    </tr>\n",
       "    <tr>\n",
       "      <th>4</th>\n",
       "      <td>1001</td>\n",
       "      <td>Everolimus</td>\n",
       "      <td>Breast Cance</td>\n",
       "      <td>\"\"\"Stage 4 with lymph and bone bone metastasis...</td>\n",
       "      <td>10.0</td>\n",
       "      <td>August 31, 2015</td>\n",
       "      <td>16</td>\n",
       "      <td>(0.0, 0.0, 0.0, 0.0, 0.0, 0.0, 0.0, 0.0, 0.0, ...</td>\n",
       "      <td>43.083103</td>\n",
       "      <td>43.083103</td>\n",
       "    </tr>\n",
       "    <tr>\n",
       "      <th>5</th>\n",
       "      <td>100217</td>\n",
       "      <td>Desogestrel / ethinyl estradiol</td>\n",
       "      <td>Birth Control</td>\n",
       "      <td>\"\"\"Horrible experience! Has never had trouble ...</td>\n",
       "      <td>1.0</td>\n",
       "      <td>October 26, 2015</td>\n",
       "      <td>3</td>\n",
       "      <td>(0.0, 0.0, 0.0, 0.0, 0.0, 0.0, 0.0, 0.0, 0.0, ...</td>\n",
       "      <td>0.000000</td>\n",
       "      <td>0.000000</td>\n",
       "    </tr>\n",
       "    <tr>\n",
       "      <th>6</th>\n",
       "      <td>100242</td>\n",
       "      <td>Desogestrel / ethinyl estradiol</td>\n",
       "      <td>Birth Control</td>\n",
       "      <td>\"\"\"I first started with Reclipsen a year ago f...</td>\n",
       "      <td>10.0</td>\n",
       "      <td>December 28, 2015</td>\n",
       "      <td>1</td>\n",
       "      <td>(0.0, 0.0, 0.0, 0.0, 0.0, 0.0, 0.0, 0.0, 0.0, ...</td>\n",
       "      <td>0.000000</td>\n",
       "      <td>0.000000</td>\n",
       "    </tr>\n",
       "    <tr>\n",
       "      <th>7</th>\n",
       "      <td>100259</td>\n",
       "      <td>Desogestrel / ethinyl estradiol</td>\n",
       "      <td>Birth Control</td>\n",
       "      <td>\"\"\"I changed to this birth control at the advi...</td>\n",
       "      <td>4.0</td>\n",
       "      <td>September 21, 2015</td>\n",
       "      <td>2</td>\n",
       "      <td>(0.0, 0.0, 0.0, 0.0, 0.0, 0.0, 0.0, 0.0, 0.0, ...</td>\n",
       "      <td>22.114550</td>\n",
       "      <td>22.114550</td>\n",
       "    </tr>\n",
       "    <tr>\n",
       "      <th>8</th>\n",
       "      <td>100331</td>\n",
       "      <td>Desogestrel / ethinyl estradiol</td>\n",
       "      <td>Birth Control</td>\n",
       "      <td>\"\"\"I&amp;#039;ve been on this pill for almost a ye...</td>\n",
       "      <td>9.0</td>\n",
       "      <td>October 19, 2016</td>\n",
       "      <td>4</td>\n",
       "      <td>(0.0, 0.0, 0.0, 0.0, 0.0, 0.0, 0.0, 0.0, 0.0, ...</td>\n",
       "      <td>9.716258</td>\n",
       "      <td>9.716258</td>\n",
       "    </tr>\n",
       "    <tr>\n",
       "      <th>9</th>\n",
       "      <td>100337</td>\n",
       "      <td>Desogestrel / ethinyl estradiol</td>\n",
       "      <td>Birth Control</td>\n",
       "      <td>\"\"\"I&amp;#039;d say this is a good/decent pill ove...</td>\n",
       "      <td>9.0</td>\n",
       "      <td>October 3, 2016</td>\n",
       "      <td>1</td>\n",
       "      <td>(0.0, 0.0, 0.0, 0.0, 0.0, 0.0, 0.0, 0.0, 0.0, ...</td>\n",
       "      <td>5.560011</td>\n",
       "      <td>5.560011</td>\n",
       "    </tr>\n",
       "  </tbody>\n",
       "</table>\n",
       "</div>"
      ],
      "text/plain": [
       "      _c0                                d              c  \\\n",
       "0  100009  Desogestrel / ethinyl estradiol  Birth Control   \n",
       "1   10002                   Lo Loestrin Fe  Birth Control   \n",
       "2  100091  Desogestrel / ethinyl estradiol  Birth Control   \n",
       "3  100094  Desogestrel / ethinyl estradiol  Birth Control   \n",
       "4    1001                       Everolimus   Breast Cance   \n",
       "5  100217  Desogestrel / ethinyl estradiol  Birth Control   \n",
       "6  100242  Desogestrel / ethinyl estradiol  Birth Control   \n",
       "7  100259  Desogestrel / ethinyl estradiol  Birth Control   \n",
       "8  100331  Desogestrel / ethinyl estradiol  Birth Control   \n",
       "9  100337  Desogestrel / ethinyl estradiol  Birth Control   \n",
       "\n",
       "                                                   r rating  \\\n",
       "0  \"\"\"I was on reclipsen for less than 2 weeks an...    1.0   \n",
       "1  \"\"\"Well, I&#039;ve been on this right now for ...    6.0   \n",
       "2  \"\"\"I started Apri a year and 4 months ago. Whe...    8.0   \n",
       "3  \"\"\"I started Apri after switching from a birth...    8.0   \n",
       "4  \"\"\"Stage 4 with lymph and bone bone metastasis...   10.0   \n",
       "5  \"\"\"Horrible experience! Has never had trouble ...    1.0   \n",
       "6  \"\"\"I first started with Reclipsen a year ago f...   10.0   \n",
       "7  \"\"\"I changed to this birth control at the advi...    4.0   \n",
       "8  \"\"\"I&#039;ve been on this pill for almost a ye...    9.0   \n",
       "9  \"\"\"I&#039;d say this is a good/decent pill ove...    9.0   \n",
       "\n",
       "                 data  target  \\\n",
       "0       June 28, 2017       2   \n",
       "1       April 4, 2013      10   \n",
       "2     January 8, 2017       3   \n",
       "3   December 29, 2016       2   \n",
       "4     August 31, 2015      16   \n",
       "5    October 26, 2015       3   \n",
       "6   December 28, 2015       1   \n",
       "7  September 21, 2015       2   \n",
       "8    October 19, 2016       4   \n",
       "9     October 3, 2016       1   \n",
       "\n",
       "                                            features  rawPrediction  \\\n",
       "0  (0.0, 0.0, 0.0, 0.0, 0.0, 0.0, 0.0, 0.0, 0.0, ...       0.000000   \n",
       "1  (0.0, 0.0, 0.0, 0.0, 0.0, 0.0, 0.0, 0.0, 0.0, ...      20.970985   \n",
       "2  (0.0, 0.0, 0.0, 0.0, 0.0, 0.0, 0.0, 0.0, 0.0, ...       2.158253   \n",
       "3  (0.0, 0.0, 0.0, 0.0, 0.0, 0.0, 0.0, 0.0, 0.0, ...       0.000000   \n",
       "4  (0.0, 0.0, 0.0, 0.0, 0.0, 0.0, 0.0, 0.0, 0.0, ...      43.083103   \n",
       "5  (0.0, 0.0, 0.0, 0.0, 0.0, 0.0, 0.0, 0.0, 0.0, ...       0.000000   \n",
       "6  (0.0, 0.0, 0.0, 0.0, 0.0, 0.0, 0.0, 0.0, 0.0, ...       0.000000   \n",
       "7  (0.0, 0.0, 0.0, 0.0, 0.0, 0.0, 0.0, 0.0, 0.0, ...      22.114550   \n",
       "8  (0.0, 0.0, 0.0, 0.0, 0.0, 0.0, 0.0, 0.0, 0.0, ...       9.716258   \n",
       "9  (0.0, 0.0, 0.0, 0.0, 0.0, 0.0, 0.0, 0.0, 0.0, ...       5.560011   \n",
       "\n",
       "   prediction  \n",
       "0    0.000000  \n",
       "1   20.970985  \n",
       "2    2.158253  \n",
       "3    0.000000  \n",
       "4   43.083103  \n",
       "5    0.000000  \n",
       "6    0.000000  \n",
       "7   22.114550  \n",
       "8    9.716258  \n",
       "9    5.560011  "
      ]
     },
     "execution_count": 17,
     "metadata": {},
     "output_type": "execute_result"
    }
   ],
   "source": [
    "prediction.limit(10).toPandas()"
   ]
  },
  {
   "cell_type": "code",
   "execution_count": 18,
   "metadata": {
    "cell_status": {
     "execute_time": {
      "duration": 2255.380126953125,
      "end_time": 1613995691243.609
     }
    }
   },
   "outputs": [
    {
     "name": "stderr",
     "output_type": "stream",
     "text": [
      "                                                                                \r"
     ]
    }
   ],
   "source": [
    "from synapse.ml.train import ComputeModelStatistics\n",
    "metrics = ComputeModelStatistics(\n",
    "    evaluationMetric='regression',\n",
    "    labelCol='target',\n",
    "    scoresCol='prediction'\n",
    ").transform(prediction)"
   ]
  },
  {
   "cell_type": "code",
   "execution_count": 19,
   "metadata": {
    "cell_status": {
     "execute_time": {
      "duration": 238.402099609375,
      "end_time": 1613995691492.945
     }
    }
   },
   "outputs": [
    {
     "data": {
      "text/html": [
       "<div>\n",
       "<style scoped>\n",
       "    .dataframe tbody tr th:only-of-type {\n",
       "        vertical-align: middle;\n",
       "    }\n",
       "\n",
       "    .dataframe tbody tr th {\n",
       "        vertical-align: top;\n",
       "    }\n",
       "\n",
       "    .dataframe thead th {\n",
       "        text-align: right;\n",
       "    }\n",
       "</style>\n",
       "<table border=\"1\" class=\"dataframe\">\n",
       "  <thead>\n",
       "    <tr style=\"text-align: right;\">\n",
       "      <th></th>\n",
       "      <th>mean_squared_error</th>\n",
       "      <th>root_mean_squared_error</th>\n",
       "      <th>R^2</th>\n",
       "      <th>mean_absolute_error</th>\n",
       "    </tr>\n",
       "  </thead>\n",
       "  <tbody>\n",
       "    <tr>\n",
       "      <th>0</th>\n",
       "      <td>684.964677</td>\n",
       "      <td>26.17183</td>\n",
       "      <td>0.475109</td>\n",
       "      <td>16.509442</td>\n",
       "    </tr>\n",
       "  </tbody>\n",
       "</table>\n",
       "</div>"
      ],
      "text/plain": [
       "   mean_squared_error  root_mean_squared_error       R^2  mean_absolute_error\n",
       "0          684.964677                 26.17183  0.475109            16.509442"
      ]
     },
     "execution_count": 19,
     "metadata": {},
     "output_type": "execute_result"
    }
   ],
   "source": [
    "metrics.toPandas()"
   ]
  },
  {
   "cell_type": "code",
   "execution_count": null,
   "metadata": {},
   "outputs": [],
   "source": []
  },
  {
   "cell_type": "code",
   "execution_count": null,
   "metadata": {},
   "outputs": [],
   "source": []
  },
  {
   "cell_type": "markdown",
   "metadata": {},
   "source": [
    "### SparkML\n",
    "\n",
    "Нужно отметить, что в стандартной библиотеке Spark присутствует модуль для машинного обучения.\n",
    "\n",
    "**ОДНАКО** нужно сказать, что работает он крайне плохо. Лучшее, что вы можете с ним сделать - это попробовать один раз его запустить и понять, что больше никогда не будете его использовать.\n",
    "\n",
    "Это правда важно, потому что это не звучит слишком убедительно, что стандартная библиотека для ML насколько уж плохо работет и наверное все таки есть случаи, когда она работает хорошо, правда ведь? Ответ - вполне возможно. Чтобы вам самим понять, есть ли такие случаи, попробуйте самостоятельно что-то обучить на SparkML и прочувствуйте границы применимости :)"
   ]
  },
  {
   "cell_type": "code",
   "execution_count": 1,
   "metadata": {},
   "outputs": [],
   "source": [
    "import findspark\n",
    "findspark.init()"
   ]
  },
  {
   "cell_type": "code",
   "execution_count": 2,
   "metadata": {},
   "outputs": [
    {
     "name": "stderr",
     "output_type": "stream",
     "text": [
      "SLF4J: Class path contains multiple SLF4J bindings.\n",
      "SLF4J: Found binding in [jar:file:/usr/lib/spark/jars/slf4j-log4j12-1.7.30.jar!/org/slf4j/impl/StaticLoggerBinder.class]\n",
      "SLF4J: Found binding in [jar:file:/usr/lib/hadoop/lib/slf4j-log4j12-1.7.25.jar!/org/slf4j/impl/StaticLoggerBinder.class]\n",
      "SLF4J: See http://www.slf4j.org/codes.html#multiple_bindings for an explanation.\n",
      "SLF4J: Actual binding is of type [org.slf4j.impl.Log4jLoggerFactory]\n",
      "Setting default log level to \"WARN\".\n",
      "To adjust logging level use sc.setLogLevel(newLevel). For SparkR, use setLogLevel(newLevel).\n",
      "2023-02-21 16:33:08,874 WARN util.Utils: spark.executor.instances less than spark.dynamicAllocation.minExecutors is invalid, ignoring its setting, please update your configs.\n",
      "2023-02-21 16:33:13,977 WARN util.Utils: spark.executor.instances less than spark.dynamicAllocation.minExecutors is invalid, ignoring its setting, please update your configs.\n"
     ]
    }
   ],
   "source": [
    "import pyspark\n",
    "sc = pyspark.SparkContext(appName=\"lsml-app-1\")"
   ]
  },
  {
   "cell_type": "code",
   "execution_count": 3,
   "metadata": {
    "cell_status": {
     "execute_time": {
      "duration": 761.909912109375,
      "end_time": 1614008059391.028
     }
    }
   },
   "outputs": [],
   "source": [
    "from pyspark.ml.classification import LogisticRegression\n",
    "from pyspark.ml.regression import LinearRegression\n",
    "from pyspark.ml.feature import HashingTF, IDF, Tokenizer\n",
    "from pyspark.ml import Pipeline\n",
    "from pyspark.ml.feature import OneHotEncoder, StringIndexer, VectorAssembler"
   ]
  },
  {
   "cell_type": "code",
   "execution_count": 4,
   "metadata": {},
   "outputs": [],
   "source": [
    "from pyspark.sql import SparkSession, Row\n",
    "\n",
    "se = SparkSession(sc)"
   ]
  },
  {
   "cell_type": "code",
   "execution_count": 5,
   "metadata": {
    "cell_status": {
     "execute_time": {
      "duration": 2289.341064453125,
      "end_time": 1614008102760.016
     }
    }
   },
   "outputs": [
    {
     "name": "stderr",
     "output_type": "stream",
     "text": [
      "                                                                                \r"
     ]
    }
   ],
   "source": [
    "data = se.read.option(\"delimiter\", \"\\t\").csv('/user/drugs/data/*', header=True, inferSchema=True)"
   ]
  },
  {
   "cell_type": "code",
   "execution_count": 6,
   "metadata": {
    "cell_status": {
     "execute_time": {
      "duration": 268.247802734375,
      "end_time": 1614008103042.305
     }
    }
   },
   "outputs": [],
   "source": [
    "data = (\n",
    "    data\n",
    "    .na.drop('any')\n",
    "    .withColumn('ratingNum', data.rating.cast('integer'))\n",
    ")\n",
    "\n",
    "\n",
    "train, test = data.randomSplit([0.9, 0.1], 422)\n",
    "train, test = train.cache(), test.cache()"
   ]
  },
  {
   "cell_type": "code",
   "execution_count": null,
   "metadata": {
    "cell_status": {
     "execute_time": {
      "duration": 249.799072265625,
      "end_time": 1614002002346.306
     }
    }
   },
   "outputs": [],
   "source": []
  },
  {
   "cell_type": "code",
   "execution_count": 8,
   "metadata": {
    "cell_status": {
     "execute_time": {
      "duration": 11318.88916015625,
      "end_time": 1614002013693.811
     }
    }
   },
   "outputs": [
    {
     "name": "stderr",
     "output_type": "stream",
     "text": [
      "                                                                                \r"
     ]
    }
   ],
   "source": [
    "tokenizer = Tokenizer(inputCol=\"review\", outputCol=\"words\")\n",
    "wordsData = tokenizer.transform(train)\n",
    "\n",
    "hashingTF = HashingTF(inputCol=\"words\", outputCol=\"rawFeatures\", numFeatures=2**23)\n",
    "featurizedData = hashingTF.transform(wordsData)\n",
    "idf = IDF(inputCol=\"rawFeatures\", outputCol=\"features\")\n",
    "idfModel = idf.fit(featurizedData)\n",
    "\n",
    "rescaledData = idfModel.transform(featurizedData)"
   ]
  },
  {
   "cell_type": "code",
   "execution_count": 9,
   "metadata": {
    "cell_status": {
     "execute_time": {
      "duration": 2270.119873046875,
      "end_time": 1614002015974.044
     }
    }
   },
   "outputs": [
    {
     "name": "stderr",
     "output_type": "stream",
     "text": [
      "2023-02-21 16:34:12,611 WARN scheduler.DAGScheduler: Broadcasting large task binary with size 128.1 MiB\n",
      "                                                                                \r"
     ]
    },
    {
     "data": {
      "text/html": [
       "<div>\n",
       "<style scoped>\n",
       "    .dataframe tbody tr th:only-of-type {\n",
       "        vertical-align: middle;\n",
       "    }\n",
       "\n",
       "    .dataframe tbody tr th {\n",
       "        vertical-align: top;\n",
       "    }\n",
       "\n",
       "    .dataframe thead th {\n",
       "        text-align: right;\n",
       "    }\n",
       "</style>\n",
       "<table border=\"1\" class=\"dataframe\">\n",
       "  <thead>\n",
       "    <tr style=\"text-align: right;\">\n",
       "      <th></th>\n",
       "      <th>_c0</th>\n",
       "      <th>drugName</th>\n",
       "      <th>condition</th>\n",
       "      <th>review</th>\n",
       "      <th>rating</th>\n",
       "      <th>date</th>\n",
       "      <th>usefulCount</th>\n",
       "      <th>ratingNum</th>\n",
       "      <th>words</th>\n",
       "      <th>rawFeatures</th>\n",
       "      <th>features</th>\n",
       "    </tr>\n",
       "  </thead>\n",
       "  <tbody>\n",
       "    <tr>\n",
       "      <th>0</th>\n",
       "      <td>10</td>\n",
       "      <td>Medroxyprogesterone</td>\n",
       "      <td>Abnormal Uterine Bleeding</td>\n",
       "      <td>\"\"\"I&amp;#039;m 17 years old and I got shot in Aug...</td>\n",
       "      <td>7.0</td>\n",
       "      <td>October 20, 2015</td>\n",
       "      <td>2</td>\n",
       "      <td>7</td>\n",
       "      <td>[\"\"\"i&amp;#039;m, 17, years, old, and, i, got, sho...</td>\n",
       "      <td>(0.0, 0.0, 0.0, 0.0, 0.0, 0.0, 0.0, 0.0, 0.0, ...</td>\n",
       "      <td>(0.0, 0.0, 0.0, 0.0, 0.0, 0.0, 0.0, 0.0, 0.0, ...</td>\n",
       "    </tr>\n",
       "    <tr>\n",
       "      <th>1</th>\n",
       "      <td>1000</td>\n",
       "      <td>Everolimus</td>\n",
       "      <td>Breast Cance</td>\n",
       "      <td>\"\"\"Although the medication did effectively tre...</td>\n",
       "      <td>2.0</td>\n",
       "      <td>March 15, 2016</td>\n",
       "      <td>4</td>\n",
       "      <td>2</td>\n",
       "      <td>[\"\"\"although, the, medication, did, effectivel...</td>\n",
       "      <td>(0.0, 0.0, 0.0, 0.0, 0.0, 0.0, 0.0, 0.0, 0.0, ...</td>\n",
       "      <td>(0.0, 0.0, 0.0, 0.0, 0.0, 0.0, 0.0, 0.0, 0.0, ...</td>\n",
       "    </tr>\n",
       "    <tr>\n",
       "      <th>2</th>\n",
       "      <td>10000</td>\n",
       "      <td>Lo Loestrin Fe</td>\n",
       "      <td>Birth Control</td>\n",
       "      <td>\"\"\"I was on this birth control for 8 months. T...</td>\n",
       "      <td>7.0</td>\n",
       "      <td>April 10, 2013</td>\n",
       "      <td>4</td>\n",
       "      <td>7</td>\n",
       "      <td>[\"\"\"i, was, on, this, birth, control, for, 8, ...</td>\n",
       "      <td>(0.0, 0.0, 0.0, 0.0, 0.0, 0.0, 0.0, 0.0, 0.0, ...</td>\n",
       "      <td>(0.0, 0.0, 0.0, 0.0, 0.0, 0.0, 0.0, 0.0, 0.0, ...</td>\n",
       "    </tr>\n",
       "    <tr>\n",
       "      <th>3</th>\n",
       "      <td>100004</td>\n",
       "      <td>Desogestrel / ethinyl estradiol</td>\n",
       "      <td>Birth Control</td>\n",
       "      <td>\"\"\"I have been taking Azurette for 3 years now...</td>\n",
       "      <td>8.0</td>\n",
       "      <td>July 11, 2017</td>\n",
       "      <td>1</td>\n",
       "      <td>8</td>\n",
       "      <td>[\"\"\"i, have, been, taking, azurette, for, 3, y...</td>\n",
       "      <td>(0.0, 0.0, 0.0, 0.0, 0.0, 0.0, 0.0, 0.0, 0.0, ...</td>\n",
       "      <td>(0.0, 0.0, 0.0, 0.0, 0.0, 0.0, 0.0, 0.0, 0.0, ...</td>\n",
       "    </tr>\n",
       "    <tr>\n",
       "      <th>4</th>\n",
       "      <td>100007</td>\n",
       "      <td>Desogestrel / ethinyl estradiol</td>\n",
       "      <td>Birth Control</td>\n",
       "      <td>\"\"\"At the beginning, Kariva seemed to be worki...</td>\n",
       "      <td>5.0</td>\n",
       "      <td>June 29, 2017</td>\n",
       "      <td>0</td>\n",
       "      <td>5</td>\n",
       "      <td>[\"\"\"at, the, beginning,, kariva, seemed, to, b...</td>\n",
       "      <td>(0.0, 0.0, 0.0, 0.0, 0.0, 0.0, 0.0, 0.0, 0.0, ...</td>\n",
       "      <td>(0.0, 0.0, 0.0, 0.0, 0.0, 0.0, 0.0, 0.0, 0.0, ...</td>\n",
       "    </tr>\n",
       "  </tbody>\n",
       "</table>\n",
       "</div>"
      ],
      "text/plain": [
       "      _c0                         drugName                  condition  \\\n",
       "0      10              Medroxyprogesterone  Abnormal Uterine Bleeding   \n",
       "1    1000                       Everolimus               Breast Cance   \n",
       "2   10000                   Lo Loestrin Fe              Birth Control   \n",
       "3  100004  Desogestrel / ethinyl estradiol              Birth Control   \n",
       "4  100007  Desogestrel / ethinyl estradiol              Birth Control   \n",
       "\n",
       "                                              review rating              date  \\\n",
       "0  \"\"\"I&#039;m 17 years old and I got shot in Aug...    7.0  October 20, 2015   \n",
       "1  \"\"\"Although the medication did effectively tre...    2.0    March 15, 2016   \n",
       "2  \"\"\"I was on this birth control for 8 months. T...    7.0    April 10, 2013   \n",
       "3  \"\"\"I have been taking Azurette for 3 years now...    8.0     July 11, 2017   \n",
       "4  \"\"\"At the beginning, Kariva seemed to be worki...    5.0     June 29, 2017   \n",
       "\n",
       "   usefulCount  ratingNum                                              words  \\\n",
       "0            2          7  [\"\"\"i&#039;m, 17, years, old, and, i, got, sho...   \n",
       "1            4          2  [\"\"\"although, the, medication, did, effectivel...   \n",
       "2            4          7  [\"\"\"i, was, on, this, birth, control, for, 8, ...   \n",
       "3            1          8  [\"\"\"i, have, been, taking, azurette, for, 3, y...   \n",
       "4            0          5  [\"\"\"at, the, beginning,, kariva, seemed, to, b...   \n",
       "\n",
       "                                         rawFeatures  \\\n",
       "0  (0.0, 0.0, 0.0, 0.0, 0.0, 0.0, 0.0, 0.0, 0.0, ...   \n",
       "1  (0.0, 0.0, 0.0, 0.0, 0.0, 0.0, 0.0, 0.0, 0.0, ...   \n",
       "2  (0.0, 0.0, 0.0, 0.0, 0.0, 0.0, 0.0, 0.0, 0.0, ...   \n",
       "3  (0.0, 0.0, 0.0, 0.0, 0.0, 0.0, 0.0, 0.0, 0.0, ...   \n",
       "4  (0.0, 0.0, 0.0, 0.0, 0.0, 0.0, 0.0, 0.0, 0.0, ...   \n",
       "\n",
       "                                            features  \n",
       "0  (0.0, 0.0, 0.0, 0.0, 0.0, 0.0, 0.0, 0.0, 0.0, ...  \n",
       "1  (0.0, 0.0, 0.0, 0.0, 0.0, 0.0, 0.0, 0.0, 0.0, ...  \n",
       "2  (0.0, 0.0, 0.0, 0.0, 0.0, 0.0, 0.0, 0.0, 0.0, ...  \n",
       "3  (0.0, 0.0, 0.0, 0.0, 0.0, 0.0, 0.0, 0.0, 0.0, ...  \n",
       "4  (0.0, 0.0, 0.0, 0.0, 0.0, 0.0, 0.0, 0.0, 0.0, ...  "
      ]
     },
     "execution_count": 9,
     "metadata": {},
     "output_type": "execute_result"
    }
   ],
   "source": [
    "rescaledData.limit(5).toPandas()"
   ]
  },
  {
   "cell_type": "code",
   "execution_count": 10,
   "metadata": {
    "cell_status": {
     "execute_time": {
      "duration": 1471.298828125,
      "end_time": 1614002017454.737
     }
    }
   },
   "outputs": [],
   "source": [
    "stringIndexer = StringIndexer(inputCol='drugName', outputCol = \"drugIndex\").setHandleInvalid(\"skip\")\n",
    "encoder = OneHotEncoder(inputCol=\"drugIndex\", outputCol=\"drugVec\")\n",
    "\n",
    "pipeline = Pipeline(stages=[stringIndexer, encoder])\n",
    "ohe = pipeline.fit(rescaledData).transform(rescaledData)"
   ]
  },
  {
   "cell_type": "code",
   "execution_count": 11,
   "metadata": {
    "cell_status": {
     "execute_time": {
      "duration": 5661.347900390625,
      "end_time": 1614002023126.504
     }
    }
   },
   "outputs": [
    {
     "name": "stderr",
     "output_type": "stream",
     "text": [
      "2023-02-21 16:34:15,690 WARN scheduler.DAGScheduler: Broadcasting large task binary with size 128.4 MiB\n",
      "2023-02-21 16:34:16,777 WARN scheduler.DAGScheduler: Broadcasting large task binary with size 128.3 MiB\n",
      "                                                                                \r"
     ]
    },
    {
     "data": {
      "text/plain": [
       "Row(_c0='10', drugName='Medroxyprogesterone', condition='Abnormal Uterine Bleeding', review='\"\"\"I&#039;m 17 years old and I got shot in August 2015, personally. I don&#039;t mind it. I mean, I bleed little bits and random times, but I&#039;d rather have the blood that&#039;s supposed to come out, come out and not worry about where it&#039;s going or staying in my body. I have my other injection in November on the 2nd, and I&#039;m still wondering if I could take it again. The only downside to the injection is that I gained access weight and I&#039;m kind of moody.\"\"\"', rating='7.0', date='October 20, 2015', usefulCount=2, ratingNum=7, words=['\"\"\"i&#039;m', '17', 'years', 'old', 'and', 'i', 'got', 'shot', 'in', 'august', '2015,', 'personally.', 'i', 'don&#039;t', 'mind', 'it.', 'i', 'mean,', 'i', 'bleed', 'little', 'bits', 'and', 'random', 'times,', 'but', 'i&#039;d', 'rather', 'have', 'the', 'blood', 'that&#039;s', 'supposed', 'to', 'come', 'out,', 'come', 'out', 'and', 'not', 'worry', 'about', 'where', 'it&#039;s', 'going', 'or', 'staying', 'in', 'my', 'body.', 'i', 'have', 'my', 'other', 'injection', 'in', 'november', 'on', 'the', '2nd,', 'and', 'i&#039;m', 'still', 'wondering', 'if', 'i', 'could', 'take', 'it', 'again.', 'the', 'only', 'downside', 'to', 'the', 'injection', 'is', 'that', 'i', 'gained', 'access', 'weight', 'and', 'i&#039;m', 'kind', 'of', 'moody.\"\"\"'], rawFeatures=SparseVector(8388608, {18700: 1.0, 119453: 1.0, 181635: 1.0, 192185: 1.0, 338250: 1.0, 530945: 1.0, 582960: 1.0, 814008: 2.0, 834880: 1.0, 854204: 1.0, 862101: 1.0, 1089997: 1.0, 1166551: 1.0, 1230811: 1.0, 1641268: 1.0, 1668228: 1.0, 1937390: 1.0, 2128688: 1.0, 2225914: 1.0, 2390246: 1.0, 2430421: 1.0, 2504812: 1.0, 2764941: 1.0, 2797697: 1.0, 3100046: 1.0, 3179805: 2.0, 3207553: 1.0, 3213144: 1.0, 3441107: 1.0, 3449811: 1.0, 3612252: 2.0, 3745974: 1.0, 3788007: 1.0, 3977482: 1.0, 4228221: 1.0, 4323378: 1.0, 4678141: 1.0, 4682346: 1.0, 4697392: 2.0, 4737628: 7.0, 5420559: 1.0, 5548558: 1.0, 5600913: 4.0, 5835162: 1.0, 5846300: 1.0, 5863186: 1.0, 5878912: 1.0, 6187973: 1.0, 6213250: 1.0, 6355523: 2.0, 6544931: 2.0, 6661592: 1.0, 6714782: 1.0, 6922585: 1.0, 6928394: 1.0, 6986432: 1.0, 7121876: 1.0, 7133527: 1.0, 7133528: 1.0, 7319910: 1.0, 7387842: 1.0, 7700902: 1.0, 7853031: 3.0, 8083407: 1.0, 8346379: 5.0, 8364976: 1.0}), features=SparseVector(8388608, {18700: 1.3708, 119453: 1.6823, 181635: 1.5304, 192185: 4.725, 338250: 1.8185, 530945: 3.6078, 582960: 2.5339, 814008: 0.594, 834880: 0.9365, 854204: 8.7172, 862101: 3.0392, 1089997: 7.8598, 1166551: 4.3546, 1230811: 3.0535, 1641268: 2.2415, 1668228: 8.6483, 1937390: 2.4482, 2128688: 2.0705, 2225914: 5.1467, 2390246: 0.4121, 2430421: 1.9944, 2504812: 7.5277, 2764941: 2.1188, 2797697: 2.1983, 3100046: 3.8935, 3179805: 9.2831, 3207553: 5.4415, 3213144: 0.6937, 3441107: 6.5772, 3449811: 3.7408, 3612252: 7.2846, 3745974: 3.3705, 3788007: 3.1687, 3977482: 2.0784, 4228221: 0.7118, 4323378: 5.5157, 4678141: 1.0269, 4682346: 2.0248, 4697392: 0.6901, 4737628: 1.1522, 5420559: 5.0248, 5548558: 5.0302, 5600913: 0.9819, 5835162: 5.2879, 5846300: 4.4113, 5863186: 8.1374, 5878912: 1.7799, 6187973: 4.3437, 6213250: 1.8193, 6355523: 3.1389, 6544931: 1.168, 6661592: 5.3007, 6714782: 3.6156, 6922585: 0.8269, 6928394: 3.4247, 6986432: 4.3127, 7121876: 5.2229, 7133527: 1.5774, 7133528: 4.4988, 7319910: 2.4675, 7387842: 5.6393, 7700902: 4.6996, 7853031: 2.2952, 8083407: 0.5692, 8346379: 0.8799, 8364976: 8.1993}), drugIndex=13.0, drugVec=SparseVector(3492, {13: 1.0}))"
      ]
     },
     "execution_count": 11,
     "metadata": {},
     "output_type": "execute_result"
    }
   ],
   "source": [
    "x = ohe.limit(1).rdd.first()\n",
    "x"
   ]
  },
  {
   "cell_type": "code",
   "execution_count": 12,
   "metadata": {
    "cell_status": {
     "execute_time": {
      "duration": 57.4951171875,
      "end_time": 1614002050942.128
     }
    }
   },
   "outputs": [
    {
     "data": {
      "text/plain": [
       "SparseVector(3492, {13: 1.0})"
      ]
     },
     "execution_count": 12,
     "metadata": {},
     "output_type": "execute_result"
    }
   ],
   "source": [
    "x['drugVec']"
   ]
  },
  {
   "cell_type": "code",
   "execution_count": null,
   "metadata": {},
   "outputs": [],
   "source": []
  },
  {
   "cell_type": "markdown",
   "metadata": {},
   "source": [
    "Подготавливаем признаки"
   ]
  },
  {
   "cell_type": "code",
   "execution_count": 17,
   "metadata": {
    "cell_status": {
     "execute_time": {
      "duration": 1161.2451171875,
      "end_time": 1614002060570.721
     }
    }
   },
   "outputs": [],
   "source": [
    "wordsData = tokenizer.transform(train)\n",
    "\n",
    "tokenizer = Tokenizer(inputCol=\"review\", outputCol=\"words\")\n",
    "hashingTF = HashingTF(inputCol=\"words\", outputCol=\"rawFeatures\", numFeatures=2**10)\n",
    "idf = IDF(inputCol=\"rawFeatures\", outputCol=\"revviewFeatures\")\n",
    "\n",
    "stringIndexerCondition = StringIndexer(inputCol='condition', outputCol = \"conditionIndex\").setHandleInvalid(\"skip\")\n",
    "encoderCondition = OneHotEncoder(inputCol=\"conditionIndex\", outputCol=\"conditionVec\")\n",
    "\n",
    "stringIndexerDrug = StringIndexer(inputCol='drugName', outputCol = \"drugIndex\").setHandleInvalid(\"skip\")\n",
    "encoderDrug = OneHotEncoder(inputCol=\"drugIndex\", outputCol=\"drugVec\")\n",
    "\n",
    "assembler = VectorAssembler(inputCols=[\"drugVec\", \"conditionVec\", \"revviewFeatures\", 'ratingNum'], outputCol=\"features\")\n",
    "\n",
    "preproc = Pipeline(stages=[\n",
    "    tokenizer,\n",
    "    hashingTF,\n",
    "    idf,\n",
    "    stringIndexerCondition,\n",
    "    encoderCondition,\n",
    "    stringIndexerDrug,\n",
    "    encoderDrug,\n",
    "    assembler\n",
    "])"
   ]
  },
  {
   "cell_type": "code",
   "execution_count": 14,
   "metadata": {
    "cell_status": {
     "execute_time": {
      "duration": 390136.5959472656,
      "end_time": 1614002526825.782
     }
    }
   },
   "outputs": [
    {
     "name": "stderr",
     "output_type": "stream",
     "text": [
      "                                                                                \r"
     ]
    }
   ],
   "source": [
    "train_proc = preproc.fit(train).transform(train).cache()"
   ]
  },
  {
   "cell_type": "code",
   "execution_count": 16,
   "metadata": {
    "cell_status": {
     "execute_time": {
      "duration": 37.211181640625,
      "end_time": 1614002117596.296
     }
    }
   },
   "outputs": [
    {
     "data": {
      "text/html": [
       "<div>\n",
       "<style scoped>\n",
       "    .dataframe tbody tr th:only-of-type {\n",
       "        vertical-align: middle;\n",
       "    }\n",
       "\n",
       "    .dataframe tbody tr th {\n",
       "        vertical-align: top;\n",
       "    }\n",
       "\n",
       "    .dataframe thead th {\n",
       "        text-align: right;\n",
       "    }\n",
       "</style>\n",
       "<table border=\"1\" class=\"dataframe\">\n",
       "  <thead>\n",
       "    <tr style=\"text-align: right;\">\n",
       "      <th></th>\n",
       "      <th>_c0</th>\n",
       "      <th>drugName</th>\n",
       "      <th>condition</th>\n",
       "      <th>review</th>\n",
       "      <th>rating</th>\n",
       "      <th>date</th>\n",
       "      <th>usefulCount</th>\n",
       "      <th>ratingNum</th>\n",
       "      <th>words</th>\n",
       "      <th>rawFeatures</th>\n",
       "      <th>revviewFeatures</th>\n",
       "      <th>conditionIndex</th>\n",
       "      <th>conditionVec</th>\n",
       "      <th>drugIndex</th>\n",
       "      <th>drugVec</th>\n",
       "      <th>features</th>\n",
       "    </tr>\n",
       "  </thead>\n",
       "  <tbody>\n",
       "    <tr>\n",
       "      <th>0</th>\n",
       "      <td>10</td>\n",
       "      <td>Medroxyprogesterone</td>\n",
       "      <td>Abnormal Uterine Bleeding</td>\n",
       "      <td>\"\"\"I&amp;#039;m 17 years old and I got shot in Aug...</td>\n",
       "      <td>7.0</td>\n",
       "      <td>October 20, 2015</td>\n",
       "      <td>2</td>\n",
       "      <td>7</td>\n",
       "      <td>[\"\"\"i&amp;#039;m, 17, years, old, and, i, got, sho...</td>\n",
       "      <td>(0.0, 0.0, 0.0, 0.0, 0.0, 0.0, 0.0, 0.0, 0.0, ...</td>\n",
       "      <td>(0.0, 0.0, 0.0, 0.0, 0.0, 0.0, 0.0, 0.0, 0.0, ...</td>\n",
       "      <td>14.0</td>\n",
       "      <td>(0.0, 0.0, 0.0, 0.0, 0.0, 0.0, 0.0, 0.0, 0.0, ...</td>\n",
       "      <td>13.0</td>\n",
       "      <td>(0.0, 0.0, 0.0, 0.0, 0.0, 0.0, 0.0, 0.0, 0.0, ...</td>\n",
       "      <td>(0.0, 0.0, 0.0, 0.0, 0.0, 0.0, 0.0, 0.0, 0.0, ...</td>\n",
       "    </tr>\n",
       "    <tr>\n",
       "      <th>1</th>\n",
       "      <td>1000</td>\n",
       "      <td>Everolimus</td>\n",
       "      <td>Breast Cance</td>\n",
       "      <td>\"\"\"Although the medication did effectively tre...</td>\n",
       "      <td>2.0</td>\n",
       "      <td>March 15, 2016</td>\n",
       "      <td>4</td>\n",
       "      <td>2</td>\n",
       "      <td>[\"\"\"although, the, medication, did, effectivel...</td>\n",
       "      <td>(0.0, 0.0, 0.0, 0.0, 0.0, 0.0, 0.0, 0.0, 0.0, ...</td>\n",
       "      <td>(0.0, 0.0, 0.0, 0.0, 0.0, 0.0, 0.0, 0.0, 0.0, ...</td>\n",
       "      <td>83.0</td>\n",
       "      <td>(0.0, 0.0, 0.0, 0.0, 0.0, 0.0, 0.0, 0.0, 0.0, ...</td>\n",
       "      <td>1322.0</td>\n",
       "      <td>(0.0, 0.0, 0.0, 0.0, 0.0, 0.0, 0.0, 0.0, 0.0, ...</td>\n",
       "      <td>(0.0, 0.0, 0.0, 0.0, 0.0, 0.0, 0.0, 0.0, 0.0, ...</td>\n",
       "    </tr>\n",
       "    <tr>\n",
       "      <th>2</th>\n",
       "      <td>10000</td>\n",
       "      <td>Lo Loestrin Fe</td>\n",
       "      <td>Birth Control</td>\n",
       "      <td>\"\"\"I was on this birth control for 8 months. T...</td>\n",
       "      <td>7.0</td>\n",
       "      <td>April 10, 2013</td>\n",
       "      <td>4</td>\n",
       "      <td>7</td>\n",
       "      <td>[\"\"\"i, was, on, this, birth, control, for, 8, ...</td>\n",
       "      <td>(0.0, 0.0, 0.0, 0.0, 0.0, 0.0, 0.0, 0.0, 0.0, ...</td>\n",
       "      <td>(0.0, 0.0, 0.0, 0.0, 0.0, 0.0, 0.0, 0.0, 0.0, ...</td>\n",
       "      <td>0.0</td>\n",
       "      <td>(1.0, 0.0, 0.0, 0.0, 0.0, 0.0, 0.0, 0.0, 0.0, ...</td>\n",
       "      <td>35.0</td>\n",
       "      <td>(0.0, 0.0, 0.0, 0.0, 0.0, 0.0, 0.0, 0.0, 0.0, ...</td>\n",
       "      <td>(0.0, 0.0, 0.0, 0.0, 0.0, 0.0, 0.0, 0.0, 0.0, ...</td>\n",
       "    </tr>\n",
       "    <tr>\n",
       "      <th>3</th>\n",
       "      <td>100004</td>\n",
       "      <td>Desogestrel / ethinyl estradiol</td>\n",
       "      <td>Birth Control</td>\n",
       "      <td>\"\"\"I have been taking Azurette for 3 years now...</td>\n",
       "      <td>8.0</td>\n",
       "      <td>July 11, 2017</td>\n",
       "      <td>1</td>\n",
       "      <td>8</td>\n",
       "      <td>[\"\"\"i, have, been, taking, azurette, for, 3, y...</td>\n",
       "      <td>(0.0, 0.0, 0.0, 0.0, 0.0, 0.0, 0.0, 0.0, 0.0, ...</td>\n",
       "      <td>(0.0, 0.0, 0.0, 0.0, 0.0, 0.0, 0.0, 0.0, 0.0, ...</td>\n",
       "      <td>0.0</td>\n",
       "      <td>(1.0, 0.0, 0.0, 0.0, 0.0, 0.0, 0.0, 0.0, 0.0, ...</td>\n",
       "      <td>57.0</td>\n",
       "      <td>(0.0, 0.0, 0.0, 0.0, 0.0, 0.0, 0.0, 0.0, 0.0, ...</td>\n",
       "      <td>(0.0, 0.0, 0.0, 0.0, 0.0, 0.0, 0.0, 0.0, 0.0, ...</td>\n",
       "    </tr>\n",
       "    <tr>\n",
       "      <th>4</th>\n",
       "      <td>100007</td>\n",
       "      <td>Desogestrel / ethinyl estradiol</td>\n",
       "      <td>Birth Control</td>\n",
       "      <td>\"\"\"At the beginning, Kariva seemed to be worki...</td>\n",
       "      <td>5.0</td>\n",
       "      <td>June 29, 2017</td>\n",
       "      <td>0</td>\n",
       "      <td>5</td>\n",
       "      <td>[\"\"\"at, the, beginning,, kariva, seemed, to, b...</td>\n",
       "      <td>(0.0, 0.0, 0.0, 0.0, 0.0, 0.0, 0.0, 0.0, 0.0, ...</td>\n",
       "      <td>(0.0, 0.0, 0.0, 0.0, 0.0, 0.0, 0.0, 0.0, 0.0, ...</td>\n",
       "      <td>0.0</td>\n",
       "      <td>(1.0, 0.0, 0.0, 0.0, 0.0, 0.0, 0.0, 0.0, 0.0, ...</td>\n",
       "      <td>57.0</td>\n",
       "      <td>(0.0, 0.0, 0.0, 0.0, 0.0, 0.0, 0.0, 0.0, 0.0, ...</td>\n",
       "      <td>(0.0, 0.0, 0.0, 0.0, 0.0, 0.0, 0.0, 0.0, 0.0, ...</td>\n",
       "    </tr>\n",
       "    <tr>\n",
       "      <th>5</th>\n",
       "      <td>100008</td>\n",
       "      <td>Desogestrel / ethinyl estradiol</td>\n",
       "      <td>Birth Control</td>\n",
       "      <td>\"\"\"This is yet another update. Just finished m...</td>\n",
       "      <td>1.0</td>\n",
       "      <td>June 28, 2017</td>\n",
       "      <td>0</td>\n",
       "      <td>1</td>\n",
       "      <td>[\"\"\"this, is, yet, another, update., just, fin...</td>\n",
       "      <td>(0.0, 0.0, 0.0, 0.0, 0.0, 0.0, 0.0, 0.0, 0.0, ...</td>\n",
       "      <td>(0.0, 0.0, 0.0, 0.0, 0.0, 0.0, 0.0, 0.0, 0.0, ...</td>\n",
       "      <td>0.0</td>\n",
       "      <td>(1.0, 0.0, 0.0, 0.0, 0.0, 0.0, 0.0, 0.0, 0.0, ...</td>\n",
       "      <td>57.0</td>\n",
       "      <td>(0.0, 0.0, 0.0, 0.0, 0.0, 0.0, 0.0, 0.0, 0.0, ...</td>\n",
       "      <td>(0.0, 0.0, 0.0, 0.0, 0.0, 0.0, 0.0, 0.0, 0.0, ...</td>\n",
       "    </tr>\n",
       "    <tr>\n",
       "      <th>6</th>\n",
       "      <td>100009</td>\n",
       "      <td>Desogestrel / ethinyl estradiol</td>\n",
       "      <td>Birth Control</td>\n",
       "      <td>\"\"\"I was on reclipsen for less than 2 weeks an...</td>\n",
       "      <td>1.0</td>\n",
       "      <td>June 28, 2017</td>\n",
       "      <td>2</td>\n",
       "      <td>1</td>\n",
       "      <td>[\"\"\"i, was, on, reclipsen, for, less, than, 2,...</td>\n",
       "      <td>(1.0, 0.0, 0.0, 0.0, 0.0, 0.0, 0.0, 0.0, 0.0, ...</td>\n",
       "      <td>(3.3244338839699816, 0.0, 0.0, 0.0, 0.0, 0.0, ...</td>\n",
       "      <td>0.0</td>\n",
       "      <td>(1.0, 0.0, 0.0, 0.0, 0.0, 0.0, 0.0, 0.0, 0.0, ...</td>\n",
       "      <td>57.0</td>\n",
       "      <td>(0.0, 0.0, 0.0, 0.0, 0.0, 0.0, 0.0, 0.0, 0.0, ...</td>\n",
       "      <td>(0.0, 0.0, 0.0, 0.0, 0.0, 0.0, 0.0, 0.0, 0.0, ...</td>\n",
       "    </tr>\n",
       "    <tr>\n",
       "      <th>7</th>\n",
       "      <td>100011</td>\n",
       "      <td>Desogestrel / ethinyl estradiol</td>\n",
       "      <td>Birth Control</td>\n",
       "      <td>\"\"\"I have been on Apri for 4 months, I&amp;#039;m ...</td>\n",
       "      <td>8.0</td>\n",
       "      <td>June 19, 2017</td>\n",
       "      <td>3</td>\n",
       "      <td>8</td>\n",
       "      <td>[\"\"\"i, have, been, on, apri, for, 4, months,, ...</td>\n",
       "      <td>(0.0, 0.0, 0.0, 0.0, 0.0, 0.0, 0.0, 0.0, 0.0, ...</td>\n",
       "      <td>(0.0, 0.0, 0.0, 0.0, 0.0, 0.0, 0.0, 0.0, 0.0, ...</td>\n",
       "      <td>0.0</td>\n",
       "      <td>(1.0, 0.0, 0.0, 0.0, 0.0, 0.0, 0.0, 0.0, 0.0, ...</td>\n",
       "      <td>57.0</td>\n",
       "      <td>(0.0, 0.0, 0.0, 0.0, 0.0, 0.0, 0.0, 0.0, 0.0, ...</td>\n",
       "      <td>(0.0, 0.0, 0.0, 0.0, 0.0, 0.0, 0.0, 0.0, 0.0, ...</td>\n",
       "    </tr>\n",
       "    <tr>\n",
       "      <th>8</th>\n",
       "      <td>100012</td>\n",
       "      <td>Desogestrel / ethinyl estradiol</td>\n",
       "      <td>Birth Control</td>\n",
       "      <td>\"\"\"I&amp;#039;ve been taking Velivet for about a y...</td>\n",
       "      <td>9.0</td>\n",
       "      <td>June 17, 2017</td>\n",
       "      <td>2</td>\n",
       "      <td>9</td>\n",
       "      <td>[\"\"\"i&amp;#039;ve, been, taking, velivet, for, abo...</td>\n",
       "      <td>(0.0, 0.0, 0.0, 0.0, 0.0, 0.0, 0.0, 0.0, 0.0, ...</td>\n",
       "      <td>(0.0, 0.0, 0.0, 0.0, 0.0, 0.0, 0.0, 0.0, 0.0, ...</td>\n",
       "      <td>0.0</td>\n",
       "      <td>(1.0, 0.0, 0.0, 0.0, 0.0, 0.0, 0.0, 0.0, 0.0, ...</td>\n",
       "      <td>57.0</td>\n",
       "      <td>(0.0, 0.0, 0.0, 0.0, 0.0, 0.0, 0.0, 0.0, 0.0, ...</td>\n",
       "      <td>(0.0, 0.0, 0.0, 0.0, 0.0, 0.0, 0.0, 0.0, 0.0, ...</td>\n",
       "    </tr>\n",
       "    <tr>\n",
       "      <th>9</th>\n",
       "      <td>100013</td>\n",
       "      <td>Desogestrel / ethinyl estradiol</td>\n",
       "      <td>Birth Control</td>\n",
       "      <td>\"\"\"Gives me heartburn and indigestion. Also ma...</td>\n",
       "      <td>2.0</td>\n",
       "      <td>June 8, 2017</td>\n",
       "      <td>1</td>\n",
       "      <td>2</td>\n",
       "      <td>[\"\"\"gives, me, heartburn, and, indigestion., a...</td>\n",
       "      <td>(0.0, 0.0, 0.0, 0.0, 0.0, 0.0, 0.0, 0.0, 0.0, ...</td>\n",
       "      <td>(0.0, 0.0, 0.0, 0.0, 0.0, 0.0, 0.0, 0.0, 0.0, ...</td>\n",
       "      <td>0.0</td>\n",
       "      <td>(1.0, 0.0, 0.0, 0.0, 0.0, 0.0, 0.0, 0.0, 0.0, ...</td>\n",
       "      <td>57.0</td>\n",
       "      <td>(0.0, 0.0, 0.0, 0.0, 0.0, 0.0, 0.0, 0.0, 0.0, ...</td>\n",
       "      <td>(0.0, 0.0, 0.0, 0.0, 0.0, 0.0, 0.0, 0.0, 0.0, ...</td>\n",
       "    </tr>\n",
       "  </tbody>\n",
       "</table>\n",
       "</div>"
      ],
      "text/plain": [
       "      _c0                         drugName                  condition  \\\n",
       "0      10              Medroxyprogesterone  Abnormal Uterine Bleeding   \n",
       "1    1000                       Everolimus               Breast Cance   \n",
       "2   10000                   Lo Loestrin Fe              Birth Control   \n",
       "3  100004  Desogestrel / ethinyl estradiol              Birth Control   \n",
       "4  100007  Desogestrel / ethinyl estradiol              Birth Control   \n",
       "5  100008  Desogestrel / ethinyl estradiol              Birth Control   \n",
       "6  100009  Desogestrel / ethinyl estradiol              Birth Control   \n",
       "7  100011  Desogestrel / ethinyl estradiol              Birth Control   \n",
       "8  100012  Desogestrel / ethinyl estradiol              Birth Control   \n",
       "9  100013  Desogestrel / ethinyl estradiol              Birth Control   \n",
       "\n",
       "                                              review rating              date  \\\n",
       "0  \"\"\"I&#039;m 17 years old and I got shot in Aug...    7.0  October 20, 2015   \n",
       "1  \"\"\"Although the medication did effectively tre...    2.0    March 15, 2016   \n",
       "2  \"\"\"I was on this birth control for 8 months. T...    7.0    April 10, 2013   \n",
       "3  \"\"\"I have been taking Azurette for 3 years now...    8.0     July 11, 2017   \n",
       "4  \"\"\"At the beginning, Kariva seemed to be worki...    5.0     June 29, 2017   \n",
       "5  \"\"\"This is yet another update. Just finished m...    1.0     June 28, 2017   \n",
       "6  \"\"\"I was on reclipsen for less than 2 weeks an...    1.0     June 28, 2017   \n",
       "7  \"\"\"I have been on Apri for 4 months, I&#039;m ...    8.0     June 19, 2017   \n",
       "8  \"\"\"I&#039;ve been taking Velivet for about a y...    9.0     June 17, 2017   \n",
       "9  \"\"\"Gives me heartburn and indigestion. Also ma...    2.0      June 8, 2017   \n",
       "\n",
       "   usefulCount  ratingNum                                              words  \\\n",
       "0            2          7  [\"\"\"i&#039;m, 17, years, old, and, i, got, sho...   \n",
       "1            4          2  [\"\"\"although, the, medication, did, effectivel...   \n",
       "2            4          7  [\"\"\"i, was, on, this, birth, control, for, 8, ...   \n",
       "3            1          8  [\"\"\"i, have, been, taking, azurette, for, 3, y...   \n",
       "4            0          5  [\"\"\"at, the, beginning,, kariva, seemed, to, b...   \n",
       "5            0          1  [\"\"\"this, is, yet, another, update., just, fin...   \n",
       "6            2          1  [\"\"\"i, was, on, reclipsen, for, less, than, 2,...   \n",
       "7            3          8  [\"\"\"i, have, been, on, apri, for, 4, months,, ...   \n",
       "8            2          9  [\"\"\"i&#039;ve, been, taking, velivet, for, abo...   \n",
       "9            1          2  [\"\"\"gives, me, heartburn, and, indigestion., a...   \n",
       "\n",
       "                                         rawFeatures  \\\n",
       "0  (0.0, 0.0, 0.0, 0.0, 0.0, 0.0, 0.0, 0.0, 0.0, ...   \n",
       "1  (0.0, 0.0, 0.0, 0.0, 0.0, 0.0, 0.0, 0.0, 0.0, ...   \n",
       "2  (0.0, 0.0, 0.0, 0.0, 0.0, 0.0, 0.0, 0.0, 0.0, ...   \n",
       "3  (0.0, 0.0, 0.0, 0.0, 0.0, 0.0, 0.0, 0.0, 0.0, ...   \n",
       "4  (0.0, 0.0, 0.0, 0.0, 0.0, 0.0, 0.0, 0.0, 0.0, ...   \n",
       "5  (0.0, 0.0, 0.0, 0.0, 0.0, 0.0, 0.0, 0.0, 0.0, ...   \n",
       "6  (1.0, 0.0, 0.0, 0.0, 0.0, 0.0, 0.0, 0.0, 0.0, ...   \n",
       "7  (0.0, 0.0, 0.0, 0.0, 0.0, 0.0, 0.0, 0.0, 0.0, ...   \n",
       "8  (0.0, 0.0, 0.0, 0.0, 0.0, 0.0, 0.0, 0.0, 0.0, ...   \n",
       "9  (0.0, 0.0, 0.0, 0.0, 0.0, 0.0, 0.0, 0.0, 0.0, ...   \n",
       "\n",
       "                                     revviewFeatures  conditionIndex  \\\n",
       "0  (0.0, 0.0, 0.0, 0.0, 0.0, 0.0, 0.0, 0.0, 0.0, ...            14.0   \n",
       "1  (0.0, 0.0, 0.0, 0.0, 0.0, 0.0, 0.0, 0.0, 0.0, ...            83.0   \n",
       "2  (0.0, 0.0, 0.0, 0.0, 0.0, 0.0, 0.0, 0.0, 0.0, ...             0.0   \n",
       "3  (0.0, 0.0, 0.0, 0.0, 0.0, 0.0, 0.0, 0.0, 0.0, ...             0.0   \n",
       "4  (0.0, 0.0, 0.0, 0.0, 0.0, 0.0, 0.0, 0.0, 0.0, ...             0.0   \n",
       "5  (0.0, 0.0, 0.0, 0.0, 0.0, 0.0, 0.0, 0.0, 0.0, ...             0.0   \n",
       "6  (3.3244338839699816, 0.0, 0.0, 0.0, 0.0, 0.0, ...             0.0   \n",
       "7  (0.0, 0.0, 0.0, 0.0, 0.0, 0.0, 0.0, 0.0, 0.0, ...             0.0   \n",
       "8  (0.0, 0.0, 0.0, 0.0, 0.0, 0.0, 0.0, 0.0, 0.0, ...             0.0   \n",
       "9  (0.0, 0.0, 0.0, 0.0, 0.0, 0.0, 0.0, 0.0, 0.0, ...             0.0   \n",
       "\n",
       "                                        conditionVec  drugIndex  \\\n",
       "0  (0.0, 0.0, 0.0, 0.0, 0.0, 0.0, 0.0, 0.0, 0.0, ...       13.0   \n",
       "1  (0.0, 0.0, 0.0, 0.0, 0.0, 0.0, 0.0, 0.0, 0.0, ...     1322.0   \n",
       "2  (1.0, 0.0, 0.0, 0.0, 0.0, 0.0, 0.0, 0.0, 0.0, ...       35.0   \n",
       "3  (1.0, 0.0, 0.0, 0.0, 0.0, 0.0, 0.0, 0.0, 0.0, ...       57.0   \n",
       "4  (1.0, 0.0, 0.0, 0.0, 0.0, 0.0, 0.0, 0.0, 0.0, ...       57.0   \n",
       "5  (1.0, 0.0, 0.0, 0.0, 0.0, 0.0, 0.0, 0.0, 0.0, ...       57.0   \n",
       "6  (1.0, 0.0, 0.0, 0.0, 0.0, 0.0, 0.0, 0.0, 0.0, ...       57.0   \n",
       "7  (1.0, 0.0, 0.0, 0.0, 0.0, 0.0, 0.0, 0.0, 0.0, ...       57.0   \n",
       "8  (1.0, 0.0, 0.0, 0.0, 0.0, 0.0, 0.0, 0.0, 0.0, ...       57.0   \n",
       "9  (1.0, 0.0, 0.0, 0.0, 0.0, 0.0, 0.0, 0.0, 0.0, ...       57.0   \n",
       "\n",
       "                                             drugVec  \\\n",
       "0  (0.0, 0.0, 0.0, 0.0, 0.0, 0.0, 0.0, 0.0, 0.0, ...   \n",
       "1  (0.0, 0.0, 0.0, 0.0, 0.0, 0.0, 0.0, 0.0, 0.0, ...   \n",
       "2  (0.0, 0.0, 0.0, 0.0, 0.0, 0.0, 0.0, 0.0, 0.0, ...   \n",
       "3  (0.0, 0.0, 0.0, 0.0, 0.0, 0.0, 0.0, 0.0, 0.0, ...   \n",
       "4  (0.0, 0.0, 0.0, 0.0, 0.0, 0.0, 0.0, 0.0, 0.0, ...   \n",
       "5  (0.0, 0.0, 0.0, 0.0, 0.0, 0.0, 0.0, 0.0, 0.0, ...   \n",
       "6  (0.0, 0.0, 0.0, 0.0, 0.0, 0.0, 0.0, 0.0, 0.0, ...   \n",
       "7  (0.0, 0.0, 0.0, 0.0, 0.0, 0.0, 0.0, 0.0, 0.0, ...   \n",
       "8  (0.0, 0.0, 0.0, 0.0, 0.0, 0.0, 0.0, 0.0, 0.0, ...   \n",
       "9  (0.0, 0.0, 0.0, 0.0, 0.0, 0.0, 0.0, 0.0, 0.0, ...   \n",
       "\n",
       "                                            features  \n",
       "0  (0.0, 0.0, 0.0, 0.0, 0.0, 0.0, 0.0, 0.0, 0.0, ...  \n",
       "1  (0.0, 0.0, 0.0, 0.0, 0.0, 0.0, 0.0, 0.0, 0.0, ...  \n",
       "2  (0.0, 0.0, 0.0, 0.0, 0.0, 0.0, 0.0, 0.0, 0.0, ...  \n",
       "3  (0.0, 0.0, 0.0, 0.0, 0.0, 0.0, 0.0, 0.0, 0.0, ...  \n",
       "4  (0.0, 0.0, 0.0, 0.0, 0.0, 0.0, 0.0, 0.0, 0.0, ...  \n",
       "5  (0.0, 0.0, 0.0, 0.0, 0.0, 0.0, 0.0, 0.0, 0.0, ...  \n",
       "6  (0.0, 0.0, 0.0, 0.0, 0.0, 0.0, 0.0, 0.0, 0.0, ...  \n",
       "7  (0.0, 0.0, 0.0, 0.0, 0.0, 0.0, 0.0, 0.0, 0.0, ...  \n",
       "8  (0.0, 0.0, 0.0, 0.0, 0.0, 0.0, 0.0, 0.0, 0.0, ...  \n",
       "9  (0.0, 0.0, 0.0, 0.0, 0.0, 0.0, 0.0, 0.0, 0.0, ...  "
      ]
     },
     "execution_count": 16,
     "metadata": {},
     "output_type": "execute_result"
    }
   ],
   "source": [
    "train_proc.limit(10).toPandas()"
   ]
  },
  {
   "cell_type": "code",
   "execution_count": null,
   "metadata": {},
   "outputs": [],
   "source": []
  },
  {
   "cell_type": "code",
   "execution_count": null,
   "metadata": {
    "cell_status": {
     "execute_time": {
      "duration": 258.18994140625,
      "end_time": 1614003221877.417
     }
    }
   },
   "outputs": [],
   "source": [
    "tokenizer = Tokenizer(inputCol=\"review\", outputCol=\"words\")\n",
    "hashingTF = HashingTF(inputCol=\"words\", outputCol=\"rawFeatures\", numFeatures=2**23)\n",
    "idf = IDF(inputCol=\"rawFeatures\", outputCol=\"revviewFeatures\")\n",
    "\n",
    "preproc = Pipeline(stages=[\n",
    "    tokenizer,\n",
    "    hashingTF,\n",
    "    idf\n",
    "])"
   ]
  },
  {
   "cell_type": "markdown",
   "metadata": {},
   "source": [
    "Запустить сбор признаков, который написан, у вас скорее всего не получится. Поэтому попробуем урезать количество вычислений - может быть получится."
   ]
  },
  {
   "cell_type": "code",
   "execution_count": 12,
   "metadata": {
    "cell_status": {
     "execute_time": {
      "duration": 254.76513671875,
      "end_time": 1614008109896.306
     }
    }
   },
   "outputs": [],
   "source": [
    "stringIndexerCondition = StringIndexer(inputCol='condition', outputCol = \"conditionIndex\").setHandleInvalid(\"skip\")\n",
    "encoderCondition = OneHotEncoder(inputCol=\"conditionIndex\", outputCol=\"conditionVec\")\n",
    "\n",
    "stringIndexerDrug = StringIndexer(inputCol='drugName', outputCol = \"drugIndex\").setHandleInvalid(\"skip\")\n",
    "encoderDrug = OneHotEncoder(inputCol=\"drugIndex\", outputCol=\"drugVec\")\n",
    "\n",
    "assembler = VectorAssembler(inputCols=[\"drugVec\", \"conditionVec\", 'ratingNum'], outputCol=\"features\")\n",
    "\n",
    "preproc = Pipeline(stages=[\n",
    "    stringIndexerCondition,\n",
    "    encoderCondition,\n",
    "    stringIndexerDrug,\n",
    "    encoderDrug,\n",
    "    assembler\n",
    "])"
   ]
  },
  {
   "cell_type": "code",
   "execution_count": 18,
   "metadata": {
    "cell_status": {
     "execute_time": {
      "duration": 5316.071044921875,
      "end_time": 1614008115227.569
     }
    }
   },
   "outputs": [
    {
     "name": "stderr",
     "output_type": "stream",
     "text": [
      "                                                                                \r"
     ]
    }
   ],
   "source": [
    "preproc = preproc.fit(data)"
   ]
  },
  {
   "cell_type": "code",
   "execution_count": 19,
   "metadata": {
    "cell_status": {
     "execute_time": {
      "duration": 756.6298828125,
      "end_time": 1614008115996.191
     }
    }
   },
   "outputs": [],
   "source": [
    "train_proc = preproc.transform(train).cache()\n",
    "test_proc = preproc.transform(test).cache()"
   ]
  },
  {
   "cell_type": "code",
   "execution_count": 20,
   "metadata": {
    "cell_status": {
     "execute_time": {
      "duration": 3277.0419921875,
      "end_time": 1614008119284.472
     }
    }
   },
   "outputs": [
    {
     "name": "stderr",
     "output_type": "stream",
     "text": [
      "                                                                                \r"
     ]
    },
    {
     "data": {
      "text/html": [
       "<div>\n",
       "<style scoped>\n",
       "    .dataframe tbody tr th:only-of-type {\n",
       "        vertical-align: middle;\n",
       "    }\n",
       "\n",
       "    .dataframe tbody tr th {\n",
       "        vertical-align: top;\n",
       "    }\n",
       "\n",
       "    .dataframe thead th {\n",
       "        text-align: right;\n",
       "    }\n",
       "</style>\n",
       "<table border=\"1\" class=\"dataframe\">\n",
       "  <thead>\n",
       "    <tr style=\"text-align: right;\">\n",
       "      <th></th>\n",
       "      <th>_c0</th>\n",
       "      <th>drugName</th>\n",
       "      <th>condition</th>\n",
       "      <th>review</th>\n",
       "      <th>rating</th>\n",
       "      <th>date</th>\n",
       "      <th>usefulCount</th>\n",
       "      <th>ratingNum</th>\n",
       "      <th>words</th>\n",
       "      <th>rawFeatures</th>\n",
       "      <th>revviewFeatures</th>\n",
       "      <th>conditionIndex</th>\n",
       "      <th>conditionVec</th>\n",
       "      <th>drugIndex</th>\n",
       "      <th>drugVec</th>\n",
       "      <th>features</th>\n",
       "    </tr>\n",
       "  </thead>\n",
       "  <tbody>\n",
       "    <tr>\n",
       "      <th>0</th>\n",
       "      <td>10</td>\n",
       "      <td>Medroxyprogesterone</td>\n",
       "      <td>Abnormal Uterine Bleeding</td>\n",
       "      <td>\"\"\"I&amp;#039;m 17 years old and I got shot in Aug...</td>\n",
       "      <td>7.0</td>\n",
       "      <td>October 20, 2015</td>\n",
       "      <td>2</td>\n",
       "      <td>7</td>\n",
       "      <td>[\"\"\"i&amp;#039;m, 17, years, old, and, i, got, sho...</td>\n",
       "      <td>(0.0, 0.0, 0.0, 0.0, 0.0, 0.0, 0.0, 0.0, 0.0, ...</td>\n",
       "      <td>(0.0, 0.0, 0.0, 0.0, 0.0, 0.0, 0.0, 0.0, 0.0, ...</td>\n",
       "      <td>14.0</td>\n",
       "      <td>(0.0, 0.0, 0.0, 0.0, 0.0, 0.0, 0.0, 0.0, 0.0, ...</td>\n",
       "      <td>14.0</td>\n",
       "      <td>(0.0, 0.0, 0.0, 0.0, 0.0, 0.0, 0.0, 0.0, 0.0, ...</td>\n",
       "      <td>(0.0, 0.0, 0.0, 0.0, 0.0, 0.0, 0.0, 0.0, 0.0, ...</td>\n",
       "    </tr>\n",
       "    <tr>\n",
       "      <th>1</th>\n",
       "      <td>1000</td>\n",
       "      <td>Everolimus</td>\n",
       "      <td>Breast Cance</td>\n",
       "      <td>\"\"\"Although the medication did effectively tre...</td>\n",
       "      <td>2.0</td>\n",
       "      <td>March 15, 2016</td>\n",
       "      <td>4</td>\n",
       "      <td>2</td>\n",
       "      <td>[\"\"\"although, the, medication, did, effectivel...</td>\n",
       "      <td>(0.0, 0.0, 0.0, 0.0, 0.0, 0.0, 0.0, 0.0, 0.0, ...</td>\n",
       "      <td>(0.0, 0.0, 0.0, 0.0, 0.0, 0.0, 0.0, 0.0, 0.0, ...</td>\n",
       "      <td>83.0</td>\n",
       "      <td>(0.0, 0.0, 0.0, 0.0, 0.0, 0.0, 0.0, 0.0, 0.0, ...</td>\n",
       "      <td>1379.0</td>\n",
       "      <td>(0.0, 0.0, 0.0, 0.0, 0.0, 0.0, 0.0, 0.0, 0.0, ...</td>\n",
       "      <td>(0.0, 0.0, 0.0, 0.0, 0.0, 0.0, 0.0, 0.0, 0.0, ...</td>\n",
       "    </tr>\n",
       "    <tr>\n",
       "      <th>2</th>\n",
       "      <td>10000</td>\n",
       "      <td>Lo Loestrin Fe</td>\n",
       "      <td>Birth Control</td>\n",
       "      <td>\"\"\"I was on this birth control for 8 months. T...</td>\n",
       "      <td>7.0</td>\n",
       "      <td>April 10, 2013</td>\n",
       "      <td>4</td>\n",
       "      <td>7</td>\n",
       "      <td>[\"\"\"i, was, on, this, birth, control, for, 8, ...</td>\n",
       "      <td>(0.0, 0.0, 0.0, 0.0, 0.0, 0.0, 0.0, 0.0, 0.0, ...</td>\n",
       "      <td>(0.0, 0.0, 0.0, 0.0, 0.0, 0.0, 0.0, 0.0, 0.0, ...</td>\n",
       "      <td>0.0</td>\n",
       "      <td>(1.0, 0.0, 0.0, 0.0, 0.0, 0.0, 0.0, 0.0, 0.0, ...</td>\n",
       "      <td>35.0</td>\n",
       "      <td>(0.0, 0.0, 0.0, 0.0, 0.0, 0.0, 0.0, 0.0, 0.0, ...</td>\n",
       "      <td>(0.0, 0.0, 0.0, 0.0, 0.0, 0.0, 0.0, 0.0, 0.0, ...</td>\n",
       "    </tr>\n",
       "    <tr>\n",
       "      <th>3</th>\n",
       "      <td>100004</td>\n",
       "      <td>Desogestrel / ethinyl estradiol</td>\n",
       "      <td>Birth Control</td>\n",
       "      <td>\"\"\"I have been taking Azurette for 3 years now...</td>\n",
       "      <td>8.0</td>\n",
       "      <td>July 11, 2017</td>\n",
       "      <td>1</td>\n",
       "      <td>8</td>\n",
       "      <td>[\"\"\"i, have, been, taking, azurette, for, 3, y...</td>\n",
       "      <td>(0.0, 0.0, 0.0, 0.0, 0.0, 0.0, 0.0, 0.0, 0.0, ...</td>\n",
       "      <td>(0.0, 0.0, 0.0, 0.0, 0.0, 0.0, 0.0, 0.0, 0.0, ...</td>\n",
       "      <td>0.0</td>\n",
       "      <td>(1.0, 0.0, 0.0, 0.0, 0.0, 0.0, 0.0, 0.0, 0.0, ...</td>\n",
       "      <td>60.0</td>\n",
       "      <td>(0.0, 0.0, 0.0, 0.0, 0.0, 0.0, 0.0, 0.0, 0.0, ...</td>\n",
       "      <td>(0.0, 0.0, 0.0, 0.0, 0.0, 0.0, 0.0, 0.0, 0.0, ...</td>\n",
       "    </tr>\n",
       "    <tr>\n",
       "      <th>4</th>\n",
       "      <td>100007</td>\n",
       "      <td>Desogestrel / ethinyl estradiol</td>\n",
       "      <td>Birth Control</td>\n",
       "      <td>\"\"\"At the beginning, Kariva seemed to be worki...</td>\n",
       "      <td>5.0</td>\n",
       "      <td>June 29, 2017</td>\n",
       "      <td>0</td>\n",
       "      <td>5</td>\n",
       "      <td>[\"\"\"at, the, beginning,, kariva, seemed, to, b...</td>\n",
       "      <td>(0.0, 0.0, 0.0, 0.0, 0.0, 0.0, 0.0, 0.0, 0.0, ...</td>\n",
       "      <td>(0.0, 0.0, 0.0, 0.0, 0.0, 0.0, 0.0, 0.0, 0.0, ...</td>\n",
       "      <td>0.0</td>\n",
       "      <td>(1.0, 0.0, 0.0, 0.0, 0.0, 0.0, 0.0, 0.0, 0.0, ...</td>\n",
       "      <td>60.0</td>\n",
       "      <td>(0.0, 0.0, 0.0, 0.0, 0.0, 0.0, 0.0, 0.0, 0.0, ...</td>\n",
       "      <td>(0.0, 0.0, 0.0, 0.0, 0.0, 0.0, 0.0, 0.0, 0.0, ...</td>\n",
       "    </tr>\n",
       "    <tr>\n",
       "      <th>5</th>\n",
       "      <td>100008</td>\n",
       "      <td>Desogestrel / ethinyl estradiol</td>\n",
       "      <td>Birth Control</td>\n",
       "      <td>\"\"\"This is yet another update. Just finished m...</td>\n",
       "      <td>1.0</td>\n",
       "      <td>June 28, 2017</td>\n",
       "      <td>0</td>\n",
       "      <td>1</td>\n",
       "      <td>[\"\"\"this, is, yet, another, update., just, fin...</td>\n",
       "      <td>(0.0, 0.0, 0.0, 0.0, 0.0, 0.0, 0.0, 0.0, 0.0, ...</td>\n",
       "      <td>(0.0, 0.0, 0.0, 0.0, 0.0, 0.0, 0.0, 0.0, 0.0, ...</td>\n",
       "      <td>0.0</td>\n",
       "      <td>(1.0, 0.0, 0.0, 0.0, 0.0, 0.0, 0.0, 0.0, 0.0, ...</td>\n",
       "      <td>60.0</td>\n",
       "      <td>(0.0, 0.0, 0.0, 0.0, 0.0, 0.0, 0.0, 0.0, 0.0, ...</td>\n",
       "      <td>(0.0, 0.0, 0.0, 0.0, 0.0, 0.0, 0.0, 0.0, 0.0, ...</td>\n",
       "    </tr>\n",
       "    <tr>\n",
       "      <th>6</th>\n",
       "      <td>100009</td>\n",
       "      <td>Desogestrel / ethinyl estradiol</td>\n",
       "      <td>Birth Control</td>\n",
       "      <td>\"\"\"I was on reclipsen for less than 2 weeks an...</td>\n",
       "      <td>1.0</td>\n",
       "      <td>June 28, 2017</td>\n",
       "      <td>2</td>\n",
       "      <td>1</td>\n",
       "      <td>[\"\"\"i, was, on, reclipsen, for, less, than, 2,...</td>\n",
       "      <td>(1.0, 0.0, 0.0, 0.0, 0.0, 0.0, 0.0, 0.0, 0.0, ...</td>\n",
       "      <td>(3.326994633259291, 0.0, 0.0, 0.0, 0.0, 0.0, 0...</td>\n",
       "      <td>0.0</td>\n",
       "      <td>(1.0, 0.0, 0.0, 0.0, 0.0, 0.0, 0.0, 0.0, 0.0, ...</td>\n",
       "      <td>60.0</td>\n",
       "      <td>(0.0, 0.0, 0.0, 0.0, 0.0, 0.0, 0.0, 0.0, 0.0, ...</td>\n",
       "      <td>(0.0, 0.0, 0.0, 0.0, 0.0, 0.0, 0.0, 0.0, 0.0, ...</td>\n",
       "    </tr>\n",
       "    <tr>\n",
       "      <th>7</th>\n",
       "      <td>100011</td>\n",
       "      <td>Desogestrel / ethinyl estradiol</td>\n",
       "      <td>Birth Control</td>\n",
       "      <td>\"\"\"I have been on Apri for 4 months, I&amp;#039;m ...</td>\n",
       "      <td>8.0</td>\n",
       "      <td>June 19, 2017</td>\n",
       "      <td>3</td>\n",
       "      <td>8</td>\n",
       "      <td>[\"\"\"i, have, been, on, apri, for, 4, months,, ...</td>\n",
       "      <td>(0.0, 0.0, 0.0, 0.0, 0.0, 0.0, 0.0, 0.0, 0.0, ...</td>\n",
       "      <td>(0.0, 0.0, 0.0, 0.0, 0.0, 0.0, 0.0, 0.0, 0.0, ...</td>\n",
       "      <td>0.0</td>\n",
       "      <td>(1.0, 0.0, 0.0, 0.0, 0.0, 0.0, 0.0, 0.0, 0.0, ...</td>\n",
       "      <td>60.0</td>\n",
       "      <td>(0.0, 0.0, 0.0, 0.0, 0.0, 0.0, 0.0, 0.0, 0.0, ...</td>\n",
       "      <td>(0.0, 0.0, 0.0, 0.0, 0.0, 0.0, 0.0, 0.0, 0.0, ...</td>\n",
       "    </tr>\n",
       "    <tr>\n",
       "      <th>8</th>\n",
       "      <td>100012</td>\n",
       "      <td>Desogestrel / ethinyl estradiol</td>\n",
       "      <td>Birth Control</td>\n",
       "      <td>\"\"\"I&amp;#039;ve been taking Velivet for about a y...</td>\n",
       "      <td>9.0</td>\n",
       "      <td>June 17, 2017</td>\n",
       "      <td>2</td>\n",
       "      <td>9</td>\n",
       "      <td>[\"\"\"i&amp;#039;ve, been, taking, velivet, for, abo...</td>\n",
       "      <td>(0.0, 0.0, 0.0, 0.0, 0.0, 0.0, 0.0, 0.0, 0.0, ...</td>\n",
       "      <td>(0.0, 0.0, 0.0, 0.0, 0.0, 0.0, 0.0, 0.0, 0.0, ...</td>\n",
       "      <td>0.0</td>\n",
       "      <td>(1.0, 0.0, 0.0, 0.0, 0.0, 0.0, 0.0, 0.0, 0.0, ...</td>\n",
       "      <td>60.0</td>\n",
       "      <td>(0.0, 0.0, 0.0, 0.0, 0.0, 0.0, 0.0, 0.0, 0.0, ...</td>\n",
       "      <td>(0.0, 0.0, 0.0, 0.0, 0.0, 0.0, 0.0, 0.0, 0.0, ...</td>\n",
       "    </tr>\n",
       "    <tr>\n",
       "      <th>9</th>\n",
       "      <td>100013</td>\n",
       "      <td>Desogestrel / ethinyl estradiol</td>\n",
       "      <td>Birth Control</td>\n",
       "      <td>\"\"\"Gives me heartburn and indigestion. Also ma...</td>\n",
       "      <td>2.0</td>\n",
       "      <td>June 8, 2017</td>\n",
       "      <td>1</td>\n",
       "      <td>2</td>\n",
       "      <td>[\"\"\"gives, me, heartburn, and, indigestion., a...</td>\n",
       "      <td>(0.0, 0.0, 0.0, 0.0, 0.0, 0.0, 0.0, 0.0, 0.0, ...</td>\n",
       "      <td>(0.0, 0.0, 0.0, 0.0, 0.0, 0.0, 0.0, 0.0, 0.0, ...</td>\n",
       "      <td>0.0</td>\n",
       "      <td>(1.0, 0.0, 0.0, 0.0, 0.0, 0.0, 0.0, 0.0, 0.0, ...</td>\n",
       "      <td>60.0</td>\n",
       "      <td>(0.0, 0.0, 0.0, 0.0, 0.0, 0.0, 0.0, 0.0, 0.0, ...</td>\n",
       "      <td>(0.0, 0.0, 0.0, 0.0, 0.0, 0.0, 0.0, 0.0, 0.0, ...</td>\n",
       "    </tr>\n",
       "  </tbody>\n",
       "</table>\n",
       "</div>"
      ],
      "text/plain": [
       "      _c0                         drugName                  condition  \\\n",
       "0      10              Medroxyprogesterone  Abnormal Uterine Bleeding   \n",
       "1    1000                       Everolimus               Breast Cance   \n",
       "2   10000                   Lo Loestrin Fe              Birth Control   \n",
       "3  100004  Desogestrel / ethinyl estradiol              Birth Control   \n",
       "4  100007  Desogestrel / ethinyl estradiol              Birth Control   \n",
       "5  100008  Desogestrel / ethinyl estradiol              Birth Control   \n",
       "6  100009  Desogestrel / ethinyl estradiol              Birth Control   \n",
       "7  100011  Desogestrel / ethinyl estradiol              Birth Control   \n",
       "8  100012  Desogestrel / ethinyl estradiol              Birth Control   \n",
       "9  100013  Desogestrel / ethinyl estradiol              Birth Control   \n",
       "\n",
       "                                              review rating              date  \\\n",
       "0  \"\"\"I&#039;m 17 years old and I got shot in Aug...    7.0  October 20, 2015   \n",
       "1  \"\"\"Although the medication did effectively tre...    2.0    March 15, 2016   \n",
       "2  \"\"\"I was on this birth control for 8 months. T...    7.0    April 10, 2013   \n",
       "3  \"\"\"I have been taking Azurette for 3 years now...    8.0     July 11, 2017   \n",
       "4  \"\"\"At the beginning, Kariva seemed to be worki...    5.0     June 29, 2017   \n",
       "5  \"\"\"This is yet another update. Just finished m...    1.0     June 28, 2017   \n",
       "6  \"\"\"I was on reclipsen for less than 2 weeks an...    1.0     June 28, 2017   \n",
       "7  \"\"\"I have been on Apri for 4 months, I&#039;m ...    8.0     June 19, 2017   \n",
       "8  \"\"\"I&#039;ve been taking Velivet for about a y...    9.0     June 17, 2017   \n",
       "9  \"\"\"Gives me heartburn and indigestion. Also ma...    2.0      June 8, 2017   \n",
       "\n",
       "   usefulCount  ratingNum                                              words  \\\n",
       "0            2          7  [\"\"\"i&#039;m, 17, years, old, and, i, got, sho...   \n",
       "1            4          2  [\"\"\"although, the, medication, did, effectivel...   \n",
       "2            4          7  [\"\"\"i, was, on, this, birth, control, for, 8, ...   \n",
       "3            1          8  [\"\"\"i, have, been, taking, azurette, for, 3, y...   \n",
       "4            0          5  [\"\"\"at, the, beginning,, kariva, seemed, to, b...   \n",
       "5            0          1  [\"\"\"this, is, yet, another, update., just, fin...   \n",
       "6            2          1  [\"\"\"i, was, on, reclipsen, for, less, than, 2,...   \n",
       "7            3          8  [\"\"\"i, have, been, on, apri, for, 4, months,, ...   \n",
       "8            2          9  [\"\"\"i&#039;ve, been, taking, velivet, for, abo...   \n",
       "9            1          2  [\"\"\"gives, me, heartburn, and, indigestion., a...   \n",
       "\n",
       "                                         rawFeatures  \\\n",
       "0  (0.0, 0.0, 0.0, 0.0, 0.0, 0.0, 0.0, 0.0, 0.0, ...   \n",
       "1  (0.0, 0.0, 0.0, 0.0, 0.0, 0.0, 0.0, 0.0, 0.0, ...   \n",
       "2  (0.0, 0.0, 0.0, 0.0, 0.0, 0.0, 0.0, 0.0, 0.0, ...   \n",
       "3  (0.0, 0.0, 0.0, 0.0, 0.0, 0.0, 0.0, 0.0, 0.0, ...   \n",
       "4  (0.0, 0.0, 0.0, 0.0, 0.0, 0.0, 0.0, 0.0, 0.0, ...   \n",
       "5  (0.0, 0.0, 0.0, 0.0, 0.0, 0.0, 0.0, 0.0, 0.0, ...   \n",
       "6  (1.0, 0.0, 0.0, 0.0, 0.0, 0.0, 0.0, 0.0, 0.0, ...   \n",
       "7  (0.0, 0.0, 0.0, 0.0, 0.0, 0.0, 0.0, 0.0, 0.0, ...   \n",
       "8  (0.0, 0.0, 0.0, 0.0, 0.0, 0.0, 0.0, 0.0, 0.0, ...   \n",
       "9  (0.0, 0.0, 0.0, 0.0, 0.0, 0.0, 0.0, 0.0, 0.0, ...   \n",
       "\n",
       "                                     revviewFeatures  conditionIndex  \\\n",
       "0  (0.0, 0.0, 0.0, 0.0, 0.0, 0.0, 0.0, 0.0, 0.0, ...            14.0   \n",
       "1  (0.0, 0.0, 0.0, 0.0, 0.0, 0.0, 0.0, 0.0, 0.0, ...            83.0   \n",
       "2  (0.0, 0.0, 0.0, 0.0, 0.0, 0.0, 0.0, 0.0, 0.0, ...             0.0   \n",
       "3  (0.0, 0.0, 0.0, 0.0, 0.0, 0.0, 0.0, 0.0, 0.0, ...             0.0   \n",
       "4  (0.0, 0.0, 0.0, 0.0, 0.0, 0.0, 0.0, 0.0, 0.0, ...             0.0   \n",
       "5  (0.0, 0.0, 0.0, 0.0, 0.0, 0.0, 0.0, 0.0, 0.0, ...             0.0   \n",
       "6  (3.326994633259291, 0.0, 0.0, 0.0, 0.0, 0.0, 0...             0.0   \n",
       "7  (0.0, 0.0, 0.0, 0.0, 0.0, 0.0, 0.0, 0.0, 0.0, ...             0.0   \n",
       "8  (0.0, 0.0, 0.0, 0.0, 0.0, 0.0, 0.0, 0.0, 0.0, ...             0.0   \n",
       "9  (0.0, 0.0, 0.0, 0.0, 0.0, 0.0, 0.0, 0.0, 0.0, ...             0.0   \n",
       "\n",
       "                                        conditionVec  drugIndex  \\\n",
       "0  (0.0, 0.0, 0.0, 0.0, 0.0, 0.0, 0.0, 0.0, 0.0, ...       14.0   \n",
       "1  (0.0, 0.0, 0.0, 0.0, 0.0, 0.0, 0.0, 0.0, 0.0, ...     1379.0   \n",
       "2  (1.0, 0.0, 0.0, 0.0, 0.0, 0.0, 0.0, 0.0, 0.0, ...       35.0   \n",
       "3  (1.0, 0.0, 0.0, 0.0, 0.0, 0.0, 0.0, 0.0, 0.0, ...       60.0   \n",
       "4  (1.0, 0.0, 0.0, 0.0, 0.0, 0.0, 0.0, 0.0, 0.0, ...       60.0   \n",
       "5  (1.0, 0.0, 0.0, 0.0, 0.0, 0.0, 0.0, 0.0, 0.0, ...       60.0   \n",
       "6  (1.0, 0.0, 0.0, 0.0, 0.0, 0.0, 0.0, 0.0, 0.0, ...       60.0   \n",
       "7  (1.0, 0.0, 0.0, 0.0, 0.0, 0.0, 0.0, 0.0, 0.0, ...       60.0   \n",
       "8  (1.0, 0.0, 0.0, 0.0, 0.0, 0.0, 0.0, 0.0, 0.0, ...       60.0   \n",
       "9  (1.0, 0.0, 0.0, 0.0, 0.0, 0.0, 0.0, 0.0, 0.0, ...       60.0   \n",
       "\n",
       "                                             drugVec  \\\n",
       "0  (0.0, 0.0, 0.0, 0.0, 0.0, 0.0, 0.0, 0.0, 0.0, ...   \n",
       "1  (0.0, 0.0, 0.0, 0.0, 0.0, 0.0, 0.0, 0.0, 0.0, ...   \n",
       "2  (0.0, 0.0, 0.0, 0.0, 0.0, 0.0, 0.0, 0.0, 0.0, ...   \n",
       "3  (0.0, 0.0, 0.0, 0.0, 0.0, 0.0, 0.0, 0.0, 0.0, ...   \n",
       "4  (0.0, 0.0, 0.0, 0.0, 0.0, 0.0, 0.0, 0.0, 0.0, ...   \n",
       "5  (0.0, 0.0, 0.0, 0.0, 0.0, 0.0, 0.0, 0.0, 0.0, ...   \n",
       "6  (0.0, 0.0, 0.0, 0.0, 0.0, 0.0, 0.0, 0.0, 0.0, ...   \n",
       "7  (0.0, 0.0, 0.0, 0.0, 0.0, 0.0, 0.0, 0.0, 0.0, ...   \n",
       "8  (0.0, 0.0, 0.0, 0.0, 0.0, 0.0, 0.0, 0.0, 0.0, ...   \n",
       "9  (0.0, 0.0, 0.0, 0.0, 0.0, 0.0, 0.0, 0.0, 0.0, ...   \n",
       "\n",
       "                                            features  \n",
       "0  (0.0, 0.0, 0.0, 0.0, 0.0, 0.0, 0.0, 0.0, 0.0, ...  \n",
       "1  (0.0, 0.0, 0.0, 0.0, 0.0, 0.0, 0.0, 0.0, 0.0, ...  \n",
       "2  (0.0, 0.0, 0.0, 0.0, 0.0, 0.0, 0.0, 0.0, 0.0, ...  \n",
       "3  (0.0, 0.0, 0.0, 0.0, 0.0, 0.0, 0.0, 0.0, 0.0, ...  \n",
       "4  (0.0, 0.0, 0.0, 0.0, 0.0, 0.0, 0.0, 0.0, 0.0, ...  \n",
       "5  (0.0, 0.0, 0.0, 0.0, 0.0, 0.0, 0.0, 0.0, 0.0, ...  \n",
       "6  (0.0, 0.0, 0.0, 0.0, 0.0, 0.0, 0.0, 0.0, 0.0, ...  \n",
       "7  (0.0, 0.0, 0.0, 0.0, 0.0, 0.0, 0.0, 0.0, 0.0, ...  \n",
       "8  (0.0, 0.0, 0.0, 0.0, 0.0, 0.0, 0.0, 0.0, 0.0, ...  \n",
       "9  (0.0, 0.0, 0.0, 0.0, 0.0, 0.0, 0.0, 0.0, 0.0, ...  "
      ]
     },
     "execution_count": 20,
     "metadata": {},
     "output_type": "execute_result"
    }
   ],
   "source": [
    "train_proc.limit(10).toPandas()"
   ]
  },
  {
   "cell_type": "code",
   "execution_count": 21,
   "metadata": {},
   "outputs": [
    {
     "data": {
      "text/plain": [
       "Row(_c0='10', drugName='Medroxyprogesterone', condition='Abnormal Uterine Bleeding', review='\"\"\"I&#039;m 17 years old and I got shot in August 2015, personally. I don&#039;t mind it. I mean, I bleed little bits and random times, but I&#039;d rather have the blood that&#039;s supposed to come out, come out and not worry about where it&#039;s going or staying in my body. I have my other injection in November on the 2nd, and I&#039;m still wondering if I could take it again. The only downside to the injection is that I gained access weight and I&#039;m kind of moody.\"\"\"', rating='7.0', date='October 20, 2015', usefulCount=2, ratingNum=7, words=['\"\"\"i&#039;m', '17', 'years', 'old', 'and', 'i', 'got', 'shot', 'in', 'august', '2015,', 'personally.', 'i', 'don&#039;t', 'mind', 'it.', 'i', 'mean,', 'i', 'bleed', 'little', 'bits', 'and', 'random', 'times,', 'but', 'i&#039;d', 'rather', 'have', 'the', 'blood', 'that&#039;s', 'supposed', 'to', 'come', 'out,', 'come', 'out', 'and', 'not', 'worry', 'about', 'where', 'it&#039;s', 'going', 'or', 'staying', 'in', 'my', 'body.', 'i', 'have', 'my', 'other', 'injection', 'in', 'november', 'on', 'the', '2nd,', 'and', 'i&#039;m', 'still', 'wondering', 'if', 'i', 'could', 'take', 'it', 'again.', 'the', 'only', 'downside', 'to', 'the', 'injection', 'is', 'that', 'i', 'gained', 'access', 'weight', 'and', 'i&#039;m', 'kind', 'of', 'moody.\"\"\"'], rawFeatures=SparseVector(1024, {10: 1.0, 50: 1.0, 108: 1.0, 125: 1.0, 128: 1.0, 129: 1.0, 132: 1.0, 141: 1.0, 182: 1.0, 188: 1.0, 215: 1.0, 230: 1.0, 231: 1.0, 266: 1.0, 268: 1.0, 284: 1.0, 285: 2.0, 304: 3.0, 320: 1.0, 330: 1.0, 343: 1.0, 344: 1.0, 345: 1.0, 358: 1.0, 385: 1.0, 387: 1.0, 398: 1.0, 410: 1.0, 414: 1.0, 422: 1.0, 461: 1.0, 467: 1.0, 469: 1.0, 472: 1.0, 509: 1.0, 513: 1.0, 526: 1.0, 527: 1.0, 547: 2.0, 579: 2.0, 604: 9.0, 618: 1.0, 642: 1.0, 657: 4.0, 669: 1.0, 697: 1.0, 704: 1.0, 706: 1.0, 762: 1.0, 779: 5.0, 786: 1.0, 816: 1.0, 820: 1.0, 856: 1.0, 917: 1.0, 944: 1.0, 952: 2.0, 965: 1.0, 975: 1.0, 979: 1.0, 980: 1.0, 987: 1.0, 999: 3.0, 1006: 1.0}), revviewFeatures=SparseVector(1024, {10: 2.33, 50: 4.3113, 108: 4.1583, 125: 0.6777, 128: 1.7439, 129: 2.0631, 132: 3.0933, 141: 2.0458, 182: 3.1457, 188: 2.782, 215: 2.391, 230: 0.4008, 231: 1.9223, 266: 1.9031, 268: 1.0286, 284: 3.2481, 285: 6.8357, 304: 0.9686, 320: 0.8913, 330: 1.6629, 343: 1.5497, 344: 3.8481, 345: 0.7859, 358: 2.2624, 385: 3.6796, 387: 0.8524, 398: 2.7884, 410: 3.4894, 414: 3.0924, 422: 3.0167, 461: 3.7048, 467: 2.6799, 469: 1.8693, 472: 3.3333, 509: 0.9958, 513: 3.0189, 526: 3.1099, 527: 2.1559, 547: 1.145, 579: 2.295, 604: 1.4411, 618: 1.8042, 642: 1.7266, 657: 0.9555, 669: 1.6201, 697: 3.7188, 704: 1.8571, 706: 3.8469, 762: 3.3401, 779: 0.8758, 786: 3.5234, 816: 1.6653, 820: 1.9915, 856: 0.6536, 917: 1.7017, 944: 3.0816, 952: 0.5813, 965: 3.7378, 975: 0.558, 979: 3.5086, 980: 3.8923, 987: 2.8524, 999: 2.1902, 1006: 2.1325}), conditionIndex=14.0, conditionVec=SparseVector(896, {14: 1.0}), drugIndex=14.0, drugVec=SparseVector(3572, {14: 1.0}), features=SparseVector(5493, {14: 1.0, 3586: 1.0, 4478: 2.33, 4518: 4.3113, 4576: 4.1583, 4593: 0.6777, 4596: 1.7439, 4597: 2.0631, 4600: 3.0933, 4609: 2.0458, 4650: 3.1457, 4656: 2.782, 4683: 2.391, 4698: 0.4008, 4699: 1.9223, 4734: 1.9031, 4736: 1.0286, 4752: 3.2481, 4753: 6.8357, 4772: 0.9686, 4788: 0.8913, 4798: 1.6629, 4811: 1.5497, 4812: 3.8481, 4813: 0.7859, 4826: 2.2624, 4853: 3.6796, 4855: 0.8524, 4866: 2.7884, 4878: 3.4894, 4882: 3.0924, 4890: 3.0167, 4929: 3.7048, 4935: 2.6799, 4937: 1.8693, 4940: 3.3333, 4977: 0.9958, 4981: 3.0189, 4994: 3.1099, 4995: 2.1559, 5015: 1.145, 5047: 2.295, 5072: 1.4411, 5086: 1.8042, 5110: 1.7266, 5125: 0.9555, 5137: 1.6201, 5165: 3.7188, 5172: 1.8571, 5174: 3.8469, 5230: 3.3401, 5247: 0.8758, 5254: 3.5234, 5284: 1.6653, 5288: 1.9915, 5324: 0.6536, 5385: 1.7017, 5412: 3.0816, 5420: 0.5813, 5433: 3.7378, 5443: 0.558, 5447: 3.5086, 5448: 3.8923, 5455: 2.8524, 5467: 2.1902, 5474: 2.1325, 5492: 7.0}))"
      ]
     },
     "execution_count": 21,
     "metadata": {},
     "output_type": "execute_result"
    }
   ],
   "source": [
    "train_proc.rdd.first()"
   ]
  },
  {
   "cell_type": "markdown",
   "metadata": {},
   "source": [
    "Если все таки удалось собрать датасет, то запускаем линейную регрессию"
   ]
  },
  {
   "cell_type": "code",
   "execution_count": 22,
   "metadata": {
    "cell_status": {
     "execute_time": {
      "duration": 246.6259765625,
      "end_time": 1614008119542.424
     }
    }
   },
   "outputs": [],
   "source": [
    "lr = LinearRegression(featuresCol='features', labelCol='usefulCount', maxIter=10, regParam=0.3, elasticNetParam=0.8)"
   ]
  },
  {
   "cell_type": "code",
   "execution_count": 23,
   "metadata": {
    "cell_status": {
     "execute_time": {
      "duration": 13373.862060546875,
      "end_time": 1614008132927.959
     }
    }
   },
   "outputs": [
    {
     "name": "stderr",
     "output_type": "stream",
     "text": [
      "2023-02-21 16:37:09,275 WARN netlib.BLAS: Failed to load implementation from: com.github.fommil.netlib.NativeSystemBLAS\n",
      "2023-02-21 16:37:09,276 WARN netlib.BLAS: Failed to load implementation from: com.github.fommil.netlib.NativeRefBLAS\n"
     ]
    }
   ],
   "source": [
    "lrModel = lr.fit(train_proc)"
   ]
  },
  {
   "cell_type": "code",
   "execution_count": 24,
   "metadata": {
    "cell_status": {
     "execute_time": {
      "duration": 264.359130859375,
      "end_time": 1614008133204.069
     }
    }
   },
   "outputs": [
    {
     "data": {
      "text/plain": [
       "SparseVector(5493, {0: -3.7545, 1: -0.0355, 7: 0.8078, 8: -2.7885, 11: 18.5616, 12: -2.3546, 13: 4.6498, 15: -4.9653, 17: 0.6126, 18: 2.3493, 19: -3.2576, 20: -1.7976, 22: -1.3357, 24: 1.5977, 25: 5.2494, 27: -5.5526, 28: 15.0816, 30: -3.3315, 31: -5.9904, 32: 3.7087, 34: -1.4971, 36: 16.8379, 37: -3.4556, 42: -4.2676, 43: 9.7683, 44: 17.9128, 45: 6.7376, 46: -5.9377, 47: 19.7565, 49: 1.1777, 51: 21.3983, 52: -0.2147, 54: -3.9873, 59: 4.3384, 61: -6.6768, 62: 0.3845, 63: 15.678, 64: 1.9675, 68: -6.2524, 69: 5.5691, 73: 2.931, 74: 21.2718, 75: 11.3858, 77: 12.8736, 82: 1.9036, 83: 12.0439, 85: 0.8322, 88: -1.225, 89: -0.7137, 91: 3.5373, 94: -3.2439, 97: 8.8043, 101: 4.8084, 104: 8.5891, 106: 13.7059, 107: -4.3021, 109: 12.598, 110: 20.9191, 111: 8.42, 113: -5.6995, 116: 0.6798, 118: 14.4833, 119: 2.3975, 120: 6.5829, 122: 8.1533, 123: 12.0032, 124: 23.0656, 132: 0.2559, 140: 6.9898, 143: 35.3707, 145: 12.4007, 146: 14.5449, 149: 5.9645, 152: 3.6349, 153: 8.696, 157: 2.7769, 158: 0.9476, 163: 5.4251, 164: -1.4158, 166: 1.6097, 169: 5.1549, 172: 1.8378, 179: 1.8038, 180: 2.121, 181: 26.5629, 184: -0.0186, 185: 6.5359, 187: -2.1485, 190: -0.6695, 192: 23.112, 196: -1.7985, 203: 1.8675, 206: 7.0145, 210: 12.3237, 211: -4.9249, 212: 29.7955, 213: 0.4502, 214: 1.141, 215: -0.7681, 216: 4.2851, 219: -1.399, 221: -3.8069, 223: 5.41, 227: 16.3717, 231: 2.1346, 233: 2.2546, 234: 27.4169, 237: 8.2404, 240: 20.0201, 246: -2.9422, 247: 2.9898, 248: 5.7982, 249: 5.7539, 253: 5.728, 254: 17.2336, 257: 7.8996, 258: 5.1681, 260: 36.235, 273: 24.7644, 275: 8.0904, 278: 8.8447, 290: 42.9043, 291: 14.4636, 293: 2.2172, 295: 2.7102, 297: 23.481, 301: 11.7264, 302: 9.1338, 304: 5.5525, 306: -0.331, 307: 18.1105, 309: 12.8293, 310: 12.5616, 311: 8.6811, 312: 13.4477, 315: 3.3941, 317: -0.6297, 324: 17.3383, 325: 5.5313, 327: 7.583, 335: 22.5428, 339: 2.6698, 343: 0.7856, 346: 6.6051, 352: 16.2408, 353: 2.349, 355: 4.1448, 359: 2.6483, 376: 6.0761, 377: 15.3064, 381: -0.3186, 387: 29.6236, 388: 29.1816, 394: 6.6994, 397: 0.3957, 399: 21.0984, 401: -3.0832, 402: -2.5933, 404: -2.0972, 406: 5.9853, 408: 11.3923, 410: 6.2147, 413: 1.7149, 414: 0.5267, 415: 8.639, 423: 0.2308, 431: 9.7225, 440: 1.7391, 448: 2.552, 450: 6.2886, 460: 12.6918, 461: 21.906, 463: -2.5149, 464: 14.9155, 469: 2.0462, 473: 29.7573, 482: 5.005, 485: 11.4328, 488: 11.9666, 489: 9.7311, 490: 31.7983, 494: 30.4961, 496: 2.5505, 503: 20.5503, 504: 8.7716, 516: 10.879, 521: 9.6223, 523: 0.6937, 526: 21.337, 527: 17.3725, 534: 13.7092, 537: -4.3553, 541: 17.4002, 543: 29.6589, 545: 11.2846, 551: 37.1865, 554: 12.8121, 565: 0.1489, 571: 15.3989, 573: -1.2891, 578: 14.439, 579: 20.8023, 581: 40.9914, 594: 0.3107, 596: 50.7776, 604: 13.8485, 607: 57.5428, 608: 8.939, 615: 27.7146, 617: -5.9095, 618: -2.3617, 619: -3.3449, 620: 10.5987, 623: 7.5134, 629: -5.3127, 641: 13.7833, 645: 13.4171, 647: 15.2197, 653: 20.1139, 658: 4.1233, 661: 4.4833, 665: 54.542, 666: 2.1122, 670: 36.556, 674: 32.8379, 676: 8.1521, 677: 48.2683, 686: 13.1525, 691: 19.5627, 695: 2.6642, 696: -3.8528, 697: 21.5149, 707: 6.1806, 708: 4.7162, 713: 38.107, 714: 2.3976, 715: 6.548, 716: 11.5891, 719: 11.8247, 734: 32.638, 736: 8.8, 742: 7.9758, 747: 64.6963, 749: 8.3088, 753: 4.3924, 757: 40.6037, 762: 0.1141, 767: 18.193, 769: 7.5948, 772: 6.0566, 773: 3.3527, 780: 0.1911, 789: 20.2826, 803: 27.1666, 814: 22.8626, 816: 19.3315, 818: 30.3578, 821: 9.9718, 824: 11.0011, 826: 1.4917, 830: 3.7452, 846: 11.4096, 852: -1.3505, 862: 10.4048, 865: 2.0141, 885: 14.4286, 888: 34.4925, 889: 13.6352, 896: -2.6292, 899: 27.4948, 906: 10.6528, 909: 9.6613, 913: 15.5568, 915: 36.1067, 921: 3.6531, 934: 39.1367, 940: 29.5237, 947: 25.4069, 950: 0.439, 955: 36.0327, 956: 8.6298, 995: -7.2474, 998: 13.2587, 999: -0.464, 1006: 5.6944, 1011: 5.8063, 1034: 35.8263, 1037: 9.781, 1042: 27.0127, 1059: -0.7146, 1060: 8.4525, 1067: 39.9844, 1070: -0.4723, 1090: 11.3685, 1094: 4.9907, 1106: 49.5924, 1119: -3.0194, 1130: 12.9218, 1150: 1.3489, 1183: 8.9961, 1191: 24.4764, 1198: 17.0678, 1228: 17.0741, 1231: 12.4658, 1245: -0.2853, 1264: 24.9661, 1280: 1.669, 1288: 5.212, 1294: 8.9843, 1309: 9.0289, 1313: -0.0699, 1323: 96.2792, 1349: 25.5081, 1360: 4.6801, 1419: 3.494, 1442: 17.4796, 1489: 13.3856, 1501: 22.7079, 1520: 31.0299, 1557: 2.8513, 1574: 30.0222, 1674: 51.6394, 1677: 29.7113, 1935: 11.8305, 2185: 10.21, 2196: 49.7571, 2355: 15.1717, 2381: 42.2083, 2489: 33.3743, 2698: 40.3879, 3472: 30.7915, 3572: -13.0823, 3573: 19.3132, 3574: 4.365, 3575: 14.5985, 3576: -7.4041, 3577: 5.2125, 3578: 6.9051, 3579: 3.5116, 3580: 6.1022, 3581: 4.3174, 3582: -5.3026, 3583: 0.1898, 3584: 14.8757, 3585: -2.881, 3586: -1.8439, 3587: 10.49, 3588: -3.084, 3589: -5.9972, 3590: -13.2915, 3591: 25.5395, 3594: 5.7303, 3595: 7.6386, 3596: -1.0249, 3597: 3.1395, 3598: 12.9539, 3599: 10.5091, 3601: 14.5624, 3602: 21.7282, 3603: -4.2396, 3604: 14.7339, 3605: 0.2682, 3606: -3.0123, 3608: 0.9074, 3609: -2.0239, 3610: 1.0954, 3611: -12.7466, 3612: 10.9027, 3613: 7.78, 3614: 2.8854, 3617: 20.5481, 3618: 0.8463, 3619: -11.5403, 3620: 9.2129, 3622: -3.9706, 3623: 8.3463, 3624: 0.2351, 3625: -2.9084, 3628: 29.6857, 3630: 1.6552, 3631: -3.5719, 3633: -18.3794, 3634: 25.7444, 3635: -1.4514, 3636: 6.5441, 3637: -4.2202, 3639: -5.5846, 3640: 33.7265, 3641: -5.3299, 3642: -6.3239, 3643: -6.2088, 3644: 1.888, 3645: -6.5043, 3647: 18.5696, 3648: 40.2981, 3651: 7.8618, 3652: -5.8863, 3655: 27.9302, 3656: -0.6683, 3658: -11.0901, 3659: -4.5019, 3662: 16.5266, 3664: 7.9845, 3665: -0.5234, 3668: 12.8635, 3676: 8.2597, 3679: 0.206, 3680: 11.9186, 3684: -5.1945, 3685: -2.0154, 3686: 7.2681, 3687: 3.5037, 3688: -0.225, 3690: -2.49, 3691: 6.1441, 3693: 9.4564, 3694: -6.3662, 3695: 8.5717, 3696: 9.5963, 3697: -0.4047, 3698: -0.1668, 3701: 3.3011, 3703: 10.5065, 3704: -1.4947, 3706: 12.7201, 3707: -10.5418, 3710: -12.2115, 3712: 13.8424, 3714: 2.9136, 3716: 9.1612, 3717: -11.9916, 3718: 5.506, 3719: -3.5311, 3723: 15.7151, 3724: -0.234, 3725: -3.0938, 3726: 25.6065, 3727: 1.5099, 3728: 3.5411, 3730: 14.8693, 3731: 13.1361, 3732: 15.3599, 3735: -10.4445, 3740: 4.2886, 3743: 19.2219, 3744: -10.0346, 3748: 5.1184, 3751: -3.6529, 3752: -6.7924, 3754: -9.8398, 3755: 7.3313, 3761: -9.6295, 3765: -0.1795, 3770: -1.9957, 3774: 4.1293, 3775: 16.392, 3776: -8.139, 3777: -1.4405, 3781: 6.136, 3788: 6.4904, 3790: 21.9757, 3797: -13.783, 3801: -8.8188, 3804: -0.9071, 3806: 6.7619, 3807: -4.1445, 3810: -0.9002, 3812: 4.5558, 3816: 3.6441, 3819: -7.4407, 3825: -4.9501, 3831: -2.0686, 3837: 19.5737, 3841: -4.2213, 3845: -2.9393, 3852: -0.1193, 3872: -15.1641, 3882: 15.931, 3907: -0.2269, 3916: -2.0725, 3921: 2.7439, 3937: 38.7459, 3992: 7.2797, 4241: 0.1164, 4469: -0.0612, 4470: -0.2578, 4471: 0.4379, 4474: 0.0028, 4475: 0.1106, 4477: 0.0812, 4487: -0.3638, 4488: 0.1009, 4491: -0.0387, 4495: -0.3386, 4498: 0.0037, 4499: 0.0288, 4500: 0.1191, 4501: 0.1355, 4503: -0.1619, 4504: 0.2195, 4509: 0.1748, 4511: 0.0956, 4517: -0.0178, 4520: -0.2072, 4525: 0.1035, 4527: 0.0113, 4529: -0.285, 4536: -0.2377, 4549: -0.0093, 4554: -0.0945, 4556: 0.372, 4557: 0.3055, 4561: 0.2281, 4565: -0.1746, 4571: 0.4045, 4573: 0.0112, 4574: 0.1008, 4577: -0.0067, 4583: 0.6981, 4586: 0.037, 4587: -0.0039, 4590: -0.1002, 4593: -1.9456, 4596: -0.2537, 4601: -0.0055, 4603: 0.0329, 4607: 0.0353, 4608: 0.6208, 4615: -0.3726, 4619: 0.0741, 4620: -0.0563, 4625: 0.118, 4629: -0.0098, 4638: -0.1841, 4645: 0.053, 4646: 0.261, 4649: 0.2846, 4654: 0.0, 4665: 0.0734, 4670: -0.1151, 4678: 0.1786, 4680: 0.2599, 4683: 0.4759, 4684: -0.0179, 4693: 0.2504, 4696: -0.0, 4698: -0.3843, 4699: -0.0285, 4700: 0.2248, 4703: -0.0121, 4704: -0.0587, 4706: 0.2396, 4708: 0.1316, 4709: 0.1346, 4715: 0.1604, 4721: -0.0736, 4723: 0.3019, 4724: 0.1314, 4729: -0.0083, 4731: 0.6538, 4736: -0.0425, 4740: 0.8301, 4742: 0.2773, 4744: -0.0022, 4745: 0.0665, 4747: -0.0222, 4749: 0.2452, 4761: -0.1831, 4763: -0.0054, 4769: 0.0898, 4786: 0.2329, 4794: 0.0132, 4797: -0.0064, 4798: 0.3082, 4802: 0.1001, 4814: -0.0567, 4816: 0.1046, 4818: 0.7058, 4823: -0.1095, 4824: 0.1765, 4826: -0.0438, 4834: 0.5801, 4843: 0.1835, 4845: 0.0495, 4849: 0.3865, 4854: 0.0969, 4856: -0.0505, 4863: 0.1382, 4869: 0.2236, 4876: -0.0068, 4877: 0.1482, 4883: 1.3199, 4885: 0.2145, 4888: 0.3376, 4894: 0.0435, 4903: -0.2535, 4905: 0.3846, 4914: -0.0195, 4918: -0.2168, 4921: 0.0287, 4924: 0.1846, 4925: 0.6226, 4927: 0.509, 4933: 0.0305, 4934: 0.0462, 4935: 0.048, 4945: 0.2176, 4951: -0.0161, 4953: 1.7591, 4956: 0.1886, 4959: -0.0642, 4965: 0.1252, 4966: -0.121, 4969: -0.0236, 4976: -0.0443, 4981: -0.0798, 4986: -0.197, 4994: -0.1275, 4997: 0.0035, 4999: -0.0071, 5011: -0.068, 5015: 0.3407, 5017: -0.2941, 5018: -0.0957, 5025: -0.2125, 5041: 0.007, 5044: -0.0036, 5045: 0.0742, 5046: -0.4771, 5047: -0.1526, 5049: 0.1562, 5050: 0.204, 5052: -0.3472, 5053: 0.0278, 5054: -0.0078, 5070: 0.3167, 5071: 0.2499, 5072: 0.4796, 5078: -0.1318, 5081: 0.0915, 5084: -0.0057, 5085: -0.2323, 5086: -0.1365, 5093: 0.0131, 5100: 0.061, 5101: 0.3781, 5125: -0.4171, 5132: -0.1639, 5136: 0.8625, 5137: -0.2121, 5143: 0.1127, 5151: 0.1111, 5152: 0.0547, 5154: 0.1409, 5157: -0.0033, 5158: 0.7194, 5172: -0.0515, 5177: -0.0053, 5184: 0.2723, 5188: -0.0648, 5189: 0.0588, 5208: 0.0964, 5213: 0.0122, 5214: -0.0064, 5219: 0.2501, 5220: 0.158, 5221: 0.0886, 5223: -0.2843, 5229: -0.2787, 5234: 0.3834, 5238: 0.0175, 5244: -0.0294, 5245: -0.0129, 5247: 1.68, 5251: -0.0075, 5254: 0.0501, 5273: -0.0078, 5274: 0.493, 5278: -0.039, 5280: 0.1949, 5282: -0.0868, 5284: -0.0578, 5291: 0.0404, 5293: 0.1567, 5295: 0.3469, 5296: 0.3467, 5303: -0.0015, 5313: 0.2076, 5316: -0.0149, 5318: -0.0926, 5324: -0.056, 5325: 0.4198, 5329: -0.0056, 5330: 0.041, 5331: -0.0839, 5332: -0.0079, 5335: 0.1006, 5336: -0.0001, 5339: 0.0819, 5344: 0.0131, 5345: -0.0376, 5346: 0.662, 5347: 0.3146, 5351: -0.1326, 5362: 0.02, 5368: 0.2511, 5369: 0.2453, 5370: 0.4576, 5371: 0.0121, 5374: -0.0663, 5385: 0.2691, 5393: 0.0469, 5394: 0.1689, 5395: -0.1638, 5396: -0.1389, 5403: -0.0293, 5411: 0.3391, 5414: 0.877, 5415: -0.1504, 5416: 0.3175, 5417: 0.0401, 5419: 0.0912, 5425: -0.0089, 5429: -0.1849, 5435: -0.0231, 5436: 0.2582, 5441: 0.081, 5443: 0.1622, 5446: -0.0458, 5453: -0.1772, 5455: 0.3919, 5456: 0.1273, 5460: 0.1669, 5461: 0.0383, 5465: 0.0245, 5467: 0.1687, 5473: -0.2903, 5475: 1.1515, 5479: -0.2946, 5483: -0.0231, 5489: -0.1136, 5490: 0.0505, 5492: 2.0142})"
      ]
     },
     "execution_count": 24,
     "metadata": {},
     "output_type": "execute_result"
    }
   ],
   "source": [
    "lrModel.coefficients"
   ]
  },
  {
   "cell_type": "code",
   "execution_count": 25,
   "metadata": {
    "cell_status": {
     "execute_time": {
      "duration": 249.432861328125,
      "end_time": 1614008133464.818
     }
    }
   },
   "outputs": [],
   "source": [
    "from pyspark.ml.evaluation import RegressionEvaluator\n",
    "\n",
    "predictions = lrModel.transform(test_proc)"
   ]
  },
  {
   "cell_type": "code",
   "execution_count": 26,
   "metadata": {
    "cell_status": {
     "execute_time": {
      "duration": 2274.383056640625,
      "end_time": 1614008135751.993
     }
    }
   },
   "outputs": [
    {
     "name": "stderr",
     "output_type": "stream",
     "text": [
      "                                                                                \r"
     ]
    },
    {
     "data": {
      "text/html": [
       "<div>\n",
       "<style scoped>\n",
       "    .dataframe tbody tr th:only-of-type {\n",
       "        vertical-align: middle;\n",
       "    }\n",
       "\n",
       "    .dataframe tbody tr th {\n",
       "        vertical-align: top;\n",
       "    }\n",
       "\n",
       "    .dataframe thead th {\n",
       "        text-align: right;\n",
       "    }\n",
       "</style>\n",
       "<table border=\"1\" class=\"dataframe\">\n",
       "  <thead>\n",
       "    <tr style=\"text-align: right;\">\n",
       "      <th></th>\n",
       "      <th>_c0</th>\n",
       "      <th>drugName</th>\n",
       "      <th>condition</th>\n",
       "      <th>review</th>\n",
       "      <th>rating</th>\n",
       "      <th>date</th>\n",
       "      <th>usefulCount</th>\n",
       "      <th>ratingNum</th>\n",
       "      <th>words</th>\n",
       "      <th>rawFeatures</th>\n",
       "      <th>revviewFeatures</th>\n",
       "      <th>conditionIndex</th>\n",
       "      <th>conditionVec</th>\n",
       "      <th>drugIndex</th>\n",
       "      <th>drugVec</th>\n",
       "      <th>features</th>\n",
       "      <th>prediction</th>\n",
       "    </tr>\n",
       "  </thead>\n",
       "  <tbody>\n",
       "    <tr>\n",
       "      <th>0</th>\n",
       "      <td>100</td>\n",
       "      <td>Medroxyprogesterone</td>\n",
       "      <td>Birth Control</td>\n",
       "      <td>\"\"\"Depo was not for me, but that does not mean...</td>\n",
       "      <td>5.0</td>\n",
       "      <td>August 17, 2015</td>\n",
       "      <td>2</td>\n",
       "      <td>5</td>\n",
       "      <td>[\"\"\"depo, was, not, for, me,, but, that, does,...</td>\n",
       "      <td>(0.0, 0.0, 0.0, 0.0, 0.0, 0.0, 0.0, 0.0, 0.0, ...</td>\n",
       "      <td>(0.0, 0.0, 0.0, 0.0, 0.0, 0.0, 0.0, 0.0, 0.0, ...</td>\n",
       "      <td>0.0</td>\n",
       "      <td>(1.0, 0.0, 0.0, 0.0, 0.0, 0.0, 0.0, 0.0, 0.0, ...</td>\n",
       "      <td>14.0</td>\n",
       "      <td>(0.0, 0.0, 0.0, 0.0, 0.0, 0.0, 0.0, 0.0, 0.0, ...</td>\n",
       "      <td>(0.0, 0.0, 0.0, 0.0, 0.0, 0.0, 0.0, 0.0, 0.0, ...</td>\n",
       "      <td>3.807138</td>\n",
       "    </tr>\n",
       "    <tr>\n",
       "      <th>1</th>\n",
       "      <td>100002</td>\n",
       "      <td>Desogestrel / ethinyl estradiol</td>\n",
       "      <td>Birth Control</td>\n",
       "      <td>\"\"\"I have been taking this birth control for f...</td>\n",
       "      <td>4.0</td>\n",
       "      <td>July 12, 2017</td>\n",
       "      <td>2</td>\n",
       "      <td>4</td>\n",
       "      <td>[\"\"\"i, have, been, taking, this, birth, contro...</td>\n",
       "      <td>(0.0, 0.0, 0.0, 0.0, 0.0, 0.0, 0.0, 0.0, 0.0, ...</td>\n",
       "      <td>(0.0, 0.0, 0.0, 0.0, 0.0, 0.0, 0.0, 0.0, 0.0, ...</td>\n",
       "      <td>0.0</td>\n",
       "      <td>(1.0, 0.0, 0.0, 0.0, 0.0, 0.0, 0.0, 0.0, 0.0, ...</td>\n",
       "      <td>60.0</td>\n",
       "      <td>(0.0, 0.0, 0.0, 0.0, 0.0, 0.0, 0.0, 0.0, 0.0, ...</td>\n",
       "      <td>(0.0, 0.0, 0.0, 0.0, 0.0, 0.0, 0.0, 0.0, 0.0, ...</td>\n",
       "      <td>3.221327</td>\n",
       "    </tr>\n",
       "    <tr>\n",
       "      <th>2</th>\n",
       "      <td>100017</td>\n",
       "      <td>Desogestrel / ethinyl estradiol</td>\n",
       "      <td>Birth Control</td>\n",
       "      <td>\"\"\"Love it! Been continuously dosing without b...</td>\n",
       "      <td>9.0</td>\n",
       "      <td>May 30, 2017</td>\n",
       "      <td>3</td>\n",
       "      <td>9</td>\n",
       "      <td>[\"\"\"love, it!, been, continuously, dosing, wit...</td>\n",
       "      <td>(0.0, 0.0, 0.0, 0.0, 0.0, 0.0, 0.0, 0.0, 0.0, ...</td>\n",
       "      <td>(0.0, 0.0, 0.0, 0.0, 0.0, 0.0, 0.0, 0.0, 0.0, ...</td>\n",
       "      <td>0.0</td>\n",
       "      <td>(1.0, 0.0, 0.0, 0.0, 0.0, 0.0, 0.0, 0.0, 0.0, ...</td>\n",
       "      <td>60.0</td>\n",
       "      <td>(0.0, 0.0, 0.0, 0.0, 0.0, 0.0, 0.0, 0.0, 0.0, ...</td>\n",
       "      <td>(0.0, 0.0, 0.0, 0.0, 0.0, 0.0, 0.0, 0.0, 0.0, ...</td>\n",
       "      <td>13.877902</td>\n",
       "    </tr>\n",
       "    <tr>\n",
       "      <th>3</th>\n",
       "      <td>10002</td>\n",
       "      <td>Lo Loestrin Fe</td>\n",
       "      <td>Birth Control</td>\n",
       "      <td>\"\"\"Well, I&amp;#039;ve been on this right now for ...</td>\n",
       "      <td>6.0</td>\n",
       "      <td>April 4, 2013</td>\n",
       "      <td>10</td>\n",
       "      <td>6</td>\n",
       "      <td>[\"\"\"well,, i&amp;#039;ve, been, on, this, right, n...</td>\n",
       "      <td>(0.0, 0.0, 0.0, 0.0, 0.0, 0.0, 0.0, 0.0, 0.0, ...</td>\n",
       "      <td>(0.0, 0.0, 0.0, 0.0, 0.0, 0.0, 0.0, 0.0, 0.0, ...</td>\n",
       "      <td>0.0</td>\n",
       "      <td>(1.0, 0.0, 0.0, 0.0, 0.0, 0.0, 0.0, 0.0, 0.0, ...</td>\n",
       "      <td>35.0</td>\n",
       "      <td>(0.0, 0.0, 0.0, 0.0, 0.0, 0.0, 0.0, 0.0, 0.0, ...</td>\n",
       "      <td>(0.0, 0.0, 0.0, 0.0, 0.0, 0.0, 0.0, 0.0, 0.0, ...</td>\n",
       "      <td>11.811320</td>\n",
       "    </tr>\n",
       "    <tr>\n",
       "      <th>4</th>\n",
       "      <td>100021</td>\n",
       "      <td>Desogestrel / ethinyl estradiol</td>\n",
       "      <td>Birth Control</td>\n",
       "      <td>\"\"\"So I&amp;#039;ve been on this birth control a l...</td>\n",
       "      <td>5.0</td>\n",
       "      <td>May 18, 2017</td>\n",
       "      <td>3</td>\n",
       "      <td>5</td>\n",
       "      <td>[\"\"\"so, i&amp;#039;ve, been, on, this, birth, cont...</td>\n",
       "      <td>(0.0, 0.0, 0.0, 0.0, 0.0, 0.0, 0.0, 0.0, 0.0, ...</td>\n",
       "      <td>(0.0, 0.0, 0.0, 0.0, 0.0, 0.0, 0.0, 0.0, 0.0, ...</td>\n",
       "      <td>0.0</td>\n",
       "      <td>(1.0, 0.0, 0.0, 0.0, 0.0, 0.0, 0.0, 0.0, 0.0, ...</td>\n",
       "      <td>60.0</td>\n",
       "      <td>(0.0, 0.0, 0.0, 0.0, 0.0, 0.0, 0.0, 0.0, 0.0, ...</td>\n",
       "      <td>(0.0, 0.0, 0.0, 0.0, 0.0, 0.0, 0.0, 0.0, 0.0, ...</td>\n",
       "      <td>2.463578</td>\n",
       "    </tr>\n",
       "    <tr>\n",
       "      <th>5</th>\n",
       "      <td>100107</td>\n",
       "      <td>Desogestrel / ethinyl estradiol</td>\n",
       "      <td>Birth Control</td>\n",
       "      <td>\"\"\"completely lost every bit of sex drive i ha...</td>\n",
       "      <td>5.0</td>\n",
       "      <td>November 23, 2016</td>\n",
       "      <td>1</td>\n",
       "      <td>5</td>\n",
       "      <td>[\"\"\"completely, lost, every, bit, of, sex, dri...</td>\n",
       "      <td>(0.0, 0.0, 0.0, 0.0, 0.0, 0.0, 0.0, 0.0, 0.0, ...</td>\n",
       "      <td>(0.0, 0.0, 0.0, 0.0, 0.0, 0.0, 0.0, 0.0, 0.0, ...</td>\n",
       "      <td>0.0</td>\n",
       "      <td>(1.0, 0.0, 0.0, 0.0, 0.0, 0.0, 0.0, 0.0, 0.0, ...</td>\n",
       "      <td>60.0</td>\n",
       "      <td>(0.0, 0.0, 0.0, 0.0, 0.0, 0.0, 0.0, 0.0, 0.0, ...</td>\n",
       "      <td>(0.0, 0.0, 0.0, 0.0, 0.0, 0.0, 0.0, 0.0, 0.0, ...</td>\n",
       "      <td>2.795306</td>\n",
       "    </tr>\n",
       "    <tr>\n",
       "      <th>6</th>\n",
       "      <td>100123</td>\n",
       "      <td>Desogestrel / ethinyl estradiol</td>\n",
       "      <td>Birth Control</td>\n",
       "      <td>\"\"\"I haven&amp;#039;t taken any BC in 5 years sinc...</td>\n",
       "      <td>1.0</td>\n",
       "      <td>November 2, 2016</td>\n",
       "      <td>2</td>\n",
       "      <td>1</td>\n",
       "      <td>[\"\"\"i, haven&amp;#039;t, taken, any, bc, in, 5, ye...</td>\n",
       "      <td>(0.0, 0.0, 0.0, 0.0, 0.0, 0.0, 0.0, 0.0, 0.0, ...</td>\n",
       "      <td>(0.0, 0.0, 0.0, 0.0, 0.0, 0.0, 0.0, 0.0, 0.0, ...</td>\n",
       "      <td>0.0</td>\n",
       "      <td>(1.0, 0.0, 0.0, 0.0, 0.0, 0.0, 0.0, 0.0, 0.0, ...</td>\n",
       "      <td>60.0</td>\n",
       "      <td>(0.0, 0.0, 0.0, 0.0, 0.0, 0.0, 0.0, 0.0, 0.0, ...</td>\n",
       "      <td>(0.0, 0.0, 0.0, 0.0, 0.0, 0.0, 0.0, 0.0, 0.0, ...</td>\n",
       "      <td>8.579616</td>\n",
       "    </tr>\n",
       "    <tr>\n",
       "      <th>7</th>\n",
       "      <td>100126</td>\n",
       "      <td>Desogestrel / ethinyl estradiol</td>\n",
       "      <td>Birth Control</td>\n",
       "      <td>\"\"\"I have  used Cerelle for 9 days I feel very...</td>\n",
       "      <td>10.0</td>\n",
       "      <td>October 28, 2016</td>\n",
       "      <td>1</td>\n",
       "      <td>10</td>\n",
       "      <td>[\"\"\"i, have, , used, cerelle, for, 9, days, i,...</td>\n",
       "      <td>(0.0, 0.0, 0.0, 0.0, 0.0, 0.0, 0.0, 0.0, 0.0, ...</td>\n",
       "      <td>(0.0, 0.0, 0.0, 0.0, 0.0, 0.0, 0.0, 0.0, 0.0, ...</td>\n",
       "      <td>0.0</td>\n",
       "      <td>(1.0, 0.0, 0.0, 0.0, 0.0, 0.0, 0.0, 0.0, 0.0, ...</td>\n",
       "      <td>60.0</td>\n",
       "      <td>(0.0, 0.0, 0.0, 0.0, 0.0, 0.0, 0.0, 0.0, 0.0, ...</td>\n",
       "      <td>(0.0, 0.0, 0.0, 0.0, 0.0, 0.0, 0.0, 0.0, 0.0, ...</td>\n",
       "      <td>14.858223</td>\n",
       "    </tr>\n",
       "    <tr>\n",
       "      <th>8</th>\n",
       "      <td>100165</td>\n",
       "      <td>Desogestrel / ethinyl estradiol</td>\n",
       "      <td>Birth Control</td>\n",
       "      <td>\"\"\"I&amp;#039;ve had a pretty good experience with...</td>\n",
       "      <td>8.0</td>\n",
       "      <td>March 15, 2016</td>\n",
       "      <td>1</td>\n",
       "      <td>8</td>\n",
       "      <td>[\"\"\"i&amp;#039;ve, had, a, pretty, good, experienc...</td>\n",
       "      <td>(0.0, 0.0, 0.0, 0.0, 0.0, 0.0, 0.0, 0.0, 0.0, ...</td>\n",
       "      <td>(0.0, 0.0, 0.0, 0.0, 0.0, 0.0, 0.0, 0.0, 0.0, ...</td>\n",
       "      <td>0.0</td>\n",
       "      <td>(1.0, 0.0, 0.0, 0.0, 0.0, 0.0, 0.0, 0.0, 0.0, ...</td>\n",
       "      <td>60.0</td>\n",
       "      <td>(0.0, 0.0, 0.0, 0.0, 0.0, 0.0, 0.0, 0.0, 0.0, ...</td>\n",
       "      <td>(0.0, 0.0, 0.0, 0.0, 0.0, 0.0, 0.0, 0.0, 0.0, ...</td>\n",
       "      <td>3.726482</td>\n",
       "    </tr>\n",
       "    <tr>\n",
       "      <th>9</th>\n",
       "      <td>100167</td>\n",
       "      <td>Desogestrel / ethinyl estradiol</td>\n",
       "      <td>Birth Control</td>\n",
       "      <td>\"\"\"I had previously been on Microgestin which ...</td>\n",
       "      <td>10.0</td>\n",
       "      <td>March 11, 2016</td>\n",
       "      <td>10</td>\n",
       "      <td>10</td>\n",
       "      <td>[\"\"\"i, had, previously, been, on, microgestin,...</td>\n",
       "      <td>(0.0, 0.0, 0.0, 0.0, 0.0, 0.0, 0.0, 0.0, 0.0, ...</td>\n",
       "      <td>(0.0, 0.0, 0.0, 0.0, 0.0, 0.0, 0.0, 0.0, 0.0, ...</td>\n",
       "      <td>0.0</td>\n",
       "      <td>(1.0, 0.0, 0.0, 0.0, 0.0, 0.0, 0.0, 0.0, 0.0, ...</td>\n",
       "      <td>60.0</td>\n",
       "      <td>(0.0, 0.0, 0.0, 0.0, 0.0, 0.0, 0.0, 0.0, 0.0, ...</td>\n",
       "      <td>(0.0, 0.0, 0.0, 0.0, 0.0, 0.0, 0.0, 0.0, 0.0, ...</td>\n",
       "      <td>14.712727</td>\n",
       "    </tr>\n",
       "  </tbody>\n",
       "</table>\n",
       "</div>"
      ],
      "text/plain": [
       "      _c0                         drugName      condition  \\\n",
       "0     100              Medroxyprogesterone  Birth Control   \n",
       "1  100002  Desogestrel / ethinyl estradiol  Birth Control   \n",
       "2  100017  Desogestrel / ethinyl estradiol  Birth Control   \n",
       "3   10002                   Lo Loestrin Fe  Birth Control   \n",
       "4  100021  Desogestrel / ethinyl estradiol  Birth Control   \n",
       "5  100107  Desogestrel / ethinyl estradiol  Birth Control   \n",
       "6  100123  Desogestrel / ethinyl estradiol  Birth Control   \n",
       "7  100126  Desogestrel / ethinyl estradiol  Birth Control   \n",
       "8  100165  Desogestrel / ethinyl estradiol  Birth Control   \n",
       "9  100167  Desogestrel / ethinyl estradiol  Birth Control   \n",
       "\n",
       "                                              review rating  \\\n",
       "0  \"\"\"Depo was not for me, but that does not mean...    5.0   \n",
       "1  \"\"\"I have been taking this birth control for f...    4.0   \n",
       "2  \"\"\"Love it! Been continuously dosing without b...    9.0   \n",
       "3  \"\"\"Well, I&#039;ve been on this right now for ...    6.0   \n",
       "4  \"\"\"So I&#039;ve been on this birth control a l...    5.0   \n",
       "5  \"\"\"completely lost every bit of sex drive i ha...    5.0   \n",
       "6  \"\"\"I haven&#039;t taken any BC in 5 years sinc...    1.0   \n",
       "7  \"\"\"I have  used Cerelle for 9 days I feel very...   10.0   \n",
       "8  \"\"\"I&#039;ve had a pretty good experience with...    8.0   \n",
       "9  \"\"\"I had previously been on Microgestin which ...   10.0   \n",
       "\n",
       "                date  usefulCount  ratingNum  \\\n",
       "0    August 17, 2015            2          5   \n",
       "1      July 12, 2017            2          4   \n",
       "2       May 30, 2017            3          9   \n",
       "3      April 4, 2013           10          6   \n",
       "4       May 18, 2017            3          5   \n",
       "5  November 23, 2016            1          5   \n",
       "6   November 2, 2016            2          1   \n",
       "7   October 28, 2016            1         10   \n",
       "8     March 15, 2016            1          8   \n",
       "9     March 11, 2016           10         10   \n",
       "\n",
       "                                               words  \\\n",
       "0  [\"\"\"depo, was, not, for, me,, but, that, does,...   \n",
       "1  [\"\"\"i, have, been, taking, this, birth, contro...   \n",
       "2  [\"\"\"love, it!, been, continuously, dosing, wit...   \n",
       "3  [\"\"\"well,, i&#039;ve, been, on, this, right, n...   \n",
       "4  [\"\"\"so, i&#039;ve, been, on, this, birth, cont...   \n",
       "5  [\"\"\"completely, lost, every, bit, of, sex, dri...   \n",
       "6  [\"\"\"i, haven&#039;t, taken, any, bc, in, 5, ye...   \n",
       "7  [\"\"\"i, have, , used, cerelle, for, 9, days, i,...   \n",
       "8  [\"\"\"i&#039;ve, had, a, pretty, good, experienc...   \n",
       "9  [\"\"\"i, had, previously, been, on, microgestin,...   \n",
       "\n",
       "                                         rawFeatures  \\\n",
       "0  (0.0, 0.0, 0.0, 0.0, 0.0, 0.0, 0.0, 0.0, 0.0, ...   \n",
       "1  (0.0, 0.0, 0.0, 0.0, 0.0, 0.0, 0.0, 0.0, 0.0, ...   \n",
       "2  (0.0, 0.0, 0.0, 0.0, 0.0, 0.0, 0.0, 0.0, 0.0, ...   \n",
       "3  (0.0, 0.0, 0.0, 0.0, 0.0, 0.0, 0.0, 0.0, 0.0, ...   \n",
       "4  (0.0, 0.0, 0.0, 0.0, 0.0, 0.0, 0.0, 0.0, 0.0, ...   \n",
       "5  (0.0, 0.0, 0.0, 0.0, 0.0, 0.0, 0.0, 0.0, 0.0, ...   \n",
       "6  (0.0, 0.0, 0.0, 0.0, 0.0, 0.0, 0.0, 0.0, 0.0, ...   \n",
       "7  (0.0, 0.0, 0.0, 0.0, 0.0, 0.0, 0.0, 0.0, 0.0, ...   \n",
       "8  (0.0, 0.0, 0.0, 0.0, 0.0, 0.0, 0.0, 0.0, 0.0, ...   \n",
       "9  (0.0, 0.0, 0.0, 0.0, 0.0, 0.0, 0.0, 0.0, 0.0, ...   \n",
       "\n",
       "                                     revviewFeatures  conditionIndex  \\\n",
       "0  (0.0, 0.0, 0.0, 0.0, 0.0, 0.0, 0.0, 0.0, 0.0, ...             0.0   \n",
       "1  (0.0, 0.0, 0.0, 0.0, 0.0, 0.0, 0.0, 0.0, 0.0, ...             0.0   \n",
       "2  (0.0, 0.0, 0.0, 0.0, 0.0, 0.0, 0.0, 0.0, 0.0, ...             0.0   \n",
       "3  (0.0, 0.0, 0.0, 0.0, 0.0, 0.0, 0.0, 0.0, 0.0, ...             0.0   \n",
       "4  (0.0, 0.0, 0.0, 0.0, 0.0, 0.0, 0.0, 0.0, 0.0, ...             0.0   \n",
       "5  (0.0, 0.0, 0.0, 0.0, 0.0, 0.0, 0.0, 0.0, 0.0, ...             0.0   \n",
       "6  (0.0, 0.0, 0.0, 0.0, 0.0, 0.0, 0.0, 0.0, 0.0, ...             0.0   \n",
       "7  (0.0, 0.0, 0.0, 0.0, 0.0, 0.0, 0.0, 0.0, 0.0, ...             0.0   \n",
       "8  (0.0, 0.0, 0.0, 0.0, 0.0, 0.0, 0.0, 0.0, 0.0, ...             0.0   \n",
       "9  (0.0, 0.0, 0.0, 0.0, 0.0, 0.0, 0.0, 0.0, 0.0, ...             0.0   \n",
       "\n",
       "                                        conditionVec  drugIndex  \\\n",
       "0  (1.0, 0.0, 0.0, 0.0, 0.0, 0.0, 0.0, 0.0, 0.0, ...       14.0   \n",
       "1  (1.0, 0.0, 0.0, 0.0, 0.0, 0.0, 0.0, 0.0, 0.0, ...       60.0   \n",
       "2  (1.0, 0.0, 0.0, 0.0, 0.0, 0.0, 0.0, 0.0, 0.0, ...       60.0   \n",
       "3  (1.0, 0.0, 0.0, 0.0, 0.0, 0.0, 0.0, 0.0, 0.0, ...       35.0   \n",
       "4  (1.0, 0.0, 0.0, 0.0, 0.0, 0.0, 0.0, 0.0, 0.0, ...       60.0   \n",
       "5  (1.0, 0.0, 0.0, 0.0, 0.0, 0.0, 0.0, 0.0, 0.0, ...       60.0   \n",
       "6  (1.0, 0.0, 0.0, 0.0, 0.0, 0.0, 0.0, 0.0, 0.0, ...       60.0   \n",
       "7  (1.0, 0.0, 0.0, 0.0, 0.0, 0.0, 0.0, 0.0, 0.0, ...       60.0   \n",
       "8  (1.0, 0.0, 0.0, 0.0, 0.0, 0.0, 0.0, 0.0, 0.0, ...       60.0   \n",
       "9  (1.0, 0.0, 0.0, 0.0, 0.0, 0.0, 0.0, 0.0, 0.0, ...       60.0   \n",
       "\n",
       "                                             drugVec  \\\n",
       "0  (0.0, 0.0, 0.0, 0.0, 0.0, 0.0, 0.0, 0.0, 0.0, ...   \n",
       "1  (0.0, 0.0, 0.0, 0.0, 0.0, 0.0, 0.0, 0.0, 0.0, ...   \n",
       "2  (0.0, 0.0, 0.0, 0.0, 0.0, 0.0, 0.0, 0.0, 0.0, ...   \n",
       "3  (0.0, 0.0, 0.0, 0.0, 0.0, 0.0, 0.0, 0.0, 0.0, ...   \n",
       "4  (0.0, 0.0, 0.0, 0.0, 0.0, 0.0, 0.0, 0.0, 0.0, ...   \n",
       "5  (0.0, 0.0, 0.0, 0.0, 0.0, 0.0, 0.0, 0.0, 0.0, ...   \n",
       "6  (0.0, 0.0, 0.0, 0.0, 0.0, 0.0, 0.0, 0.0, 0.0, ...   \n",
       "7  (0.0, 0.0, 0.0, 0.0, 0.0, 0.0, 0.0, 0.0, 0.0, ...   \n",
       "8  (0.0, 0.0, 0.0, 0.0, 0.0, 0.0, 0.0, 0.0, 0.0, ...   \n",
       "9  (0.0, 0.0, 0.0, 0.0, 0.0, 0.0, 0.0, 0.0, 0.0, ...   \n",
       "\n",
       "                                            features  prediction  \n",
       "0  (0.0, 0.0, 0.0, 0.0, 0.0, 0.0, 0.0, 0.0, 0.0, ...    3.807138  \n",
       "1  (0.0, 0.0, 0.0, 0.0, 0.0, 0.0, 0.0, 0.0, 0.0, ...    3.221327  \n",
       "2  (0.0, 0.0, 0.0, 0.0, 0.0, 0.0, 0.0, 0.0, 0.0, ...   13.877902  \n",
       "3  (0.0, 0.0, 0.0, 0.0, 0.0, 0.0, 0.0, 0.0, 0.0, ...   11.811320  \n",
       "4  (0.0, 0.0, 0.0, 0.0, 0.0, 0.0, 0.0, 0.0, 0.0, ...    2.463578  \n",
       "5  (0.0, 0.0, 0.0, 0.0, 0.0, 0.0, 0.0, 0.0, 0.0, ...    2.795306  \n",
       "6  (0.0, 0.0, 0.0, 0.0, 0.0, 0.0, 0.0, 0.0, 0.0, ...    8.579616  \n",
       "7  (0.0, 0.0, 0.0, 0.0, 0.0, 0.0, 0.0, 0.0, 0.0, ...   14.858223  \n",
       "8  (0.0, 0.0, 0.0, 0.0, 0.0, 0.0, 0.0, 0.0, 0.0, ...    3.726482  \n",
       "9  (0.0, 0.0, 0.0, 0.0, 0.0, 0.0, 0.0, 0.0, 0.0, ...   14.712727  "
      ]
     },
     "execution_count": 26,
     "metadata": {},
     "output_type": "execute_result"
    }
   ],
   "source": [
    "predictions.limit(10).toPandas()"
   ]
  },
  {
   "cell_type": "code",
   "execution_count": 27,
   "metadata": {
    "cell_status": {
     "execute_time": {
      "duration": 2279.85205078125,
      "end_time": 1614008138042.79
     }
    }
   },
   "outputs": [
    {
     "name": "stderr",
     "output_type": "stream",
     "text": [
      "                                                                                \r"
     ]
    },
    {
     "data": {
      "text/plain": [
       "0.2997379555791938"
      ]
     },
     "execution_count": 27,
     "metadata": {},
     "output_type": "execute_result"
    }
   ],
   "source": [
    "lr_evaluator = RegressionEvaluator(predictionCol=\"prediction\", labelCol=\"usefulCount\", metricName=\"r2\")\n",
    "lr_evaluator.evaluate(predictions)"
   ]
  },
  {
   "cell_type": "code",
   "execution_count": null,
   "metadata": {},
   "outputs": [],
   "source": []
  },
  {
   "cell_type": "markdown",
   "metadata": {},
   "source": [
    "С недавнего времени на Spark появился CatBoost. Давайте попробуем поиграться с этим инструментом."
   ]
  },
  {
   "cell_type": "code",
   "execution_count": 1,
   "metadata": {},
   "outputs": [],
   "source": [
    "import findspark\n",
    "findspark.init()"
   ]
  },
  {
   "cell_type": "code",
   "execution_count": 2,
   "metadata": {},
   "outputs": [
    {
     "name": "stderr",
     "output_type": "stream",
     "text": [
      "SLF4J: Class path contains multiple SLF4J bindings.\n",
      "SLF4J: Found binding in [jar:file:/usr/lib/spark/jars/slf4j-log4j12-1.7.30.jar!/org/slf4j/impl/StaticLoggerBinder.class]\n",
      "SLF4J: Found binding in [jar:file:/usr/lib/hadoop/lib/slf4j-log4j12-1.7.25.jar!/org/slf4j/impl/StaticLoggerBinder.class]\n",
      "SLF4J: See http://www.slf4j.org/codes.html#multiple_bindings for an explanation.\n",
      "SLF4J: Actual binding is of type [org.slf4j.impl.Log4jLoggerFactory]\n",
      "Ivy Default Cache set to: /home/ubuntu/.ivy2/cache\n",
      "The jars for the packages stored in: /home/ubuntu/.ivy2/jars\n",
      ":: loading settings :: url = jar:file:/usr/lib/spark/jars/ivy-2.4.0.jar!/org/apache/ivy/core/settings/ivysettings.xml\n",
      "ai.catboost#catboost-spark_3.0_2.12 added as a dependency\n",
      ":: resolving dependencies :: org.apache.spark#spark-submit-parent-fb96a777-13b6-433d-bae6-2ce4ee508609;1.0\n",
      "\tconfs: [default]\n",
      "\tfound ai.catboost#catboost-spark_3.0_2.12;1.1.1 in central\n",
      "\tfound org.scala-lang.modules#scala-collection-compat_2.12;2.6.0 in central\n",
      "\tfound com.google.guava#guava;29.0-jre in central\n",
      "\tfound com.google.guava#failureaccess;1.0.1 in central\n",
      "\tfound com.google.guava#listenablefuture;9999.0-empty-to-avoid-conflict-with-guava in central\n",
      "\tfound com.google.code.findbugs#jsr305;3.0.2 in central\n",
      "\tfound org.checkerframework#checker-qual;2.11.1 in central\n",
      "\tfound com.google.errorprone#error_prone_annotations;2.3.4 in central\n",
      "\tfound com.google.j2objc#j2objc-annotations;1.3 in central\n",
      "\tfound commons-io#commons-io;2.7 in central\n",
      "\tfound org.apache.commons#commons-lang3;3.11 in central\n",
      "\tfound org.json4s#json4s-jackson_2.12;3.6.6 in central\n",
      "\tfound org.json4s#json4s-core_2.12;3.6.6 in central\n",
      "\tfound org.json4s#json4s-ast_2.12;3.6.6 in central\n",
      "\tfound org.json4s#json4s-scalap_2.12;3.6.6 in central\n",
      "\tfound com.thoughtworks.paranamer#paranamer;2.8 in central\n",
      "\tfound com.fasterxml.jackson.core#jackson-databind;2.13.1 in central\n",
      "\tfound com.fasterxml.jackson.core#jackson-annotations;2.13.1 in central\n",
      "\tfound com.fasterxml.jackson.core#jackson-core;2.13.1 in central\n",
      "\tfound com.fasterxml.jackson.module#jackson-module-scala_2.12;2.13.1 in central\n",
      "\tfound io.github.classgraph#classgraph;4.8.98 in central\n",
      "\tfound org.xerial.snappy#snappy-java;1.1.8.4 in central\n",
      "\tfound ai.catboost#catboost-common;1.1.1 in central\n",
      "\tfound javax.validation#validation-api;1.1.0.Final in central\n",
      "\tfound org.slf4j#slf4j-api;1.7.25 in central\n",
      "\tfound ai.catboost#catboost-spark-macros_2.12;1.1.1 in central\n",
      "\tfound org.scala-lang#scala-reflect;2.12.12 in central\n",
      ":: resolution report :: resolve 941ms :: artifacts dl 62ms\n",
      "\t:: modules in use:\n",
      "\tai.catboost#catboost-common;1.1.1 from central in [default]\n",
      "\tai.catboost#catboost-spark-macros_2.12;1.1.1 from central in [default]\n",
      "\tai.catboost#catboost-spark_3.0_2.12;1.1.1 from central in [default]\n",
      "\tcom.fasterxml.jackson.core#jackson-annotations;2.13.1 from central in [default]\n",
      "\tcom.fasterxml.jackson.core#jackson-core;2.13.1 from central in [default]\n",
      "\tcom.fasterxml.jackson.core#jackson-databind;2.13.1 from central in [default]\n",
      "\tcom.fasterxml.jackson.module#jackson-module-scala_2.12;2.13.1 from central in [default]\n",
      "\tcom.google.code.findbugs#jsr305;3.0.2 from central in [default]\n",
      "\tcom.google.errorprone#error_prone_annotations;2.3.4 from central in [default]\n",
      "\tcom.google.guava#failureaccess;1.0.1 from central in [default]\n",
      "\tcom.google.guava#guava;29.0-jre from central in [default]\n",
      "\tcom.google.guava#listenablefuture;9999.0-empty-to-avoid-conflict-with-guava from central in [default]\n",
      "\tcom.google.j2objc#j2objc-annotations;1.3 from central in [default]\n",
      "\tcom.thoughtworks.paranamer#paranamer;2.8 from central in [default]\n",
      "\tcommons-io#commons-io;2.7 from central in [default]\n",
      "\tio.github.classgraph#classgraph;4.8.98 from central in [default]\n",
      "\tjavax.validation#validation-api;1.1.0.Final from central in [default]\n",
      "\torg.apache.commons#commons-lang3;3.11 from central in [default]\n",
      "\torg.checkerframework#checker-qual;2.11.1 from central in [default]\n",
      "\torg.json4s#json4s-ast_2.12;3.6.6 from central in [default]\n",
      "\torg.json4s#json4s-core_2.12;3.6.6 from central in [default]\n",
      "\torg.json4s#json4s-jackson_2.12;3.6.6 from central in [default]\n",
      "\torg.json4s#json4s-scalap_2.12;3.6.6 from central in [default]\n",
      "\torg.scala-lang#scala-reflect;2.12.12 from central in [default]\n",
      "\torg.scala-lang.modules#scala-collection-compat_2.12;2.6.0 from central in [default]\n",
      "\torg.slf4j#slf4j-api;1.7.25 from central in [default]\n",
      "\torg.xerial.snappy#snappy-java;1.1.8.4 from central in [default]\n",
      "\t:: evicted modules:\n",
      "\tcom.fasterxml.jackson.core#jackson-databind;2.9.8 by [com.fasterxml.jackson.core#jackson-databind;2.13.1] in [default]\n",
      "\t---------------------------------------------------------------------\n",
      "\t|                  |            modules            ||   artifacts   |\n",
      "\t|       conf       | number| search|dwnlded|evicted|| number|dwnlded|\n",
      "\t---------------------------------------------------------------------\n",
      "\t|      default     |   28  |   0   |   0   |   1   ||   27  |   0   |\n",
      "\t---------------------------------------------------------------------\n",
      ":: retrieving :: org.apache.spark#spark-submit-parent-fb96a777-13b6-433d-bae6-2ce4ee508609\n",
      "\tconfs: [default]\n",
      "\t0 artifacts copied, 27 already retrieved (0kB/16ms)\n",
      "Setting default log level to \"WARN\".\n",
      "To adjust logging level use sc.setLogLevel(newLevel). For SparkR, use setLogLevel(newLevel).\n",
      "2023-02-21 16:26:58,203 WARN yarn.Client: Same path resource file:///home/ubuntu/.ivy2/jars/ai.catboost_catboost-spark_3.0_2.12-1.1.1.jar added multiple times to distributed cache.\n",
      "2023-02-21 16:26:58,203 WARN yarn.Client: Same path resource file:///home/ubuntu/.ivy2/jars/org.scala-lang.modules_scala-collection-compat_2.12-2.6.0.jar added multiple times to distributed cache.\n",
      "2023-02-21 16:26:58,203 WARN yarn.Client: Same path resource file:///home/ubuntu/.ivy2/jars/com.google.guava_guava-29.0-jre.jar added multiple times to distributed cache.\n",
      "2023-02-21 16:26:58,203 WARN yarn.Client: Same path resource file:///home/ubuntu/.ivy2/jars/commons-io_commons-io-2.7.jar added multiple times to distributed cache.\n",
      "2023-02-21 16:26:58,203 WARN yarn.Client: Same path resource file:///home/ubuntu/.ivy2/jars/org.apache.commons_commons-lang3-3.11.jar added multiple times to distributed cache.\n",
      "2023-02-21 16:26:58,203 WARN yarn.Client: Same path resource file:///home/ubuntu/.ivy2/jars/org.json4s_json4s-jackson_2.12-3.6.6.jar added multiple times to distributed cache.\n",
      "2023-02-21 16:26:58,203 WARN yarn.Client: Same path resource file:///home/ubuntu/.ivy2/jars/com.fasterxml.jackson.core_jackson-databind-2.13.1.jar added multiple times to distributed cache.\n",
      "2023-02-21 16:26:58,203 WARN yarn.Client: Same path resource file:///home/ubuntu/.ivy2/jars/com.fasterxml.jackson.module_jackson-module-scala_2.12-2.13.1.jar added multiple times to distributed cache.\n",
      "2023-02-21 16:26:58,203 WARN yarn.Client: Same path resource file:///home/ubuntu/.ivy2/jars/io.github.classgraph_classgraph-4.8.98.jar added multiple times to distributed cache.\n",
      "2023-02-21 16:26:58,203 WARN yarn.Client: Same path resource file:///home/ubuntu/.ivy2/jars/org.xerial.snappy_snappy-java-1.1.8.4.jar added multiple times to distributed cache.\n",
      "2023-02-21 16:26:58,203 WARN yarn.Client: Same path resource file:///home/ubuntu/.ivy2/jars/ai.catboost_catboost-common-1.1.1.jar added multiple times to distributed cache.\n",
      "2023-02-21 16:26:58,203 WARN yarn.Client: Same path resource file:///home/ubuntu/.ivy2/jars/ai.catboost_catboost-spark-macros_2.12-1.1.1.jar added multiple times to distributed cache.\n",
      "2023-02-21 16:26:58,203 WARN yarn.Client: Same path resource file:///home/ubuntu/.ivy2/jars/org.scala-lang_scala-reflect-2.12.12.jar added multiple times to distributed cache.\n",
      "2023-02-21 16:26:58,203 WARN yarn.Client: Same path resource file:///home/ubuntu/.ivy2/jars/com.google.guava_failureaccess-1.0.1.jar added multiple times to distributed cache.\n",
      "2023-02-21 16:26:58,203 WARN yarn.Client: Same path resource file:///home/ubuntu/.ivy2/jars/com.google.guava_listenablefuture-9999.0-empty-to-avoid-conflict-with-guava.jar added multiple times to distributed cache.\n",
      "2023-02-21 16:26:58,203 WARN yarn.Client: Same path resource file:///home/ubuntu/.ivy2/jars/com.google.code.findbugs_jsr305-3.0.2.jar added multiple times to distributed cache.\n",
      "2023-02-21 16:26:58,203 WARN yarn.Client: Same path resource file:///home/ubuntu/.ivy2/jars/org.checkerframework_checker-qual-2.11.1.jar added multiple times to distributed cache.\n",
      "2023-02-21 16:26:58,203 WARN yarn.Client: Same path resource file:///home/ubuntu/.ivy2/jars/com.google.errorprone_error_prone_annotations-2.3.4.jar added multiple times to distributed cache.\n",
      "2023-02-21 16:26:58,203 WARN yarn.Client: Same path resource file:///home/ubuntu/.ivy2/jars/com.google.j2objc_j2objc-annotations-1.3.jar added multiple times to distributed cache.\n",
      "2023-02-21 16:26:58,203 WARN yarn.Client: Same path resource file:///home/ubuntu/.ivy2/jars/org.json4s_json4s-core_2.12-3.6.6.jar added multiple times to distributed cache.\n",
      "2023-02-21 16:26:58,203 WARN yarn.Client: Same path resource file:///home/ubuntu/.ivy2/jars/org.json4s_json4s-ast_2.12-3.6.6.jar added multiple times to distributed cache.\n",
      "2023-02-21 16:26:58,203 WARN yarn.Client: Same path resource file:///home/ubuntu/.ivy2/jars/org.json4s_json4s-scalap_2.12-3.6.6.jar added multiple times to distributed cache.\n",
      "2023-02-21 16:26:58,204 WARN yarn.Client: Same path resource file:///home/ubuntu/.ivy2/jars/com.thoughtworks.paranamer_paranamer-2.8.jar added multiple times to distributed cache.\n",
      "2023-02-21 16:26:58,204 WARN yarn.Client: Same path resource file:///home/ubuntu/.ivy2/jars/com.fasterxml.jackson.core_jackson-annotations-2.13.1.jar added multiple times to distributed cache.\n",
      "2023-02-21 16:26:58,204 WARN yarn.Client: Same path resource file:///home/ubuntu/.ivy2/jars/com.fasterxml.jackson.core_jackson-core-2.13.1.jar added multiple times to distributed cache.\n",
      "2023-02-21 16:26:58,204 WARN yarn.Client: Same path resource file:///home/ubuntu/.ivy2/jars/javax.validation_validation-api-1.1.0.Final.jar added multiple times to distributed cache.\n",
      "2023-02-21 16:26:58,204 WARN yarn.Client: Same path resource file:///home/ubuntu/.ivy2/jars/org.slf4j_slf4j-api-1.7.25.jar added multiple times to distributed cache.\n"
     ]
    }
   ],
   "source": [
    "import pyspark\n",
    "se = pyspark.sql.SparkSession.builder.appName(\"MyApp2\") \\\n",
    "            .config(\"spark.jars.packages\", \"ai.catboost:catboost-spark_3.0_2.12:1.1.1\") \\\n",
    "            .config(\"spark.dynamicAllocation.enabled\", False) \\\n",
    "            .config(\"spark.locality.wait\", 0) \\\n",
    "            .getOrCreate()\n"
   ]
  },
  {
   "cell_type": "code",
   "execution_count": 3,
   "metadata": {},
   "outputs": [],
   "source": [
    "import catboost_spark"
   ]
  },
  {
   "cell_type": "code",
   "execution_count": 4,
   "metadata": {},
   "outputs": [
    {
     "name": "stderr",
     "output_type": "stream",
     "text": [
      "                                                                                \r"
     ]
    }
   ],
   "source": [
    "data = se.read.option(\"delimiter\", \"\\t\").csv('/user/drugs/data/*', header=True, inferSchema=True)\n",
    "\n",
    "data = (\n",
    "    data\n",
    "    .na.drop('any')\n",
    "    .withColumn('ratingNum', data.rating.cast('integer'))\n",
    ")\n",
    "\n",
    "\n",
    "train, test = data.randomSplit([0.9, 0.1], 422)\n",
    "train, test = train.cache(), test.cache()"
   ]
  },
  {
   "cell_type": "code",
   "execution_count": 5,
   "metadata": {},
   "outputs": [],
   "source": [
    "from pyspark.ml.classification import LogisticRegression\n",
    "from pyspark.ml.regression import LinearRegression\n",
    "from pyspark.ml.feature import HashingTF, IDF, Tokenizer\n",
    "from pyspark.ml import Pipeline\n",
    "from pyspark.ml.feature import OneHotEncoder, StringIndexer, VectorAssembler"
   ]
  },
  {
   "cell_type": "code",
   "execution_count": 6,
   "metadata": {},
   "outputs": [],
   "source": [
    "stringIndexerCondition = StringIndexer(inputCol='condition', outputCol = \"conditionIndex\").setHandleInvalid(\"skip\")\n",
    "encoderCondition = OneHotEncoder(inputCol=\"conditionIndex\", outputCol=\"conditionVec\")\n",
    "\n",
    "stringIndexerDrug = StringIndexer(inputCol='drugName', outputCol = \"drugIndex\").setHandleInvalid(\"skip\")\n",
    "encoderDrug = OneHotEncoder(inputCol=\"drugIndex\", outputCol=\"drugVec\")\n",
    "\n",
    "assembler = VectorAssembler(inputCols=[\"drugVec\", \"conditionVec\", 'ratingNum'], outputCol=\"features\")\n",
    "\n",
    "\n",
    "preproc = Pipeline(stages=[\n",
    "    stringIndexerCondition,\n",
    "    encoderCondition,\n",
    "    stringIndexerDrug,\n",
    "    encoderDrug,\n",
    "    assembler\n",
    "])"
   ]
  },
  {
   "cell_type": "code",
   "execution_count": 7,
   "metadata": {},
   "outputs": [
    {
     "name": "stderr",
     "output_type": "stream",
     "text": [
      "                                                                                \r"
     ]
    }
   ],
   "source": [
    "preproc = preproc.fit(data)"
   ]
  },
  {
   "cell_type": "code",
   "execution_count": 8,
   "metadata": {},
   "outputs": [],
   "source": [
    "train_proc = preproc.transform(train).cache()\n",
    "test_proc = preproc.transform(test).cache()"
   ]
  },
  {
   "cell_type": "code",
   "execution_count": 9,
   "metadata": {},
   "outputs": [
    {
     "name": "stderr",
     "output_type": "stream",
     "text": [
      "                                                                                \r"
     ]
    },
    {
     "data": {
      "text/html": [
       "<div>\n",
       "<style scoped>\n",
       "    .dataframe tbody tr th:only-of-type {\n",
       "        vertical-align: middle;\n",
       "    }\n",
       "\n",
       "    .dataframe tbody tr th {\n",
       "        vertical-align: top;\n",
       "    }\n",
       "\n",
       "    .dataframe thead th {\n",
       "        text-align: right;\n",
       "    }\n",
       "</style>\n",
       "<table border=\"1\" class=\"dataframe\">\n",
       "  <thead>\n",
       "    <tr style=\"text-align: right;\">\n",
       "      <th></th>\n",
       "      <th>_c0</th>\n",
       "      <th>drugName</th>\n",
       "      <th>condition</th>\n",
       "      <th>review</th>\n",
       "      <th>rating</th>\n",
       "      <th>date</th>\n",
       "      <th>usefulCount</th>\n",
       "      <th>ratingNum</th>\n",
       "      <th>conditionIndex</th>\n",
       "      <th>conditionVec</th>\n",
       "      <th>drugIndex</th>\n",
       "      <th>drugVec</th>\n",
       "      <th>features</th>\n",
       "    </tr>\n",
       "  </thead>\n",
       "  <tbody>\n",
       "    <tr>\n",
       "      <th>0</th>\n",
       "      <td>10000</td>\n",
       "      <td>Lo Loestrin Fe</td>\n",
       "      <td>Birth Control</td>\n",
       "      <td>\"\"\"I was on this birth control for 8 months. T...</td>\n",
       "      <td>7.0</td>\n",
       "      <td>April 10, 2013</td>\n",
       "      <td>4</td>\n",
       "      <td>7</td>\n",
       "      <td>0.0</td>\n",
       "      <td>(1.0, 0.0, 0.0, 0.0, 0.0, 0.0, 0.0, 0.0, 0.0, ...</td>\n",
       "      <td>35.0</td>\n",
       "      <td>(0.0, 0.0, 0.0, 0.0, 0.0, 0.0, 0.0, 0.0, 0.0, ...</td>\n",
       "      <td>(0.0, 0.0, 0.0, 0.0, 0.0, 0.0, 0.0, 0.0, 0.0, ...</td>\n",
       "    </tr>\n",
       "    <tr>\n",
       "      <th>1</th>\n",
       "      <td>100012</td>\n",
       "      <td>Desogestrel / ethinyl estradiol</td>\n",
       "      <td>Birth Control</td>\n",
       "      <td>\"\"\"I&amp;#039;ve been taking Velivet for about a y...</td>\n",
       "      <td>9.0</td>\n",
       "      <td>June 17, 2017</td>\n",
       "      <td>2</td>\n",
       "      <td>9</td>\n",
       "      <td>0.0</td>\n",
       "      <td>(1.0, 0.0, 0.0, 0.0, 0.0, 0.0, 0.0, 0.0, 0.0, ...</td>\n",
       "      <td>60.0</td>\n",
       "      <td>(0.0, 0.0, 0.0, 0.0, 0.0, 0.0, 0.0, 0.0, 0.0, ...</td>\n",
       "      <td>(0.0, 0.0, 0.0, 0.0, 0.0, 0.0, 0.0, 0.0, 0.0, ...</td>\n",
       "    </tr>\n",
       "    <tr>\n",
       "      <th>2</th>\n",
       "      <td>100013</td>\n",
       "      <td>Desogestrel / ethinyl estradiol</td>\n",
       "      <td>Birth Control</td>\n",
       "      <td>\"\"\"Gives me heartburn and indigestion. Also ma...</td>\n",
       "      <td>2.0</td>\n",
       "      <td>June 8, 2017</td>\n",
       "      <td>1</td>\n",
       "      <td>2</td>\n",
       "      <td>0.0</td>\n",
       "      <td>(1.0, 0.0, 0.0, 0.0, 0.0, 0.0, 0.0, 0.0, 0.0, ...</td>\n",
       "      <td>60.0</td>\n",
       "      <td>(0.0, 0.0, 0.0, 0.0, 0.0, 0.0, 0.0, 0.0, 0.0, ...</td>\n",
       "      <td>(0.0, 0.0, 0.0, 0.0, 0.0, 0.0, 0.0, 0.0, 0.0, ...</td>\n",
       "    </tr>\n",
       "    <tr>\n",
       "      <th>3</th>\n",
       "      <td>100029</td>\n",
       "      <td>Desogestrel / ethinyl estradiol</td>\n",
       "      <td>Birth Control</td>\n",
       "      <td>\"\"\"I was switched from Azurette to Viorele by ...</td>\n",
       "      <td>5.0</td>\n",
       "      <td>December 6, 2017</td>\n",
       "      <td>0</td>\n",
       "      <td>5</td>\n",
       "      <td>0.0</td>\n",
       "      <td>(1.0, 0.0, 0.0, 0.0, 0.0, 0.0, 0.0, 0.0, 0.0, ...</td>\n",
       "      <td>60.0</td>\n",
       "      <td>(0.0, 0.0, 0.0, 0.0, 0.0, 0.0, 0.0, 0.0, 0.0, ...</td>\n",
       "      <td>(0.0, 0.0, 0.0, 0.0, 0.0, 0.0, 0.0, 0.0, 0.0, ...</td>\n",
       "    </tr>\n",
       "    <tr>\n",
       "      <th>4</th>\n",
       "      <td>10004</td>\n",
       "      <td>Lo Loestrin Fe</td>\n",
       "      <td>Birth Control</td>\n",
       "      <td>\"\"\"I&amp;#039;m 41, using for cramps and excessive...</td>\n",
       "      <td>2.0</td>\n",
       "      <td>March 31, 2013</td>\n",
       "      <td>12</td>\n",
       "      <td>2</td>\n",
       "      <td>0.0</td>\n",
       "      <td>(1.0, 0.0, 0.0, 0.0, 0.0, 0.0, 0.0, 0.0, 0.0, ...</td>\n",
       "      <td>35.0</td>\n",
       "      <td>(0.0, 0.0, 0.0, 0.0, 0.0, 0.0, 0.0, 0.0, 0.0, ...</td>\n",
       "      <td>(0.0, 0.0, 0.0, 0.0, 0.0, 0.0, 0.0, 0.0, 0.0, ...</td>\n",
       "    </tr>\n",
       "    <tr>\n",
       "      <th>5</th>\n",
       "      <td>100055</td>\n",
       "      <td>Desogestrel / ethinyl estradiol</td>\n",
       "      <td>Birth Control</td>\n",
       "      <td>\"\"\"I was on Apri for about a year. The first f...</td>\n",
       "      <td>5.0</td>\n",
       "      <td>May 2, 2017</td>\n",
       "      <td>1</td>\n",
       "      <td>5</td>\n",
       "      <td>0.0</td>\n",
       "      <td>(1.0, 0.0, 0.0, 0.0, 0.0, 0.0, 0.0, 0.0, 0.0, ...</td>\n",
       "      <td>60.0</td>\n",
       "      <td>(0.0, 0.0, 0.0, 0.0, 0.0, 0.0, 0.0, 0.0, 0.0, ...</td>\n",
       "      <td>(0.0, 0.0, 0.0, 0.0, 0.0, 0.0, 0.0, 0.0, 0.0, ...</td>\n",
       "    </tr>\n",
       "    <tr>\n",
       "      <th>6</th>\n",
       "      <td>10007</td>\n",
       "      <td>Lo Loestrin Fe</td>\n",
       "      <td>Birth Control</td>\n",
       "      <td>\"\"\"I posted on this forum when I first started...</td>\n",
       "      <td>9.0</td>\n",
       "      <td>March 10, 2013</td>\n",
       "      <td>18</td>\n",
       "      <td>9</td>\n",
       "      <td>0.0</td>\n",
       "      <td>(1.0, 0.0, 0.0, 0.0, 0.0, 0.0, 0.0, 0.0, 0.0, ...</td>\n",
       "      <td>35.0</td>\n",
       "      <td>(0.0, 0.0, 0.0, 0.0, 0.0, 0.0, 0.0, 0.0, 0.0, ...</td>\n",
       "      <td>(0.0, 0.0, 0.0, 0.0, 0.0, 0.0, 0.0, 0.0, 0.0, ...</td>\n",
       "    </tr>\n",
       "    <tr>\n",
       "      <th>7</th>\n",
       "      <td>100071</td>\n",
       "      <td>Desogestrel / ethinyl estradiol</td>\n",
       "      <td>Birth Control</td>\n",
       "      <td>\"\"\"So I&amp;#039;ve only been on this pill for a m...</td>\n",
       "      <td>8.0</td>\n",
       "      <td>March 7, 2017</td>\n",
       "      <td>7</td>\n",
       "      <td>8</td>\n",
       "      <td>0.0</td>\n",
       "      <td>(1.0, 0.0, 0.0, 0.0, 0.0, 0.0, 0.0, 0.0, 0.0, ...</td>\n",
       "      <td>60.0</td>\n",
       "      <td>(0.0, 0.0, 0.0, 0.0, 0.0, 0.0, 0.0, 0.0, 0.0, ...</td>\n",
       "      <td>(0.0, 0.0, 0.0, 0.0, 0.0, 0.0, 0.0, 0.0, 0.0, ...</td>\n",
       "    </tr>\n",
       "    <tr>\n",
       "      <th>8</th>\n",
       "      <td>100085</td>\n",
       "      <td>Desogestrel / ethinyl estradiol</td>\n",
       "      <td>Birth Control</td>\n",
       "      <td>\"\"\"I was on this for a year or two, I had been...</td>\n",
       "      <td>1.0</td>\n",
       "      <td>January 28, 2017</td>\n",
       "      <td>4</td>\n",
       "      <td>1</td>\n",
       "      <td>0.0</td>\n",
       "      <td>(1.0, 0.0, 0.0, 0.0, 0.0, 0.0, 0.0, 0.0, 0.0, ...</td>\n",
       "      <td>60.0</td>\n",
       "      <td>(0.0, 0.0, 0.0, 0.0, 0.0, 0.0, 0.0, 0.0, 0.0, ...</td>\n",
       "      <td>(0.0, 0.0, 0.0, 0.0, 0.0, 0.0, 0.0, 0.0, 0.0, ...</td>\n",
       "    </tr>\n",
       "    <tr>\n",
       "      <th>9</th>\n",
       "      <td>100087</td>\n",
       "      <td>Desogestrel / ethinyl estradiol</td>\n",
       "      <td>Birth Control</td>\n",
       "      <td>\"\"\"I&amp;#039;m 19 and have been on this birth con...</td>\n",
       "      <td>9.0</td>\n",
       "      <td>January 26, 2017</td>\n",
       "      <td>3</td>\n",
       "      <td>9</td>\n",
       "      <td>0.0</td>\n",
       "      <td>(1.0, 0.0, 0.0, 0.0, 0.0, 0.0, 0.0, 0.0, 0.0, ...</td>\n",
       "      <td>60.0</td>\n",
       "      <td>(0.0, 0.0, 0.0, 0.0, 0.0, 0.0, 0.0, 0.0, 0.0, ...</td>\n",
       "      <td>(0.0, 0.0, 0.0, 0.0, 0.0, 0.0, 0.0, 0.0, 0.0, ...</td>\n",
       "    </tr>\n",
       "  </tbody>\n",
       "</table>\n",
       "</div>"
      ],
      "text/plain": [
       "      _c0                         drugName      condition  \\\n",
       "0   10000                   Lo Loestrin Fe  Birth Control   \n",
       "1  100012  Desogestrel / ethinyl estradiol  Birth Control   \n",
       "2  100013  Desogestrel / ethinyl estradiol  Birth Control   \n",
       "3  100029  Desogestrel / ethinyl estradiol  Birth Control   \n",
       "4   10004                   Lo Loestrin Fe  Birth Control   \n",
       "5  100055  Desogestrel / ethinyl estradiol  Birth Control   \n",
       "6   10007                   Lo Loestrin Fe  Birth Control   \n",
       "7  100071  Desogestrel / ethinyl estradiol  Birth Control   \n",
       "8  100085  Desogestrel / ethinyl estradiol  Birth Control   \n",
       "9  100087  Desogestrel / ethinyl estradiol  Birth Control   \n",
       "\n",
       "                                              review rating              date  \\\n",
       "0  \"\"\"I was on this birth control for 8 months. T...    7.0    April 10, 2013   \n",
       "1  \"\"\"I&#039;ve been taking Velivet for about a y...    9.0     June 17, 2017   \n",
       "2  \"\"\"Gives me heartburn and indigestion. Also ma...    2.0      June 8, 2017   \n",
       "3  \"\"\"I was switched from Azurette to Viorele by ...    5.0  December 6, 2017   \n",
       "4  \"\"\"I&#039;m 41, using for cramps and excessive...    2.0    March 31, 2013   \n",
       "5  \"\"\"I was on Apri for about a year. The first f...    5.0       May 2, 2017   \n",
       "6  \"\"\"I posted on this forum when I first started...    9.0    March 10, 2013   \n",
       "7  \"\"\"So I&#039;ve only been on this pill for a m...    8.0     March 7, 2017   \n",
       "8  \"\"\"I was on this for a year or two, I had been...    1.0  January 28, 2017   \n",
       "9  \"\"\"I&#039;m 19 and have been on this birth con...    9.0  January 26, 2017   \n",
       "\n",
       "   usefulCount  ratingNum  conditionIndex  \\\n",
       "0            4          7             0.0   \n",
       "1            2          9             0.0   \n",
       "2            1          2             0.0   \n",
       "3            0          5             0.0   \n",
       "4           12          2             0.0   \n",
       "5            1          5             0.0   \n",
       "6           18          9             0.0   \n",
       "7            7          8             0.0   \n",
       "8            4          1             0.0   \n",
       "9            3          9             0.0   \n",
       "\n",
       "                                        conditionVec  drugIndex  \\\n",
       "0  (1.0, 0.0, 0.0, 0.0, 0.0, 0.0, 0.0, 0.0, 0.0, ...       35.0   \n",
       "1  (1.0, 0.0, 0.0, 0.0, 0.0, 0.0, 0.0, 0.0, 0.0, ...       60.0   \n",
       "2  (1.0, 0.0, 0.0, 0.0, 0.0, 0.0, 0.0, 0.0, 0.0, ...       60.0   \n",
       "3  (1.0, 0.0, 0.0, 0.0, 0.0, 0.0, 0.0, 0.0, 0.0, ...       60.0   \n",
       "4  (1.0, 0.0, 0.0, 0.0, 0.0, 0.0, 0.0, 0.0, 0.0, ...       35.0   \n",
       "5  (1.0, 0.0, 0.0, 0.0, 0.0, 0.0, 0.0, 0.0, 0.0, ...       60.0   \n",
       "6  (1.0, 0.0, 0.0, 0.0, 0.0, 0.0, 0.0, 0.0, 0.0, ...       35.0   \n",
       "7  (1.0, 0.0, 0.0, 0.0, 0.0, 0.0, 0.0, 0.0, 0.0, ...       60.0   \n",
       "8  (1.0, 0.0, 0.0, 0.0, 0.0, 0.0, 0.0, 0.0, 0.0, ...       60.0   \n",
       "9  (1.0, 0.0, 0.0, 0.0, 0.0, 0.0, 0.0, 0.0, 0.0, ...       60.0   \n",
       "\n",
       "                                             drugVec  \\\n",
       "0  (0.0, 0.0, 0.0, 0.0, 0.0, 0.0, 0.0, 0.0, 0.0, ...   \n",
       "1  (0.0, 0.0, 0.0, 0.0, 0.0, 0.0, 0.0, 0.0, 0.0, ...   \n",
       "2  (0.0, 0.0, 0.0, 0.0, 0.0, 0.0, 0.0, 0.0, 0.0, ...   \n",
       "3  (0.0, 0.0, 0.0, 0.0, 0.0, 0.0, 0.0, 0.0, 0.0, ...   \n",
       "4  (0.0, 0.0, 0.0, 0.0, 0.0, 0.0, 0.0, 0.0, 0.0, ...   \n",
       "5  (0.0, 0.0, 0.0, 0.0, 0.0, 0.0, 0.0, 0.0, 0.0, ...   \n",
       "6  (0.0, 0.0, 0.0, 0.0, 0.0, 0.0, 0.0, 0.0, 0.0, ...   \n",
       "7  (0.0, 0.0, 0.0, 0.0, 0.0, 0.0, 0.0, 0.0, 0.0, ...   \n",
       "8  (0.0, 0.0, 0.0, 0.0, 0.0, 0.0, 0.0, 0.0, 0.0, ...   \n",
       "9  (0.0, 0.0, 0.0, 0.0, 0.0, 0.0, 0.0, 0.0, 0.0, ...   \n",
       "\n",
       "                                            features  \n",
       "0  (0.0, 0.0, 0.0, 0.0, 0.0, 0.0, 0.0, 0.0, 0.0, ...  \n",
       "1  (0.0, 0.0, 0.0, 0.0, 0.0, 0.0, 0.0, 0.0, 0.0, ...  \n",
       "2  (0.0, 0.0, 0.0, 0.0, 0.0, 0.0, 0.0, 0.0, 0.0, ...  \n",
       "3  (0.0, 0.0, 0.0, 0.0, 0.0, 0.0, 0.0, 0.0, 0.0, ...  \n",
       "4  (0.0, 0.0, 0.0, 0.0, 0.0, 0.0, 0.0, 0.0, 0.0, ...  \n",
       "5  (0.0, 0.0, 0.0, 0.0, 0.0, 0.0, 0.0, 0.0, 0.0, ...  \n",
       "6  (0.0, 0.0, 0.0, 0.0, 0.0, 0.0, 0.0, 0.0, 0.0, ...  \n",
       "7  (0.0, 0.0, 0.0, 0.0, 0.0, 0.0, 0.0, 0.0, 0.0, ...  \n",
       "8  (0.0, 0.0, 0.0, 0.0, 0.0, 0.0, 0.0, 0.0, 0.0, ...  \n",
       "9  (0.0, 0.0, 0.0, 0.0, 0.0, 0.0, 0.0, 0.0, 0.0, ...  "
      ]
     },
     "execution_count": 9,
     "metadata": {},
     "output_type": "execute_result"
    }
   ],
   "source": [
    "train_proc.limit(10).toPandas()"
   ]
  },
  {
   "cell_type": "code",
   "execution_count": 10,
   "metadata": {},
   "outputs": [],
   "source": [
    "from pyspark.sql.types import *\n",
    "from pyspark.ml.linalg import Vectors, VectorUDT\n",
    "from pyspark.sql import Row,SparkSession"
   ]
  },
  {
   "cell_type": "code",
   "execution_count": 11,
   "metadata": {},
   "outputs": [],
   "source": [
    "srcDataSchema = [\n",
    "    StructField(\"features\", VectorUDT()),\n",
    "    StructField(\"label\", DoubleType())\n",
    "]"
   ]
  },
  {
   "cell_type": "code",
   "execution_count": 12,
   "metadata": {},
   "outputs": [
    {
     "name": "stderr",
     "output_type": "stream",
     "text": [
      "                                                                                \r"
     ]
    },
    {
     "data": {
      "text/plain": [
       "[<Row(SparseVector(4469, {35: 1.0, 3572: 1.0, 4468: 7.0}), 4.0)>]"
      ]
     },
     "execution_count": 12,
     "metadata": {},
     "output_type": "execute_result"
    }
   ],
   "source": [
    "train_proc.rdd.map(lambda x: Row(x.features, float(x.usefulCount))).take(1)"
   ]
  },
  {
   "cell_type": "code",
   "execution_count": 14,
   "metadata": {},
   "outputs": [],
   "source": [
    "trainData = train_proc.rdd.map(lambda x: Row(x.features, float(x.usefulCount)))"
   ]
  },
  {
   "cell_type": "code",
   "execution_count": 15,
   "metadata": {},
   "outputs": [],
   "source": [
    "trainDf = se.createDataFrame(trainData, StructType(srcDataSchema))"
   ]
  },
  {
   "cell_type": "code",
   "execution_count": 16,
   "metadata": {},
   "outputs": [
    {
     "name": "stderr",
     "output_type": "stream",
     "text": [
      "                                                                                \r"
     ]
    },
    {
     "data": {
      "text/html": [
       "<div>\n",
       "<style scoped>\n",
       "    .dataframe tbody tr th:only-of-type {\n",
       "        vertical-align: middle;\n",
       "    }\n",
       "\n",
       "    .dataframe tbody tr th {\n",
       "        vertical-align: top;\n",
       "    }\n",
       "\n",
       "    .dataframe thead th {\n",
       "        text-align: right;\n",
       "    }\n",
       "</style>\n",
       "<table border=\"1\" class=\"dataframe\">\n",
       "  <thead>\n",
       "    <tr style=\"text-align: right;\">\n",
       "      <th></th>\n",
       "      <th>features</th>\n",
       "      <th>label</th>\n",
       "    </tr>\n",
       "  </thead>\n",
       "  <tbody>\n",
       "    <tr>\n",
       "      <th>0</th>\n",
       "      <td>(0.0, 0.0, 0.0, 0.0, 0.0, 0.0, 0.0, 0.0, 0.0, ...</td>\n",
       "      <td>4.0</td>\n",
       "    </tr>\n",
       "    <tr>\n",
       "      <th>1</th>\n",
       "      <td>(0.0, 0.0, 0.0, 0.0, 0.0, 0.0, 0.0, 0.0, 0.0, ...</td>\n",
       "      <td>2.0</td>\n",
       "    </tr>\n",
       "    <tr>\n",
       "      <th>2</th>\n",
       "      <td>(0.0, 0.0, 0.0, 0.0, 0.0, 0.0, 0.0, 0.0, 0.0, ...</td>\n",
       "      <td>1.0</td>\n",
       "    </tr>\n",
       "    <tr>\n",
       "      <th>3</th>\n",
       "      <td>(0.0, 0.0, 0.0, 0.0, 0.0, 0.0, 0.0, 0.0, 0.0, ...</td>\n",
       "      <td>0.0</td>\n",
       "    </tr>\n",
       "    <tr>\n",
       "      <th>4</th>\n",
       "      <td>(0.0, 0.0, 0.0, 0.0, 0.0, 0.0, 0.0, 0.0, 0.0, ...</td>\n",
       "      <td>12.0</td>\n",
       "    </tr>\n",
       "    <tr>\n",
       "      <th>5</th>\n",
       "      <td>(0.0, 0.0, 0.0, 0.0, 0.0, 0.0, 0.0, 0.0, 0.0, ...</td>\n",
       "      <td>1.0</td>\n",
       "    </tr>\n",
       "    <tr>\n",
       "      <th>6</th>\n",
       "      <td>(0.0, 0.0, 0.0, 0.0, 0.0, 0.0, 0.0, 0.0, 0.0, ...</td>\n",
       "      <td>18.0</td>\n",
       "    </tr>\n",
       "    <tr>\n",
       "      <th>7</th>\n",
       "      <td>(0.0, 0.0, 0.0, 0.0, 0.0, 0.0, 0.0, 0.0, 0.0, ...</td>\n",
       "      <td>7.0</td>\n",
       "    </tr>\n",
       "    <tr>\n",
       "      <th>8</th>\n",
       "      <td>(0.0, 0.0, 0.0, 0.0, 0.0, 0.0, 0.0, 0.0, 0.0, ...</td>\n",
       "      <td>4.0</td>\n",
       "    </tr>\n",
       "    <tr>\n",
       "      <th>9</th>\n",
       "      <td>(0.0, 0.0, 0.0, 0.0, 0.0, 0.0, 0.0, 0.0, 0.0, ...</td>\n",
       "      <td>3.0</td>\n",
       "    </tr>\n",
       "  </tbody>\n",
       "</table>\n",
       "</div>"
      ],
      "text/plain": [
       "                                            features  label\n",
       "0  (0.0, 0.0, 0.0, 0.0, 0.0, 0.0, 0.0, 0.0, 0.0, ...    4.0\n",
       "1  (0.0, 0.0, 0.0, 0.0, 0.0, 0.0, 0.0, 0.0, 0.0, ...    2.0\n",
       "2  (0.0, 0.0, 0.0, 0.0, 0.0, 0.0, 0.0, 0.0, 0.0, ...    1.0\n",
       "3  (0.0, 0.0, 0.0, 0.0, 0.0, 0.0, 0.0, 0.0, 0.0, ...    0.0\n",
       "4  (0.0, 0.0, 0.0, 0.0, 0.0, 0.0, 0.0, 0.0, 0.0, ...   12.0\n",
       "5  (0.0, 0.0, 0.0, 0.0, 0.0, 0.0, 0.0, 0.0, 0.0, ...    1.0\n",
       "6  (0.0, 0.0, 0.0, 0.0, 0.0, 0.0, 0.0, 0.0, 0.0, ...   18.0\n",
       "7  (0.0, 0.0, 0.0, 0.0, 0.0, 0.0, 0.0, 0.0, 0.0, ...    7.0\n",
       "8  (0.0, 0.0, 0.0, 0.0, 0.0, 0.0, 0.0, 0.0, 0.0, ...    4.0\n",
       "9  (0.0, 0.0, 0.0, 0.0, 0.0, 0.0, 0.0, 0.0, 0.0, ...    3.0"
      ]
     },
     "execution_count": 16,
     "metadata": {},
     "output_type": "execute_result"
    }
   ],
   "source": [
    "trainDf.limit(10).toPandas()"
   ]
  },
  {
   "cell_type": "code",
   "execution_count": 17,
   "metadata": {},
   "outputs": [],
   "source": [
    "evalData = test_proc.rdd.map(lambda x: Row(x.features, float(x.usefulCount)))"
   ]
  },
  {
   "cell_type": "code",
   "execution_count": 18,
   "metadata": {},
   "outputs": [],
   "source": [
    "evalDf = se.createDataFrame(evalData, StructType(srcDataSchema))"
   ]
  },
  {
   "cell_type": "code",
   "execution_count": 19,
   "metadata": {},
   "outputs": [
    {
     "name": "stderr",
     "output_type": "stream",
     "text": [
      "                                                                                \r"
     ]
    },
    {
     "data": {
      "text/html": [
       "<div>\n",
       "<style scoped>\n",
       "    .dataframe tbody tr th:only-of-type {\n",
       "        vertical-align: middle;\n",
       "    }\n",
       "\n",
       "    .dataframe tbody tr th {\n",
       "        vertical-align: top;\n",
       "    }\n",
       "\n",
       "    .dataframe thead th {\n",
       "        text-align: right;\n",
       "    }\n",
       "</style>\n",
       "<table border=\"1\" class=\"dataframe\">\n",
       "  <thead>\n",
       "    <tr style=\"text-align: right;\">\n",
       "      <th></th>\n",
       "      <th>features</th>\n",
       "      <th>label</th>\n",
       "    </tr>\n",
       "  </thead>\n",
       "  <tbody>\n",
       "    <tr>\n",
       "      <th>0</th>\n",
       "      <td>(0.0, 0.0, 0.0, 0.0, 0.0, 0.0, 0.0, 0.0, 0.0, ...</td>\n",
       "      <td>2.0</td>\n",
       "    </tr>\n",
       "    <tr>\n",
       "      <th>1</th>\n",
       "      <td>(0.0, 0.0, 0.0, 0.0, 0.0, 0.0, 0.0, 0.0, 0.0, ...</td>\n",
       "      <td>10.0</td>\n",
       "    </tr>\n",
       "    <tr>\n",
       "      <th>2</th>\n",
       "      <td>(0.0, 0.0, 0.0, 0.0, 0.0, 0.0, 0.0, 0.0, 0.0, ...</td>\n",
       "      <td>3.0</td>\n",
       "    </tr>\n",
       "    <tr>\n",
       "      <th>3</th>\n",
       "      <td>(0.0, 0.0, 0.0, 0.0, 0.0, 0.0, 0.0, 0.0, 0.0, ...</td>\n",
       "      <td>2.0</td>\n",
       "    </tr>\n",
       "    <tr>\n",
       "      <th>4</th>\n",
       "      <td>(0.0, 0.0, 0.0, 0.0, 0.0, 0.0, 0.0, 0.0, 0.0, ...</td>\n",
       "      <td>16.0</td>\n",
       "    </tr>\n",
       "    <tr>\n",
       "      <th>5</th>\n",
       "      <td>(0.0, 0.0, 0.0, 0.0, 0.0, 0.0, 0.0, 0.0, 0.0, ...</td>\n",
       "      <td>3.0</td>\n",
       "    </tr>\n",
       "    <tr>\n",
       "      <th>6</th>\n",
       "      <td>(0.0, 0.0, 0.0, 0.0, 0.0, 0.0, 0.0, 0.0, 0.0, ...</td>\n",
       "      <td>1.0</td>\n",
       "    </tr>\n",
       "    <tr>\n",
       "      <th>7</th>\n",
       "      <td>(0.0, 0.0, 0.0, 0.0, 0.0, 0.0, 0.0, 0.0, 0.0, ...</td>\n",
       "      <td>2.0</td>\n",
       "    </tr>\n",
       "    <tr>\n",
       "      <th>8</th>\n",
       "      <td>(0.0, 0.0, 0.0, 0.0, 0.0, 0.0, 0.0, 0.0, 0.0, ...</td>\n",
       "      <td>4.0</td>\n",
       "    </tr>\n",
       "    <tr>\n",
       "      <th>9</th>\n",
       "      <td>(0.0, 0.0, 0.0, 0.0, 0.0, 0.0, 0.0, 0.0, 0.0, ...</td>\n",
       "      <td>1.0</td>\n",
       "    </tr>\n",
       "  </tbody>\n",
       "</table>\n",
       "</div>"
      ],
      "text/plain": [
       "                                            features  label\n",
       "0  (0.0, 0.0, 0.0, 0.0, 0.0, 0.0, 0.0, 0.0, 0.0, ...    2.0\n",
       "1  (0.0, 0.0, 0.0, 0.0, 0.0, 0.0, 0.0, 0.0, 0.0, ...   10.0\n",
       "2  (0.0, 0.0, 0.0, 0.0, 0.0, 0.0, 0.0, 0.0, 0.0, ...    3.0\n",
       "3  (0.0, 0.0, 0.0, 0.0, 0.0, 0.0, 0.0, 0.0, 0.0, ...    2.0\n",
       "4  (0.0, 0.0, 0.0, 0.0, 0.0, 0.0, 0.0, 0.0, 0.0, ...   16.0\n",
       "5  (0.0, 0.0, 0.0, 0.0, 0.0, 0.0, 0.0, 0.0, 0.0, ...    3.0\n",
       "6  (0.0, 0.0, 0.0, 0.0, 0.0, 0.0, 0.0, 0.0, 0.0, ...    1.0\n",
       "7  (0.0, 0.0, 0.0, 0.0, 0.0, 0.0, 0.0, 0.0, 0.0, ...    2.0\n",
       "8  (0.0, 0.0, 0.0, 0.0, 0.0, 0.0, 0.0, 0.0, 0.0, ...    4.0\n",
       "9  (0.0, 0.0, 0.0, 0.0, 0.0, 0.0, 0.0, 0.0, 0.0, ...    1.0"
      ]
     },
     "execution_count": 19,
     "metadata": {},
     "output_type": "execute_result"
    }
   ],
   "source": [
    "evalDf.limit(10).toPandas()"
   ]
  },
  {
   "cell_type": "code",
   "execution_count": 20,
   "metadata": {},
   "outputs": [],
   "source": [
    "trainPool = catboost_spark.Pool(trainDf)\n",
    "evalPool = catboost_spark.Pool(evalDf)"
   ]
  },
  {
   "cell_type": "code",
   "execution_count": 21,
   "metadata": {},
   "outputs": [],
   "source": [
    "regressor = catboost_spark.CatBoostRegressor()"
   ]
  },
  {
   "cell_type": "code",
   "execution_count": 22,
   "metadata": {},
   "outputs": [
    {
     "name": "stderr",
     "output_type": "stream",
     "text": [
      "2023-02-21 16:32:08,305 WARN scheduler.DAGScheduler: Broadcasting large task binary with size 1130.6 KiB\n",
      "2023-02-21 16:32:08,383 WARN scheduler.DAGScheduler: Broadcasting large task binary with size 1130.6 KiB\n",
      "[Stage 30:>                 (0 + 0) / 1][Stage 31:>                 (0 + 4) / 4]\r"
     ]
    },
    {
     "ename": "KeyboardInterrupt",
     "evalue": "",
     "output_type": "error",
     "traceback": [
      "\u001b[0;31m---------------------------------------------------------------------------\u001b[0m",
      "\u001b[0;31mKeyboardInterrupt\u001b[0m                         Traceback (most recent call last)",
      "Cell \u001b[0;32mIn[22], line 1\u001b[0m\n\u001b[0;32m----> 1\u001b[0m model \u001b[38;5;241m=\u001b[39m \u001b[43mregressor\u001b[49m\u001b[38;5;241;43m.\u001b[39;49m\u001b[43mfit\u001b[49m\u001b[43m(\u001b[49m\u001b[43mtrainPool\u001b[49m\u001b[43m,\u001b[49m\u001b[43m \u001b[49m\u001b[43mevalDatasets\u001b[49m\u001b[38;5;241;43m=\u001b[39;49m\u001b[43m[\u001b[49m\u001b[43mevalPool\u001b[49m\u001b[43m]\u001b[49m\u001b[43m)\u001b[49m\n",
      "File \u001b[0;32m/tmp/spark-fc5e0d08-1df0-4edb-80fe-3627aa4d208a/userFiles-f87eb17d-4155-4c12-9118-ccf68c4cf484/ai.catboost_catboost-spark_3.0_2.12-1.1.1.jar/catboost_spark/core.py:2905\u001b[0m, in \u001b[0;36mCatBoostRegressor.fit\u001b[0;34m(self, dataset, params, evalDatasets)\u001b[0m\n\u001b[1;32m   2902\u001b[0m     \u001b[38;5;28;01mreturn\u001b[39;00m \u001b[38;5;28mself\u001b[39m\u001b[38;5;241m.\u001b[39m_fit_with_eval(trainDatasetAsJavaObject, evalDatasetsAsJavaObject, params)\n\u001b[1;32m   2904\u001b[0m \u001b[38;5;28;01mif\u001b[39;00m (params \u001b[38;5;129;01mis\u001b[39;00m \u001b[38;5;28;01mNone\u001b[39;00m) \u001b[38;5;129;01mor\u001b[39;00m \u001b[38;5;28misinstance\u001b[39m(params, \u001b[38;5;28mdict\u001b[39m):\n\u001b[0;32m-> 2905\u001b[0m     \u001b[38;5;28;01mreturn\u001b[39;00m \u001b[43m_fit_with_eval\u001b[49m\u001b[43m(\u001b[49m\u001b[43mparams\u001b[49m\u001b[43m)\u001b[49m\n\u001b[1;32m   2906\u001b[0m \u001b[38;5;28;01mif\u001b[39;00m \u001b[38;5;28misinstance\u001b[39m(params, (\u001b[38;5;28mlist\u001b[39m, \u001b[38;5;28mtuple\u001b[39m)):\n\u001b[1;32m   2907\u001b[0m     models \u001b[38;5;241m=\u001b[39m []\n",
      "File \u001b[0;32m/tmp/spark-fc5e0d08-1df0-4edb-80fe-3627aa4d208a/userFiles-f87eb17d-4155-4c12-9118-ccf68c4cf484/ai.catboost_catboost-spark_3.0_2.12-1.1.1.jar/catboost_spark/core.py:2902\u001b[0m, in \u001b[0;36mCatBoostRegressor.fit.<locals>._fit_with_eval\u001b[0;34m(params)\u001b[0m\n\u001b[1;32m   2901\u001b[0m \u001b[38;5;28;01mdef\u001b[39;00m \u001b[38;5;21m_fit_with_eval\u001b[39m(params):\n\u001b[0;32m-> 2902\u001b[0m     \u001b[38;5;28;01mreturn\u001b[39;00m \u001b[38;5;28;43mself\u001b[39;49m\u001b[38;5;241;43m.\u001b[39;49m\u001b[43m_fit_with_eval\u001b[49m\u001b[43m(\u001b[49m\u001b[43mtrainDatasetAsJavaObject\u001b[49m\u001b[43m,\u001b[49m\u001b[43m \u001b[49m\u001b[43mevalDatasetsAsJavaObject\u001b[49m\u001b[43m,\u001b[49m\u001b[43m \u001b[49m\u001b[43mparams\u001b[49m\u001b[43m)\u001b[49m\n",
      "File \u001b[0;32m/tmp/spark-fc5e0d08-1df0-4edb-80fe-3627aa4d208a/userFiles-f87eb17d-4155-4c12-9118-ccf68c4cf484/ai.catboost_catboost-spark_3.0_2.12-1.1.1.jar/catboost_spark/core.py:2859\u001b[0m, in \u001b[0;36mCatBoostRegressor._fit_with_eval\u001b[0;34m(self, trainDatasetAsJavaObject, evalDatasetsAsJavaObject, params)\u001b[0m\n\u001b[1;32m   2857\u001b[0m \u001b[38;5;28;01melse\u001b[39;00m:\n\u001b[1;32m   2858\u001b[0m     \u001b[38;5;28mself\u001b[39m\u001b[38;5;241m.\u001b[39m_transfer_params_to_java()\n\u001b[0;32m-> 2859\u001b[0m     java_model \u001b[38;5;241m=\u001b[39m \u001b[38;5;28;43mself\u001b[39;49m\u001b[38;5;241;43m.\u001b[39;49m\u001b[43m_java_obj\u001b[49m\u001b[38;5;241;43m.\u001b[39;49m\u001b[43mfit\u001b[49m\u001b[43m(\u001b[49m\u001b[43mtrainDatasetAsJavaObject\u001b[49m\u001b[43m,\u001b[49m\u001b[43m \u001b[49m\u001b[43mevalDatasetsAsJavaObject\u001b[49m\u001b[43m)\u001b[49m\n\u001b[1;32m   2860\u001b[0m     \u001b[38;5;28;01mreturn\u001b[39;00m CatBoostRegressionModel(java_model)\n",
      "File \u001b[0;32m/usr/lib/spark/python/lib/py4j-0.10.9-src.zip/py4j/java_gateway.py:1303\u001b[0m, in \u001b[0;36mJavaMember.__call__\u001b[0;34m(self, *args)\u001b[0m\n\u001b[1;32m   1296\u001b[0m args_command, temp_args \u001b[38;5;241m=\u001b[39m \u001b[38;5;28mself\u001b[39m\u001b[38;5;241m.\u001b[39m_build_args(\u001b[38;5;241m*\u001b[39margs)\n\u001b[1;32m   1298\u001b[0m command \u001b[38;5;241m=\u001b[39m proto\u001b[38;5;241m.\u001b[39mCALL_COMMAND_NAME \u001b[38;5;241m+\u001b[39m\\\n\u001b[1;32m   1299\u001b[0m     \u001b[38;5;28mself\u001b[39m\u001b[38;5;241m.\u001b[39mcommand_header \u001b[38;5;241m+\u001b[39m\\\n\u001b[1;32m   1300\u001b[0m     args_command \u001b[38;5;241m+\u001b[39m\\\n\u001b[1;32m   1301\u001b[0m     proto\u001b[38;5;241m.\u001b[39mEND_COMMAND_PART\n\u001b[0;32m-> 1303\u001b[0m answer \u001b[38;5;241m=\u001b[39m \u001b[38;5;28;43mself\u001b[39;49m\u001b[38;5;241;43m.\u001b[39;49m\u001b[43mgateway_client\u001b[49m\u001b[38;5;241;43m.\u001b[39;49m\u001b[43msend_command\u001b[49m\u001b[43m(\u001b[49m\u001b[43mcommand\u001b[49m\u001b[43m)\u001b[49m\n\u001b[1;32m   1304\u001b[0m return_value \u001b[38;5;241m=\u001b[39m get_return_value(\n\u001b[1;32m   1305\u001b[0m     answer, \u001b[38;5;28mself\u001b[39m\u001b[38;5;241m.\u001b[39mgateway_client, \u001b[38;5;28mself\u001b[39m\u001b[38;5;241m.\u001b[39mtarget_id, \u001b[38;5;28mself\u001b[39m\u001b[38;5;241m.\u001b[39mname)\n\u001b[1;32m   1307\u001b[0m \u001b[38;5;28;01mfor\u001b[39;00m temp_arg \u001b[38;5;129;01min\u001b[39;00m temp_args:\n",
      "File \u001b[0;32m/usr/lib/spark/python/lib/py4j-0.10.9-src.zip/py4j/java_gateway.py:1033\u001b[0m, in \u001b[0;36mGatewayClient.send_command\u001b[0;34m(self, command, retry, binary)\u001b[0m\n\u001b[1;32m   1031\u001b[0m connection \u001b[38;5;241m=\u001b[39m \u001b[38;5;28mself\u001b[39m\u001b[38;5;241m.\u001b[39m_get_connection()\n\u001b[1;32m   1032\u001b[0m \u001b[38;5;28;01mtry\u001b[39;00m:\n\u001b[0;32m-> 1033\u001b[0m     response \u001b[38;5;241m=\u001b[39m \u001b[43mconnection\u001b[49m\u001b[38;5;241;43m.\u001b[39;49m\u001b[43msend_command\u001b[49m\u001b[43m(\u001b[49m\u001b[43mcommand\u001b[49m\u001b[43m)\u001b[49m\n\u001b[1;32m   1034\u001b[0m     \u001b[38;5;28;01mif\u001b[39;00m binary:\n\u001b[1;32m   1035\u001b[0m         \u001b[38;5;28;01mreturn\u001b[39;00m response, \u001b[38;5;28mself\u001b[39m\u001b[38;5;241m.\u001b[39m_create_connection_guard(connection)\n",
      "File \u001b[0;32m/usr/lib/spark/python/lib/py4j-0.10.9-src.zip/py4j/java_gateway.py:1200\u001b[0m, in \u001b[0;36mGatewayConnection.send_command\u001b[0;34m(self, command)\u001b[0m\n\u001b[1;32m   1196\u001b[0m     \u001b[38;5;28;01mraise\u001b[39;00m Py4JNetworkError(\n\u001b[1;32m   1197\u001b[0m         \u001b[38;5;124m\"\u001b[39m\u001b[38;5;124mError while sending\u001b[39m\u001b[38;5;124m\"\u001b[39m, e, proto\u001b[38;5;241m.\u001b[39mERROR_ON_SEND)\n\u001b[1;32m   1199\u001b[0m \u001b[38;5;28;01mtry\u001b[39;00m:\n\u001b[0;32m-> 1200\u001b[0m     answer \u001b[38;5;241m=\u001b[39m smart_decode(\u001b[38;5;28;43mself\u001b[39;49m\u001b[38;5;241;43m.\u001b[39;49m\u001b[43mstream\u001b[49m\u001b[38;5;241;43m.\u001b[39;49m\u001b[43mreadline\u001b[49m\u001b[43m(\u001b[49m\u001b[43m)\u001b[49m[:\u001b[38;5;241m-\u001b[39m\u001b[38;5;241m1\u001b[39m])\n\u001b[1;32m   1201\u001b[0m     logger\u001b[38;5;241m.\u001b[39mdebug(\u001b[38;5;124m\"\u001b[39m\u001b[38;5;124mAnswer received: \u001b[39m\u001b[38;5;132;01m{0}\u001b[39;00m\u001b[38;5;124m\"\u001b[39m\u001b[38;5;241m.\u001b[39mformat(answer))\n\u001b[1;32m   1202\u001b[0m     \u001b[38;5;28;01mif\u001b[39;00m answer\u001b[38;5;241m.\u001b[39mstartswith(proto\u001b[38;5;241m.\u001b[39mRETURN_MESSAGE):\n",
      "File \u001b[0;32m/opt/conda/lib/python3.8/socket.py:669\u001b[0m, in \u001b[0;36mSocketIO.readinto\u001b[0;34m(self, b)\u001b[0m\n\u001b[1;32m    667\u001b[0m \u001b[38;5;28;01mwhile\u001b[39;00m \u001b[38;5;28;01mTrue\u001b[39;00m:\n\u001b[1;32m    668\u001b[0m     \u001b[38;5;28;01mtry\u001b[39;00m:\n\u001b[0;32m--> 669\u001b[0m         \u001b[38;5;28;01mreturn\u001b[39;00m \u001b[38;5;28;43mself\u001b[39;49m\u001b[38;5;241;43m.\u001b[39;49m\u001b[43m_sock\u001b[49m\u001b[38;5;241;43m.\u001b[39;49m\u001b[43mrecv_into\u001b[49m\u001b[43m(\u001b[49m\u001b[43mb\u001b[49m\u001b[43m)\u001b[49m\n\u001b[1;32m    670\u001b[0m     \u001b[38;5;28;01mexcept\u001b[39;00m timeout:\n\u001b[1;32m    671\u001b[0m         \u001b[38;5;28mself\u001b[39m\u001b[38;5;241m.\u001b[39m_timeout_occurred \u001b[38;5;241m=\u001b[39m \u001b[38;5;28;01mTrue\u001b[39;00m\n",
      "\u001b[0;31mKeyboardInterrupt\u001b[0m: "
     ]
    }
   ],
   "source": [
    "model = regressor.fit(trainPool, evalDatasets=[evalPool])"
   ]
  },
  {
   "cell_type": "code",
   "execution_count": null,
   "metadata": {},
   "outputs": [],
   "source": [
    "predictions = model.transform(evalPool.data)\n",
    "predictions.show()"
   ]
  },
  {
   "cell_type": "code",
   "execution_count": null,
   "metadata": {},
   "outputs": [],
   "source": [
    "from pyspark.ml.evaluation import RegressionEvaluator"
   ]
  },
  {
   "cell_type": "code",
   "execution_count": null,
   "metadata": {},
   "outputs": [],
   "source": [
    "lr_evaluator = RegressionEvaluator(predictionCol=\"prediction\", labelCol=\"label\", metricName=\"r2\")\n",
    "lr_evaluator.evaluate(predictions)"
   ]
  },
  {
   "cell_type": "code",
   "execution_count": null,
   "metadata": {},
   "outputs": [],
   "source": [
    "lr_evaluator = RegressionEvaluator(predictionCol=\"prediction\", labelCol=\"label\", metricName=\"rmse\")\n",
    "lr_evaluator.evaluate(predictions)"
   ]
  },
  {
   "cell_type": "code",
   "execution_count": null,
   "metadata": {},
   "outputs": [],
   "source": []
  }
 ],
 "metadata": {
  "kernelspec": {
   "display_name": "Python 3 (ipykernel)",
   "language": "python",
   "name": "python3"
  },
  "language_info": {
   "codemirror_mode": {
    "name": "ipython",
    "version": 3
   },
   "file_extension": ".py",
   "mimetype": "text/x-python",
   "name": "python",
   "nbconvert_exporter": "python",
   "pygments_lexer": "ipython3",
   "version": "3.8.10"
  }
 },
 "nbformat": 4,
 "nbformat_minor": 2
}
